{
 "cells": [
  {
   "cell_type": "code",
   "execution_count": 9,
   "id": "141c5c40",
   "metadata": {},
   "outputs": [],
   "source": [
    "import os\n",
    "import sys\n",
    "import getpass\n",
    "import requests\n",
    "import numpy as np\n",
    "import pandas as pd\n",
    "import geopandas as gpd\n",
    "\n",
    "user = getpass.getuser()\n",
    "sys.dont_write_bytecode = True\n",
    "\n",
    "# sys.path.insert(0, '/Users/{}/Box/Utility Code'.format(user))\n",
    "\n",
    "# for macOS Monterey\n",
    "sys.path.insert(0, '/Users/{}/Library/CloudStorage/Box-Box/Utility Code'.format(user))\n",
    "\n",
    "import utils_io as utils\n",
    "\n",
    "# for macOS Monterey\n",
    "sys.path.insert(0, '/Users/{}/Documents/GitHub/hess_application/data_processing/6 - affh'.format(user))\n",
    "\n",
    "import census"
   ]
  },
  {
   "cell_type": "markdown",
   "id": "2d4d7bd4",
   "metadata": {},
   "source": [
    "## Pull Decennial Census table variables and export as csv"
   ]
  },
  {
   "cell_type": "code",
   "execution_count": 2,
   "id": "26b274fd",
   "metadata": {},
   "outputs": [
    {
     "name": "stdout",
     "output_type": "stream",
     "text": [
      "········\n"
     ]
    }
   ],
   "source": [
    "census_key = getpass.getpass()"
   ]
  },
  {
   "cell_type": "code",
   "execution_count": 11,
   "id": "fa8419aa",
   "metadata": {},
   "outputs": [],
   "source": [
    "# pull decennial census table variables from api\n",
    "rq = requests.get('https://api.census.gov/data/2020/dec/pl/variables.json')\n",
    "data = rq.json()"
   ]
  },
  {
   "cell_type": "code",
   "execution_count": 12,
   "id": "61fbc750",
   "metadata": {},
   "outputs": [],
   "source": [
    "# create dataframe from dictionary\n",
    "tbl_vars = pd.DataFrame.from_dict(data['variables'], orient='index')"
   ]
  },
  {
   "cell_type": "code",
   "execution_count": 14,
   "id": "6b0e08ed",
   "metadata": {},
   "outputs": [],
   "source": [
    "# reset index\n",
    "tbl_vars.reset_index(inplace=True)"
   ]
  },
  {
   "cell_type": "code",
   "execution_count": 16,
   "id": "418bd107",
   "metadata": {},
   "outputs": [],
   "source": [
    "# rename index column set as name (for variable name)\n",
    "tbl_vars.rename(columns={'index':'name'}, inplace=True)"
   ]
  },
  {
   "cell_type": "code",
   "execution_count": 17,
   "id": "720bdd69",
   "metadata": {},
   "outputs": [],
   "source": [
    "# filter variables to only include \n",
    "p2_vars = [\n",
    "    'P2_001N',\n",
    "    'P2_002N',\n",
    "    'P2_003N',\n",
    "    'P2_004N',\n",
    "    'P2_005N',\n",
    "    'P2_006N',\n",
    "    'P2_007N',\n",
    "    'P2_008N',\n",
    "    'P2_009N',\n",
    "    'P2_010N',\n",
    "    'P2_011N'\n",
    "]\n",
    "p2_race_vars = tbl_vars[tbl_vars['name'].isin(p2_vars)]"
   ]
  },
  {
   "cell_type": "code",
   "execution_count": 20,
   "id": "4feb14f9",
   "metadata": {},
   "outputs": [],
   "source": [
    "p2_race_vars.sort_values(by='name').to_csv('../Data/decennial_census_tbl_vars_p2.csv')"
   ]
  },
  {
   "cell_type": "markdown",
   "id": "5f07debd",
   "metadata": {},
   "source": [
    "## Pull Decennial Census data from Census API"
   ]
  },
  {
   "cell_type": "code",
   "execution_count": 21,
   "id": "ba2a6ad6",
   "metadata": {},
   "outputs": [],
   "source": [
    "dc_vars_lst = p2_race_vars['name'].to_list()"
   ]
  },
  {
   "cell_type": "code",
   "execution_count": 22,
   "id": "485e87e6",
   "metadata": {},
   "outputs": [
    {
     "data": {
      "text/plain": [
       "['P2_002N',\n",
       " 'P2_003N',\n",
       " 'P2_004N',\n",
       " 'P2_005N',\n",
       " 'P2_010N',\n",
       " 'P2_011N',\n",
       " 'P2_001N',\n",
       " 'P2_006N',\n",
       " 'P2_007N',\n",
       " 'P2_008N',\n",
       " 'P2_009N']"
      ]
     },
     "execution_count": 22,
     "metadata": {},
     "output_type": "execute_result"
    }
   ],
   "source": [
    "dc_vars_lst"
   ]
  },
  {
   "cell_type": "code",
   "execution_count": null,
   "id": "b78dbe1a",
   "metadata": {},
   "outputs": [],
   "source": []
  }
 ],
 "metadata": {
  "kernelspec": {
   "display_name": "Python 3 (ipykernel)",
   "language": "python",
   "name": "python3"
  },
  "language_info": {
   "codemirror_mode": {
    "name": "ipython",
    "version": 3
   },
   "file_extension": ".py",
   "mimetype": "text/x-python",
   "name": "python",
   "nbconvert_exporter": "python",
   "pygments_lexer": "ipython3",
   "version": "3.8.13"
  }
 },
 "nbformat": 4,
 "nbformat_minor": 5
}
