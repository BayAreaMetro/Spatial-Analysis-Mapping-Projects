{
 "cells": [
  {
   "cell_type": "markdown",
   "metadata": {},
   "source": [
    "# Bay Area Highway Express Bus Corridor Trip Mapping\n",
    "\n",
    "Summarize express bus trip by highway and interstate corridors leveraging pre-pandemic transit schedules.\n",
    "\n",
    "\n",
    "## Methodology\n",
    "\n",
    "**[Better Bus Buffers - Count Trips on Lines Documentation](https://github.com/Esri/public-transit-tools/blob/master/better-bus-buffers/UsersGuide.md#CountTripsOnLines)**\n",
    "\n",
    "[Preprocessing of GTFS](https://github.com/Esri/public-transit-tools/blob/master/better-bus-buffers/UsersGuide.md#running-preprocess-gtfs) and [blank stop times interpolation](https://github.com/Esri/public-transit-tools/blob/master/interpolate-blank-stop-times/UsersGuide.md) was run for a previous analysis. the SQLLite databases were coppied into this project's directory and re-used. \n",
    "\n",
    "1. Preprocess transit lines using January 2020 GTFS data\n",
    "2. Count trips on lines without combining routes for am peak period and for all-day period\n",
    "3. Summarize by route and number of trips to get max trips per route during am period and all-day period\n",
    "4. Generate pretty transit routes from routes.txt data \n",
    "5. Delete identical routes by route_id and shape\n",
    "6. For routes with duplicate route_id, keep longest route line\n",
    "    - Project pretty route lines to WGS84 UTM Zone 10 North\n",
    "    - Summarize routes by route_id and max length\n",
    "    - Join summary table to routes table \n",
    "    - Select routes w/ count > 1 and length <> max length and delete\n",
    "    - Unjoin summary table\n",
    "7. Join pretty routes and average trips per route table \n",
    "8. Create highway and interstate corridors\n",
    "    - Project highway and interstate data to WGS84 UTM Zone 10 North\n",
    "    - Buffer highway and interstate data by 50 meters and dissolve\n",
    "    - Select junctions from highway and interstate data and create new feature class\n",
    "    - Buffer junctions by 100 meters\n",
    "    - Using editing tools, select all buffered junctions as input and highway and interstate features as target. Split and save edits. (This is a manual process- no arcpy geoprocessing tools available). \n",
    "9. Summarize transit trips within each highway and interstate corridor (**See notes below**)\n",
    "    - Spatially-join express route trips to corridors\n",
    "    - Summarize am peak period and all day trip counts by corridor\n",
    "    - Join route trip summary table to highway corridor buffers\n",
    "10. Create centerline from polygon highway corridor summary areas\n"
   ]
  },
  {
   "cell_type": "code",
   "execution_count": 1,
   "metadata": {},
   "outputs": [],
   "source": [
    "import arcpy\n",
    "import pandas as pd\n",
    "import numpy as np\n",
    "import os\n",
    "from arcgis.geometry import Geometry\n",
    "from arcgis.features import GeoAccessor, GeoSeriesAccessor\n",
    "from arcgis.gis import GIS\n",
    "\n",
    "#Define the workspace\n",
    "arcpy.env.workspace = r'Bay_Area_Forward_Transit_Database.gdb'\n",
    "\n",
    "#Allow features and files to be overwritten \n",
    "arcpy.env.overwriteOutput = True"
   ]
  },
  {
   "cell_type": "markdown",
   "metadata": {},
   "source": [
    "## Import custom toolboxes"
   ]
  },
  {
   "cell_type": "code",
   "execution_count": 2,
   "metadata": {},
   "outputs": [
    {
     "data": {
      "text/plain": [
       "<module 'transit'>"
      ]
     },
     "execution_count": 2,
     "metadata": {},
     "output_type": "execute_result"
    }
   ],
   "source": [
    "#Better Bus Buffers\n",
    "bbb = r'BetterBusBuffers_0.14.0.0\\BetterBusBuffers.pyt'\n",
    "arcpy.ImportToolbox(bbb)\n",
    "\n",
    "#Interpolate Blank Stops\n",
    "ibs = r'InterpolateBlankStopTimes_0.1.2.1\\InterpolateBlankStopTimes.tbx'\n",
    "arcpy.ImportToolbox(ibs)"
   ]
  },
  {
   "cell_type": "markdown",
   "metadata": {},
   "source": [
    "## Step 1- Preprocess Lines\n",
    "\n",
    "GTFS SQL Database contains data for January 2020 w/ blank stops interpolated during another process"
   ]
  },
  {
   "cell_type": "code",
   "execution_count": 3,
   "metadata": {},
   "outputs": [
    {
     "data": {
      "text/html": [
       "<h2>Output</h2>Bay_Area_Forward_Transit_Database.gdb\\bay_area_route_line_template_01_2020<h2>Messages</h2>Start Time: Wednesday, April 14, 2021 7:58:34 PM<br/>Obtaining and processing transit schedule and line information...<br/>(This will take a few minutes for large datasets.)<br/>Finished!<br/>Your transit lines template feature class is:<br/>- Bay_Area_Forward_Transit_Database.gdb\\bay_area_route_line_template_01_2020<br/>Succeeded at Wednesday, April 14, 2021 8:01:56 PM (Elapsed Time: 3 minutes 22 seconds)<br/><style>.rendered_html td, .rendered_html th {text-align: left;}.rendered_html tbody {border: 1px solid black;}</style>"
      ],
      "text/plain": [
       "<Result 'Bay_Area_Forward_Transit_Database.gdb\\\\bay_area_route_line_template_01_2020'>"
      ]
     },
     "execution_count": 3,
     "metadata": {},
     "output_type": "execute_result"
    }
   ],
   "source": [
    "route_temp_fc = 'bay_area_route_line_template_01_2020'\n",
    "sql_database = r'bay_area_gtfs.sql'\n",
    "arcpy.BetterBusBuffers.BBBLines_PreprocessLines(output_template_feature_class=route_temp_fc,\n",
    "                                                sql_database=sql_database,\n",
    "                                                combine_routes=False)"
   ]
  },
  {
   "cell_type": "markdown",
   "metadata": {},
   "source": [
    "## Step 2- Count Trips on Lines"
   ]
  },
  {
   "cell_type": "code",
   "execution_count": 4,
   "metadata": {},
   "outputs": [
    {
     "data": {
      "text/html": [
       "<h2>Output</h2>Bay_Area_Forward_Transit_Database.gdb\\trip_count_am_period_01_2020<h2>Messages</h2>Start Time: Wednesday, April 14, 2021 8:02:02 PM<br/>Calculating the number of transit trips available during the time window...<br/>Writing output data...<br/>Finished!<br/>Your output is located at Bay_Area_Forward_Transit_Database.gdb\\trip_count_am_period_01_2020<br/>Succeeded at Wednesday, April 14, 2021 8:02:54 PM (Elapsed Time: 51.97 seconds)<br/><style>.rendered_html td, .rendered_html th {text-align: left;}.rendered_html tbody {border: 1px solid black;}</style>"
      ],
      "text/plain": [
       "<Result 'Bay_Area_Forward_Transit_Database.gdb\\\\trip_count_am_period_01_2020'>"
      ]
     },
     "execution_count": 4,
     "metadata": {},
     "output_type": "execute_result"
    }
   ],
   "source": [
    "#Count trips during AM Peak Period (5:00 - 10:00)\n",
    "transit_rt_trip_ct_am = 'trip_count_am_period_01_2020'\n",
    "day = '20200106'\n",
    "time_window_start = '05:00'\n",
    "time_window_end = '10:00'\n",
    "arcpy.BetterBusBuffers.BBBLines_CountTripsOnLines(input_template_feature_class=route_temp_fc,\n",
    "                                                  sql_database=sql_database, \n",
    "                                                  output_feature_class=transit_rt_trip_ct_am,\n",
    "                                                  day=day,\n",
    "                                                  time_window_start=time_window_start, \n",
    "                                                  time_window_end=time_window_end)"
   ]
  },
  {
   "cell_type": "code",
   "execution_count": 5,
   "metadata": {},
   "outputs": [
    {
     "data": {
      "text/html": [
       "<h2>Output</h2>a Layer object<h2>Messages</h2>Start Time: Wednesday, April 14, 2021 8:03:02 PM<br/>Succeeded at Wednesday, April 14, 2021 8:03:03 PM (Elapsed Time: 0.90 seconds)<br/><style>.rendered_html td, .rendered_html th {text-align: left;}.rendered_html tbody {border: 1px solid black;}</style>"
      ],
      "text/plain": [
       "<Result 'trip_count_am_period_01_2020'>"
      ]
     },
     "execution_count": 5,
     "metadata": {},
     "output_type": "execute_result"
    }
   ],
   "source": [
    "#Rename numtrips field\n",
    "arcpy.AlterField_management(in_table=transit_rt_trip_ct_am,\n",
    "                            field='NumTrips',\n",
    "                            new_field_name='am_num_trips',\n",
    "                            new_field_alias='am_num_trips')"
   ]
  },
  {
   "cell_type": "code",
   "execution_count": 6,
   "metadata": {},
   "outputs": [
    {
     "data": {
      "text/html": [
       "<h2>Output</h2>Bay_Area_Forward_Transit_Database.gdb\\trip_count_all_day_01_2020<h2>Messages</h2>Start Time: Wednesday, April 14, 2021 8:03:04 PM<br/>Calculating the number of transit trips available during the time window...<br/>Writing output data...<br/>Finished!<br/>Your output is located at Bay_Area_Forward_Transit_Database.gdb\\trip_count_all_day_01_2020<br/>Succeeded at Wednesday, April 14, 2021 8:04:03 PM (Elapsed Time: 59.80 seconds)<br/><style>.rendered_html td, .rendered_html th {text-align: left;}.rendered_html tbody {border: 1px solid black;}</style>"
      ],
      "text/plain": [
       "<Result 'Bay_Area_Forward_Transit_Database.gdb\\\\trip_count_all_day_01_2020'>"
      ]
     },
     "execution_count": 6,
     "metadata": {},
     "output_type": "execute_result"
    }
   ],
   "source": [
    "#Count trips all day\n",
    "transit_rt_trip_ct_allday = 'trip_count_all_day_01_2020'\n",
    "day = '20200106'\n",
    "time_window_start = '00:00'\n",
    "time_window_end = '23:59'\n",
    "arcpy.BetterBusBuffers.BBBLines_CountTripsOnLines(input_template_feature_class=route_temp_fc,\n",
    "                                                  sql_database=sql_database, \n",
    "                                                  output_feature_class=transit_rt_trip_ct_allday,\n",
    "                                                  day=day,\n",
    "                                                  time_window_start=time_window_start, \n",
    "                                                  time_window_end=time_window_end)"
   ]
  },
  {
   "cell_type": "code",
   "execution_count": 7,
   "metadata": {},
   "outputs": [
    {
     "data": {
      "text/html": [
       "<h2>Output</h2>a Layer object<h2>Messages</h2>Start Time: Wednesday, April 14, 2021 8:04:10 PM<br/>Succeeded at Wednesday, April 14, 2021 8:04:11 PM (Elapsed Time: 1.10 seconds)<br/><style>.rendered_html td, .rendered_html th {text-align: left;}.rendered_html tbody {border: 1px solid black;}</style>"
      ],
      "text/plain": [
       "<Result 'trip_count_all_day_01_2020'>"
      ]
     },
     "execution_count": 7,
     "metadata": {},
     "output_type": "execute_result"
    }
   ],
   "source": [
    "#Rename numtrips field\n",
    "arcpy.AlterField_management(in_table=transit_rt_trip_ct_allday,\n",
    "                            field='NumTrips',\n",
    "                            new_field_name='allday_num_trips',\n",
    "                            new_field_alias='allday_num_trips')"
   ]
  },
  {
   "cell_type": "code",
   "execution_count": 8,
   "metadata": {},
   "outputs": [
    {
     "data": {
      "text/html": [
       "<h2>Output</h2>Bay_Area_Forward_Transit_Database.gdb\\trip_count_am_all_day_01_2020<h2>Messages</h2>Start Time: Wednesday, April 14, 2021 8:04:12 PM<br/>Succeeded at Wednesday, April 14, 2021 8:04:17 PM (Elapsed Time: 4.98 seconds)<br/><style>.rendered_html td, .rendered_html th {text-align: left;}.rendered_html tbody {border: 1px solid black;}</style>"
      ],
      "text/plain": [
       "<Result 'Bay_Area_Forward_Transit_Database.gdb\\\\trip_count_am_all_day_01_2020'>"
      ]
     },
     "execution_count": 8,
     "metadata": {},
     "output_type": "execute_result"
    }
   ],
   "source": [
    "#Copy am trips fc to new fc \n",
    "transit_rt_trip_ct = \"trip_count_am_all_day_01_2020\"\n",
    "arcpy.FeatureClassToFeatureClass_conversion(in_features=transit_rt_trip_ct_am,\n",
    "                                            out_name=transit_rt_trip_ct)"
   ]
  },
  {
   "cell_type": "code",
   "execution_count": 9,
   "metadata": {},
   "outputs": [
    {
     "data": {
      "text/html": [
       "<h2>Output</h2>a Layer object<h2>Messages</h2>Start Time: Wednesday, April 14, 2021 8:04:20 PM<br/>Succeeded at Wednesday, April 14, 2021 8:04:25 PM (Elapsed Time: 5.05 seconds)<br/><style>.rendered_html td, .rendered_html th {text-align: left;}.rendered_html tbody {border: 1px solid black;}</style>"
      ],
      "text/plain": [
       "<Result 'trip_count_am_all_day_01_2020'>"
      ]
     },
     "execution_count": 9,
     "metadata": {},
     "output_type": "execute_result"
    }
   ],
   "source": [
    "#Delete un-needed fields\n",
    "del_fields = [\"NumTripsPerHr\",\"MaxWaitTime\",\"AvgHeadway\"]\n",
    "arcpy.DeleteField_management(in_table=transit_rt_trip_ct,\n",
    "                             drop_field=del_fields)"
   ]
  },
  {
   "cell_type": "code",
   "execution_count": 10,
   "metadata": {},
   "outputs": [
    {
     "data": {
      "text/html": [
       "<h2>Output</h2>a Layer object<h2>Messages</h2>Start Time: Wednesday, April 14, 2021 8:04:25 PM<br/>Succeeded at Wednesday, April 14, 2021 8:04:30 PM (Elapsed Time: 4.74 seconds)<br/><style>.rendered_html td, .rendered_html th {text-align: left;}.rendered_html tbody {border: 1px solid black;}</style>"
      ],
      "text/plain": [
       "<Result 'trip_count_am_all_day_01_2020'>"
      ]
     },
     "execution_count": 10,
     "metadata": {},
     "output_type": "execute_result"
    }
   ],
   "source": [
    "#Join am_period and all day features\n",
    "arcpy.JoinField_management(in_data=transit_rt_trip_ct,\n",
    "                           in_field='pair_id',\n",
    "                           join_table=transit_rt_trip_ct_allday,\n",
    "                           join_field='pair_id',fields='allday_num_trips')"
   ]
  },
  {
   "cell_type": "code",
   "execution_count": 11,
   "metadata": {},
   "outputs": [
    {
     "data": {
      "text/html": [
       "<h2>Output</h2>a Layer object<h2>Messages</h2>Start Time: Wednesday, April 14, 2021 8:04:30 PM<br/>Adding route_id_short to trip_count_am_all_day_01_2020...<br/>Succeeded at Wednesday, April 14, 2021 8:04:31 PM (Elapsed Time: 0.67 seconds)<br/><style>.rendered_html td, .rendered_html th {text-align: left;}.rendered_html tbody {border: 1px solid black;}</style>"
      ],
      "text/plain": [
       "<Result 'trip_count_am_all_day_01_2020'>"
      ]
     },
     "execution_count": 11,
     "metadata": {},
     "output_type": "execute_result"
    }
   ],
   "source": [
    "#Add field which extracts short route id from route id column\n",
    "field_name = 'route_id_short' \n",
    "field_type = 'TEXT'\n",
    "arcpy.management.AddField(in_table=transit_rt_trip_ct,\n",
    "                          field_name=field_name,\n",
    "                          field_type=field_type)"
   ]
  },
  {
   "cell_type": "code",
   "execution_count": 12,
   "metadata": {},
   "outputs": [
    {
     "data": {
      "text/html": [
       "<h2>Output</h2>a Layer object<h2>Messages</h2>Start Time: Wednesday, April 14, 2021 8:04:31 PM<br/>Succeeded at Wednesday, April 14, 2021 8:04:36 PM (Elapsed Time: 4.57 seconds)<br/><style>.rendered_html td, .rendered_html th {text-align: left;}.rendered_html tbody {border: 1px solid black;}</style>"
      ],
      "text/plain": [
       "<Result 'trip_count_am_all_day_01_2020'>"
      ]
     },
     "execution_count": 12,
     "metadata": {},
     "output_type": "execute_result"
    }
   ],
   "source": [
    "field = 'route_id_short'\n",
    "expression = \"extract_routeid('202001:(.*$)',!route_id!)\"\n",
    "code_block = \"\"\"def extract_routeid(regex,string):\n",
    "    import re\n",
    "    y = re.search(regex,string)\n",
    "    if y != None:\n",
    "        return y.group(1)\n",
    "    else:\n",
    "        return None\"\"\"\n",
    "arcpy.management.CalculateField(in_table=transit_rt_trip_ct,\n",
    "                                field=field,\n",
    "                                expression=expression,\n",
    "                                expression_type='PYTHON3',\n",
    "                                code_block=code_block)"
   ]
  },
  {
   "cell_type": "markdown",
   "metadata": {},
   "source": [
    "## Step 3- Summarize by route and number of trips to get max trips per route during am period"
   ]
  },
  {
   "cell_type": "code",
   "execution_count": 13,
   "metadata": {},
   "outputs": [
    {
     "data": {
      "text/html": [
       "<h2>Output</h2>Bay_Area_Forward_Transit_Database.gdb\\max_route_ct_by_route_01_2020<h2>Messages</h2>Start Time: Wednesday, April 14, 2021 8:04:39 PM<br/>Succeeded at Wednesday, April 14, 2021 8:04:43 PM (Elapsed Time: 3.73 seconds)<br/><style>.rendered_html td, .rendered_html th {text-align: left;}.rendered_html tbody {border: 1px solid black;}</style>"
      ],
      "text/plain": [
       "<Result 'Bay_Area_Forward_Transit_Database.gdb\\\\max_route_ct_by_route_01_2020'>"
      ]
     },
     "execution_count": 13,
     "metadata": {},
     "output_type": "execute_result"
    }
   ],
   "source": [
    "fields = [\"route_id_short\"]\n",
    "statistics_fields = [[\"am_num_trips\",\"MAX\"],[\"allday_num_trips\",\"MAX\"]]\n",
    "max_route_ct_by_route = 'max_route_ct_by_route_01_2020'\n",
    "\n",
    "arcpy.Statistics_analysis(in_table=transit_rt_trip_ct,\n",
    "                          out_table=max_route_ct_by_route,\n",
    "                          statistics_fields=statistics_fields,\n",
    "                          case_field=fields)"
   ]
  },
  {
   "cell_type": "markdown",
   "metadata": {},
   "source": [
    "## Step 4- Generate pretty routes from routes.txt"
   ]
  },
  {
   "cell_type": "code",
   "execution_count": 14,
   "metadata": {},
   "outputs": [
    {
     "name": "stdout",
     "output_type": "stream",
     "text": [
      " Volume in drive Z is Shared Folders\n",
      " Volume Serial Number is 0000-0000\n",
      "\n",
      " Directory of Z:\\Documents\\ArcGIS\\Projects\\Bay_Area_Forward_Transit_Mapping\\Historic GTFS\\2020-01\n",
      "\n",
      "11/30/1979  01:00 AM            76,670 fare_attributes.txt\n",
      "11/30/1979  01:00 AM             3,751 agency.txt\n",
      "11/30/1979  01:00 AM            86,435 fare_rules.txt\n",
      "11/30/1979  01:00 AM       174,808,847 calendar_dates.txt\n",
      "01/18/2021  12:07 PM       570,857,707 stop_times.txt\n",
      "11/30/1979  01:00 AM       325,134,902 shapes.txt\n",
      "11/30/1979  01:00 AM        37,437,443 trips.txt\n",
      "11/30/1979  01:00 AM            54,972 feed_info.txt\n",
      "11/30/1979  01:00 AM         1,777,863 stops.txt\n",
      "01/18/2021  12:07 PM               644 stop_times.txt.xml\n",
      "11/30/1979  01:00 AM            71,290 routes.txt\n",
      "              11 File(s)  1,110,310,524 bytes\n",
      "               0 Dir(s)  1,795,857,833,984 bytes free\n"
     ]
    }
   ],
   "source": [
    "!dir \"Historic GTFS/2020-01/\""
   ]
  },
  {
   "cell_type": "code",
   "execution_count": 15,
   "metadata": {},
   "outputs": [
    {
     "data": {
      "text/html": [
       "<h2>Output</h2>Bay_Area_Forward_Transit_Database.gdb\\pretty_transit_route_line_01_2020<h2>Messages</h2>Start Time: Wednesday, April 14, 2021 8:04:44 PM<br/>Succeeded at Wednesday, April 14, 2021 8:06:40 PM (Elapsed Time: 1 minutes 55 seconds)<br/><style>.rendered_html td, .rendered_html th {text-align: left;}.rendered_html tbody {border: 1px solid black;}</style>"
      ],
      "text/plain": [
       "<Result 'Bay_Area_Forward_Transit_Database.gdb\\\\pretty_transit_route_line_01_2020'>"
      ]
     },
     "execution_count": 15,
     "metadata": {},
     "output_type": "execute_result"
    }
   ],
   "source": [
    "transit_rts = os.path.join('Z:',\n",
    "                           '\\Documents',\n",
    "                           'ArcGIS',\n",
    "                           'Projects',\n",
    "                           'Bay_Area_Forward_Transit_Mapping',\n",
    "                           'Historic GTFS',\n",
    "                           '2020-01',\n",
    "                           'shapes.txt')\n",
    "transit_rts_fc = \"pretty_transit_route_line_01_2020\"\n",
    "arcpy.GTFSShapesToFeatures_conversion(in_gtfs_shapes_file=transit_rts,\n",
    "                                      out_feature_class=transit_rts_fc)"
   ]
  },
  {
   "cell_type": "markdown",
   "metadata": {},
   "source": [
    "## Step 5- Delete identical routes"
   ]
  },
  {
   "cell_type": "code",
   "execution_count": 16,
   "metadata": {},
   "outputs": [
    {
     "data": {
      "text/html": [
       "<h2>Output</h2>a Layer object<h2>Messages</h2>Start Time: Wednesday, April 14, 2021 8:06:47 PM<br/>2792 duplicate(s) from 1507 group(s) deleted.<br/>Succeeded at Wednesday, April 14, 2021 8:06:55 PM (Elapsed Time: 8.28 seconds)<br/><style>.rendered_html td, .rendered_html th {text-align: left;}.rendered_html tbody {border: 1px solid black;}</style>"
      ],
      "text/plain": [
       "<Result 'pretty_transit_route_line_01_2020'>"
      ]
     },
     "execution_count": 16,
     "metadata": {},
     "output_type": "execute_result"
    }
   ],
   "source": [
    "arcpy.management.DeleteIdentical(in_dataset=transit_rts_fc,\n",
    "                                 fields=[\"route_id\",\"Shape\"])"
   ]
  },
  {
   "cell_type": "markdown",
   "metadata": {},
   "source": [
    "## Step 6- For routes with duplicate route_id, keep longest route line"
   ]
  },
  {
   "cell_type": "code",
   "execution_count": 17,
   "metadata": {},
   "outputs": [
    {
     "data": {
      "text/html": [
       "<h2>Output</h2>Bay_Area_Forward_Transit_Database.gdb\\pretty_transit_route_line_proj_01_2020<h2>Messages</h2>Start Time: Wednesday, April 14, 2021 8:06:55 PM<br/>Succeeded at Wednesday, April 14, 2021 8:06:59 PM (Elapsed Time: 3.40 seconds)<br/><style>.rendered_html td, .rendered_html th {text-align: left;}.rendered_html tbody {border: 1px solid black;}</style>"
      ],
      "text/plain": [
       "<Result 'Bay_Area_Forward_Transit_Database.gdb\\\\pretty_transit_route_line_proj_01_2020'>"
      ]
     },
     "execution_count": 17,
     "metadata": {},
     "output_type": "execute_result"
    }
   ],
   "source": [
    "transit_routs_proj_fc = \"pretty_transit_route_line_proj_01_2020\"\n",
    "sr = arcpy.SpatialReference(32610)\n",
    "arcpy.Project_management(in_dataset=transit_rts_fc,\n",
    "                         out_dataset=transit_routs_proj_fc,\n",
    "                         out_coor_system=sr)"
   ]
  },
  {
   "cell_type": "code",
   "execution_count": 18,
   "metadata": {},
   "outputs": [
    {
     "data": {
      "text/html": [
       "<h2>Output</h2>Bay_Area_Forward_Transit_Database.gdb\\route_count_max_length_summary<h2>Messages</h2>Start Time: Wednesday, April 14, 2021 8:07:01 PM<br/>Succeeded at Wednesday, April 14, 2021 8:07:03 PM (Elapsed Time: 1.94 seconds)<br/><style>.rendered_html td, .rendered_html th {text-align: left;}.rendered_html tbody {border: 1px solid black;}</style>"
      ],
      "text/plain": [
       "<Result 'Bay_Area_Forward_Transit_Database.gdb\\\\route_count_max_length_summary'>"
      ]
     },
     "execution_count": 18,
     "metadata": {},
     "output_type": "execute_result"
    }
   ],
   "source": [
    "#summarize by route and length max\n",
    "route_count_max_length = \"route_count_max_length_summary\"\n",
    "statistics_fields = [[\"route_id\",\"COUNT\"],\n",
    "                    [\"Shape_Length\",\"MAX\"]]\n",
    "arcpy.Statistics_analysis(in_table=transit_routs_proj_fc,\n",
    "                          out_table=route_count_max_length,\n",
    "                          statistics_fields=statistics_fields,\n",
    "                          case_field=[\"route_id\"])"
   ]
  },
  {
   "cell_type": "code",
   "execution_count": 19,
   "metadata": {},
   "outputs": [
    {
     "data": {
      "text/html": [
       "<h2>Output</h2>a Layer object<h2>Messages</h2>Start Time: Wednesday, April 14, 2021 8:07:04 PM<br/>Succeeded at Wednesday, April 14, 2021 8:07:04 PM (Elapsed Time: 0.29 seconds)<br/><style>.rendered_html td, .rendered_html th {text-align: left;}.rendered_html tbody {border: 1px solid black;}</style>"
      ],
      "text/plain": [
       "<Result 'pretty_transit_route_line_proj_01_2020'>"
      ]
     },
     "execution_count": 19,
     "metadata": {},
     "output_type": "execute_result"
    }
   ],
   "source": [
    "#join summary table to route table\n",
    "arcpy.management.AddJoin(in_layer_or_view=transit_routs_proj_fc,\n",
    "                         in_field=\"route_id\",\n",
    "                         join_table=route_count_max_length,\n",
    "                         join_field=\"route_id\")"
   ]
  },
  {
   "cell_type": "code",
   "execution_count": 20,
   "metadata": {},
   "outputs": [
    {
     "data": {
      "text/html": [
       "<h2>Output</h2><table><tr><th>id</th><th>value</th></tr><tr><td>0</td><td>a Layer object</td></tr><tr><td>1</td><td>2297</td></tr></table><h2>Messages</h2>Start Time: Wednesday, April 14, 2021 8:07:08 PM<br/>Succeeded at Wednesday, April 14, 2021 8:07:08 PM (Elapsed Time: 0.22 seconds)<br/><style>.rendered_html td, .rendered_html th {text-align: left;}.rendered_html tbody {border: 1px solid black;}</style>"
      ],
      "text/plain": [
       "<Result 'pretty_transit_route_line_proj_01_2020'>"
      ]
     },
     "execution_count": 20,
     "metadata": {},
     "output_type": "execute_result"
    }
   ],
   "source": [
    "#Select routes with counts over 1 and where length <> max length\n",
    "where_clause = \"route_count_max_length_summary.COUNT_route_id > 1\\\n",
    "and Shape_Length <> route_count_max_length_summary.MAX_Shape_Length\"\n",
    "arcpy.SelectLayerByAttribute_management(in_layer_or_view=transit_routs_proj_fc,\n",
    "                                        where_clause=where_clause)"
   ]
  },
  {
   "cell_type": "code",
   "execution_count": 21,
   "metadata": {},
   "outputs": [
    {
     "data": {
      "text/html": [
       "<h2>Output</h2>a Layer object<h2>Messages</h2>Start Time: Wednesday, April 14, 2021 8:07:09 PM<br/>Succeeded at Wednesday, April 14, 2021 8:07:10 PM (Elapsed Time: 0.45 seconds)<br/><style>.rendered_html td, .rendered_html th {text-align: left;}.rendered_html tbody {border: 1px solid black;}</style>"
      ],
      "text/plain": [
       "<Result 'pretty_transit_route_line_proj_01_2020'>"
      ]
     },
     "execution_count": 21,
     "metadata": {},
     "output_type": "execute_result"
    }
   ],
   "source": [
    "#Delete shortest routes\n",
    "arcpy.management.DeleteRows(in_rows=transit_routs_proj_fc)"
   ]
  },
  {
   "cell_type": "code",
   "execution_count": 22,
   "metadata": {},
   "outputs": [
    {
     "data": {
      "text/html": [
       "<h2>Output</h2>a Layer object<h2>Messages</h2>Start Time: Wednesday, April 14, 2021 8:07:10 PM<br/>Succeeded at Wednesday, April 14, 2021 8:07:10 PM (Elapsed Time: 0.09 seconds)<br/><style>.rendered_html td, .rendered_html th {text-align: left;}.rendered_html tbody {border: 1px solid black;}</style>"
      ],
      "text/plain": [
       "<Result 'pretty_transit_route_line_proj_01_2020'>"
      ]
     },
     "execution_count": 22,
     "metadata": {},
     "output_type": "execute_result"
    }
   ],
   "source": [
    "#Remove join\n",
    "arcpy.management.RemoveJoin(in_layer_or_view=transit_routs_proj_fc)"
   ]
  },
  {
   "cell_type": "markdown",
   "metadata": {},
   "source": [
    "## Step 7- Join pretty transit routes and max route count summary table"
   ]
  },
  {
   "cell_type": "code",
   "execution_count": 23,
   "metadata": {},
   "outputs": [
    {
     "data": {
      "text/html": [
       "<h2>Output</h2>a Layer object<h2>Messages</h2>Start Time: Wednesday, April 14, 2021 8:07:11 PM<br/>Succeeded at Wednesday, April 14, 2021 8:07:12 PM (Elapsed Time: 1.38 seconds)<br/><style>.rendered_html td, .rendered_html th {text-align: left;}.rendered_html tbody {border: 1px solid black;}</style>"
      ],
      "text/plain": [
       "<Result 'pretty_transit_route_line_proj_01_2020'>"
      ]
     },
     "execution_count": 23,
     "metadata": {},
     "output_type": "execute_result"
    }
   ],
   "source": [
    "#add trip count fields\n",
    "arcpy.JoinField_management(in_data=transit_routs_proj_fc,\n",
    "                           in_field=\"route_id\",\n",
    "                           join_table=max_route_ct_by_route, \n",
    "                           join_field=\"route_id_short\",\n",
    "                           fields=[\"MAX_am_num_trips\",\"MAX_allday_num_trips\"])"
   ]
  },
  {
   "cell_type": "code",
   "execution_count": 24,
   "metadata": {},
   "outputs": [
    {
     "data": {
      "text/html": [
       "<h2>Output</h2>a Layer object<h2>Messages</h2>Start Time: Wednesday, April 14, 2021 8:07:12 PM<br/>Succeeded at Wednesday, April 14, 2021 8:07:14 PM (Elapsed Time: 1.18 seconds)<br/><style>.rendered_html td, .rendered_html th {text-align: left;}.rendered_html tbody {border: 1px solid black;}</style>"
      ],
      "text/plain": [
       "<Result 'pretty_transit_route_line_proj_01_2020'>"
      ]
     },
     "execution_count": 24,
     "metadata": {},
     "output_type": "execute_result"
    }
   ],
   "source": [
    "#add express route field\n",
    "express_route_lookup = \"express_route_lookup\"\n",
    "arcpy.JoinField_management(in_data=transit_routs_proj_fc,\n",
    "                           in_field=\"route_id\",\n",
    "                           join_table=express_route_lookup,\n",
    "                           join_field=\"route_id\",\n",
    "                           fields=\"express_route\")"
   ]
  },
  {
   "cell_type": "code",
   "execution_count": 25,
   "metadata": {},
   "outputs": [
    {
     "data": {
      "text/html": [
       "<h2>Output</h2>Bay_Area_Forward_Transit_Database.gdb\\express_route_trips<h2>Messages</h2>Start Time: Wednesday, April 14, 2021 8:07:14 PM<br/>Succeeded at Wednesday, April 14, 2021 8:07:16 PM (Elapsed Time: 2.03 seconds)<br/><style>.rendered_html td, .rendered_html th {text-align: left;}.rendered_html tbody {border: 1px solid black;}</style>"
      ],
      "text/plain": [
       "<Result 'Bay_Area_Forward_Transit_Database.gdb\\\\express_route_trips'>"
      ]
     },
     "execution_count": 25,
     "metadata": {},
     "output_type": "execute_result"
    }
   ],
   "source": [
    "#export routes and route counts to new fc\n",
    "express_routes = \"express_route_trips\"\n",
    "where = \"express_route = 1\"\n",
    "arcpy.Select_analysis(in_features=transit_routs_proj_fc,\n",
    "                      out_feature_class=express_routes,\n",
    "                      where_clause=where)"
   ]
  },
  {
   "cell_type": "markdown",
   "metadata": {},
   "source": [
    "## Step 8- Create highway and interstate corridors"
   ]
  },
  {
   "cell_type": "code",
   "execution_count": 37,
   "metadata": {},
   "outputs": [],
   "source": [
    "# #Project to WGS84 UTM Zone 10 North \n",
    "# road_highway_interstate = \"road_highway_interstate\"\n",
    "# sr = arcpy.SpatialReference(32610)\n",
    "# roads_proj = \"road_highway_interstate_proj\"\n",
    "# with arcpy.EnvManager(outputCoordinateSystem=sr):\n",
    "#     arcpy.management.CopyFeatures(in_features=road_highway_interstate,\n",
    "#                                   out_feature_class=roads_proj)"
   ]
  },
  {
   "cell_type": "code",
   "execution_count": 31,
   "metadata": {},
   "outputs": [
    {
     "data": {
      "text/html": [
       "<h2>Output</h2>Bay_Area_Forward_Transit_Database.gdb\\road_highway_interstate_corridor_50m_buffer<h2>Messages</h2>Start Time: Wednesday, April 14, 2021 8:17:52 PM<br/>Succeeded at Wednesday, April 14, 2021 8:18:04 PM (Elapsed Time: 11.67 seconds)<br/><style>.rendered_html td, .rendered_html th {text-align: left;}.rendered_html tbody {border: 1px solid black;}</style>"
      ],
      "text/plain": [
       "<Result 'Bay_Area_Forward_Transit_Database.gdb\\\\road_highway_interstate_corridor_50m_buffer'>"
      ]
     },
     "execution_count": 31,
     "metadata": {},
     "output_type": "execute_result"
    }
   ],
   "source": [
    "#Buffer highways and interstates by 50 meters and dissolve\n",
    "roads_proj = \"road_highway_interstate_proj\"\n",
    "roads_buff = \"road_highway_interstate_corridor_50m_buffer\"\n",
    "arcpy.Buffer_analysis(in_features=roads_proj,\n",
    "                      out_feature_class=roads_buff,\n",
    "                      buffer_distance_or_field=\"50 Meters\",\n",
    "                      line_side=\"FULL\",\n",
    "                      line_end_type=\"ROUND\",\n",
    "                      dissolve_option=\"ALL\")"
   ]
  },
  {
   "cell_type": "code",
   "execution_count": 32,
   "metadata": {},
   "outputs": [
    {
     "data": {
      "text/html": [
       "<h2>Output</h2>Bay_Area_Forward_Transit_Database.gdb\\highway_interstate_junctions<h2>Messages</h2>Start Time: Wednesday, April 14, 2021 8:18:06 PM<br/>Succeeded at Wednesday, April 14, 2021 8:18:08 PM (Elapsed Time: 2.23 seconds)<br/><style>.rendered_html td, .rendered_html th {text-align: left;}.rendered_html tbody {border: 1px solid black;}</style>"
      ],
      "text/plain": [
       "<Result 'Bay_Area_Forward_Transit_Database.gdb\\\\highway_interstate_junctions'>"
      ]
     },
     "execution_count": 32,
     "metadata": {},
     "output_type": "execute_result"
    }
   ],
   "source": [
    "#Select all junctions from interstates and highways\n",
    "where_clause = \"ramp IN (1, 2)\"\n",
    "junctions = \"highway_interstate_junctions\"\n",
    "arcpy.Select_analysis(in_features=roads_proj,\n",
    "                      out_feature_class=junctions,\n",
    "                      where_clause=where_clause)"
   ]
  },
  {
   "cell_type": "code",
   "execution_count": 33,
   "metadata": {},
   "outputs": [
    {
     "data": {
      "text/html": [
       "<h2>Output</h2>Bay_Area_Forward_Transit_Database.gdb\\highway_interstate_junctions_100m_buffer<h2>Messages</h2>Start Time: Wednesday, April 14, 2021 8:18:10 PM<br/>Succeeded at Wednesday, April 14, 2021 8:18:13 PM (Elapsed Time: 2.90 seconds)<br/><style>.rendered_html td, .rendered_html th {text-align: left;}.rendered_html tbody {border: 1px solid black;}</style>"
      ],
      "text/plain": [
       "<Result 'Bay_Area_Forward_Transit_Database.gdb\\\\highway_interstate_junctions_100m_buffer'>"
      ]
     },
     "execution_count": 33,
     "metadata": {},
     "output_type": "execute_result"
    }
   ],
   "source": [
    "junctions_buff = \"highway_interstate_junctions_100m_buffer\"\n",
    "arcpy.Buffer_analysis(in_features=junctions,\n",
    "                      out_feature_class=junctions_buff,\n",
    "                      buffer_distance_or_field=\"100 Meters\",\n",
    "                      line_side=\"FULL\",\n",
    "                      line_end_type=\"FLAT\",\n",
    "                      dissolve_option=\"ALL\")"
   ]
  },
  {
   "cell_type": "markdown",
   "metadata": {},
   "source": [
    "## Step 9- Summarize within highway corridor areas"
   ]
  },
  {
   "cell_type": "code",
   "execution_count": 56,
   "metadata": {},
   "outputs": [],
   "source": [
    "# express_route_corridor_summary = \"express_route_corridor_summary\"\n",
    "# sum_fields = [[\"MAX_am_num_trips\",\"Sum\"],[\"MAX_allday_num_trips\",\"Sum\"]]\n",
    "# arcpy.SummarizeWithin_analysis(in_polygons=\"road_highway_interstate_corridor_50m_buffer\",\n",
    "#                                in_sum_features=express_routes,\n",
    "#                                out_feature_class=express_route_corridor_summary,\n",
    "#                                keep_all_polygons=\"ONLY_INTERSECTING\",\n",
    "#                                sum_fields=sum_fields,\n",
    "#                                sum_shape=\"NO_SHAPE_SUM\")"
   ]
  },
  {
   "cell_type": "code",
   "execution_count": 34,
   "metadata": {},
   "outputs": [
    {
     "data": {
      "text/html": [
       "<h2>Output</h2>Bay_Area_Forward_Transit_Database.gdb\\express_route_corridor<h2>Messages</h2>Start Time: Wednesday, April 14, 2021 8:34:16 PM<br/>Succeeded at Wednesday, April 14, 2021 8:34:19 PM (Elapsed Time: 2.70 seconds)<br/><style>.rendered_html td, .rendered_html th {text-align: left;}.rendered_html tbody {border: 1px solid black;}</style>"
      ],
      "text/plain": [
       "<Result 'Bay_Area_Forward_Transit_Database.gdb\\\\express_route_corridor'>"
      ]
     },
     "execution_count": 34,
     "metadata": {},
     "output_type": "execute_result"
    }
   ],
   "source": [
    "#Spatial join express route trips to corridors\n",
    "express_route_corridor = \"express_route_corridor\"\n",
    "express_routes = \"express_route_trips\"\n",
    "roads_buff = \"road_highway_interstate_corridor_50m_buffer\"\n",
    "arcpy.SpatialJoin_analysis(target_features=roads_buff,\n",
    "                           join_features=express_routes,\n",
    "                           out_feature_class=express_route_corridor,\n",
    "                           join_operation=\"JOIN_ONE_TO_MANY\",\n",
    "                           join_type=\"KEEP_COMMON\",\n",
    "                           match_option=\"INTERSECT\")"
   ]
  },
  {
   "cell_type": "code",
   "execution_count": 35,
   "metadata": {},
   "outputs": [
    {
     "data": {
      "text/html": [
       "<h2>Output</h2>Z:\\Documents\\ArcGIS\\Projects\\Bay_Area_Forward_Transit_Mapping\\Bay_Area_Forward_Transit_Database.gdb\\express_route_corridor_summary<h2>Messages</h2>Start Time: Wednesday, April 14, 2021 8:34:22 PM<br/>Started Spark Job 1 with 16 tasks.<br/>Spark Job 1 completed in 2.4 seconds.<br/>Succeeded at Wednesday, April 14, 2021 8:34:43 PM (Elapsed Time: 21.54 seconds)<br/><style>.rendered_html td, .rendered_html th {text-align: left;}.rendered_html tbody {border: 1px solid black;}</style>"
      ],
      "text/plain": [
       "<Result 'Z:\\\\Documents\\\\ArcGIS\\\\Projects\\\\Bay_Area_Forward_Transit_Mapping\\\\Bay_Area_Forward_Transit_Database.gdb\\\\express_route_corridor_summary'>"
      ]
     },
     "execution_count": 35,
     "metadata": {},
     "output_type": "execute_result"
    }
   ],
   "source": [
    "#Summarize corridor trips by corridor\n",
    "express_route_corridor_summary = \"express_route_corridor_summary\"\n",
    "fields = [\"TARGET_FID\"]\n",
    "sum_fields = [[\"MAX_am_num_trips\",\"SUM\"],[\"MAX_allday_num_trips\",\"SUM\"]]\n",
    "arcpy.SummarizeAttributes_gapro(input_layer=express_route_corridor,\n",
    "                                out_table=express_route_corridor_summary,\n",
    "                                fields=fields,\n",
    "                                summary_fields=sum_fields)"
   ]
  },
  {
   "cell_type": "code",
   "execution_count": 37,
   "metadata": {},
   "outputs": [
    {
     "data": {
      "text/plain": [
       "[<Result 'express_route_corridor_summary'>, <Result 'express_route_corridor_summary'>]"
      ]
     },
     "execution_count": 37,
     "metadata": {},
     "output_type": "execute_result"
    }
   ],
   "source": [
    "#rename columns\n",
    "namesDict = {\"Sum_MAX_am_num_trips\":\"am_num_trips\",\n",
    "            \"Sum_MAX_allday_num_trips\":\"allday_num_trips\"}\n",
    "\n",
    "[arcpy.AlterField_management(express_route_corridor_summary, f, namesDict[f], namesDict[f]) for f in namesDict]"
   ]
  },
  {
   "cell_type": "code",
   "execution_count": 38,
   "metadata": {},
   "outputs": [
    {
     "data": {
      "text/html": [
       "<h2>Output</h2>a Layer object<h2>Messages</h2>Start Time: Wednesday, April 14, 2021 8:35:20 PM<br/>Succeeded at Wednesday, April 14, 2021 8:35:20 PM (Elapsed Time: 0.35 seconds)<br/><style>.rendered_html td, .rendered_html th {text-align: left;}.rendered_html tbody {border: 1px solid black;}</style>"
      ],
      "text/plain": [
       "<Result 'road_highway_interstate_corridor_50m_buffer'>"
      ]
     },
     "execution_count": 38,
     "metadata": {},
     "output_type": "execute_result"
    }
   ],
   "source": [
    "#Join trip summary table to features\n",
    "roads_buff = \"road_highway_interstate_corridor_50m_buffer\"\n",
    "arcpy.AddJoin_management(in_layer_or_view=roads_buff,\n",
    "                         in_field=\"OBJECTID\",\n",
    "                         join_table=express_route_corridor_summary,\n",
    "                         join_field=\"TARGET_FID\",\n",
    "                         join_type=\"KEEP_COMMON\")"
   ]
  },
  {
   "cell_type": "code",
   "execution_count": 39,
   "metadata": {},
   "outputs": [
    {
     "data": {
      "text/html": [
       "<h2>Output</h2>Bay_Area_Forward_Transit_Database.gdb\\express_route_corridor_summary_fc<h2>Messages</h2>Start Time: Wednesday, April 14, 2021 8:35:21 PM<br/>Succeeded at Wednesday, April 14, 2021 8:35:24 PM (Elapsed Time: 2.51 seconds)<br/><style>.rendered_html td, .rendered_html th {text-align: left;}.rendered_html tbody {border: 1px solid black;}</style>"
      ],
      "text/plain": [
       "<Result 'Bay_Area_Forward_Transit_Database.gdb\\\\express_route_corridor_summary_fc'>"
      ]
     },
     "execution_count": 39,
     "metadata": {},
     "output_type": "execute_result"
    }
   ],
   "source": [
    "#copy joined features to new fc\n",
    "express_route_corridor_fc = \"express_route_corridor_summary_fc\"\n",
    "arcpy.FeatureClassToFeatureClass_conversion(in_features=roads_buff,\n",
    "                                            out_name=express_route_corridor_fc)"
   ]
  },
  {
   "cell_type": "code",
   "execution_count": 40,
   "metadata": {},
   "outputs": [
    {
     "data": {
      "text/html": [
       "<h2>Output</h2>a Layer object<h2>Messages</h2>Start Time: Wednesday, April 14, 2021 8:35:26 PM<br/>Succeeded at Wednesday, April 14, 2021 8:35:26 PM (Elapsed Time: 0.13 seconds)<br/><style>.rendered_html td, .rendered_html th {text-align: left;}.rendered_html tbody {border: 1px solid black;}</style>"
      ],
      "text/plain": [
       "<Result 'road_highway_interstate_corridor_50m_buffer'>"
      ]
     },
     "execution_count": 40,
     "metadata": {},
     "output_type": "execute_result"
    }
   ],
   "source": [
    "arcpy.RemoveJoin_management(in_layer_or_view=roads_buff)"
   ]
  },
  {
   "cell_type": "code",
   "execution_count": 41,
   "metadata": {},
   "outputs": [
    {
     "data": {
      "text/html": [
       "<h2>Output</h2>a Layer object<h2>Messages</h2>Start Time: Wednesday, April 14, 2021 8:35:30 PM<br/>Succeeded at Wednesday, April 14, 2021 8:35:31 PM (Elapsed Time: 1.26 seconds)<br/><style>.rendered_html td, .rendered_html th {text-align: left;}.rendered_html tbody {border: 1px solid black;}</style>"
      ],
      "text/plain": [
       "<Result 'express_route_corridor_summary_fc'>"
      ]
     },
     "execution_count": 41,
     "metadata": {},
     "output_type": "execute_result"
    }
   ],
   "source": [
    "arcpy.DeleteField_management(in_table=express_route_corridor_fc,\n",
    "                             drop_field=[\"OBJECTID\",\"TARGET_FID\"])"
   ]
  },
  {
   "cell_type": "markdown",
   "metadata": {},
   "source": [
    "## Step 10- Create centerline from polygon highway corridor summary areas"
   ]
  },
  {
   "cell_type": "code",
   "execution_count": 42,
   "metadata": {},
   "outputs": [
    {
     "data": {
      "text/html": [
       "<h2>Output</h2>Bay_Area_Forward_Transit_Database.gdb\\express_route_corridor_line_fc<h2>Messages</h2>Start Time: Wednesday, April 14, 2021 8:35:32 PM<br/>Succeeded at Wednesday, April 14, 2021 8:35:46 PM (Elapsed Time: 14.94 seconds)<br/><style>.rendered_html td, .rendered_html th {text-align: left;}.rendered_html tbody {border: 1px solid black;}</style>"
      ],
      "text/plain": [
       "<Result 'Bay_Area_Forward_Transit_Database.gdb\\\\express_route_corridor_line_fc'>"
      ]
     },
     "execution_count": 42,
     "metadata": {},
     "output_type": "execute_result"
    }
   ],
   "source": [
    "express_route_corridor_line = \"express_route_corridor_line_fc\"\n",
    "arcpy.PolygonToCenterline_topographic(in_features=express_route_corridor_fc,\n",
    "                                      out_feature_class=express_route_corridor_line)"
   ]
  },
  {
   "cell_type": "code",
   "execution_count": 44,
   "metadata": {},
   "outputs": [
    {
     "data": {
      "text/html": [
       "<h2>Output</h2>a Layer object<h2>Messages</h2>Start Time: Wednesday, April 14, 2021 8:36:44 PM<br/>Succeeded at Wednesday, April 14, 2021 8:36:45 PM (Elapsed Time: 1.06 seconds)<br/><style>.rendered_html td, .rendered_html th {text-align: left;}.rendered_html tbody {border: 1px solid black;}</style>"
      ],
      "text/plain": [
       "<Result 'express_route_corridor_line_fc'>"
      ]
     },
     "execution_count": 44,
     "metadata": {},
     "output_type": "execute_result"
    }
   ],
   "source": [
    "arcpy.JoinField_management(in_data=express_route_corridor_line,\n",
    "                           in_field=\"FID\",\n",
    "                           join_table=express_route_corridor_fc,\n",
    "                           join_field=\"OBJECTID_1\",\n",
    "                           fields=[\"COUNT\",\"am_num_trips\",\"allday_num_trips\"])"
   ]
  }
 ],
 "metadata": {
  "kernelspec": {
   "display_name": "ArcGISPro",
   "language": "Python",
   "name": "python3"
  },
  "language_info": {
   "file_extension": ".py",
   "name": "python",
   "version": "3"
  }
 },
 "nbformat": 4,
 "nbformat_minor": 2
}
