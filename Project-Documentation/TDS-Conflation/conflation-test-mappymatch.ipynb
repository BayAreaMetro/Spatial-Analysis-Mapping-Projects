{
 "cells": [
  {
   "cell_type": "code",
   "execution_count": 1,
   "metadata": {},
   "outputs": [],
   "source": [
    "import os\n",
    "import sys\n",
    "import pandas as pd\n",
    "import geopandas as gpd\n",
    "import getpass\n",
    "\n",
    "user = getpass.getuser().lower()\n",
    "\n",
    "MAPPYMATCH_PATH = f\"/Users/{user}/Documents/GitHub/mappymatch\"\n",
    "sys.path.insert(0, MAPPYMATCH_PATH)\n",
    "\n",
    "from mappymatch import package_root\n",
    "from mappymatch.constructs.trace import Trace\n",
    "from mappymatch.utils.plot import plot_trace\n",
    "from mappymatch.utils.plot import plot_geofence\n",
    "from mappymatch.constructs.geofence import Geofence\n",
    "from mappymatch.maps.nx.nx_map import NxMap, NetworkType\n",
    "from mappymatch.utils.plot import plot_map\n",
    "from mappymatch.matchers.lcss.lcss import LCSSMatcher\n",
    "from mappymatch.utils.plot import plot_matches\n",
    "from mappymatch.utils.plot import plot_path\n",
    "\n",
    "# !pip install mappymatch"
   ]
  },
  {
   "cell_type": "markdown",
   "metadata": {},
   "source": [
    "## Define functions"
   ]
  },
  {
   "cell_type": "code",
   "execution_count": 17,
   "metadata": {},
   "outputs": [],
   "source": [
    "# create a batch process function to create a list of traces\n",
    "\n",
    "def create_batch_traces(df, trip_id_column, xy=True):\n",
    "    \"\"\"Create a batch of traces from a dataframe with xy coordinates\n",
    "\n",
    "    Args:\n",
    "        df (Pandas Dataframe): Dataframe with xy coordinates in EPGS:4326.\n",
    "        trip_id_column (String): Column name with unique trip ids.\n",
    "        xy (bool, optional): Projects trace to EPSG:3857. Defaults to True.\n",
    "\n",
    "    Returns:\n",
    "        List: list of dictionaries with trip_id and trace.\n",
    "    \"\"\"\n",
    "    from shapely.geometry import LineString\n",
    "\n",
    "    unique_ids = df[trip_id_column].unique()\n",
    "    batch_traces = []\n",
    "    for i in unique_ids:\n",
    "        filter_df = df[df[\"trip_id\"] == i]\n",
    "        gdf = gpd.GeoDataFrame(\n",
    "            filter_df, geometry=gpd.points_from_xy(filter_df.lon, filter_df.lat), crs=4326\n",
    "        )\n",
    "        batch_trace = Trace.from_geo_dataframe(frame=gdf, xy=xy)\n",
    "\n",
    "        # create a trace_line_gdf from the trace\n",
    "        coords = [(p.x, p.y) for p in batch_trace.coords]\n",
    "        line = LineString(coords)\n",
    "        trace_line_gdf = gpd.GeoDataFrame([{\"geometry\": line}], crs=\"EPSG:3857\")\n",
    "        trace_line_gdf[\"trip_id\"] = i\n",
    "\n",
    "        # create a trace_gdf from the trace\n",
    "        trace_gdf = batch_trace._frame\n",
    "        trace_gdf[\"trip_id\"] = i\n",
    "\n",
    "        # create a dictionary with the trip_id, trace, trace_gdf, and trace_line_gdf and append to the batch_traces list\n",
    "        trace_dict = {\n",
    "            \"trip_id\": i,\n",
    "            \"trace\": batch_trace,\n",
    "            \"trace_gdf\": trace_gdf,\n",
    "            \"trace_line_gdf\": trace_line_gdf,\n",
    "        }\n",
    "        batch_traces.append(trace_dict)\n",
    "    return batch_traces"
   ]
  },
  {
   "cell_type": "code",
   "execution_count": 18,
   "metadata": {},
   "outputs": [],
   "source": [
    "# # create a geodataframe from coordinates.\n",
    "# # import geopandas as gpd\n",
    "# from shapely.geometry import LineString\n",
    "\n",
    "# coords = [(p.x, p.y) for p in batch_traces[0][\"trace\"].coords]\n",
    "\n",
    "# # create a linestring from coordinates\n",
    "\n",
    "# line = LineString(coords)\n",
    "\n",
    "# gdf = gpd.GeoDataFrame([{'geometry': line}], crs=\"EPSG:3857\")"
   ]
  },
  {
   "cell_type": "code",
   "execution_count": 19,
   "metadata": {},
   "outputs": [],
   "source": [
    "# create a function that takes a list of traces and batch processes them using the LCSS matcher\n",
    "\n",
    "\n",
    "def batch_process_traces(traces, geofence_buffer=1000, network_type=NetworkType.DRIVE):\n",
    "    \"\"\"Batch process traces using the LCSS matcher.\n",
    "\n",
    "    The function creates a geofence around each trace and creates a networkx graph from the geofence.\n",
    "    Returns a list of matched traces.\n",
    "\n",
    "    Args:\n",
    "        traces (List): list of dictionaries with trip_id and trace.\n",
    "        geofence_buffer (int, optional): Buffer in meters. Defaults to 100.\n",
    "        network_type (Enumerator, optional): Enumerator for Network Types supported by osmnx. Defaults to NetworkType.DRIVE.\n",
    "\n",
    "    Returns:\n",
    "        List: List of matched traces\n",
    "    \"\"\"\n",
    "    import osmnx as ox\n",
    "    import networkx as nx\n",
    "\n",
    "    matched_traces = []\n",
    "    for trace_dict in traces:\n",
    "        # create a geofence around the trace\n",
    "        geofence = Geofence.from_trace(trace_dict[\"trace\"], padding=geofence_buffer)\n",
    "\n",
    "        # create a networkx map from the geofence\n",
    "        nx_map = NxMap.from_geofence(geofence, network_type=network_type)\n",
    "\n",
    "        # match the trace to the map\n",
    "        matcher = LCSSMatcher(nx_map)\n",
    "        match_result = matcher.match_trace(trace_dict[\"trace\"])\n",
    "\n",
    "        # add full match result to the trace dictionary\n",
    "        trace_dict[\"matched_result\"] = match_result\n",
    "        matched_traces.append(trace_dict)\n",
    "\n",
    "        # create a geodataframe from the matches and add the trip_id; add the match result and matched df to the trace dictionary\n",
    "        matched_df = match_result.matches_to_dataframe()\n",
    "        matched_df[\"trip_id\"] = trace_dict[\"trip_id\"]\n",
    "        matched_gdf = gpd.GeoDataFrame(matched_df, geometry=\"geom\", crs=\"EPSG:3857\")\n",
    "\n",
    "        # create a geodataframe from the matched path and add the trip_id; add the match result and matched df to the trace dictionary\n",
    "        matched_path_df = match_result.path_to_dataframe()\n",
    "        matched_path_df[\"trip_id\"] = trace_dict[\"trip_id\"]\n",
    "        matched_path_gdf = gpd.GeoDataFrame(matched_path_df, geometry=\"geom\", crs=\"EPSG:3857\")\n",
    "\n",
    "        attrs = [\"ref\", \"name\", \"maxspeed\", \"highway\", \"bridge\", \"tunnel\"]\n",
    "        for attr in attrs:\n",
    "            # get attributes from the raw graph\n",
    "            attr_dict = nx.get_edge_attributes(nx_map.g, attr)\n",
    "            # add attributes to the matched gdf\n",
    "            matched_gdf[attr] = matched_gdf[\"road_id\"].map(attr_dict)\n",
    "            # add attributes to the matched path gdf\n",
    "            matched_path_gdf[attr] = matched_path_gdf[\"road_id\"].map(attr_dict)\n",
    "\n",
    "        trace_dict[\"matched_gdf\"] = matched_gdf\n",
    "\n",
    "        trace_dict[\"matched_path_gdf\"] = matched_path_gdf\n",
    "\n",
    "    return matched_traces"
   ]
  },
  {
   "cell_type": "code",
   "execution_count": 20,
   "metadata": {},
   "outputs": [],
   "source": [
    "# create a function that takes a list of dictionaries with matched trace geodataframes, concatenates them, and returns a single geodataframe\n",
    "\n",
    "def concatenate_matched_gdfs(matched_traces, match_type=\"matched_gdf\"):\n",
    "    \"\"\"Concatenate matched trace geodataframes into a single geodataframe.\n",
    "\n",
    "    Args:\n",
    "        matched_traces (List): List of dictionaries with matched trace geodataframes.\n",
    "        match_type (String, optional): Type of match to concatenate. Defaults to \"matched_gdf\". \n",
    "        Options are \"matched_gdf\", \"matched_path_gdf\", \"trace_gdf\".\n",
    "\n",
    "    Returns:\n",
    "        GeoDataFrame: Concatenated geodataframe.\n",
    "    \"\"\"\n",
    "    matched_gdfs = []\n",
    "    for trace_dict in matched_traces:\n",
    "        matched_gdfs.append(trace_dict[match_type])\n",
    "    matched_gdf = pd.concat(matched_gdfs)\n",
    "    return matched_gdf"
   ]
  },
  {
   "cell_type": "markdown",
   "metadata": {},
   "source": [
    "## Prepare the data"
   ]
  },
  {
   "cell_type": "code",
   "execution_count": 21,
   "metadata": {},
   "outputs": [],
   "source": [
    "## Define file name\n",
    "location_tbl = 'location.csv'\n",
    "trip_tbl = 'trip.csv'\n",
    "\n",
    "## Define Box System Root Directory\n",
    "box_dir = os.path.join(\n",
    "    \"/Users\", user, \"Library\", \"CloudStorage\", \"Box-Box\"\n",
    "    )\n",
    "\n",
    "## Define BAUS directory on Box for .csv output files\n",
    "file_dir = os.path.join(\n",
    "    box_dir, \"Modeling and Surveys\", \"Surveys\", \"Travel Diary Survey\",\n",
    "    \"Biennial Travel Diary Survey\", \"Data\",'2023', \"Full Unweighted 2023 Dataset\"\n",
    ")\n",
    "\n",
    "location_path = os.path.join(file_dir, location_tbl)\n",
    "trip_path = os.path.join(file_dir, trip_tbl)"
   ]
  },
  {
   "cell_type": "code",
   "execution_count": 22,
   "metadata": {},
   "outputs": [],
   "source": [
    "# read location and trip \n",
    "location_df = pd.read_csv(location_path)\n",
    "trip_df = pd.read_csv(trip_path)"
   ]
  },
  {
   "cell_type": "code",
   "execution_count": 23,
   "metadata": {},
   "outputs": [],
   "source": [
    "# merge trips with locations\n",
    "trip_locations = pd.merge(\n",
    "    location_df,\n",
    "    trip_df[\n",
    "        [\n",
    "            \"trip_id\",\n",
    "            \"o_in_region\",\n",
    "            \"d_in_region\",\n",
    "            \"mode_type\",\n",
    "            \"mode_1\",\n",
    "            \"mode_2\",\n",
    "            \"mode_3\",\n",
    "            \"mode_4\",\n",
    "        ]\n",
    "    ],\n",
    "    on=\"trip_id\",\n",
    ")"
   ]
  },
  {
   "cell_type": "code",
   "execution_count": 24,
   "metadata": {},
   "outputs": [
    {
     "data": {
      "text/html": [
       "<div>\n",
       "<style scoped>\n",
       "    .dataframe tbody tr th:only-of-type {\n",
       "        vertical-align: middle;\n",
       "    }\n",
       "\n",
       "    .dataframe tbody tr th {\n",
       "        vertical-align: top;\n",
       "    }\n",
       "\n",
       "    .dataframe thead th {\n",
       "        text-align: right;\n",
       "    }\n",
       "</style>\n",
       "<table border=\"1\" class=\"dataframe\">\n",
       "  <thead>\n",
       "    <tr style=\"text-align: right;\">\n",
       "      <th></th>\n",
       "      <th>trip_id</th>\n",
       "      <th>collect_time</th>\n",
       "      <th>accuracy</th>\n",
       "      <th>bearing</th>\n",
       "      <th>speed</th>\n",
       "      <th>lat</th>\n",
       "      <th>lon</th>\n",
       "      <th>o_in_region</th>\n",
       "      <th>d_in_region</th>\n",
       "      <th>mode_type</th>\n",
       "      <th>mode_1</th>\n",
       "      <th>mode_2</th>\n",
       "      <th>mode_3</th>\n",
       "      <th>mode_4</th>\n",
       "    </tr>\n",
       "  </thead>\n",
       "  <tbody>\n",
       "    <tr>\n",
       "      <th>0</th>\n",
       "      <td>2333407402022</td>\n",
       "      <td>2023-11-02T00:23:43Z</td>\n",
       "      <td>13.0</td>\n",
       "      <td>120.0</td>\n",
       "      <td>4.0</td>\n",
       "      <td>37.85270</td>\n",
       "      <td>-122.21255</td>\n",
       "      <td>1</td>\n",
       "      <td>1</td>\n",
       "      <td>2</td>\n",
       "      <td>2</td>\n",
       "      <td>995</td>\n",
       "      <td>995</td>\n",
       "      <td>995</td>\n",
       "    </tr>\n",
       "    <tr>\n",
       "      <th>1</th>\n",
       "      <td>2333407402022</td>\n",
       "      <td>2023-11-02T00:23:50Z</td>\n",
       "      <td>8.0</td>\n",
       "      <td>175.0</td>\n",
       "      <td>4.0</td>\n",
       "      <td>37.85227</td>\n",
       "      <td>-122.21236</td>\n",
       "      <td>1</td>\n",
       "      <td>1</td>\n",
       "      <td>2</td>\n",
       "      <td>2</td>\n",
       "      <td>995</td>\n",
       "      <td>995</td>\n",
       "      <td>995</td>\n",
       "    </tr>\n",
       "    <tr>\n",
       "      <th>2</th>\n",
       "      <td>2333407402022</td>\n",
       "      <td>2023-11-02T00:24:04Z</td>\n",
       "      <td>12.0</td>\n",
       "      <td>185.0</td>\n",
       "      <td>4.0</td>\n",
       "      <td>37.85163</td>\n",
       "      <td>-122.21239</td>\n",
       "      <td>1</td>\n",
       "      <td>1</td>\n",
       "      <td>2</td>\n",
       "      <td>2</td>\n",
       "      <td>995</td>\n",
       "      <td>995</td>\n",
       "      <td>995</td>\n",
       "    </tr>\n",
       "    <tr>\n",
       "      <th>3</th>\n",
       "      <td>2333407402022</td>\n",
       "      <td>2023-11-02T00:24:23Z</td>\n",
       "      <td>8.0</td>\n",
       "      <td>129.0</td>\n",
       "      <td>4.0</td>\n",
       "      <td>37.85092</td>\n",
       "      <td>-122.21197</td>\n",
       "      <td>1</td>\n",
       "      <td>1</td>\n",
       "      <td>2</td>\n",
       "      <td>2</td>\n",
       "      <td>995</td>\n",
       "      <td>995</td>\n",
       "      <td>995</td>\n",
       "    </tr>\n",
       "    <tr>\n",
       "      <th>4</th>\n",
       "      <td>2333407402022</td>\n",
       "      <td>2023-11-02T00:24:49Z</td>\n",
       "      <td>11.0</td>\n",
       "      <td>73.0</td>\n",
       "      <td>4.0</td>\n",
       "      <td>37.85138</td>\n",
       "      <td>-122.21071</td>\n",
       "      <td>1</td>\n",
       "      <td>1</td>\n",
       "      <td>2</td>\n",
       "      <td>2</td>\n",
       "      <td>995</td>\n",
       "      <td>995</td>\n",
       "      <td>995</td>\n",
       "    </tr>\n",
       "  </tbody>\n",
       "</table>\n",
       "</div>"
      ],
      "text/plain": [
       "         trip_id          collect_time  accuracy  bearing  speed       lat  \\\n",
       "0  2333407402022  2023-11-02T00:23:43Z      13.0    120.0    4.0  37.85270   \n",
       "1  2333407402022  2023-11-02T00:23:50Z       8.0    175.0    4.0  37.85227   \n",
       "2  2333407402022  2023-11-02T00:24:04Z      12.0    185.0    4.0  37.85163   \n",
       "3  2333407402022  2023-11-02T00:24:23Z       8.0    129.0    4.0  37.85092   \n",
       "4  2333407402022  2023-11-02T00:24:49Z      11.0     73.0    4.0  37.85138   \n",
       "\n",
       "         lon  o_in_region  d_in_region  mode_type  mode_1  mode_2  mode_3  \\\n",
       "0 -122.21255            1            1          2       2     995     995   \n",
       "1 -122.21236            1            1          2       2     995     995   \n",
       "2 -122.21239            1            1          2       2     995     995   \n",
       "3 -122.21197            1            1          2       2     995     995   \n",
       "4 -122.21071            1            1          2       2     995     995   \n",
       "\n",
       "   mode_4  \n",
       "0     995  \n",
       "1     995  \n",
       "2     995  \n",
       "3     995  \n",
       "4     995  "
      ]
     },
     "execution_count": 24,
     "metadata": {},
     "output_type": "execute_result"
    }
   ],
   "source": [
    "trip_locations.head()"
   ]
  },
  {
   "cell_type": "code",
   "execution_count": 25,
   "metadata": {},
   "outputs": [],
   "source": [
    "# # filter trips_locations to only include trips with mode 8 (car) with origins and destinations in region\n",
    "car_trips = trip_locations[\n",
    "    (trip_locations[\"mode_type\"] == 8)\n",
    "    & (trip_locations[\"o_in_region\"] == 1)\n",
    "    & (trip_locations[\"d_in_region\"] == 1)\n",
    "]"
   ]
  },
  {
   "cell_type": "code",
   "execution_count": 26,
   "metadata": {},
   "outputs": [],
   "source": [
    "# filter trips_locations to only include trips with mode 8 in mode_1 or mode_2 or mode_3 or mode_4 columns with origins and destinations in region\n",
    "\n",
    "# car_trips = trip_locations[\n",
    "#     (\n",
    "#         (trip_locations[\"mode_1\"] == 8)\n",
    "#         | (trip_locations[\"mode_2\"] == 8)\n",
    "#         | (trip_locations[\"mode_3\"] == 8)\n",
    "#         | (trip_locations[\"mode_4\"] == 8)\n",
    "#     )\n",
    "#     & (trip_locations[\"o_in_region\"] == 1)\n",
    "#     & (trip_locations[\"d_in_region\"] == 1)\n",
    "# ]"
   ]
  },
  {
   "cell_type": "code",
   "execution_count": 27,
   "metadata": {},
   "outputs": [
    {
     "data": {
      "text/html": [
       "<div>\n",
       "<style scoped>\n",
       "    .dataframe tbody tr th:only-of-type {\n",
       "        vertical-align: middle;\n",
       "    }\n",
       "\n",
       "    .dataframe tbody tr th {\n",
       "        vertical-align: top;\n",
       "    }\n",
       "\n",
       "    .dataframe thead th {\n",
       "        text-align: right;\n",
       "    }\n",
       "</style>\n",
       "<table border=\"1\" class=\"dataframe\">\n",
       "  <thead>\n",
       "    <tr style=\"text-align: right;\">\n",
       "      <th></th>\n",
       "      <th>trip_id</th>\n",
       "      <th>collect_time</th>\n",
       "      <th>accuracy</th>\n",
       "      <th>bearing</th>\n",
       "      <th>speed</th>\n",
       "      <th>lat</th>\n",
       "      <th>lon</th>\n",
       "      <th>o_in_region</th>\n",
       "      <th>d_in_region</th>\n",
       "      <th>mode_type</th>\n",
       "      <th>mode_1</th>\n",
       "      <th>mode_2</th>\n",
       "      <th>mode_3</th>\n",
       "      <th>mode_4</th>\n",
       "    </tr>\n",
       "  </thead>\n",
       "  <tbody>\n",
       "    <tr>\n",
       "      <th>157</th>\n",
       "      <td>2333407402024</td>\n",
       "      <td>2023-11-02T02:30:10Z</td>\n",
       "      <td>14.0</td>\n",
       "      <td>-1.0</td>\n",
       "      <td>-1.0</td>\n",
       "      <td>37.85953</td>\n",
       "      <td>-122.26371</td>\n",
       "      <td>1</td>\n",
       "      <td>1</td>\n",
       "      <td>8</td>\n",
       "      <td>6</td>\n",
       "      <td>995</td>\n",
       "      <td>995</td>\n",
       "      <td>995</td>\n",
       "    </tr>\n",
       "    <tr>\n",
       "      <th>158</th>\n",
       "      <td>2333407402024</td>\n",
       "      <td>2023-11-02T02:30:52Z</td>\n",
       "      <td>40.0</td>\n",
       "      <td>-1.0</td>\n",
       "      <td>-1.0</td>\n",
       "      <td>37.85855</td>\n",
       "      <td>-122.26670</td>\n",
       "      <td>1</td>\n",
       "      <td>1</td>\n",
       "      <td>8</td>\n",
       "      <td>6</td>\n",
       "      <td>995</td>\n",
       "      <td>995</td>\n",
       "      <td>995</td>\n",
       "    </tr>\n",
       "    <tr>\n",
       "      <th>159</th>\n",
       "      <td>2333407402024</td>\n",
       "      <td>2023-11-02T02:30:58Z</td>\n",
       "      <td>21.0</td>\n",
       "      <td>242.0</td>\n",
       "      <td>1.0</td>\n",
       "      <td>37.85817</td>\n",
       "      <td>-122.26681</td>\n",
       "      <td>1</td>\n",
       "      <td>1</td>\n",
       "      <td>8</td>\n",
       "      <td>6</td>\n",
       "      <td>995</td>\n",
       "      <td>995</td>\n",
       "      <td>995</td>\n",
       "    </tr>\n",
       "    <tr>\n",
       "      <th>160</th>\n",
       "      <td>2333407402024</td>\n",
       "      <td>2023-11-02T02:31:00Z</td>\n",
       "      <td>4.0</td>\n",
       "      <td>262.0</td>\n",
       "      <td>2.0</td>\n",
       "      <td>37.85849</td>\n",
       "      <td>-122.26690</td>\n",
       "      <td>1</td>\n",
       "      <td>1</td>\n",
       "      <td>8</td>\n",
       "      <td>6</td>\n",
       "      <td>995</td>\n",
       "      <td>995</td>\n",
       "      <td>995</td>\n",
       "    </tr>\n",
       "    <tr>\n",
       "      <th>161</th>\n",
       "      <td>2333407402024</td>\n",
       "      <td>2023-11-02T02:31:38Z</td>\n",
       "      <td>14.0</td>\n",
       "      <td>239.0</td>\n",
       "      <td>2.0</td>\n",
       "      <td>37.85838</td>\n",
       "      <td>-122.26789</td>\n",
       "      <td>1</td>\n",
       "      <td>1</td>\n",
       "      <td>8</td>\n",
       "      <td>6</td>\n",
       "      <td>995</td>\n",
       "      <td>995</td>\n",
       "      <td>995</td>\n",
       "    </tr>\n",
       "  </tbody>\n",
       "</table>\n",
       "</div>"
      ],
      "text/plain": [
       "           trip_id          collect_time  accuracy  bearing  speed       lat  \\\n",
       "157  2333407402024  2023-11-02T02:30:10Z      14.0     -1.0   -1.0  37.85953   \n",
       "158  2333407402024  2023-11-02T02:30:52Z      40.0     -1.0   -1.0  37.85855   \n",
       "159  2333407402024  2023-11-02T02:30:58Z      21.0    242.0    1.0  37.85817   \n",
       "160  2333407402024  2023-11-02T02:31:00Z       4.0    262.0    2.0  37.85849   \n",
       "161  2333407402024  2023-11-02T02:31:38Z      14.0    239.0    2.0  37.85838   \n",
       "\n",
       "           lon  o_in_region  d_in_region  mode_type  mode_1  mode_2  mode_3  \\\n",
       "157 -122.26371            1            1          8       6     995     995   \n",
       "158 -122.26670            1            1          8       6     995     995   \n",
       "159 -122.26681            1            1          8       6     995     995   \n",
       "160 -122.26690            1            1          8       6     995     995   \n",
       "161 -122.26789            1            1          8       6     995     995   \n",
       "\n",
       "     mode_4  \n",
       "157     995  \n",
       "158     995  \n",
       "159     995  \n",
       "160     995  \n",
       "161     995  "
      ]
     },
     "execution_count": 27,
     "metadata": {},
     "output_type": "execute_result"
    }
   ],
   "source": [
    "car_trips.head()"
   ]
  },
  {
   "cell_type": "code",
   "execution_count": 28,
   "metadata": {},
   "outputs": [
    {
     "data": {
      "text/plain": [
       "(4419119, 14)"
      ]
     },
     "execution_count": 28,
     "metadata": {},
     "output_type": "execute_result"
    }
   ],
   "source": [
    "car_trips.shape"
   ]
  },
  {
   "cell_type": "code",
   "execution_count": 29,
   "metadata": {},
   "outputs": [],
   "source": [
    "test_list = [\n",
    "    2304076901001, #highway\n",
    "    2333407402028, #highway\n",
    "    2304076901002, #highway\n",
    "    2347455701047, #highway\n",
    "    # 2333407402031, #might be too long\n",
    "    2333407402037,\n",
    "]"
   ]
  },
  {
   "cell_type": "code",
   "execution_count": 30,
   "metadata": {},
   "outputs": [],
   "source": [
    "car_trips_test = car_trips[car_trips['trip_id'].isin(test_list)]"
   ]
  },
  {
   "cell_type": "code",
   "execution_count": 31,
   "metadata": {},
   "outputs": [],
   "source": [
    "# create batch traces\n",
    "batch_traces = create_batch_traces(car_trips_test, trip_id_column=\"trip_id\", xy=True)\n",
    "# batch_traces = create_batch_traces(car_trips, unique_ids, xy=True)"
   ]
  },
  {
   "cell_type": "markdown",
   "metadata": {},
   "source": [
    "## Explore using the LCSS Matcher"
   ]
  },
  {
   "cell_type": "code",
   "execution_count": 35,
   "metadata": {},
   "outputs": [
    {
     "name": "stdout",
     "output_type": "stream",
     "text": [
      "Warning: found 2042 links with no geometry; creating geometries from the node lat/lon\n",
      "Warning: found 2740 links with no geometry; creating geometries from the node lat/lon\n",
      "Warning: found 1178 links with no geometry; creating geometries from the node lat/lon\n",
      "Warning: found 2745 links with no geometry; creating geometries from the node lat/lon\n",
      "Warning: found 1881 links with no geometry; creating geometries from the node lat/lon\n"
     ]
    }
   ],
   "source": [
    "match_result = batch_process_traces(\n",
    "    traces=batch_traces, geofence_buffer=1000, network_type=NetworkType.DRIVE\n",
    ")"
   ]
  },
  {
   "cell_type": "code",
   "execution_count": 21,
   "metadata": {},
   "outputs": [],
   "source": [
    "test_df = concatenate_matched_gdfs(match_result, match_type=\"trace_gdf\")"
   ]
  },
  {
   "cell_type": "code",
   "execution_count": null,
   "metadata": {},
   "outputs": [],
   "source": [
    "match_result[1][\"matched_path_gdf\"].explore()"
   ]
  },
  {
   "cell_type": "code",
   "execution_count": null,
   "metadata": {},
   "outputs": [],
   "source": [
    "match_result[0]['matched_result']"
   ]
  },
  {
   "cell_type": "code",
   "execution_count": null,
   "metadata": {},
   "outputs": [],
   "source": [
    "match_result[0].path_to_dataframe()"
   ]
  },
  {
   "cell_type": "code",
   "execution_count": null,
   "metadata": {},
   "outputs": [],
   "source": [
    "display(match_result[0].path)"
   ]
  },
  {
   "cell_type": "code",
   "execution_count": null,
   "metadata": {},
   "outputs": [],
   "source": [
    "plot_path(match_result[0].path, crs=3857)"
   ]
  },
  {
   "cell_type": "code",
   "execution_count": null,
   "metadata": {},
   "outputs": [],
   "source": [
    "match_result[0].matches_to_dataframe()"
   ]
  },
  {
   "cell_type": "code",
   "execution_count": null,
   "metadata": {},
   "outputs": [],
   "source": [
    "result_df = match_result[0].path_to_dataframe()\n",
    "gpd.GeoDataFrame(result_df, geometry='geom', crs=\"EPSG:3857\").explore()"
   ]
  },
  {
   "cell_type": "code",
   "execution_count": null,
   "metadata": {},
   "outputs": [],
   "source": [
    "# plot the matched results\n",
    "plot_matches(match_result[0])"
   ]
  },
  {
   "cell_type": "code",
   "execution_count": null,
   "metadata": {},
   "outputs": [],
   "source": [
    "# plot the trace, along with the estimated path through the network\n",
    "plot_trace(batch_traces[0], point_color=\"blue\", m=plot_path(match_result[0].path, crs=3857))"
   ]
  },
  {
   "cell_type": "code",
   "execution_count": null,
   "metadata": {},
   "outputs": [],
   "source": [
    "# plot the matched results\n",
    "plot_matches(match_result[1])"
   ]
  },
  {
   "cell_type": "code",
   "execution_count": null,
   "metadata": {},
   "outputs": [],
   "source": [
    "# plot the trace, along with the estimated path through the network\n",
    "plot_trace(batch_traces[1], point_color=\"blue\", m=plot_path(match_result[1].path, crs=3857))"
   ]
  },
  {
   "cell_type": "code",
   "execution_count": null,
   "metadata": {},
   "outputs": [],
   "source": [
    "# plot the matched results\n",
    "plot_matches(match_result[3].matches)"
   ]
  },
  {
   "cell_type": "code",
   "execution_count": null,
   "metadata": {},
   "outputs": [],
   "source": [
    "# plot the trace, along with the estimated path through the network\n",
    "plot_trace(batch_traces[3], point_color=\"blue\", m=plot_path(match_result[3].path, crs=3857))"
   ]
  },
  {
   "cell_type": "code",
   "execution_count": null,
   "metadata": {},
   "outputs": [],
   "source": [
    "# plot the matched results\n",
    "plot_matches(match_result[4].matches)"
   ]
  },
  {
   "cell_type": "code",
   "execution_count": null,
   "metadata": {},
   "outputs": [],
   "source": [
    "# plot the trace, along with the estimated path through the network\n",
    "plot_trace(batch_traces[4], point_color=\"blue\", m=plot_path(match_result[4].path, crs=3857))"
   ]
  },
  {
   "cell_type": "code",
   "execution_count": null,
   "metadata": {},
   "outputs": [],
   "source": [
    "# result_df = match_result.matches_to_dataframe()\n",
    "# result_df"
   ]
  },
  {
   "cell_type": "code",
   "execution_count": null,
   "metadata": {},
   "outputs": [],
   "source": [
    "# gpd.GeoDataFrame(result_df, geometry='geom', crs=\"EPSG:3857\").explore()"
   ]
  },
  {
   "cell_type": "markdown",
   "metadata": {},
   "source": [
    "## Explore the OSRM Matcher"
   ]
  },
  {
   "cell_type": "code",
   "execution_count": null,
   "metadata": {},
   "outputs": [],
   "source": [
    "from mappymatch.matchers.osrm import OsrmMatcher"
   ]
  },
  {
   "cell_type": "code",
   "execution_count": null,
   "metadata": {},
   "outputs": [],
   "source": [
    "matcher = OsrmMatcher()"
   ]
  },
  {
   "cell_type": "code",
   "execution_count": null,
   "metadata": {},
   "outputs": [],
   "source": [
    "# create batch traces in 4326\n",
    "batch_traces_4326 = create_batch_traces(car_trips, test_list, xy=False)"
   ]
  },
  {
   "cell_type": "code",
   "execution_count": null,
   "metadata": {},
   "outputs": [],
   "source": [
    "plot_trace(batch_traces_4326[0], line_color=\"yellow\", point_color=\"black\")"
   ]
  },
  {
   "cell_type": "code",
   "execution_count": null,
   "metadata": {},
   "outputs": [],
   "source": [
    "match_result = matcher.match_trace(batch_traces_4326[0])"
   ]
  },
  {
   "cell_type": "code",
   "execution_count": null,
   "metadata": {},
   "outputs": [],
   "source": [
    "match_result.matches"
   ]
  },
  {
   "cell_type": "code",
   "execution_count": null,
   "metadata": {},
   "outputs": [],
   "source": [
    "# no geometry :( "
   ]
  },
  {
   "cell_type": "code",
   "execution_count": null,
   "metadata": {},
   "outputs": [],
   "source": [
    "# plot_trace(trace, point_color=\"blue\", m=plot_path(match_result.path, crs=3857))"
   ]
  },
  {
   "cell_type": "markdown",
   "metadata": {},
   "source": [
    "## Explore using the Valhalla Matcher"
   ]
  },
  {
   "cell_type": "code",
   "execution_count": null,
   "metadata": {},
   "outputs": [],
   "source": [
    "from mappymatch.matchers.valhalla import ValhallaMatcher"
   ]
  },
  {
   "cell_type": "code",
   "execution_count": null,
   "metadata": {},
   "outputs": [],
   "source": [
    "matcher = ValhallaMatcher(attributes={'edge.length', 'edge.speed', 'edge.names', 'edge.road_class'})"
   ]
  },
  {
   "cell_type": "code",
   "execution_count": null,
   "metadata": {},
   "outputs": [],
   "source": [
    "# trace = Trace.from_geo_dataframe(gdf, xy=False)"
   ]
  },
  {
   "cell_type": "code",
   "execution_count": null,
   "metadata": {},
   "outputs": [],
   "source": [
    "match_result = matcher.match_trace_batch(batch_traces)"
   ]
  },
  {
   "cell_type": "code",
   "execution_count": null,
   "metadata": {},
   "outputs": [],
   "source": [
    "# match_result[9]"
   ]
  },
  {
   "cell_type": "code",
   "execution_count": null,
   "metadata": {},
   "outputs": [],
   "source": [
    "plot_matches(match_result[0].matches, crs=\"EPSG:4326\")"
   ]
  },
  {
   "cell_type": "code",
   "execution_count": null,
   "metadata": {},
   "outputs": [],
   "source": [
    "plot_trace(batch_traces[0], point_color=\"blue\", m=plot_path(match_result[0].path, crs=\"EPSG:4326\"))"
   ]
  },
  {
   "cell_type": "code",
   "execution_count": null,
   "metadata": {},
   "outputs": [],
   "source": [
    "plot_matches(match_result[1].matches, crs=\"EPSG:4326\")"
   ]
  },
  {
   "cell_type": "code",
   "execution_count": null,
   "metadata": {},
   "outputs": [],
   "source": [
    "plot_trace(batch_traces[1], point_color=\"blue\", m=plot_path(match_result[1].path, crs=\"EPSG:4326\"))"
   ]
  },
  {
   "cell_type": "code",
   "execution_count": null,
   "metadata": {},
   "outputs": [],
   "source": [
    "plot_matches(match_result[3].matches, crs=\"EPSG:4326\")"
   ]
  },
  {
   "cell_type": "code",
   "execution_count": null,
   "metadata": {},
   "outputs": [],
   "source": [
    "plot_trace(batch_traces[3], point_color=\"blue\", m=plot_path(match_result[3].path, crs=\"EPSG:4326\"))"
   ]
  },
  {
   "cell_type": "code",
   "execution_count": null,
   "metadata": {},
   "outputs": [],
   "source": [
    "plot_matches(match_result[4].matches, crs=\"EPSG:4326\")"
   ]
  },
  {
   "cell_type": "code",
   "execution_count": null,
   "metadata": {},
   "outputs": [],
   "source": [
    "plot_trace(batch_traces[4], point_color=\"blue\", m=plot_path(match_result[4].path, crs=\"EPSG:4326\"))"
   ]
  },
  {
   "cell_type": "code",
   "execution_count": null,
   "metadata": {},
   "outputs": [],
   "source": []
  }
 ],
 "metadata": {
  "kernelspec": {
   "display_name": "geo_env",
   "language": "python",
   "name": "python3"
  },
  "language_info": {
   "codemirror_mode": {
    "name": "ipython",
    "version": 3
   },
   "file_extension": ".py",
   "mimetype": "text/x-python",
   "name": "python",
   "nbconvert_exporter": "python",
   "pygments_lexer": "ipython3",
   "version": "3.11.7"
  },
  "orig_nbformat": 4,
  "vscode": {
   "interpreter": {
    "hash": "b0351e672468d449b9a2b2a77a6f3fde168803881ee2ea0f06af4f5d40037bc7"
   }
  }
 },
 "nbformat": 4,
 "nbformat_minor": 2
}
