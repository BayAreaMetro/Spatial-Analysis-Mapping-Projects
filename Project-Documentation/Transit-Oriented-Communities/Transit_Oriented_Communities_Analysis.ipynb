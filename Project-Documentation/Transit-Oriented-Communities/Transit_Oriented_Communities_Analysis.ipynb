{
 "cells": [
  {
   "cell_type": "code",
   "execution_count": 1,
   "id": "985ad04b",
   "metadata": {},
   "outputs": [],
   "source": [
    "import os\n",
    "import sys\n",
    "import getpass\n",
    "\n",
    "user = getpass.getuser()\n",
    "sys.dont_write_bytecode = True\n",
    "\n",
    "sys.path.insert(0, '/Users/{}/Box/Utility Code'.format(user))\n",
    "\n",
    "import utils_io as utils\n",
    "import fiona\n",
    "import arcgis as gis\n",
    "import pandas as pd\n",
    "import numpy as np\n",
    "import geopandas as gpd"
   ]
  },
  {
   "cell_type": "code",
   "execution_count": 2,
   "id": "4c5d4d5c",
   "metadata": {},
   "outputs": [],
   "source": [
    "work_dir = os.path.join('/Users',\n",
    "                        user,\n",
    "                       'Box',\n",
    "                       'DataViz Projects',\n",
    "                       'Spatial Analysis and Mapping',\n",
    "                       'TOD TOC Policy Update Mapping')"
   ]
  },
  {
   "cell_type": "code",
   "execution_count": 3,
   "id": "74bb0e4b",
   "metadata": {},
   "outputs": [],
   "source": [
    "toc_fgdb = os.path.join(work_dir, \n",
    "                        'TOD Policy Analysis', \n",
    "                        'TOD Policy Analysis.gdb')"
   ]
  },
  {
   "cell_type": "markdown",
   "id": "1dca2e42",
   "metadata": {},
   "source": [
    "## Pre-processing\n",
    "\n",
    "- Pull General Plan and Zoning Capacity Data (Redshift)\n",
    "- Pull Parcel Geometries (Socrata)\n",
    "- Pull TOC Areas (BAM Portal)"
   ]
  },
  {
   "cell_type": "code",
   "execution_count": 4,
   "id": "93a3678b",
   "metadata": {},
   "outputs": [],
   "source": [
    "pa_parcel_id = '5y7p-4hs4'"
   ]
  },
  {
   "cell_type": "code",
   "execution_count": 5,
   "id": "372ed9a2",
   "metadata": {},
   "outputs": [],
   "source": [
    "# create gdf from toc pda and tra feature class\n",
    "pda_tra_gdf = gpd.read_file(filename=toc_fgdb, \n",
    "                            driver='File GDB', \n",
    "                            layer='TOC_PDA_TRA_epsg4326').to_crs('EPSG:26910')"
   ]
  },
  {
   "cell_type": "code",
   "execution_count": 6,
   "id": "2a5a7f75",
   "metadata": {},
   "outputs": [
    {
     "name": "stdout",
     "output_type": "stream",
     "text": [
      "took 1.8959 minutes\n"
     ]
    }
   ],
   "source": [
    "sql = \"\"\"\n",
    "SELECT\n",
    "  parcel_id,\n",
    "  pa_apn_base as apn,\n",
    "  county_id as pa_county,\n",
    "  jurisdiction_id as pa_jurisdiction,\n",
    "  zn_county,\n",
    "  zn_jurisdiction,\n",
    "  zn_recid,\n",
    "  zn_code,\n",
    "  zn_description,\n",
    "  zn_regional_code,\n",
    "  zn_regional_description,\n",
    "  zn_min_dua,\n",
    "  zn_max_dua,\n",
    "  zn_min_far,\n",
    "  zn_max_far,\n",
    "  gp_recid,\n",
    "  gp_code,\n",
    "  gp_description,\n",
    "  gp_regional_code,\n",
    "  gp_regional_description,\n",
    "  gp_min_dua,\n",
    "  gp_max_dua,\n",
    "  gp_min_far,\n",
    "  gp_max_far\n",
    "FROM\n",
    "  basis_staging.parcel_base_tbl\n",
    "  LEFT JOIN basis_staging.zn_base_tbl USING (zn_recid)\n",
    "  LEFT JOIN basis_staging.zn_base_lot_properties USING (zn_recid)\n",
    "  LEFT JOIN basis_staging.gp_base_tbl Using(gp_recid)\n",
    "  LEFT JOIN basis_staging.gp_base_density Using (gp_recid)\n",
    "\"\"\"\n",
    "    \n",
    "land_use_df = utils.pull_df_from_redshift_sql(sql_statement=sql)"
   ]
  },
  {
   "cell_type": "code",
   "execution_count": 7,
   "id": "4d913318",
   "metadata": {},
   "outputs": [
    {
     "name": "stdout",
     "output_type": "stream",
     "text": [
      "pulling 2055059 rows as geojson\n",
      "took 7.9544 minutes\n"
     ]
    }
   ],
   "source": [
    "# pull parcel atlas parcel data as geojson\n",
    "pa_parcels_geojson = utils.pull_geojson_from_socrata(socrata_data_id=pa_parcel_id)"
   ]
  },
  {
   "cell_type": "code",
   "execution_count": null,
   "id": "b2266b19",
   "metadata": {},
   "outputs": [],
   "source": [
    "# convert parcel atlas parcel data to geodataframe\n",
    "pa_parcels_gdf = gpd.GeoDataFrame.from_features(pa_parcels_geojson, \n",
    "                                               crs='EPSG:4326').to_crs('EPSG:26910')"
   ]
  },
  {
   "cell_type": "code",
   "execution_count": null,
   "id": "7d051d50",
   "metadata": {},
   "outputs": [],
   "source": [
    "# # join parcels to land use data\n",
    "# land_use_gdf = pd.merge(pa_parcels_gdf, \n",
    "#                         land_use_df, \n",
    "#                         how='left', \n",
    "#                         on='parcel_id')"
   ]
  },
  {
   "cell_type": "markdown",
   "id": "86e675bd",
   "metadata": {},
   "source": [
    "## Perform largest area overlay"
   ]
  },
  {
   "cell_type": "code",
   "execution_count": null,
   "id": "dc0e706f",
   "metadata": {},
   "outputs": [],
   "source": []
  }
 ],
 "metadata": {
  "kernelspec": {
   "display_name": "Python 3 (ipykernel)",
   "language": "python",
   "name": "python3"
  },
  "language_info": {
   "codemirror_mode": {
    "name": "ipython",
    "version": 3
   },
   "file_extension": ".py",
   "mimetype": "text/x-python",
   "name": "python",
   "nbconvert_exporter": "python",
   "pygments_lexer": "ipython3",
   "version": "3.9.7"
  }
 },
 "nbformat": 4,
 "nbformat_minor": 5
}
