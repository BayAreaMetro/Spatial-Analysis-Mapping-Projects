{
 "cells": [
  {
   "cell_type": "code",
   "execution_count": 1,
   "id": "985ad04b",
   "metadata": {},
   "outputs": [],
   "source": [
    "import os\n",
    "import sys\n",
    "import getpass\n",
    "\n",
    "user = getpass.getuser()\n",
    "sys.dont_write_bytecode = True\n",
    "\n",
    "sys.path.insert(0, '/Users/{}/Box/Utility Code'.format(user))\n",
    "\n",
    "import utils_io as utils\n",
    "import fiona\n",
    "import arcgis as gis\n",
    "import pandas as pd\n",
    "import numpy as np\n",
    "import geopandas as gpd"
   ]
  },
  {
   "cell_type": "code",
   "execution_count": 2,
   "id": "4c5d4d5c",
   "metadata": {},
   "outputs": [],
   "source": [
    "work_dir = os.path.join('/Users',\n",
    "                        user,\n",
    "                       'Box',\n",
    "                       'DataViz Projects',\n",
    "                       'Spatial Analysis and Mapping',\n",
    "                       'TOD TOC Policy Update Mapping')"
   ]
  },
  {
   "cell_type": "code",
   "execution_count": 3,
   "id": "74bb0e4b",
   "metadata": {},
   "outputs": [],
   "source": [
    "toc_fgdb = os.path.join(work_dir, \n",
    "                        'TOD Policy Analysis', \n",
    "                        'TOD Policy Analysis.gdb')"
   ]
  },
  {
   "cell_type": "markdown",
   "id": "1dca2e42",
   "metadata": {},
   "source": [
    "## Pre-processing\n",
    "\n",
    "- Pull General Plan and Zoning Capacity Data (Redshift)\n",
    "- Pull Parcel Geometries (Socrata)\n",
    "- Pull TOC Areas (BAM Portal)"
   ]
  },
  {
   "cell_type": "code",
   "execution_count": 4,
   "id": "93a3678b",
   "metadata": {},
   "outputs": [],
   "source": [
    "pa_parcel_id = '5y7p-4hs4'"
   ]
  },
  {
   "cell_type": "code",
   "execution_count": 5,
   "id": "372ed9a2",
   "metadata": {},
   "outputs": [],
   "source": [
    "# create gdf from toc pda and tra feature class\n",
    "pda_tra_gdf = gpd.read_file(filename=toc_fgdb, \n",
    "                            driver='File GDB', \n",
    "                            layer='TOC_PDA_TRA_epsg4326').to_crs('EPSG:26910')"
   ]
  },
  {
   "cell_type": "code",
   "execution_count": 6,
   "id": "2a5a7f75",
   "metadata": {},
   "outputs": [
    {
     "name": "stdout",
     "output_type": "stream",
     "text": [
      "took 1.7878 minutes\n"
     ]
    }
   ],
   "source": [
    "sql = \"\"\"\n",
    "SELECT\n",
    "  parcel_id,\n",
    "  pa_apn_base as apn,\n",
    "  county_id as pa_county,\n",
    "  jurisdiction_id as pa_jurisdiction,\n",
    "  zn_county,\n",
    "  zn_jurisdiction,\n",
    "  zn_recid,\n",
    "  zn_code,\n",
    "  zn_description,\n",
    "  zn_regional_code,\n",
    "  zn_regional_description,\n",
    "  zn_min_dua,\n",
    "  zn_max_dua,\n",
    "  zn_min_far,\n",
    "  zn_max_far,\n",
    "  gp_recid,\n",
    "  gp_code,\n",
    "  gp_description,\n",
    "  gp_regional_code,\n",
    "  gp_regional_description,\n",
    "  gp_min_dua,\n",
    "  gp_max_dua,\n",
    "  gp_min_far,\n",
    "  gp_max_far\n",
    "FROM\n",
    "  basis_staging.parcel_base_tbl\n",
    "  LEFT JOIN basis_staging.zn_base_tbl USING (zn_recid)\n",
    "  LEFT JOIN basis_staging.zn_base_lot_properties USING (zn_recid)\n",
    "  LEFT JOIN basis_staging.gp_base_tbl Using(gp_recid)\n",
    "  LEFT JOIN basis_staging.gp_base_density Using (gp_recid)\n",
    "\"\"\"\n",
    "    \n",
    "land_use_df = utils.pull_df_from_redshift_sql(sql_statement=sql)"
   ]
  },
  {
   "cell_type": "code",
   "execution_count": 7,
   "id": "4d913318",
   "metadata": {},
   "outputs": [
    {
     "name": "stdout",
     "output_type": "stream",
     "text": [
      "pulling 2055059 rows as geojson\n",
      "took 5.0689 minutes\n"
     ]
    }
   ],
   "source": [
    "# pull parcel atlas parcel data as geojson\n",
    "pa_parcels_geojson = utils.pull_geojson_from_socrata(socrata_data_id=pa_parcel_id)"
   ]
  },
  {
   "cell_type": "code",
   "execution_count": 8,
   "id": "b2266b19",
   "metadata": {},
   "outputs": [],
   "source": [
    "# convert parcel atlas parcel data to geodataframe\n",
    "pa_parcels_gdf = gpd.GeoDataFrame.from_features(pa_parcels_geojson, \n",
    "                                               crs='EPSG:4326').to_crs('EPSG:26910')"
   ]
  },
  {
   "cell_type": "code",
   "execution_count": 9,
   "id": "7d051d50",
   "metadata": {},
   "outputs": [],
   "source": [
    "# # join parcels to land use data\n",
    "# land_use_gdf = pd.merge(pa_parcels_gdf, \n",
    "#                         land_use_df, \n",
    "#                         how='left', \n",
    "#                         on='parcel_id')"
   ]
  },
  {
   "cell_type": "markdown",
   "id": "86e675bd",
   "metadata": {},
   "source": [
    "## Perform largest area overlay"
   ]
  },
  {
   "cell_type": "code",
   "execution_count": 10,
   "id": "dc0e706f",
   "metadata": {},
   "outputs": [
    {
     "name": "stdout",
     "output_type": "stream",
     "text": [
      "took 7.2504 minutes\n"
     ]
    }
   ],
   "source": [
    "overlay_fields = [\n",
    "    'jurisdicti',\n",
    "    'designatio',\n",
    "    'area_name',\n",
    "    'gg_acres',\n",
    "    'pba2050_transit_investment'\n",
    "]\n",
    "parcels_pda_tra_overlay = utils.geo_assign_fields(id_df=pa_parcels_gdf, \n",
    "                                                  id_field='parcel_id', \n",
    "                                                  overlay_df=pda_tra_gdf, \n",
    "                                                  overlay_fields=overlay_fields)"
   ]
  },
  {
   "cell_type": "code",
   "execution_count": 15,
   "id": "397908df",
   "metadata": {},
   "outputs": [],
   "source": [
    "overlay_inner = parcels_pda_tra_overlay[parcels_pda_tra_overlay['jurisdicti'].notnull()].copy()"
   ]
  },
  {
   "cell_type": "code",
   "execution_count": 16,
   "id": "ecd7422f",
   "metadata": {},
   "outputs": [
    {
     "data": {
      "text/html": [
       "<div>\n",
       "<style scoped>\n",
       "    .dataframe tbody tr th:only-of-type {\n",
       "        vertical-align: middle;\n",
       "    }\n",
       "\n",
       "    .dataframe tbody tr th {\n",
       "        vertical-align: top;\n",
       "    }\n",
       "\n",
       "    .dataframe thead th {\n",
       "        text-align: right;\n",
       "    }\n",
       "</style>\n",
       "<table border=\"1\" class=\"dataframe\">\n",
       "  <thead>\n",
       "    <tr style=\"text-align: right;\">\n",
       "      <th></th>\n",
       "      <th>parcel_id</th>\n",
       "      <th>jurisdicti</th>\n",
       "      <th>designatio</th>\n",
       "      <th>area_name</th>\n",
       "      <th>gg_acres</th>\n",
       "      <th>pba2050_transit_investment</th>\n",
       "    </tr>\n",
       "  </thead>\n",
       "  <tbody>\n",
       "    <tr>\n",
       "      <th>2069</th>\n",
       "      <td>-121p69584X37p98836X</td>\n",
       "      <td>Oakley</td>\n",
       "      <td>Priority Development Area</td>\n",
       "      <td>Potential Planning Area</td>\n",
       "      <td>232.443156</td>\n",
       "      <td>No Planned Investments</td>\n",
       "    </tr>\n",
       "    <tr>\n",
       "      <th>11386</th>\n",
       "      <td>-121p69668X37p94918X</td>\n",
       "      <td>Brentwood</td>\n",
       "      <td>Priority Development Area</td>\n",
       "      <td>Brentwood Blvd</td>\n",
       "      <td>312.158014</td>\n",
       "      <td>No Planned Investments</td>\n",
       "    </tr>\n",
       "    <tr>\n",
       "      <th>13453</th>\n",
       "      <td>-121p69732X37p94945X</td>\n",
       "      <td>Brentwood</td>\n",
       "      <td>Priority Development Area</td>\n",
       "      <td>Brentwood Blvd</td>\n",
       "      <td>312.158014</td>\n",
       "      <td>No Planned Investments</td>\n",
       "    </tr>\n",
       "    <tr>\n",
       "      <th>13526</th>\n",
       "      <td>-121p69732X37p94918X</td>\n",
       "      <td>Brentwood</td>\n",
       "      <td>Priority Development Area</td>\n",
       "      <td>Brentwood Blvd</td>\n",
       "      <td>312.158014</td>\n",
       "      <td>No Planned Investments</td>\n",
       "    </tr>\n",
       "    <tr>\n",
       "      <th>13630</th>\n",
       "      <td>-121p69716X37p94891X</td>\n",
       "      <td>Brentwood</td>\n",
       "      <td>Priority Development Area</td>\n",
       "      <td>Brentwood Blvd</td>\n",
       "      <td>312.158014</td>\n",
       "      <td>No Planned Investments</td>\n",
       "    </tr>\n",
       "    <tr>\n",
       "      <th>...</th>\n",
       "      <td>...</td>\n",
       "      <td>...</td>\n",
       "      <td>...</td>\n",
       "      <td>...</td>\n",
       "      <td>...</td>\n",
       "      <td>...</td>\n",
       "    </tr>\n",
       "    <tr>\n",
       "      <th>2054810</th>\n",
       "      <td>-122p24052X38p08500X</td>\n",
       "      <td>Vallejo</td>\n",
       "      <td>Priority Development Area</td>\n",
       "      <td>Carquinez Heights PDA</td>\n",
       "      <td>375.147798</td>\n",
       "      <td>Planned Investments</td>\n",
       "    </tr>\n",
       "    <tr>\n",
       "      <th>2054817</th>\n",
       "      <td>-122p24991X38p13519X</td>\n",
       "      <td>Vallejo</td>\n",
       "      <td>Priority Development Area</td>\n",
       "      <td>Central Corridor East PDA</td>\n",
       "      <td>936.382867</td>\n",
       "      <td>Planned Investments</td>\n",
       "    </tr>\n",
       "    <tr>\n",
       "      <th>2054818</th>\n",
       "      <td>-122p25877X38p11295X</td>\n",
       "      <td>Vallejo</td>\n",
       "      <td>Priority Development Area</td>\n",
       "      <td>Central Corridor West PDA</td>\n",
       "      <td>288.457839</td>\n",
       "      <td>Planned Investments</td>\n",
       "    </tr>\n",
       "    <tr>\n",
       "      <th>2054820</th>\n",
       "      <td>-122p25567X38p11460X</td>\n",
       "      <td>Vallejo</td>\n",
       "      <td>Priority Development Area</td>\n",
       "      <td>Central Corridor West PDA</td>\n",
       "      <td>288.457839</td>\n",
       "      <td>Planned Investments</td>\n",
       "    </tr>\n",
       "    <tr>\n",
       "      <th>2054830</th>\n",
       "      <td>-122p04297X38p24401X</td>\n",
       "      <td>Fairfield</td>\n",
       "      <td>Priority Development Area</td>\n",
       "      <td>Heart of Fairfield</td>\n",
       "      <td>633.068996</td>\n",
       "      <td>Planned Investments</td>\n",
       "    </tr>\n",
       "  </tbody>\n",
       "</table>\n",
       "<p>507433 rows × 6 columns</p>\n",
       "</div>"
      ],
      "text/plain": [
       "                    parcel_id jurisdicti                 designatio  \\\n",
       "2069     -121p69584X37p98836X     Oakley  Priority Development Area   \n",
       "11386    -121p69668X37p94918X  Brentwood  Priority Development Area   \n",
       "13453    -121p69732X37p94945X  Brentwood  Priority Development Area   \n",
       "13526    -121p69732X37p94918X  Brentwood  Priority Development Area   \n",
       "13630    -121p69716X37p94891X  Brentwood  Priority Development Area   \n",
       "...                       ...        ...                        ...   \n",
       "2054810  -122p24052X38p08500X    Vallejo  Priority Development Area   \n",
       "2054817  -122p24991X38p13519X    Vallejo  Priority Development Area   \n",
       "2054818  -122p25877X38p11295X    Vallejo  Priority Development Area   \n",
       "2054820  -122p25567X38p11460X    Vallejo  Priority Development Area   \n",
       "2054830  -122p04297X38p24401X  Fairfield  Priority Development Area   \n",
       "\n",
       "                         area_name    gg_acres pba2050_transit_investment  \n",
       "2069       Potential Planning Area  232.443156     No Planned Investments  \n",
       "11386               Brentwood Blvd  312.158014     No Planned Investments  \n",
       "13453               Brentwood Blvd  312.158014     No Planned Investments  \n",
       "13526               Brentwood Blvd  312.158014     No Planned Investments  \n",
       "13630               Brentwood Blvd  312.158014     No Planned Investments  \n",
       "...                            ...         ...                        ...  \n",
       "2054810      Carquinez Heights PDA  375.147798        Planned Investments  \n",
       "2054817  Central Corridor East PDA  936.382867        Planned Investments  \n",
       "2054818  Central Corridor West PDA  288.457839        Planned Investments  \n",
       "2054820  Central Corridor West PDA  288.457839        Planned Investments  \n",
       "2054830         Heart of Fairfield  633.068996        Planned Investments  \n",
       "\n",
       "[507433 rows x 6 columns]"
      ]
     },
     "execution_count": 16,
     "metadata": {},
     "output_type": "execute_result"
    }
   ],
   "source": [
    "overlay_inner"
   ]
  },
  {
   "cell_type": "markdown",
   "id": "512cee2b",
   "metadata": {},
   "source": [
    "## Merge parcel geometry and land use attrs"
   ]
  },
  {
   "cell_type": "code",
   "execution_count": 17,
   "id": "2b5a9ba4",
   "metadata": {},
   "outputs": [
    {
     "name": "stdout",
     "output_type": "stream",
     "text": [
      "<class 'geopandas.geodataframe.GeoDataFrame'>\n",
      "RangeIndex: 2055059 entries, 0 to 2055058\n",
      "Data columns (total 9 columns):\n",
      " #   Column        Dtype   \n",
      "---  ------        -----   \n",
      " 0   geometry      geometry\n",
      " 1   jurisdiction  object  \n",
      " 2   parcel_type   object  \n",
      " 3   city_soi      object  \n",
      " 4   x_26910       object  \n",
      " 5   county        object  \n",
      " 6   geo_id        object  \n",
      " 7   parcel_id     object  \n",
      " 8   y_26910       object  \n",
      "dtypes: geometry(1), object(8)\n",
      "memory usage: 141.1+ MB\n"
     ]
    }
   ],
   "source": [
    "pa_parcels_gdf.info()"
   ]
  },
  {
   "cell_type": "code",
   "execution_count": 18,
   "id": "b6fac6e6",
   "metadata": {},
   "outputs": [],
   "source": [
    "overlay_gdf = pd.merge(pa_parcels_gdf[['parcel_id','geometry']], \n",
    "                       overlay_inner, \n",
    "                       how='inner', \n",
    "                       on='parcel_id')"
   ]
  },
  {
   "cell_type": "code",
   "execution_count": 21,
   "id": "fd026795",
   "metadata": {},
   "outputs": [],
   "source": [
    "lu_overlay_gdf = pd.merge(overlay_gdf, \n",
    "                          land_use_df, \n",
    "                          how='inner', \n",
    "                          on='parcel_id')"
   ]
  },
  {
   "cell_type": "markdown",
   "id": "adc5befc",
   "metadata": {},
   "source": [
    "## Calculate far and dua capacity"
   ]
  },
  {
   "cell_type": "code",
   "execution_count": 56,
   "id": "07a48d5d",
   "metadata": {},
   "outputs": [],
   "source": [
    "def set_capacity_source_col(row, capacity_type):\n",
    "    if capacity_type == 'residential':\n",
    "        gp_capacity_col = 'gp_max_dua'\n",
    "        zn_capacity_col = 'zn_max_dua'\n",
    "    elif capacity_type == 'commercial':\n",
    "        gp_capacity_col = 'gp_max_far'\n",
    "        zn_capacity_col = 'zn_max_far'\n",
    "    \n",
    "    if ((pd.isnull(row[zn_capacity_col]) | (row[zn_capacity_col] <= 0)) & \n",
    "        (pd.isnull(row[gp_capacity_col]) | (row[gp_capacity_col] <= 0))):\n",
    "        return 'Missing Capacity'\n",
    "    elif (pd.isnull(row[zn_capacity_col]) | (row[zn_capacity_col] <= 0)) & (row[gp_capacity_col] > 0):\n",
    "        return 'General Plan'\n",
    "    else:\n",
    "        return 'Zoning'"
   ]
  },
  {
   "cell_type": "code",
   "execution_count": 78,
   "id": "ad7eaeeb",
   "metadata": {},
   "outputs": [],
   "source": [
    "def calculate_total_capacity(row, capacity_type):\n",
    "    if capacity_type == 'residential':\n",
    "        gp_capacity_col = 'gp_max_dua'\n",
    "        zn_capacity_col = 'zn_max_dua'\n",
    "        capacity_source = 'res_capacity_source'\n",
    "    elif capacity_type == 'commercial':\n",
    "        gp_capacity_col = 'gp_max_far'\n",
    "        zn_capacity_col = 'zn_max_far'\n",
    "        capacity_source = 'comm_capacity_source'\n",
    "        \n",
    "    if row[capacity_source] == 'Missing Capacity':\n",
    "        return 0\n",
    "    elif row[capacity_source] == 'Zoning':\n",
    "        return (row[zn_capacity_col] * row['parcel_acres'])\n",
    "    else:\n",
    "        return (row[gp_capacity_col] * row['parcel_acres'])"
   ]
  },
  {
   "cell_type": "code",
   "execution_count": 58,
   "id": "82b06e21",
   "metadata": {},
   "outputs": [],
   "source": [
    "lu_overlay_gdf['parcel_acres'] = (lu_overlay_gdf.geometry.area / 4046.85642)"
   ]
  },
  {
   "cell_type": "code",
   "execution_count": 59,
   "id": "dae63344",
   "metadata": {},
   "outputs": [],
   "source": [
    "# set source for residential capacity\n",
    "lu_overlay_gdf['res_capacity_source'] = lu_overlay_gdf.apply(lambda row: set_capacity_source_col(row, 'residential'), \n",
    "                                                             axis=1)"
   ]
  },
  {
   "cell_type": "code",
   "execution_count": 71,
   "id": "b968a92e",
   "metadata": {},
   "outputs": [],
   "source": [
    "# set source for commercial capacity\n",
    "lu_overlay_gdf['comm_capacity_source'] = lu_overlay_gdf.apply(lambda row: set_capacity_source_col(row, 'commercial'), \n",
    "                                                             axis=1)"
   ]
  },
  {
   "cell_type": "code",
   "execution_count": 79,
   "id": "8fd991c2",
   "metadata": {},
   "outputs": [],
   "source": [
    "# set residential capacity\n",
    "lu_overlay_gdf['res_total_capacity'] = lu_overlay_gdf.apply(lambda row: calculate_total_capacity(row, 'residential'), \n",
    "                                                            axis=1)"
   ]
  },
  {
   "cell_type": "code",
   "execution_count": 80,
   "id": "fc25b59a",
   "metadata": {},
   "outputs": [],
   "source": [
    "# set commercial capacity\n",
    "lu_overlay_gdf['comm_total_capacity'] = lu_overlay_gdf.apply(lambda row: calculate_total_capacity(row, 'commercial'), \n",
    "                                                            axis=1)"
   ]
  },
  {
   "cell_type": "markdown",
   "id": "9b10e339",
   "metadata": {},
   "source": [
    "## Export data"
   ]
  },
  {
   "cell_type": "code",
   "execution_count": 84,
   "id": "a0498536",
   "metadata": {},
   "outputs": [],
   "source": [
    "out_cols = [\n",
    "    'parcel_id',\n",
    "    'jurisdicti',\n",
    "    'designatio',\n",
    "    'area_name',\n",
    "    'pba2050_transit_investment',\n",
    "    'apn',\n",
    "    'pa_county',\n",
    "    'pa_jurisdiction',\n",
    "    'zn_code',\n",
    "    'zn_description',\n",
    "    'zn_regional_code',\n",
    "    'zn_regional_description',\n",
    "    'zn_max_dua',\n",
    "    'zn_max_far',\n",
    "    'gp_code',\n",
    "    'gp_description',\n",
    "    'gp_regional_code',\n",
    "    'gp_regional_description',\n",
    "    'gp_max_dua',\n",
    "    'gp_max_far',\n",
    "    'parcel_acres',\n",
    "    'res_capacity_source',\n",
    "    'comm_capacity_source',\n",
    "    'res_total_capacity',\n",
    "    'comm_total_capacity'\n",
    "]\n",
    "lu_overlay_gdf[out_cols].to_csv(os.path.join(work_dir, 'Data Outputs', 'toc_res_comm_capacity_4_18_22.csv'), \n",
    "                                index=False)"
   ]
  },
  {
   "cell_type": "code",
   "execution_count": 88,
   "id": "74b92411",
   "metadata": {},
   "outputs": [
    {
     "name": "stderr",
     "output_type": "stream",
     "text": [
      "/Users/jcroff/anaconda3/envs/geo_env/lib/python3.9/site-packages/geopandas/io/file.py:362: FutureWarning: pandas.Int64Index is deprecated and will be removed from pandas in a future version. Use pandas.Index with the appropriate dtype instead.\n",
      "  pd.Int64Index,\n"
     ]
    }
   ],
   "source": [
    "geo_out_cols = [\n",
    "    'parcel_id',\n",
    "    'jurisdicti',\n",
    "    'designatio',\n",
    "    'area_name',\n",
    "    'pba2050_transit_investment',\n",
    "    'apn',\n",
    "    'pa_county',\n",
    "    'pa_jurisdiction',\n",
    "    'zn_code',\n",
    "    'zn_description',\n",
    "    'zn_regional_code',\n",
    "    'zn_regional_description',\n",
    "    'zn_max_dua',\n",
    "    'zn_max_far',\n",
    "    'gp_code',\n",
    "    'gp_description',\n",
    "    'gp_regional_code',\n",
    "    'gp_regional_description',\n",
    "    'gp_max_dua',\n",
    "    'gp_max_far',\n",
    "    'parcel_acres',\n",
    "    'res_capacity_source',\n",
    "    'comm_capacity_source',\n",
    "    'res_total_capacity',\n",
    "    'comm_total_capacity',\n",
    "    'geometry'\n",
    "]\n",
    "lu_overlay_gdf[geo_out_cols].to_file(os.path.join(work_dir, 'Data Outputs', 'toc_res_comm_capacity_4_18_22.geojson'), \n",
    "                                 Driver='GeoJSON')"
   ]
  },
  {
   "cell_type": "code",
   "execution_count": null,
   "id": "7551c827",
   "metadata": {},
   "outputs": [],
   "source": []
  }
 ],
 "metadata": {
  "kernelspec": {
   "display_name": "Python 3 (ipykernel)",
   "language": "python",
   "name": "python3"
  },
  "language_info": {
   "codemirror_mode": {
    "name": "ipython",
    "version": 3
   },
   "file_extension": ".py",
   "mimetype": "text/x-python",
   "name": "python",
   "nbconvert_exporter": "python",
   "pygments_lexer": "ipython3",
   "version": "3.9.7"
  }
 },
 "nbformat": 4,
 "nbformat_minor": 5
}
