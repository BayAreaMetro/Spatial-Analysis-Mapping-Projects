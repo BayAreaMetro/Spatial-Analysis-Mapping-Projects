{
 "cells": [
  {
   "cell_type": "code",
   "execution_count": 1,
   "id": "e0b62a0e",
   "metadata": {},
   "outputs": [],
   "source": [
    "import sys\n",
    "import getpass\n",
    "import os\n",
    "import pandas as pd\n",
    "import fiona\n",
    "import geopandas as gpd\n",
    "from arcgis import gis\n",
    "import requests\n",
    "username = getpass.getuser()\n",
    "\n",
    "user = getpass.getuser()\n",
    "sys.dont_write_bytecode = True\n",
    "\n",
    "# for DataViz team members\n",
    "sys.path.insert(0, '/Users/{}/Box/DataViz Projects/Utility Code'.format(user))\n",
    "\n",
    "from utils_io import *"
   ]
  },
  {
   "cell_type": "code",
   "execution_count": 2,
   "id": "e76936a7",
   "metadata": {},
   "outputs": [],
   "source": [
    "data_dir = 'data'\n",
    "data_output_dir = 'data/geojson'"
   ]
  },
  {
   "cell_type": "code",
   "execution_count": 3,
   "id": "3538d2bc",
   "metadata": {},
   "outputs": [
    {
     "name": "stdout",
     "output_type": "stream",
     "text": [
      "Enter password: ········\n"
     ]
    }
   ],
   "source": [
    "client = gis.GIS(url='https://arcgis.ad.mtc.ca.gov/portal/home/',username=username,verify_cert=False)"
   ]
  },
  {
   "cell_type": "markdown",
   "id": "118a9d8d",
   "metadata": {},
   "source": [
    "## Read jurisdiction boundary fc"
   ]
  },
  {
   "cell_type": "code",
   "execution_count": 4,
   "id": "1bb95a69",
   "metadata": {},
   "outputs": [],
   "source": [
    "ba_cty_gdf = gpd.read_file(os.path.join(data_dir,'Jurisdiction_Boundary_Database.gdb'),\n",
    "                             driver='FileGDB',\n",
    "                             layer='Bay_Area_Counties_TIGER_2020')"
   ]
  },
  {
   "cell_type": "markdown",
   "id": "195b0b9b",
   "metadata": {},
   "source": [
    "## Create single-family zoning dataset"
   ]
  },
  {
   "cell_type": "code",
   "execution_count": 12,
   "id": "a005ec75",
   "metadata": {},
   "outputs": [
    {
     "name": "stdout",
     "output_type": "stream",
     "text": [
      "pulling 2062822 rows as geojson\n",
      "took 8.9484 minutes\n"
     ]
    }
   ],
   "source": [
    "#Read parcels from socrata\n",
    "parcels_geojson = pull_geojson_from_socrata('a9e8-6mw3')"
   ]
  },
  {
   "cell_type": "code",
   "execution_count": 13,
   "id": "341db1e6",
   "metadata": {},
   "outputs": [],
   "source": [
    "#Create parcels gdf from geojson\n",
    "parcels_gdf = gpd.GeoDataFrame.from_features(parcels_geojson['features'],\n",
    "                                             crs='EPSG:4326')"
   ]
  },
  {
   "cell_type": "code",
   "execution_count": 3,
   "id": "1c560a58",
   "metadata": {},
   "outputs": [
    {
     "name": "stdout",
     "output_type": "stream",
     "text": [
      "took 36.513 seconds\n"
     ]
    }
   ],
   "source": [
    "#Pull zoning and parcel base table from redshift\n",
    "sql = \"\"\"\n",
    "SELECT a.*,b.geo_id_pa,b.zn_recid \n",
    "from basis_staging.zn_base_tbl a \n",
    "join basis_staging.parcel_base_tbl b ON a.zn_recid = b.zn_recid \n",
    "where zn_regional_code = 2\n",
    "\"\"\"\n",
    "zoning = pull_df_from_redshift_sql(sql_statement=sql)"
   ]
  },
  {
   "cell_type": "code",
   "execution_count": 4,
   "id": "a66cb9b0",
   "metadata": {},
   "outputs": [],
   "source": [
    "#Remove duplicated column\n",
    "zoning = zoning.loc[:,~zoning.columns.duplicated()]"
   ]
  },
  {
   "cell_type": "code",
   "execution_count": 5,
   "id": "8404c3b0",
   "metadata": {},
   "outputs": [
    {
     "name": "stdout",
     "output_type": "stream",
     "text": [
      "<class 'pandas.core.frame.DataFrame'>\n",
      "RangeIndex: 1050999 entries, 0 to 1050998\n",
      "Data columns (total 16 columns):\n",
      " #   Column                   Non-Null Count    Dtype  \n",
      "---  ------                   --------------    -----  \n",
      " 0   zn_recid                 1050999 non-null  object \n",
      " 1   zn_code                  1050999 non-null  object \n",
      " 2   zn_description           811971 non-null   object \n",
      " 3   zn_regional_code         1050999 non-null  float64\n",
      " 4   zn_regional_description  1050999 non-null  object \n",
      " 5   zn_code_basis_url        1034222 non-null  object \n",
      " 6   zn_code_map_url          1031438 non-null  object \n",
      " 7   zn_effective_date        0 non-null        object \n",
      " 8   zn_map_color             153552 non-null   object \n",
      " 9   zn_county                1050999 non-null  object \n",
      " 10  zn_jurisdiction          1034222 non-null  object \n",
      " 11  allows_residential       1050999 non-null  float64\n",
      " 12  editor_id                1050999 non-null  object \n",
      " 13  last_edited              1050999 non-null  object \n",
      " 14  edit_version             1050999 non-null  object \n",
      " 15  geo_id_pa                1050999 non-null  object \n",
      "dtypes: float64(2), object(14)\n",
      "memory usage: 128.3+ MB\n"
     ]
    }
   ],
   "source": [
    "zoning.info()"
   ]
  },
  {
   "cell_type": "code",
   "execution_count": 32,
   "id": "2142da4d",
   "metadata": {},
   "outputs": [],
   "source": [
    "#Join parcels to zoning \n",
    "parcels_zoning = pd.merge(parcels_gdf,\n",
    "                          zoning,\n",
    "                          left_on='geo_id',\n",
    "                          right_on='geo_id_pa',\n",
    "                          how='outer',\n",
    "                          indicator=True)"
   ]
  },
  {
   "cell_type": "code",
   "execution_count": 33,
   "id": "d7a7aedc",
   "metadata": {},
   "outputs": [
    {
     "name": "stdout",
     "output_type": "stream",
     "text": [
      "<class 'geopandas.geodataframe.GeoDataFrame'>\n",
      "Int64Index: 2089639 entries, 0 to 2089638\n",
      "Data columns (total 26 columns):\n",
      " #   Column                   Dtype   \n",
      "---  ------                   -----   \n",
      " 0   geometry                 geometry\n",
      " 1   jurisdiction             object  \n",
      " 2   y_3857                   object  \n",
      " 3   parcel_type              object  \n",
      " 4   city_soi                 object  \n",
      " 5   county                   object  \n",
      " 6   geo_id                   object  \n",
      " 7   x_3857                   object  \n",
      " 8   parcel_id                object  \n",
      " 9   zn_recid                 object  \n",
      " 10  zn_code                  object  \n",
      " 11  zn_description           object  \n",
      " 12  zn_regional_code         float64 \n",
      " 13  zn_regional_description  object  \n",
      " 14  zn_code_basis_url        object  \n",
      " 15  zn_code_map_url          object  \n",
      " 16  zn_effective_date        object  \n",
      " 17  zn_map_color             object  \n",
      " 18  zn_county                object  \n",
      " 19  zn_jurisdiction          object  \n",
      " 20  allows_residential       float64 \n",
      " 21  editor_id                object  \n",
      " 22  last_edited              object  \n",
      " 23  edit_version             object  \n",
      " 24  geo_id_pa                object  \n",
      " 25  _merge                   category\n",
      "dtypes: category(1), float64(2), geometry(1), object(22)\n",
      "memory usage: 416.5+ MB\n"
     ]
    }
   ],
   "source": [
    "parcels_zoning.info()"
   ]
  },
  {
   "cell_type": "code",
   "execution_count": 37,
   "id": "a137e50e",
   "metadata": {},
   "outputs": [],
   "source": [
    "single_fam_by_jurs = zoning.groupby(['zn_county','zn_jurisdiction']).size().sort_values().reset_index()"
   ]
  },
  {
   "cell_type": "code",
   "execution_count": 39,
   "id": "04a232bc",
   "metadata": {},
   "outputs": [],
   "source": [
    "single_fam_by_jurs.to_csv('data/single_family_parcels_by_jurisdiction.csv')"
   ]
  },
  {
   "cell_type": "code",
   "execution_count": 30,
   "id": "d38b6943",
   "metadata": {},
   "outputs": [
    {
     "data": {
      "text/html": [
       "<div>\n",
       "<style scoped>\n",
       "    .dataframe tbody tr th:only-of-type {\n",
       "        vertical-align: middle;\n",
       "    }\n",
       "\n",
       "    .dataframe tbody tr th {\n",
       "        vertical-align: top;\n",
       "    }\n",
       "\n",
       "    .dataframe thead th {\n",
       "        text-align: right;\n",
       "    }\n",
       "</style>\n",
       "<table border=\"1\" class=\"dataframe\">\n",
       "  <thead>\n",
       "    <tr style=\"text-align: right;\">\n",
       "      <th></th>\n",
       "      <th>zn_jurisdiction</th>\n",
       "      <th>0</th>\n",
       "    </tr>\n",
       "  </thead>\n",
       "  <tbody>\n",
       "    <tr>\n",
       "      <th>3</th>\n",
       "      <td>Yountville</td>\n",
       "      <td>430</td>\n",
       "    </tr>\n",
       "  </tbody>\n",
       "</table>\n",
       "</div>"
      ],
      "text/plain": [
       "  zn_jurisdiction    0\n",
       "3      Yountville  430"
      ]
     },
     "execution_count": 30,
     "metadata": {},
     "output_type": "execute_result"
    }
   ],
   "source": [
    "single_fam_by_jurs[single_fam_by_jurs['zn_jurisdiction'] == 'Yountville']"
   ]
  },
  {
   "cell_type": "code",
   "execution_count": 31,
   "id": "35961002",
   "metadata": {},
   "outputs": [
    {
     "data": {
      "text/plain": [
       "(2, 26)"
      ]
     },
     "execution_count": 31,
     "metadata": {},
     "output_type": "execute_result"
    }
   ],
   "source": [
    "parcels_zoning[(parcels_zoning['zn_jurisdiction'] == 'Yountville') & \n",
    "               (parcels_zoning['zn_regional_code'] == 2)].shape"
   ]
  },
  {
   "cell_type": "code",
   "execution_count": 41,
   "id": "c2347b77",
   "metadata": {},
   "outputs": [
    {
     "data": {
      "text/html": [
       "<div>\n",
       "<style scoped>\n",
       "    .dataframe tbody tr th:only-of-type {\n",
       "        vertical-align: middle;\n",
       "    }\n",
       "\n",
       "    .dataframe tbody tr th {\n",
       "        vertical-align: top;\n",
       "    }\n",
       "\n",
       "    .dataframe thead th {\n",
       "        text-align: right;\n",
       "    }\n",
       "</style>\n",
       "<table border=\"1\" class=\"dataframe\">\n",
       "  <thead>\n",
       "    <tr style=\"text-align: right;\">\n",
       "      <th></th>\n",
       "      <th>zn_jurisdiction</th>\n",
       "      <th>_merge</th>\n",
       "      <th>0</th>\n",
       "    </tr>\n",
       "  </thead>\n",
       "  <tbody>\n",
       "    <tr>\n",
       "      <th>0</th>\n",
       "      <td>Calistoga</td>\n",
       "      <td>left_only</td>\n",
       "      <td>0</td>\n",
       "    </tr>\n",
       "    <tr>\n",
       "      <th>1</th>\n",
       "      <td>Napa</td>\n",
       "      <td>left_only</td>\n",
       "      <td>0</td>\n",
       "    </tr>\n",
       "    <tr>\n",
       "      <th>2</th>\n",
       "      <td>St Helena</td>\n",
       "      <td>left_only</td>\n",
       "      <td>0</td>\n",
       "    </tr>\n",
       "    <tr>\n",
       "      <th>3</th>\n",
       "      <td>St Helena</td>\n",
       "      <td>both</td>\n",
       "      <td>0</td>\n",
       "    </tr>\n",
       "    <tr>\n",
       "      <th>4</th>\n",
       "      <td>Unincorporated Napa</td>\n",
       "      <td>left_only</td>\n",
       "      <td>0</td>\n",
       "    </tr>\n",
       "    <tr>\n",
       "      <th>5</th>\n",
       "      <td>Yountville</td>\n",
       "      <td>left_only</td>\n",
       "      <td>0</td>\n",
       "    </tr>\n",
       "    <tr>\n",
       "      <th>6</th>\n",
       "      <td>Calistoga</td>\n",
       "      <td>both</td>\n",
       "      <td>2</td>\n",
       "    </tr>\n",
       "    <tr>\n",
       "      <th>7</th>\n",
       "      <td>Yountville</td>\n",
       "      <td>both</td>\n",
       "      <td>2</td>\n",
       "    </tr>\n",
       "    <tr>\n",
       "      <th>8</th>\n",
       "      <td>Unincorporated Napa</td>\n",
       "      <td>both</td>\n",
       "      <td>11</td>\n",
       "    </tr>\n",
       "    <tr>\n",
       "      <th>9</th>\n",
       "      <td>Napa</td>\n",
       "      <td>both</td>\n",
       "      <td>64</td>\n",
       "    </tr>\n",
       "    <tr>\n",
       "      <th>10</th>\n",
       "      <td>St Helena</td>\n",
       "      <td>right_only</td>\n",
       "      <td>172</td>\n",
       "    </tr>\n",
       "    <tr>\n",
       "      <th>11</th>\n",
       "      <td>Yountville</td>\n",
       "      <td>right_only</td>\n",
       "      <td>428</td>\n",
       "    </tr>\n",
       "    <tr>\n",
       "      <th>12</th>\n",
       "      <td>Calistoga</td>\n",
       "      <td>right_only</td>\n",
       "      <td>1063</td>\n",
       "    </tr>\n",
       "    <tr>\n",
       "      <th>13</th>\n",
       "      <td>Unincorporated Napa</td>\n",
       "      <td>right_only</td>\n",
       "      <td>3590</td>\n",
       "    </tr>\n",
       "    <tr>\n",
       "      <th>14</th>\n",
       "      <td>Napa</td>\n",
       "      <td>right_only</td>\n",
       "      <td>18316</td>\n",
       "    </tr>\n",
       "  </tbody>\n",
       "</table>\n",
       "</div>"
      ],
      "text/plain": [
       "        zn_jurisdiction      _merge      0\n",
       "0             Calistoga   left_only      0\n",
       "1                  Napa   left_only      0\n",
       "2             St Helena   left_only      0\n",
       "3             St Helena        both      0\n",
       "4   Unincorporated Napa   left_only      0\n",
       "5            Yountville   left_only      0\n",
       "6             Calistoga        both      2\n",
       "7            Yountville        both      2\n",
       "8   Unincorporated Napa        both     11\n",
       "9                  Napa        both     64\n",
       "10            St Helena  right_only    172\n",
       "11           Yountville  right_only    428\n",
       "12            Calistoga  right_only   1063\n",
       "13  Unincorporated Napa  right_only   3590\n",
       "14                 Napa  right_only  18316"
      ]
     },
     "execution_count": 41,
     "metadata": {},
     "output_type": "execute_result"
    }
   ],
   "source": [
    "(parcels_zoning[parcels_zoning['zn_county'] == 'Napa']\n",
    " .groupby(['zn_jurisdiction','_merge'])\n",
    " .size()\n",
    " .sort_values()\n",
    " .reset_index())"
   ]
  },
  {
   "cell_type": "code",
   "execution_count": 62,
   "id": "9270906b",
   "metadata": {},
   "outputs": [],
   "source": [
    "out_cols = [\n",
    "    'geo_id_pa',\n",
    "    'jurisdiction',\n",
    "    'county',\n",
    "    'zn_recid',\n",
    "    'zn_code',\n",
    "    'zn_description',\n",
    "    'zn_regional_code',\n",
    "    'zn_regional_description',\n",
    "    'zn_county',\n",
    "    'zn_jurisdiction',\n",
    "    'allows_residential',\n",
    "    'editor_id',\n",
    "    'edit_version',\n",
    "     'geometry'\n",
    "]\n",
    "parcels_zoning[out_cols].to_file(os.path.join(data_output_dir,'single_family_zoning_2021.geojson'),\n",
    "                                          driver='GeoJSON')"
   ]
  },
  {
   "cell_type": "markdown",
   "id": "e5783e45",
   "metadata": {},
   "source": [
    "## Create hazardous waste site geojson"
   ]
  },
  {
   "cell_type": "code",
   "execution_count": 16,
   "id": "484ddb79",
   "metadata": {},
   "outputs": [
    {
     "data": {
      "text/plain": [
       "['hazardous_waste_facilities.txt',\n",
       " 'hazardous_waste_units_completed_activities.txt',\n",
       " 'maintenance.txt',\n",
       " 'units.txt',\n",
       " 'contacts.txt',\n",
       " 'alias.txt',\n",
       " 'financial_assurance_summary.txt',\n",
       " 'readme.txt',\n",
       " 'work_request_data.txt',\n",
       " 'permitting_project_status.txt',\n",
       " 'hazardous_waste_units_undergoing_closure.txt']"
      ]
     },
     "execution_count": 16,
     "metadata": {},
     "output_type": "execute_result"
    }
   ],
   "source": [
    "os.listdir(os.path.join(data_dir,'EnviroStorHazardousWaste'))"
   ]
  },
  {
   "cell_type": "code",
   "execution_count": 20,
   "id": "0a848e5b",
   "metadata": {},
   "outputs": [],
   "source": [
    "haz_waste_df = pd.read_csv(os.path.join(data_dir,'EnviroStorHazardousWaste','hazardous_waste_facilities.txt'),\n",
    "                           sep='\\t',\n",
    "                           encoding='cp1252')"
   ]
  },
  {
   "cell_type": "code",
   "execution_count": 21,
   "id": "86563fcc",
   "metadata": {},
   "outputs": [
    {
     "name": "stdout",
     "output_type": "stream",
     "text": [
      "<class 'pandas.core.frame.DataFrame'>\n",
      "RangeIndex: 902 entries, 0 to 901\n",
      "Data columns (total 29 columns):\n",
      " #   Column                             Non-Null Count  Dtype  \n",
      "---  ------                             --------------  -----  \n",
      " 0   EPA_ID                             902 non-null    object \n",
      " 1   FACILITY_NAME                      902 non-null    object \n",
      " 2   ADDRESS                            902 non-null    object \n",
      " 3   CITY                               902 non-null    object \n",
      " 4   STATE                              902 non-null    object \n",
      " 5   ZIP                                902 non-null    int64  \n",
      " 6   COUNTY                             902 non-null    object \n",
      " 7   LATITUDE                           902 non-null    float64\n",
      " 8   LONGITUDE                          902 non-null    float64\n",
      " 9   FACILITY_TYPE                      902 non-null    object \n",
      " 10  FACILITY_STATUS                    902 non-null    object \n",
      " 11  SUPERVISOR                         141 non-null    object \n",
      " 12  FACILITY_SIZE                      126 non-null    object \n",
      " 13  COMMERCIAL_OFFSITE_FACILITY_TYPES  55 non-null     object \n",
      " 14  QUARTERLY_UPDATE                   597 non-null    object \n",
      " 15  PROJECT_MANAGER                    114 non-null    object \n",
      " 16  PROJECT_MANAGER_LEAD               124 non-null    object \n",
      " 17  PERMIT_TYPE                        678 non-null    object \n",
      " 18  PERMIT_EFFECTIVE_DATE              114 non-null    object \n",
      " 19  PERMIT_EXPIRATION_DATE             111 non-null    object \n",
      " 20  SITE_CODE                          367 non-null    object \n",
      " 21  CALENVIROSCREEN_SCORE              812 non-null    object \n",
      " 22  ASSEMBLY_DISTRICT                  884 non-null    object \n",
      " 23  SENATE_DISTRICT                    884 non-null    object \n",
      " 24  TOTAL_PLANNED_HOURS                2 non-null      float64\n",
      " 25  TOTAL_PLANNED_AMT                  3 non-null      float64\n",
      " 26  TOTAL_ACTUAL_HOURS                 86 non-null     float64\n",
      " 27  PUBLIC_INFORMATION_OFFICER         7 non-null      object \n",
      " 28  PUBLIC_PARTICIPATION_SPECIALIST    26 non-null     object \n",
      "dtypes: float64(5), int64(1), object(23)\n",
      "memory usage: 204.5+ KB\n"
     ]
    }
   ],
   "source": [
    "haz_waste_df.info()"
   ]
  },
  {
   "cell_type": "code",
   "execution_count": 25,
   "id": "5f77a993",
   "metadata": {},
   "outputs": [],
   "source": [
    "#convert df w/ lat long to gdf\n",
    "haz_waste_gdf = gpd.GeoDataFrame(haz_waste_df,\n",
    "                                 geometry=gpd.points_from_xy(haz_waste_df.LONGITUDE, \n",
    "                                                             haz_waste_df.LATITUDE),\n",
    "                                 crs='EPSG:4326')"
   ]
  },
  {
   "cell_type": "code",
   "execution_count": 27,
   "id": "e18301e2",
   "metadata": {},
   "outputs": [],
   "source": [
    "#Export to GeoJSON\n",
    "haz_waste_gdf.to_file(os.path.join(data_output_dir,'hazardous_waste_sites.geojson'),\n",
    "                      driver='GeoJSON')"
   ]
  },
  {
   "cell_type": "markdown",
   "id": "29549a92",
   "metadata": {},
   "source": [
    "## Create urbanized area urbanized cluster geojson"
   ]
  },
  {
   "cell_type": "code",
   "execution_count": 68,
   "id": "bca5a290",
   "metadata": {},
   "outputs": [
    {
     "data": {
      "text/plain": [
       "['tl_2020_us_uac10.shp.iso.xml',\n",
       " 'tl_2020_us_uac10.prj',\n",
       " 'tl_2020_us_uac10.dbf',\n",
       " 'tl_2020_us_uac10.cpg',\n",
       " 'tl_2020_us_uac10.shp',\n",
       " 'tl_2020_us_uac10.shp.ea.iso.xml',\n",
       " 'tl_2020_us_uac10.shx']"
      ]
     },
     "execution_count": 68,
     "metadata": {},
     "output_type": "execute_result"
    }
   ],
   "source": [
    "os.listdir(os.path.join(data_dir,'tl_2020_us_uac10'))"
   ]
  },
  {
   "cell_type": "code",
   "execution_count": 70,
   "id": "3b984e1e",
   "metadata": {},
   "outputs": [],
   "source": [
    "urban_area_gdf = gpd.read_file(os.path.join(data_dir,'tl_2020_us_uac10.zip'))"
   ]
  },
  {
   "cell_type": "code",
   "execution_count": 74,
   "id": "eefe59e6",
   "metadata": {},
   "outputs": [],
   "source": [
    "urban_area_gdf.to_crs('EPSG:4326',inplace=True)"
   ]
  },
  {
   "cell_type": "code",
   "execution_count": 79,
   "id": "d2661fad",
   "metadata": {},
   "outputs": [
    {
     "data": {
      "text/plain": [
       "<Geographic 2D CRS: EPSG:4326>\n",
       "Name: WGS 84\n",
       "Axis Info [ellipsoidal]:\n",
       "- Lat[north]: Geodetic latitude (degree)\n",
       "- Lon[east]: Geodetic longitude (degree)\n",
       "Area of Use:\n",
       "- name: World.\n",
       "- bounds: (-180.0, -90.0, 180.0, 90.0)\n",
       "Datum: World Geodetic System 1984 ensemble\n",
       "- Ellipsoid: WGS 84\n",
       "- Prime Meridian: Greenwich"
      ]
     },
     "execution_count": 79,
     "metadata": {},
     "output_type": "execute_result"
    }
   ],
   "source": [
    "urban_area_gdf.crs"
   ]
  },
  {
   "cell_type": "code",
   "execution_count": 82,
   "id": "f072beef",
   "metadata": {},
   "outputs": [],
   "source": [
    "ba_urban_areas_gdf = gpd.clip(urban_area_gdf,ba_cty_gdf)"
   ]
  },
  {
   "cell_type": "code",
   "execution_count": 84,
   "id": "4027d315",
   "metadata": {},
   "outputs": [
    {
     "data": {
      "image/png": "[encoded data removed]",
      "text/plain": [
       "<Figure size 720x864 with 1 Axes>"
      ]
     },
     "metadata": {
      "needs_background": "light"
     },
     "output_type": "display_data"
    }
   ],
   "source": [
    "ba_urban_areas_gdf.plot(figsize=(10,12));"
   ]
  },
  {
   "cell_type": "code",
   "execution_count": 85,
   "id": "555f7651",
   "metadata": {},
   "outputs": [],
   "source": [
    "ba_urban_areas_gdf.to_file(os.path.join(data_output_dir,'ba_urban_areas.geojson'),\n",
    "                      driver='GeoJSON')"
   ]
  },
  {
   "cell_type": "code",
   "execution_count": 91,
   "id": "d41c8e9d",
   "metadata": {},
   "outputs": [],
   "source": [
    "variables_list = [zoning,\n",
    "                  urban_area_gdf,\n",
    "                  ba_urban_areas_gdf,\n",
    "                  parcels_gdf,\n",
    "                  parcels_geojson,\n",
    "                  parcels_zoning,\n",
    "                  haz_waste_df,\n",
    "                  haz_waste_gdf]"
   ]
  },
  {
   "cell_type": "markdown",
   "id": "a677cdc5",
   "metadata": {},
   "source": [
    "## Create FMMP geojson"
   ]
  },
  {
   "cell_type": "code",
   "execution_count": 94,
   "id": "82cb6d36",
   "metadata": {},
   "outputs": [],
   "source": [
    "fmmp_gdf = pull_geodata_from_argis(arcgis_data_id='d57abc5f879f4ac8a2c02047b22bd6e2',\n",
    "                                   client=client)"
   ]
  },
  {
   "cell_type": "code",
   "execution_count": 98,
   "id": "5000482d",
   "metadata": {},
   "outputs": [],
   "source": [
    "county = ['San Francisco',\n",
    "          'San Mateo',\n",
    "          'Santa Clara',\n",
    "          'Alameda',\n",
    "          'Contra Costa',\n",
    "          'Solano',\n",
    "          'Napa',\n",
    "          'Sonoma',\n",
    "          'Marin']\n",
    "\n",
    "(fmmp_gdf[(fmmp_gdf['county'].isin(county)) & \n",
    "         (fmmp_gdf['polygon_ty'] == 'S')]\n",
    " .to_file(os.path.join(data_output_dir,'ba_fmmp.geojson'),\n",
    "          driver='GeoJSON'))"
   ]
  },
  {
   "cell_type": "code",
   "execution_count": 99,
   "id": "75085dfd",
   "metadata": {},
   "outputs": [],
   "source": [
    "del fmmp_gdf"
   ]
  },
  {
   "cell_type": "markdown",
   "id": "4a88c04f",
   "metadata": {},
   "source": [
    "## Create very high and high fire severity geojson"
   ]
  },
  {
   "cell_type": "code",
   "execution_count": 7,
   "id": "be8c1844",
   "metadata": {},
   "outputs": [],
   "source": [
    "fire_haz_gdf = pull_geodata_from_argis('0796bcb0369f41758715a2bda6cade11',\n",
    "                                   client=client)"
   ]
  },
  {
   "cell_type": "code",
   "execution_count": 13,
   "id": "3425952c",
   "metadata": {},
   "outputs": [],
   "source": [
    "(fire_haz_gdf[fire_haz_gdf['haz_class'].isin(['Very High','High'])]\n",
    " .to_file(os.path.join(data_output_dir,'ba_fire_severity_zones.geojson'),\n",
    "          driver='GeoJSON'))"
   ]
  },
  {
   "cell_type": "markdown",
   "id": "f657cb3e",
   "metadata": {},
   "source": [
    "## Create flood zone geojson"
   ]
  },
  {
   "cell_type": "code",
   "execution_count": 14,
   "id": "a6d7e5c0",
   "metadata": {},
   "outputs": [],
   "source": [
    "flood_zone_gdf = pull_geodata_from_argis('3e2ba5cf735545d1babc592c509379fb',\n",
    "                                         client=client)"
   ]
  },
  {
   "cell_type": "code",
   "execution_count": 23,
   "id": "6128605e",
   "metadata": {},
   "outputs": [],
   "source": [
    "(flood_zone_gdf[flood_zone_gdf['fld_zone'].isin(['A', 'A99', 'AE', 'AH', 'AO', 'V', 'VE'])]\n",
    " .to_file(os.path.join(data_output_dir,'flood_zones.geojson'),\n",
    "          driver='GeoJSON'))"
   ]
  },
  {
   "cell_type": "code",
   "execution_count": null,
   "id": "9152e694",
   "metadata": {},
   "outputs": [],
   "source": []
  }
 ],
 "metadata": {
  "kernelspec": {
   "display_name": "Python 3 (ipykernel)",
   "language": "python",
   "name": "python3"
  },
  "language_info": {
   "codemirror_mode": {
    "name": "ipython",
    "version": 3
   },
   "file_extension": ".py",
   "mimetype": "text/x-python",
   "name": "python",
   "nbconvert_exporter": "python",
   "pygments_lexer": "ipython3",
   "version": "3.9.6"
  }
 },
 "nbformat": 4,
 "nbformat_minor": 5
}
