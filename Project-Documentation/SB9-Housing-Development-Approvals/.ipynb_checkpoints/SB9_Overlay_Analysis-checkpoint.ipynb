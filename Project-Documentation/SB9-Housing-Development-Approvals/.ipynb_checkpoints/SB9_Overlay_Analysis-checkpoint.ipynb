{
 "cells": [
  {
   "cell_type": "code",
   "execution_count": 16,
   "id": "c8d7eacc",
   "metadata": {},
   "outputs": [],
   "source": [
    "import sys\n",
    "import getpass\n",
    "import timeit\n",
    "import os\n",
    "import pandas as pd\n",
    "import fiona\n",
    "import geopandas as gpd\n",
    "from arcgis import gis\n",
    "username = getpass.getuser()\n",
    "\n",
    "user = getpass.getuser()\n",
    "sys.dont_write_bytecode = True\n",
    "\n",
    "# for DataViz team members\n",
    "sys.path.insert(0, '/Users/{}/Box/DataViz Projects/Utility Code'.format(user))\n",
    "\n",
    "from utils_io import *"
   ]
  },
  {
   "cell_type": "code",
   "execution_count": 2,
   "id": "6634764f",
   "metadata": {},
   "outputs": [
    {
     "name": "stdout",
     "output_type": "stream",
     "text": [
      "Enter password: ········\n"
     ]
    }
   ],
   "source": [
    "client = gis.GIS(url='https://arcgis.ad.mtc.ca.gov/portal/home/',username=username,verify_cert=False)"
   ]
  },
  {
   "cell_type": "markdown",
   "id": "074aadd7",
   "metadata": {},
   "source": [
    "## Define processing functions"
   ]
  },
  {
   "cell_type": "code",
   "execution_count": 21,
   "id": "c8ec164f",
   "metadata": {},
   "outputs": [],
   "source": [
    "def create_gdf_from_inventory(row,client):\n",
    "    print('\\n----------Creating {} from data inventory----------'.format(row['Dataset_Name']))\n",
    "    if row['Dataset_Source_Type'] == 'File':\n",
    "        print(\"\\nCreating geodataframe from file: \",row['Dataset_Path'])\n",
    "        gdf = gpd.read_file(row['Dataset_Path'])\n",
    "    else:\n",
    "        print(\"\\nCreating geodataframe from portal: \",row['Dataset_Path'])\n",
    "        gdf = pull_geodata_from_argis(arcgis_data_id=row['Dataset_ID'],client=client)\n",
    "    return gdf    "
   ]
  },
  {
   "cell_type": "code",
   "execution_count": 4,
   "id": "101a82d6",
   "metadata": {},
   "outputs": [],
   "source": [
    "def parcel_centroid_in_poly(parcel_centroid_gdf,poly_gdf,colname):\n",
    "    sj_gdf = gpd.sjoin(parcel_centroid_gdf,poly_gdf,how='left',op='within')\n",
    "    sj_gdf[colname] = np.where(sj_gdf['index_right'].isnull(),0,1)\n",
    "    return sj_gdf[['geo_id',colname]]"
   ]
  },
  {
   "cell_type": "code",
   "execution_count": 23,
   "id": "27d3fd9f",
   "metadata": {},
   "outputs": [],
   "source": [
    "def point_in_parcel_poly(parcel_poly_gdf,point_gdf,colname):\n",
    "    sj_gdf = gpd.sjoin(point_gdf,parcel_poly_gdf,how='right',op='within')\n",
    "    sj_gdf[colname] = np.where(sj_gdf['index_left'].isnull(),0,1)\n",
    "    return sj_gdf[['geo_id',colname]]"
   ]
  },
  {
   "cell_type": "code",
   "execution_count": 17,
   "id": "98c541bf",
   "metadata": {},
   "outputs": [],
   "source": [
    "def batch_spatial_join(row,parcel_gdf,join_gdf):\n",
    "    start = timeit.default_timer()\n",
    "    print('\\n----------Beginning Spatial Join Processing----------')\n",
    "    if row['Spatial_Operation'] == 'Centroid Within':\n",
    "        print('\\nPerforming spatial join of parcel centroids within {}'.format(row['Dataset_Name']))\n",
    "        parcel_centroid = parcel_gdf.set_geometry('centroid')\n",
    "        sj_gdf = parcel_centroid_in_poly(parcel_centroid_gdf=parcel_centroid,\n",
    "                                           poly_gdf=join_gdf,\n",
    "                                           colname=row['Column_Name'])\n",
    "    else:\n",
    "        print('\\nPerforming spatial join of {} within parcel polygons'.format(row['Dataset_Name']))\n",
    "        sj_gdf = point_in_parcel_poly(parcel_poly_gdf=parcel_gdf,\n",
    "                                        point_gdf=join_gdf,\n",
    "                                        colname=row['Column_Name'])\n",
    "    end = timeit.default_timer()\n",
    "    print('\\n---------Spatial Join Processing Complete and took: {}'.format(end-start))\n",
    "    return sj_gdf"
   ]
  },
  {
   "cell_type": "code",
   "execution_count": 18,
   "id": "4e398fff",
   "metadata": {},
   "outputs": [],
   "source": [
    "def create_flag_column(row,sj_gdf,parcel_gdf):\n",
    "    print('\\n----------Creating Flag Column: ',row['Column_Name'])\n",
    "    col_name = row['Column_Name']\n",
    "    if sj_gdf.shape[0] != parcel_gdf.shape[0]:\n",
    "        parcel_gdf[col_name] = parcel_gdf['geo_id'].map(\n",
    "            sj_gdf.groupby('geo_id')[col_name].first())\n",
    "    else:\n",
    "        parcel_gdf[col_name] = parcel_gdf['geo_id'].map(\n",
    "            sj_gdf.set_index('geo_id')[col_name])"
   ]
  },
  {
   "cell_type": "code",
   "execution_count": 11,
   "id": "48ef4360",
   "metadata": {},
   "outputs": [],
   "source": [
    "def batch_flag_parcel_characteristics(parcel_gdf,data_inventory_df,client):\n",
    "    for index, row in data_inventory_df.iterrows():\n",
    "        gdf = create_gdf_from_inventory(row,client=client)\n",
    "        \n",
    "        sj_gdf = batch_spatial_join(row=row,parcel_gdf=parcel_gdf,join_gdf=gdf)\n",
    "        \n",
    "        create_flag_column(row=row,sj_gdf=sj_gdf,parcel_gdf=parcel_gdf)      "
   ]
  },
  {
   "cell_type": "markdown",
   "id": "c280f3cc",
   "metadata": {},
   "source": [
    "## Read dataset inventory"
   ]
  },
  {
   "cell_type": "code",
   "execution_count": 12,
   "id": "de2d04a2",
   "metadata": {},
   "outputs": [],
   "source": [
    "data_inv = pd.read_csv('sb9_data_sources.csv')"
   ]
  },
  {
   "cell_type": "markdown",
   "id": "6363eab3",
   "metadata": {},
   "source": [
    "## Read parcel dataset"
   ]
  },
  {
   "cell_type": "code",
   "execution_count": 13,
   "id": "174b65f5",
   "metadata": {},
   "outputs": [],
   "source": [
    "parcels = gpd.read_file('data/geojson/single_family_zoning_2021.geojson')"
   ]
  },
  {
   "cell_type": "code",
   "execution_count": 14,
   "id": "d1a96335",
   "metadata": {},
   "outputs": [],
   "source": [
    "#Create centroid geometry column\n",
    "parcels['centroid'] = parcels.representative_point()"
   ]
  },
  {
   "cell_type": "code",
   "execution_count": null,
   "id": "425c00bb",
   "metadata": {},
   "outputs": [
    {
     "name": "stdout",
     "output_type": "stream",
     "text": [
      "\n",
      "----------Creating Census Bureau Urbanized Area or Urbanized Cluster from data inventory----------\n",
      "\n",
      "Creating geodataframe from file:  data/geojson/ba_urban_areas.geojson\n",
      "\n",
      "----------Beginning Spatial Join Processing----------\n",
      "\n",
      "Performing spatial join of parcel centroids within Census Bureau Urbanized Area or Urbanized Cluster\n"
     ]
    }
   ],
   "source": [
    "batch_flag_parcel_characteristics(parcel_gdf=parcels,\n",
    "                                  data_inventory_df=data_inv,\n",
    "                                  client=client)"
   ]
  },
  {
   "cell_type": "code",
   "execution_count": null,
   "id": "ead5a6df",
   "metadata": {},
   "outputs": [],
   "source": []
  }
 ],
 "metadata": {
  "kernelspec": {
   "display_name": "Python 3 (ipykernel)",
   "language": "python",
   "name": "python3"
  },
  "language_info": {
   "codemirror_mode": {
    "name": "ipython",
    "version": 3
   },
   "file_extension": ".py",
   "mimetype": "text/x-python",
   "name": "python",
   "nbconvert_exporter": "python",
   "pygments_lexer": "ipython3",
   "version": "3.9.6"
  }
 },
 "nbformat": 4,
 "nbformat_minor": 5
}
