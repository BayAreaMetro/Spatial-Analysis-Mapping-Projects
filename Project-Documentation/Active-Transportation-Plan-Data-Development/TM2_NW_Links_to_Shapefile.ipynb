{
 "cells": [
  {
   "cell_type": "code",
   "execution_count": 9,
   "id": "e6c5a574",
   "metadata": {},
   "outputs": [],
   "source": [
    "import os\n",
    "import json\n",
    "import zipfile\n",
    "import geopandas as gp\n",
    "import pandas as pd"
   ]
  },
  {
   "cell_type": "code",
   "execution_count": 10,
   "id": "43f1b0df",
   "metadata": {},
   "outputs": [],
   "source": [
    "#set working directory\n",
    "work_dir = os.path.join('/Users',\n",
    "                       'jcroff',\n",
    "                       'Box',\n",
    "                       'MTC Data for Toole Design')"
   ]
  },
  {
   "cell_type": "code",
   "execution_count": 15,
   "id": "1de36ee4",
   "metadata": {},
   "outputs": [
    {
     "data": {
      "text/plain": [
       "['BATC',\n",
       " 'County, City and Caltrans Bike Ped Network and Counts Data',\n",
       " 'data_for_Toole.gdb',\n",
       " 'GIS Data Request.xlsx',\n",
       " 'MTC Mobility Hubs top25_final_20210308.html',\n",
       " 'MTC_mobility_hubs_R_final.zip',\n",
       " 'PBA50_FinalBlueprintLandUse_TAZdata_dataDictionary.xlsx',\n",
       " 'travelModel2_v11_link.json',\n",
       " 'travelModel2_v11_link_json.zip']"
      ]
     },
     "execution_count": 15,
     "metadata": {},
     "output_type": "execute_result"
    }
   ],
   "source": [
    "#list files in dir\n",
    "os.listdir(work_dir)"
   ]
  },
  {
   "cell_type": "code",
   "execution_count": 14,
   "id": "ea627063",
   "metadata": {},
   "outputs": [],
   "source": [
    "#read zipped json file\n",
    "tm2_links = pd.read_json(os.path.join(work_dir,\n",
    "                                  'travelModel2_v11_link_json.zip'))"
   ]
  },
  {
   "cell_type": "code",
   "execution_count": 17,
   "id": "cad26648",
   "metadata": {},
   "outputs": [
    {
     "name": "stdout",
     "output_type": "stream",
     "text": [
      "<class 'pandas.core.frame.DataFrame'>\n",
      "RangeIndex: 2199321 entries, 0 to 2199320\n",
      "Data columns (total 44 columns):\n",
      " #   Column              Dtype \n",
      "---  ------              ----- \n",
      " 0   access              object\n",
      " 1   bike_access         int64 \n",
      " 2   drive_access        int64 \n",
      " 3   fromIntersectionId  object\n",
      " 4   lanes               object\n",
      " 5   maxspeed            object\n",
      " 6   name                object\n",
      " 7   oneWay              object\n",
      " 8   ref                 object\n",
      " 9   roadway             object\n",
      " 10  shstGeometryId      object\n",
      " 11  shstReferenceId     object\n",
      " 12  toIntersectionId    object\n",
      " 13  u                   object\n",
      " 14  v                   object\n",
      " 15  walk_access         int64 \n",
      " 16  wayId               object\n",
      " 17  county              object\n",
      " 18  model_link_id       int64 \n",
      " 19  A                   int64 \n",
      " 20  B                   int64 \n",
      " 21  rail_traveltime     object\n",
      " 22  rail_only           int64 \n",
      " 23  locationReferences  object\n",
      " 24  shape_id            object\n",
      " 25  ft_cal              object\n",
      " 26  ft                  int64 \n",
      " 27  useclass            object\n",
      " 28  assignable_cal      object\n",
      " 29  assignable          int64 \n",
      " 30  transit             object\n",
      " 31  id                  object\n",
      " 32  tollbooth           int64 \n",
      " 33  bus_only            int64 \n",
      " 34  transit_access      object\n",
      " 35  managed             int64 \n",
      " 36  ML_lanes            object\n",
      " 37  segment_id          int64 \n",
      " 38  ML_tollbooth        object\n",
      " 39  ML_useclass         object\n",
      " 40  ML_access           object\n",
      " 41  ML_egress           object\n",
      " 42  ML_tollseg          object\n",
      " 43  tollseg             int64 \n",
      "dtypes: int64(14), object(30)\n",
      "memory usage: 738.3+ MB\n"
     ]
    }
   ],
   "source": [
    "tm2_links.info()"
   ]
  },
  {
   "cell_type": "code",
   "execution_count": 19,
   "id": "fa55c998",
   "metadata": {},
   "outputs": [
    {
     "data": {
      "text/html": [
       "<div>\n",
       "<style scoped>\n",
       "    .dataframe tbody tr th:only-of-type {\n",
       "        vertical-align: middle;\n",
       "    }\n",
       "\n",
       "    .dataframe tbody tr th {\n",
       "        vertical-align: top;\n",
       "    }\n",
       "\n",
       "    .dataframe thead th {\n",
       "        text-align: right;\n",
       "    }\n",
       "</style>\n",
       "<table border=\"1\" class=\"dataframe\">\n",
       "  <thead>\n",
       "    <tr style=\"text-align: right;\">\n",
       "      <th></th>\n",
       "      <th>locationReferences</th>\n",
       "      <th>shape_id</th>\n",
       "    </tr>\n",
       "  </thead>\n",
       "  <tbody>\n",
       "    <tr>\n",
       "      <th>0</th>\n",
       "      <td>[{'sequence': 1, 'point': [-122.3315542, 37.98...</td>\n",
       "      <td>512475</td>\n",
       "    </tr>\n",
       "    <tr>\n",
       "      <th>1</th>\n",
       "      <td>[{'sequence': 1, 'point': [-121.94477, 37.9533...</td>\n",
       "      <td>38201</td>\n",
       "    </tr>\n",
       "    <tr>\n",
       "      <th>2</th>\n",
       "      <td>[{'sequence': 1, 'point': [-122.5398278, 37.89...</td>\n",
       "      <td>347066</td>\n",
       "    </tr>\n",
       "    <tr>\n",
       "      <th>3</th>\n",
       "      <td>[{'sequence': 1, 'point': [-122.031897, 37.267...</td>\n",
       "      <td>856377</td>\n",
       "    </tr>\n",
       "    <tr>\n",
       "      <th>4</th>\n",
       "      <td>[{'sequence': 1, 'point': [-122.0118628, 37.37...</td>\n",
       "      <td>814428</td>\n",
       "    </tr>\n",
       "  </tbody>\n",
       "</table>\n",
       "</div>"
      ],
      "text/plain": [
       "                                  locationReferences shape_id\n",
       "0  [{'sequence': 1, 'point': [-122.3315542, 37.98...   512475\n",
       "1  [{'sequence': 1, 'point': [-121.94477, 37.9533...    38201\n",
       "2  [{'sequence': 1, 'point': [-122.5398278, 37.89...   347066\n",
       "3  [{'sequence': 1, 'point': [-122.031897, 37.267...   856377\n",
       "4  [{'sequence': 1, 'point': [-122.0118628, 37.37...   814428"
      ]
     },
     "execution_count": 19,
     "metadata": {},
     "output_type": "execute_result"
    }
   ],
   "source": [
    "tm2_links[['locationReferences','shape_id']].head(5)"
   ]
  },
  {
   "cell_type": "code",
   "execution_count": 21,
   "id": "184da153",
   "metadata": {},
   "outputs": [],
   "source": [
    "#export to csv\n",
    "tm2_links.to_csv(os.path.join(work_dir,\n",
    "                              'travelModel2_v11_link_csv.csv'))"
   ]
  },
  {
   "cell_type": "code",
   "execution_count": null,
   "id": "420344ae",
   "metadata": {},
   "outputs": [],
   "source": []
  }
 ],
 "metadata": {
  "kernelspec": {
   "display_name": "Python 3 (ipykernel)",
   "language": "python",
   "name": "python3"
  },
  "language_info": {
   "codemirror_mode": {
    "name": "ipython",
    "version": 3
   },
   "file_extension": ".py",
   "mimetype": "text/x-python",
   "name": "python",
   "nbconvert_exporter": "python",
   "pygments_lexer": "ipython3",
   "version": "3.9.7"
  }
 },
 "nbformat": 4,
 "nbformat_minor": 5
}
