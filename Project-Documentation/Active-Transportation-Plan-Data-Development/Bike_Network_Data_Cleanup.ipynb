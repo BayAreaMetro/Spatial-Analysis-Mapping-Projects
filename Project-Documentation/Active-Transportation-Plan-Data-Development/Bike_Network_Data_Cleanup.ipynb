{
 "cells": [
  {
   "cell_type": "code",
   "execution_count": 12,
   "metadata": {},
   "outputs": [],
   "source": [
    "import arcpy\n",
    "import os\n",
    "\n",
    "#Define the workspace\n",
    "arcpy.env.workspace = r\"Z:\\Documents\\ArcGIS\\Projects\\Active Transportation\\Active Transportation.gdb\"\n",
    "\n",
    "#Allow features and files to be overwritten \n",
    "arcpy.env.overwriteOutput = True"
   ]
  },
  {
   "cell_type": "code",
   "execution_count": 13,
   "metadata": {},
   "outputs": [],
   "source": [
    "# Define a function to return unique values\n",
    "def unique_values(table ,field):\n",
    "    with arcpy.da.SearchCursor(table, [field]) as cursor:\n",
    "        return sorted({row[0] for row in cursor if row[0] is not None})"
   ]
  },
  {
   "cell_type": "code",
   "execution_count": 14,
   "metadata": {},
   "outputs": [],
   "source": [
    "# Create a function to re-map field values\n",
    "def remap_field_values(fc,input_field,output_field,map_dictionary):\n",
    "    update_fields = []\n",
    "    update_fields.append(input_field)\n",
    "    update_fields.append(output_field)\n",
    "    with arcpy.da.UpdateCursor(in_table=fc,\n",
    "                               field_names=update_fields) as cursor:\n",
    "        for row in cursor:\n",
    "            # store the Join value of the row being updated in a key variable\n",
    "            key = row[0]\n",
    "            # verify that the key is in the Dictionary\n",
    "            if key in map_dictionary:\n",
    "                row[1] = map_dictionary[key]\n",
    "                cursor.updateRow(row)\n",
    "    del cursor"
   ]
  },
  {
   "cell_type": "code",
   "execution_count": 15,
   "metadata": {},
   "outputs": [],
   "source": [
    "#define a function for adding standard class fields & source\n",
    "def add_required_fields(in_table):\n",
    "    #Create list of lists with field name, data type, length (if applicable), and field alias\n",
    "    list_of_lists = []\n",
    "    source = ['source','TEXT','Source',100,None,None]\n",
    "    existing_class = ['ex_class','SHORT','Existing Class',None,None,None]\n",
    "    planned_class = ['pln_class','SHORT','Planned Class',None,None,None]\n",
    "    list_of_lists.extend([source,existing_class,planned_class])\n",
    "    #Add fields to feature class\n",
    "    arcpy.management.AddFields(in_table,list_of_lists)"
   ]
  },
  {
   "cell_type": "code",
   "execution_count": 67,
   "metadata": {},
   "outputs": [],
   "source": [
    "# Create a function to re-map multiple column values to one column\n",
    "def remap_class_multi_columns(in_table,exist_field,plan_field,exist_map_dict,plan_map_dict):\n",
    "    update_fields = []\n",
    "    update_fields.extend([exist_field,plan_field,'ex_class','pln_class'])\n",
    "    with arcpy.da.UpdateCursor(in_table=in_table,\n",
    "                           field_names=update_fields) as cursor:\n",
    "        for row in cursor:\n",
    "            exist_key = row[0]\n",
    "            pln_key = row[1]\n",
    "            if (exist_key != None and exist_key != ' ') and (pln_key != None and pln_key != ' '):\n",
    "                # store the Join value of the row being updated in a key variable for the existing field\n",
    "                # verify that the key is in the Dictionary\n",
    "                row[2] = exist_map_dict[exist_key]\n",
    "                row[3] = plan_map_dict[pln_key]\n",
    "                cursor.updateRow(row)\n",
    "            elif (exist_key != None and exist_key != ' ') and (pln_key == None or pln_key == ' '):\n",
    "                row[2] = exist_map_dict[exist_key]\n",
    "                row[3] = None\n",
    "                cursor.updateRow(row)\n",
    "            elif (exist_key == None or exist_key == ' ') and (pln_key != None and pln_key != ' '):\n",
    "                row[2] = None\n",
    "                row[3] = plan_map_dict[pln_key]\n",
    "                cursor.updateRow(row)\n",
    "            else:\n",
    "                row[2] = None\n",
    "                row[3] = None\n",
    "                cursor.updateRow(row)\n",
    "    del cursor  "
   ]
  },
  {
   "cell_type": "code",
   "execution_count": 17,
   "metadata": {},
   "outputs": [],
   "source": [
    "# Create a function to re-map class from one column to two columns depending on class value\n",
    "def remap_class_single_to_multi_columns(in_table,class_field,status_field,class_map_dict,status_map_dict):\n",
    "    update_fields = []\n",
    "    update_fields.extend([class_field,status_field,'ex_class','pln_class'])\n",
    "    with arcpy.da.UpdateCursor(in_table=in_table,\n",
    "                               field_names=update_fields) as cursor:\n",
    "        for row in cursor:\n",
    "            class_key = row[0]\n",
    "            status_key = row[1]\n",
    "            if class_key != None and class_key != ' ' and status_map_dict[status_key] == 'Existing':\n",
    "                row[2] = class_map_dict[class_key]\n",
    "                cursor.updateRow(row)\n",
    "            elif class_key != None and class_key != ' ' and status_map_dict[status_key] == 'Planned':\n",
    "                row[3] = class_map_dict[class_key]\n",
    "                cursor.updateRow(row)\n",
    "            else:\n",
    "                row[2] = None\n",
    "                row[3] = None\n",
    "                cursor.updateRow(row)\n",
    "    del cursor  "
   ]
  },
  {
   "cell_type": "code",
   "execution_count": 18,
   "metadata": {},
   "outputs": [],
   "source": [
    "# define a function to update the source field\n",
    "def update_source(in_table,field_name,source):\n",
    "    # update source column\n",
    "    with arcpy.da.UpdateCursor(in_table=in_table,field_names=field_name) as source_cursor:\n",
    "        for row in source_cursor:\n",
    "            row[0] = source\n",
    "            source_cursor.updateRow(row)\n",
    "    del source_cursor"
   ]
  },
  {
   "cell_type": "code",
   "execution_count": 19,
   "metadata": {},
   "outputs": [],
   "source": [
    "# # define a function to update status where multiple class columns exist and no stand-alone status column exists\n",
    "# def update_status_multi_class_fields(in_table,exist_field,proposed_field,status_field_name):\n",
    "#     update_fields = []\n",
    "#     update_fields.extend([exist_field,proposed_field,status_field_name])\n",
    "#     with arcpy.da.UpdateCursor(in_table=in_table,\n",
    "#                                field_names=update_fields) as status_cursor:\n",
    "#         for row in status_cursor:\n",
    "#             if row[0] != None and row[0] != ' ':\n",
    "#                 row[2] = 'Existing'\n",
    "#                 status_cursor.updateRow(row)\n",
    "#             elif (row[1] != None and row[1] != ' ') and (row[0] == ' ' or row[0] == None):\n",
    "#                 row[2] = 'Proposed'\n",
    "#                 status_cursor.updateRow(row)\n",
    "#             else:\n",
    "#                 row[2] = None\n",
    "#                 status_cursor.updateRow(row)\n",
    "#     del status_cursor"
   ]
  },
  {
   "cell_type": "code",
   "execution_count": 20,
   "metadata": {},
   "outputs": [],
   "source": [
    "# Create function to select specific fields to map when using field mapping for a geoprocessing function\n",
    "def issolate_fields(output_fields, field_mappings):\n",
    "    for field in field_mappings.fields:\n",
    "        if field.name not in output_fields:\n",
    "            field_mappings.removeFieldMap(field_mappings.findFieldMapIndex(field.name))"
   ]
  },
  {
   "cell_type": "code",
   "execution_count": 21,
   "metadata": {},
   "outputs": [],
   "source": [
    "# Create function to add only selected fields to field mapping object\n",
    "def create_field_mapping_with_selected_fields(feature_classes,output_fields):\n",
    "    fm = arcpy.FieldMappings()\n",
    "    for fc in feature_classes:\n",
    "        fm.addTable(fc)\n",
    "        issolate_fields(output_fields=output_fields,field_mappings=fm)\n",
    "    return fm"
   ]
  },
  {
   "cell_type": "code",
   "execution_count": 22,
   "metadata": {},
   "outputs": [],
   "source": [
    "def merge_multiple_datasets(dataset_list,select_output_fields,output_fc):\n",
    "    fm = create_field_mapping_with_selected_fields(feature_classes=dataset_list,\n",
    "                                               output_fields=select_output_fields)\n",
    "    print('Selected field list:')\n",
    "    for field in fm.fields:\n",
    "        print(field.name)\n",
    "    print(\"\"\"\\n\"\"\")\n",
    "            \n",
    "    print(\"\"\"Merging feature classes...\\n\"\"\")\n",
    "    merge_fc = arcpy.Merge_management(inputs=dataset_list,\n",
    "                                           output=output_fc,\n",
    "                                           field_mappings=fm,\n",
    "                                           add_source='NO_SOURCE_INFO')\n",
    "    print(\"\"\"Merge complete\"\"\")\n",
    "    return merge_fc"
   ]
  },
  {
   "cell_type": "markdown",
   "metadata": {},
   "source": [
    "## Update Marin County Attributes"
   ]
  },
  {
   "cell_type": "code",
   "execution_count": 11,
   "metadata": {},
   "outputs": [],
   "source": [
    "tam_bike_nw = 'tam_bike_network_epsg29610'\n",
    "add_required_fields(in_table=tam_bike_nw)"
   ]
  },
  {
   "cell_type": "code",
   "execution_count": 13,
   "metadata": {},
   "outputs": [],
   "source": [
    "# Get unique values for existingbi class field\n",
    "exist_field = 'ExistingBi'\n",
    "exist = unique_values(table=tam_bike_nw,field=exist_field)"
   ]
  },
  {
   "cell_type": "code",
   "execution_count": 15,
   "metadata": {},
   "outputs": [],
   "source": [
    "# Get unique values for proposed class field\n",
    "pln_field = 'ProposedBi'\n",
    "planned = unique_values(table=tam_bike_nw,field=pln_field)"
   ]
  },
  {
   "cell_type": "code",
   "execution_count": 16,
   "metadata": {},
   "outputs": [
    {
     "data": {
      "text/plain": [
       "{' ': '', 'Class I': '', 'Class II': '', 'Class II / III Hybrid': '', 'Class II / IIIs Hybrid': '', 'Class III': '', 'Class IIIs': '', 'Class IIr': '', 'Class IIr / III Hybrid': '', 'FWY Rte': '', 'Other': ''}"
      ]
     },
     "execution_count": 16,
     "metadata": {},
     "output_type": "execute_result"
    }
   ],
   "source": [
    "# Create dictonary with unique values as keys\n",
    "dict.fromkeys(exist,'')"
   ]
  },
  {
   "cell_type": "code",
   "execution_count": 17,
   "metadata": {},
   "outputs": [
    {
     "data": {
      "text/plain": [
       "{' ': '', 'Class I': '', 'Class II': '', 'Class III': '', 'Class IIr': '', 'Class IV (two-way)': ''}"
      ]
     },
     "execution_count": 17,
     "metadata": {},
     "output_type": "execute_result"
    }
   ],
   "source": [
    "# Create dictonary with unique values as keys\n",
    "dict.fromkeys(planned,'')"
   ]
  },
  {
   "cell_type": "code",
   "execution_count": 18,
   "metadata": {},
   "outputs": [],
   "source": [
    "# Create a dictionary to map existing facilities class to standard numeric class\n",
    "exist_dict = {'Class I': 1, \n",
    "              'Class II': 2, \n",
    "              'Class II / III Hybrid': 2, \n",
    "              'Class II / IIIs Hybrid': 2, \n",
    "              'Class III': 3, \n",
    "              'Class IIIs': 3, \n",
    "              'Class IIr': 2, \n",
    "              'Class IIr / III Hybrid': 2, \n",
    "              'FWY Rte': None, \n",
    "              'Other': None}"
   ]
  },
  {
   "cell_type": "code",
   "execution_count": 19,
   "metadata": {},
   "outputs": [],
   "source": [
    "planned_dict = {'Class I': 1, \n",
    "                 'Class II': 2, \n",
    "                 'Class III': 3, \n",
    "                 'Class IIr': 2, \n",
    "                 'Class IV (two-way)': 4}"
   ]
  },
  {
   "cell_type": "code",
   "execution_count": 20,
   "metadata": {},
   "outputs": [],
   "source": [
    "# remap proposed class values to standard numeric class values\n",
    "remap_class_multi_columns(in_table=tam_bike_nw,\n",
    "                          exist_field=exist_field,\n",
    "                          plan_field=pln_field,\n",
    "                          exist_map_dict=exist_dict,\n",
    "                          plan_map_dict=planned_dict)"
   ]
  },
  {
   "cell_type": "code",
   "execution_count": 21,
   "metadata": {},
   "outputs": [],
   "source": [
    "# update source column\n",
    "update_source(in_table=tam_bike_nw,\n",
    "              field_name='source',\n",
    "              source='Transportation Authority of Marin')"
   ]
  },
  {
   "cell_type": "markdown",
   "metadata": {},
   "source": [
    "## Update Sonoma County Attributes"
   ]
  },
  {
   "cell_type": "code",
   "execution_count": 48,
   "metadata": {},
   "outputs": [],
   "source": [
    "scta_bike_nw = 'scta_bike_network_epsg26910'\n",
    "add_required_fields(in_table=scta_bike_nw)"
   ]
  },
  {
   "cell_type": "code",
   "execution_count": 49,
   "metadata": {},
   "outputs": [],
   "source": [
    "# get unique class values\n",
    "class_field = 'ORIG_CLASS'\n",
    "classes = unique_values(table=scta_bike_nw,field=class_field)"
   ]
  },
  {
   "cell_type": "code",
   "execution_count": 50,
   "metadata": {},
   "outputs": [],
   "source": [
    "# Get unique status values\n",
    "status_field = 'GEN_PLAN'\n",
    "status = unique_values(table=scta_bike_nw,field=status_field)"
   ]
  },
  {
   "cell_type": "code",
   "execution_count": 51,
   "metadata": {},
   "outputs": [
    {
     "data": {
      "text/plain": [
       "{' ': '', 'I': '', 'II': '', 'IIB': '', 'III': '', 'III2': '', 'IIIB': '', 'IV': '', 'PED': '', 'PP': '', 'SR': '', 'STDY': '', 'TRL': ''}"
      ]
     },
     "execution_count": 51,
     "metadata": {},
     "output_type": "execute_result"
    }
   ],
   "source": [
    "dict.fromkeys(classes,'')"
   ]
  },
  {
   "cell_type": "code",
   "execution_count": 52,
   "metadata": {},
   "outputs": [
    {
     "data": {
      "text/plain": [
       "{' ': '', 'BRIDGE/TUNNEL': '', 'EXISTING': '', 'PROPOSED': ''}"
      ]
     },
     "execution_count": 52,
     "metadata": {},
     "output_type": "execute_result"
    }
   ],
   "source": [
    "dict.fromkeys(status,'')"
   ]
  },
  {
   "cell_type": "code",
   "execution_count": 53,
   "metadata": {},
   "outputs": [],
   "source": [
    "class_dict = {'I': 1, \n",
    "              'II': 2, \n",
    "              'IIB': 2, \n",
    "              'III': 3, \n",
    "              'III2': 3, \n",
    "              'IIIB': 3, \n",
    "              'IV': 4, \n",
    "              'PED': None, \n",
    "              'PP': None, \n",
    "              'SR': None, \n",
    "              'STDY': None, \n",
    "              'TRL': None}"
   ]
  },
  {
   "cell_type": "code",
   "execution_count": 54,
   "metadata": {},
   "outputs": [],
   "source": [
    "status_dict = {' ': None, \n",
    "              'BRIDGE/TUNNEL': 'Planned', \n",
    "              'EXISTING': 'Existing', \n",
    "              'PROPOSED': 'Planned'}"
   ]
  },
  {
   "cell_type": "code",
   "execution_count": 56,
   "metadata": {},
   "outputs": [],
   "source": [
    "remap_class_single_to_multi_columns(in_table=scta_bike_nw,\n",
    "                                    class_field=class_field,\n",
    "                                    status_field=status_field,\n",
    "                                    class_map_dict=class_dict,\n",
    "                                    status_map_dict=status_dict)"
   ]
  },
  {
   "cell_type": "code",
   "execution_count": 57,
   "metadata": {},
   "outputs": [],
   "source": [
    "# Update source column\n",
    "update_source(in_table=scta_bike_nw,\n",
    "              field_name='source',\n",
    "              source='Sonoma County Transportation Authority')"
   ]
  },
  {
   "cell_type": "markdown",
   "metadata": {},
   "source": [
    "## Update Napa County Attributes"
   ]
  },
  {
   "cell_type": "code",
   "execution_count": 73,
   "metadata": {},
   "outputs": [],
   "source": [
    "nvta_bike_nw = 'nvta_bike_network_epsg26910'\n",
    "add_required_fields(in_table=nvta_bike_nw)"
   ]
  },
  {
   "cell_type": "code",
   "execution_count": 74,
   "metadata": {},
   "outputs": [],
   "source": [
    "# get unique class values\n",
    "class_field = 'fac_type'\n",
    "classes = unique_values(table=nvta_bike_nw,field=class_field)"
   ]
  },
  {
   "cell_type": "code",
   "execution_count": 75,
   "metadata": {},
   "outputs": [],
   "source": [
    "# Get unique status values\n",
    "status_field = 'orig_status'\n",
    "status = unique_values(table=nvta_bike_nw,field=status_field)"
   ]
  },
  {
   "cell_type": "code",
   "execution_count": 76,
   "metadata": {},
   "outputs": [
    {
     "data": {
      "text/plain": [
       "{'Class I Multi Use Path': '', 'Class II Bike Lane': '', 'Class III Bike Boulevard': '', 'Class III Bike Route': '', 'Class IV Separated Bike Lane': '', 'Corridor Study': ''}"
      ]
     },
     "execution_count": 76,
     "metadata": {},
     "output_type": "execute_result"
    }
   ],
   "source": [
    "dict.fromkeys(classes,'')"
   ]
  },
  {
   "cell_type": "code",
   "execution_count": 77,
   "metadata": {},
   "outputs": [
    {
     "data": {
      "text/plain": [
       "{'Existing': '', 'Proposed': '', 'Proposed - pending study': ''}"
      ]
     },
     "execution_count": 77,
     "metadata": {},
     "output_type": "execute_result"
    }
   ],
   "source": [
    "dict.fromkeys(status,'')"
   ]
  },
  {
   "cell_type": "code",
   "execution_count": 78,
   "metadata": {},
   "outputs": [],
   "source": [
    "class_dict = {'Class I Multi Use Path': 1, \n",
    "              'Class II Bike Lane': 2, \n",
    "              'Class III Bike Boulevard': 3, \n",
    "              'Class III Bike Route': 3, \n",
    "              'Class IV Separated Bike Lane': 4, \n",
    "              'Corridor Study': None}"
   ]
  },
  {
   "cell_type": "code",
   "execution_count": 79,
   "metadata": {},
   "outputs": [],
   "source": [
    "status_dict = {'Existing': 'Existing', \n",
    "              'Proposed': 'Planned', \n",
    "              'Proposed - pending study': 'Planned'}"
   ]
  },
  {
   "cell_type": "code",
   "execution_count": 80,
   "metadata": {},
   "outputs": [],
   "source": [
    "remap_class_single_to_multi_columns(in_table=nvta_bike_nw,\n",
    "                                    class_field=class_field,\n",
    "                                    status_field=status_field,\n",
    "                                    class_map_dict=class_dict,\n",
    "                                    status_map_dict=status_dict)"
   ]
  },
  {
   "cell_type": "code",
   "execution_count": 66,
   "metadata": {},
   "outputs": [],
   "source": [
    "# Update source column\n",
    "update_source(in_table=nvta_bike_nw,\n",
    "              field_name='source',\n",
    "              source='Napa Valley Transportation Authority')"
   ]
  },
  {
   "cell_type": "markdown",
   "metadata": {},
   "source": [
    "## Update Solano County Attributes"
   ]
  },
  {
   "cell_type": "code",
   "execution_count": 82,
   "metadata": {},
   "outputs": [],
   "source": [
    "sta_bike_nw = 'sta_bike_network_epsg26910'\n",
    "add_required_fields(in_table=sta_bike_nw)"
   ]
  },
  {
   "cell_type": "code",
   "execution_count": 83,
   "metadata": {},
   "outputs": [],
   "source": [
    "# get unique class values\n",
    "exist_class = 'existing'\n",
    "classes = unique_values(table=sta_bike_nw,field=exist_class)"
   ]
  },
  {
   "cell_type": "code",
   "execution_count": 85,
   "metadata": {},
   "outputs": [],
   "source": [
    "pln_class = 'rec'\n",
    "planned = unique_values(table=sta_bike_nw,field=pln_class)"
   ]
  },
  {
   "cell_type": "code",
   "execution_count": 88,
   "metadata": {},
   "outputs": [
    {
     "data": {
      "text/plain": [
       "{' ': '', 'Class I Multi-Use Path': '', 'Class II Bicycle Lane': '', 'Class II Buffered Bicycle Lane': '', 'Class III Bicycle Boulevard': '', 'Class III Bicycle Route': '', 'Class IV Separated Bikeway': ''}"
      ]
     },
     "execution_count": 88,
     "metadata": {},
     "output_type": "execute_result"
    }
   ],
   "source": [
    "dict.fromkeys(classes,'')"
   ]
  },
  {
   "cell_type": "code",
   "execution_count": 89,
   "metadata": {},
   "outputs": [
    {
     "data": {
      "text/plain": [
       "{' ': '', 'Class I Multi-Use Path': '', 'Class II Bicycle Lane': '', 'Class II Buffered Bicycle Lane': '', 'Class III Bicycle Boulevard': '', 'Class III Bicycle Route': '', 'Class IV Separated Bikeway': '', 'Feasibility Study': ''}"
      ]
     },
     "execution_count": 89,
     "metadata": {},
     "output_type": "execute_result"
    }
   ],
   "source": [
    "dict.fromkeys(planned,'')"
   ]
  },
  {
   "cell_type": "code",
   "execution_count": 92,
   "metadata": {},
   "outputs": [],
   "source": [
    "exist_dict = {\n",
    "              'Class I Multi-Use Path': 1, \n",
    "              'Class II Bicycle Lane': 2, \n",
    "              'Class II Buffered Bicycle Lane': 2, \n",
    "              'Class III Bicycle Boulevard': 3, \n",
    "              'Class III Bicycle Route': 3, \n",
    "              'Class IV Separated Bikeway': 4}"
   ]
  },
  {
   "cell_type": "code",
   "execution_count": 93,
   "metadata": {},
   "outputs": [],
   "source": [
    "prop_dict = { \n",
    "             'Class I Multi-Use Path': 1, \n",
    "             'Class II Bicycle Lane': 2, \n",
    "             'Class II Buffered Bicycle Lane': 2, \n",
    "             'Class III Bicycle Boulevard': 3, \n",
    "             'Class III Bicycle Route': 3, \n",
    "             'Class IV Separated Bikeway': 4, \n",
    "             'Feasibility Study': None}"
   ]
  },
  {
   "cell_type": "code",
   "execution_count": 94,
   "metadata": {},
   "outputs": [],
   "source": [
    "remap_class_multi_columns(in_table=sta_bike_nw,\n",
    "                          exist_field=exist_class,\n",
    "                          plan_field=pln_class,\n",
    "                          exist_map_dict=exist_dict,\n",
    "                          plan_map_dict=prop_dict)"
   ]
  },
  {
   "cell_type": "code",
   "execution_count": 96,
   "metadata": {},
   "outputs": [],
   "source": [
    "# Update source column\n",
    "update_source(in_table=sta_bike_nw,\n",
    "              field_name='source',\n",
    "              source='Solano Transportation Authority')"
   ]
  },
  {
   "cell_type": "markdown",
   "metadata": {},
   "source": [
    "## Update Contra Costa Attributes"
   ]
  },
  {
   "cell_type": "code",
   "execution_count": 24,
   "metadata": {},
   "outputs": [],
   "source": [
    "ccta_bike_nw = 'ccta_bike_network_epsg26910'\n",
    "add_required_fields(in_table=ccta_bike_nw)"
   ]
  },
  {
   "cell_type": "code",
   "execution_count": 25,
   "metadata": {},
   "outputs": [],
   "source": [
    "exist_class = 'class'\n",
    "classes = unique_values(table=ccta_bike_nw,field=exist_class)"
   ]
  },
  {
   "cell_type": "code",
   "execution_count": 29,
   "metadata": {},
   "outputs": [],
   "source": [
    "status_field = 'status'\n",
    "status = unique_values(table=ccta_bike_nw,field=status_field)"
   ]
  },
  {
   "cell_type": "code",
   "execution_count": 26,
   "metadata": {},
   "outputs": [
    {
     "data": {
      "text/plain": [
       "{0: None, 1: None, 2: None, 3: None, 4: None, 5: None}"
      ]
     },
     "execution_count": 26,
     "metadata": {},
     "output_type": "execute_result"
    }
   ],
   "source": [
    "dict.fromkeys(classes,)"
   ]
  },
  {
   "cell_type": "code",
   "execution_count": 30,
   "metadata": {},
   "outputs": [
    {
     "data": {
      "text/plain": [
       "{'Existing': None, 'Proposed': None}"
      ]
     },
     "execution_count": 30,
     "metadata": {},
     "output_type": "execute_result"
    }
   ],
   "source": [
    "dict.fromkeys(status,)"
   ]
  },
  {
   "cell_type": "code",
   "execution_count": 27,
   "metadata": {},
   "outputs": [],
   "source": [
    "# Typically we would not keep the 0 class but this should be kept for Contra Costa. 0 is any bike facility that is unpaved or dirt. \n",
    "\n",
    "exist_dict = {0: 0, \n",
    "              1: 1, \n",
    "              2: 2, \n",
    "              3: 3, \n",
    "              4: 4, \n",
    "              5: 5}"
   ]
  },
  {
   "cell_type": "code",
   "execution_count": 31,
   "metadata": {},
   "outputs": [],
   "source": [
    "status_dict = {'Existing': 'Existing', \n",
    "               'Proposed': 'Planned'}"
   ]
  },
  {
   "cell_type": "code",
   "execution_count": 32,
   "metadata": {},
   "outputs": [],
   "source": [
    "remap_class_single_to_multi_columns(in_table=ccta_bike_nw,\n",
    "                                    class_field=exist_class,\n",
    "                                    status_field=status_field,\n",
    "                                    class_map_dict=exist_dict,\n",
    "                                    status_map_dict=status_dict)"
   ]
  },
  {
   "cell_type": "code",
   "execution_count": 33,
   "metadata": {},
   "outputs": [],
   "source": [
    "update_source(in_table=ccta_bike_nw,\n",
    "              field_name='source',\n",
    "              source='Contra Costa Transportation Authority')"
   ]
  },
  {
   "cell_type": "markdown",
   "metadata": {},
   "source": [
    "## Update Alameda County Attributes"
   ]
  },
  {
   "cell_type": "code",
   "execution_count": 34,
   "metadata": {},
   "outputs": [],
   "source": [
    "actc_bike_nw = 'actc_bike_network_epsg26910'\n",
    "add_required_fields(in_table=actc_bike_nw)"
   ]
  },
  {
   "cell_type": "code",
   "execution_count": 38,
   "metadata": {},
   "outputs": [],
   "source": [
    "# get unique class values\n",
    "exist_field = 'existing_f'\n",
    "classes = unique_values(table=actc_bike_nw,field=exist_field)"
   ]
  },
  {
   "cell_type": "code",
   "execution_count": 39,
   "metadata": {},
   "outputs": [],
   "source": [
    "planned_field = 'planned_fa'\n",
    "proposed = unique_values(table=actc_bike_nw,field=planned_field)"
   ]
  },
  {
   "cell_type": "code",
   "execution_count": 40,
   "metadata": {},
   "outputs": [
    {
     "data": {
      "text/plain": [
       "{' ': '', 'Class I - Shared Use Path': '', 'Class II - Bike Lane': '', 'Class III - Shared Lane': '', 'Class IIIe - Bike Boulevard': '', 'Class IIb - Buffered Bike Lane': '', 'Class IV - Proteced Bike Lane': ''}"
      ]
     },
     "execution_count": 40,
     "metadata": {},
     "output_type": "execute_result"
    }
   ],
   "source": [
    "dict.fromkeys(classes,'')"
   ]
  },
  {
   "cell_type": "code",
   "execution_count": 41,
   "metadata": {},
   "outputs": [
    {
     "data": {
      "text/plain": [
       "{' ': '', 'Class I - Shared Use Path': '', 'Class II - Bike Lane': '', 'Class III - Shared Lane': '', 'Class IIIe - Bike Boulevard': '', 'Class IIb - Buffered Bike Lane': '', 'Class IV - Proteced Bike Lane': '', 'Study Corridor': ''}"
      ]
     },
     "execution_count": 41,
     "metadata": {},
     "output_type": "execute_result"
    }
   ],
   "source": [
    "dict.fromkeys(proposed,'')"
   ]
  },
  {
   "cell_type": "code",
   "execution_count": 44,
   "metadata": {},
   "outputs": [],
   "source": [
    "exist_dict = {'Class I - Shared Use Path': 1, \n",
    "              'Class II - Bike Lane': 2, \n",
    "              'Class III - Shared Lane': 3, \n",
    "              'Class IIIe - Bike Boulevard': 3, \n",
    "              'Class IIb - Buffered Bike Lane': 2, \n",
    "              'Class IV - Proteced Bike Lane': 4}"
   ]
  },
  {
   "cell_type": "code",
   "execution_count": 45,
   "metadata": {},
   "outputs": [],
   "source": [
    "prop_dict = {'Class I - Shared Use Path': 1, \n",
    "             'Class II - Bike Lane': 2, \n",
    "             'Class III - Shared Lane': 3, \n",
    "             'Class IIIe - Bike Boulevard': 3, \n",
    "             'Class IIb - Buffered Bike Lane': 2, \n",
    "             'Class IV - Proteced Bike Lane': 4, \n",
    "             'Study Corridor': None}"
   ]
  },
  {
   "cell_type": "code",
   "execution_count": 46,
   "metadata": {},
   "outputs": [],
   "source": [
    "remap_class_multi_columns(in_table=actc_bike_nw,\n",
    "                          exist_field=exist_field,\n",
    "                          plan_field=planned_field,\n",
    "                          exist_map_dict=exist_dict,\n",
    "                          plan_map_dict=prop_dict)"
   ]
  },
  {
   "cell_type": "code",
   "execution_count": 47,
   "metadata": {},
   "outputs": [],
   "source": [
    "# Update source column\n",
    "update_source(in_table=actc_bike_nw,\n",
    "              field_name='source',\n",
    "              source='Alameda County Transportation Authority')"
   ]
  },
  {
   "cell_type": "markdown",
   "metadata": {},
   "source": [
    "## Update Santa Clara County Attributes"
   ]
  },
  {
   "cell_type": "code",
   "execution_count": 48,
   "metadata": {},
   "outputs": [],
   "source": [
    "vta_bike_nw = 'vta_bike_network_epsg26910'\n",
    "add_required_fields(in_table=vta_bike_nw)"
   ]
  },
  {
   "cell_type": "code",
   "execution_count": 49,
   "metadata": {},
   "outputs": [],
   "source": [
    "# get unique class values\n",
    "class_field = 'BikeClassN'\n",
    "classes = unique_values(table=vta_bike_nw,field=class_field)"
   ]
  },
  {
   "cell_type": "code",
   "execution_count": 51,
   "metadata": {},
   "outputs": [],
   "source": [
    "# get unique status values\n",
    "status_field = 'ExPrStatus'\n",
    "status = unique_values(table=vta_bike_nw,field=status_field)"
   ]
  },
  {
   "cell_type": "code",
   "execution_count": 52,
   "metadata": {},
   "outputs": [
    {
     "data": {
      "text/plain": [
       "{0: '', 1: '', 2: '', 3: '', 4: ''}"
      ]
     },
     "execution_count": 52,
     "metadata": {},
     "output_type": "execute_result"
    }
   ],
   "source": [
    "dict.fromkeys(classes,'')"
   ]
  },
  {
   "cell_type": "code",
   "execution_count": 53,
   "metadata": {},
   "outputs": [
    {
     "data": {
      "text/plain": [
       "{'Existing': '', 'Proposed': ''}"
      ]
     },
     "execution_count": 53,
     "metadata": {},
     "output_type": "execute_result"
    }
   ],
   "source": [
    "dict.fromkeys(status,'')"
   ]
  },
  {
   "cell_type": "code",
   "execution_count": 54,
   "metadata": {},
   "outputs": [],
   "source": [
    "exist_dict = {0: None, \n",
    "              1: 1, \n",
    "              2: 2, \n",
    "              3: 3, \n",
    "              4: 4}"
   ]
  },
  {
   "cell_type": "code",
   "execution_count": 55,
   "metadata": {},
   "outputs": [],
   "source": [
    "status_dict = {'Existing': 'Existing', \n",
    "               'Proposed': 'Planned'}"
   ]
  },
  {
   "cell_type": "code",
   "execution_count": 56,
   "metadata": {},
   "outputs": [],
   "source": [
    "remap_class_single_to_multi_columns(in_table=vta_bike_nw,\n",
    "                                    class_field=class_field,\n",
    "                                    status_field=status_field,\n",
    "                                    class_map_dict=exist_dict,\n",
    "                                    status_map_dict=status_dict)"
   ]
  },
  {
   "cell_type": "code",
   "execution_count": 57,
   "metadata": {},
   "outputs": [],
   "source": [
    "update_source(in_table=vta_bike_nw,\n",
    "              field_name='source',\n",
    "              source='Valley Transportation Authority')"
   ]
  },
  {
   "cell_type": "markdown",
   "metadata": {},
   "source": [
    "## Update San Mateo County Attributes"
   ]
  },
  {
   "cell_type": "code",
   "execution_count": 59,
   "metadata": {},
   "outputs": [],
   "source": [
    "ccag_bike_nw = 'ccag_bike_network_epsg26910'\n",
    "add_required_fields(in_table=ccag_bike_nw)"
   ]
  },
  {
   "cell_type": "code",
   "execution_count": 60,
   "metadata": {},
   "outputs": [],
   "source": [
    "exist_field = 'existing_facility'\n",
    "exist = unique_values(table=ccag_bike_nw,\n",
    "                      field=exist_field)"
   ]
  },
  {
   "cell_type": "code",
   "execution_count": 61,
   "metadata": {},
   "outputs": [],
   "source": [
    "prop_field = 'final_recommended_facility'\n",
    "proposed = unique_values(table=ccag_bike_nw,\n",
    "                        field=prop_field)"
   ]
  },
  {
   "cell_type": "code",
   "execution_count": 62,
   "metadata": {},
   "outputs": [
    {
     "data": {
      "text/plain": [
       "{'Class 1 Path': '', 'Class 2 Bicycle Lane': '', 'Class 2b Buffered Bicycle Lane': '', 'Class 3 Bicycle Route': '', 'Class 3b Bicycle Boulevard': '', 'Class 4 Separated Bicycle Lane': ''}"
      ]
     },
     "execution_count": 62,
     "metadata": {},
     "output_type": "execute_result"
    }
   ],
   "source": [
    "dict.fromkeys(exist,'')"
   ]
  },
  {
   "cell_type": "code",
   "execution_count": 63,
   "metadata": {},
   "outputs": [
    {
     "data": {
      "text/plain": [
       "{'Class 1 Path': '', 'Class 2 Bicycle Lane': '', 'Class 2b Buffered Bicycle Lane': '', 'Class 3 Bicycle Route': '', 'Class 3b Bicycle Boulevard': '', 'Class 3c Bicycle Route with Wide Shoulders': '', 'Class 4 Separated Bicycle Lane': '', 'Keep Exising Facility': '', 'Undetermined Facility Type': ''}"
      ]
     },
     "execution_count": 63,
     "metadata": {},
     "output_type": "execute_result"
    }
   ],
   "source": [
    "dict.fromkeys(proposed,'')"
   ]
  },
  {
   "cell_type": "code",
   "execution_count": 64,
   "metadata": {},
   "outputs": [],
   "source": [
    "exist_dict = {'Class 1 Path': 1, \n",
    "              'Class 2 Bicycle Lane': 2, \n",
    "              'Class 2b Buffered Bicycle Lane': 2, \n",
    "              'Class 3 Bicycle Route': 3, \n",
    "              'Class 3b Bicycle Boulevard': 3, \n",
    "              'Class 4 Separated Bicycle Lane': 4}"
   ]
  },
  {
   "cell_type": "code",
   "execution_count": 65,
   "metadata": {},
   "outputs": [],
   "source": [
    "prop_dict = {'Class 1 Path': 1, \n",
    "             'Class 2 Bicycle Lane': 2, \n",
    "             'Class 2b Buffered Bicycle Lane': 2, \n",
    "             'Class 3 Bicycle Route': 3, \n",
    "             'Class 3b Bicycle Boulevard': 3, \n",
    "             'Class 3c Bicycle Route with Wide Shoulders': 3, \n",
    "             'Class 4 Separated Bicycle Lane': 4, \n",
    "             'Keep Exising Facility': None, \n",
    "             'Undetermined Facility Type': None}"
   ]
  },
  {
   "cell_type": "code",
   "execution_count": 68,
   "metadata": {},
   "outputs": [],
   "source": [
    "remap_class_multi_columns(in_table=ccag_bike_nw,\n",
    "                          exist_field=exist_field,\n",
    "                          plan_field=prop_field,\n",
    "                          exist_map_dict=exist_dict,\n",
    "                          plan_map_dict=prop_dict)"
   ]
  },
  {
   "cell_type": "code",
   "execution_count": 69,
   "metadata": {},
   "outputs": [],
   "source": [
    "update_source(in_table=ccag_bike_nw,\n",
    "              field_name='source',\n",
    "              source='City/County Association of Governments San Mateo')"
   ]
  },
  {
   "cell_type": "markdown",
   "metadata": {},
   "source": [
    "## Update San Francisco County Attributes"
   ]
  },
  {
   "cell_type": "code",
   "execution_count": 70,
   "metadata": {},
   "outputs": [],
   "source": [
    "sfcta_bike_nw = 'sfcta_bike_network_epsg26910'\n",
    "add_required_fields(in_table=sfcta_bike_nw)"
   ]
  },
  {
   "cell_type": "code",
   "execution_count": 71,
   "metadata": {},
   "outputs": [],
   "source": [
    "#get unique class values\n",
    "class_field = 'FACILITY_T'\n",
    "classes = unique_values(table=sfcta_bike_nw,field=class_field)"
   ]
  },
  {
   "cell_type": "code",
   "execution_count": 72,
   "metadata": {},
   "outputs": [
    {
     "data": {
      "text/plain": [
       "{'CLASS I': '', 'CLASS II': '', 'CLASS III': '', 'CLASS IV': '', 'CLASS iii': ''}"
      ]
     },
     "execution_count": 72,
     "metadata": {},
     "output_type": "execute_result"
    }
   ],
   "source": [
    "dict.fromkeys(classes,'')"
   ]
  },
  {
   "cell_type": "code",
   "execution_count": 73,
   "metadata": {},
   "outputs": [],
   "source": [
    "exist_dict = {'CLASS I': 1, \n",
    "              'CLASS II': 2, \n",
    "              'CLASS III': 3, \n",
    "              'CLASS IV': 4, \n",
    "              'CLASS iii': 3}"
   ]
  },
  {
   "cell_type": "code",
   "execution_count": 75,
   "metadata": {},
   "outputs": [],
   "source": [
    "remap_field_values(fc=sfcta_bike_nw,\n",
    "                   input_field=class_field,\n",
    "                   output_field='ex_class',\n",
    "                   map_dictionary=exist_dict)"
   ]
  },
  {
   "cell_type": "code",
   "execution_count": 76,
   "metadata": {},
   "outputs": [],
   "source": [
    "#Update source column \n",
    "\n",
    "update_source(in_table=sfcta_bike_nw,field_name='source',source='San Francisco County Transportation Authority')"
   ]
  },
  {
   "cell_type": "markdown",
   "metadata": {},
   "source": [
    "## Merge County Bike Networks"
   ]
  },
  {
   "cell_type": "code",
   "execution_count": 87,
   "metadata": {},
   "outputs": [
    {
     "data": {
      "text/plain": [
       "['regional_bikeway_network_2019', 'nvta_bike_network_epsg26910', 'sta_bike_network_epsg26910', 'sfcta_bike_network_epsg26910', 'actc_bike_network_epsg26910', 'vta_bike_network_epsg26910', 'ccta_bike_network_epsg26910', 'tam_bike_network_epsg29610', 'ccag_bike_network_epsg26910', 'scta_bike_network_epsg26910', 'regional_bike_facilities_2021_epsg26910', 'regional_bikeway_network_2019_epsg26910', 'oakland_bike_network_epsg26910']"
      ]
     },
     "execution_count": 87,
     "metadata": {},
     "output_type": "execute_result"
    }
   ],
   "source": [
    "arcpy.ListFeatureClasses()"
   ]
  },
  {
   "cell_type": "code",
   "execution_count": 89,
   "metadata": {},
   "outputs": [
    {
     "name": "stdout",
     "output_type": "stream",
     "text": [
      "Selected field list:\n",
      "source\n",
      "ex_class\n",
      "pln_class\n",
      "\n",
      "\n",
      "Merging feature classes...\n",
      "\n",
      "Merge complete\n"
     ]
    },
    {
     "data": {
      "text/html": [
       "<h2>Output</h2>Z:\\Documents\\ArcGIS\\Projects\\Active Transportation\\Active Transportation.gdb\\regional_bike_facilities_2021_epsg26910<h2>Messages</h2>Start Time: Friday, August 13, 2021 12:42:16 PM<br/>Succeeded at Friday, August 13, 2021 12:42:37 PM (Elapsed Time: 20.39 seconds)<br/><style>.rendered_html td, .rendered_html th {text-align: left;}.rendered_html tbody {border: 1px solid black;}</style>"
      ],
      "text/plain": [
       "<Result 'Z:\\\\Documents\\\\ArcGIS\\\\Projects\\\\Active Transportation\\\\Active Transportation.gdb\\\\regional_bike_facilities_2021_epsg26910'>"
      ]
     },
     "execution_count": 89,
     "metadata": {},
     "output_type": "execute_result"
    }
   ],
   "source": [
    "dataset_list = ['nvta_bike_network_epsg26910', \n",
    "                'sta_bike_network_epsg26910', \n",
    "                'sfcta_bike_network_epsg26910', \n",
    "                'actc_bike_network_epsg26910', \n",
    "                'vta_bike_network_epsg26910', \n",
    "                'ccta_bike_network_epsg26910', \n",
    "                'tam_bike_network_epsg29610', \n",
    "                'ccag_bike_network_epsg26910', \n",
    "                'scta_bike_network_epsg26910']\n",
    "output_fields = ['source','ex_class','pln_class']\n",
    "regional_bike_facilities = 'regional_bike_facilities_2021_epsg26910'\n",
    "merge_multiple_datasets(dataset_list=dataset_list,\n",
    "                        select_output_fields=output_fields,\n",
    "                        output_fc=regional_bike_facilities)"
   ]
  },
  {
   "cell_type": "markdown",
   "metadata": {},
   "source": [
    "## Update Oakland Attributes"
   ]
  },
  {
   "cell_type": "code",
   "execution_count": 78,
   "metadata": {},
   "outputs": [],
   "source": [
    "oak_bike_nw = 'oakland_bike_network_epsg26910'\n",
    "add_required_fields(in_table=oak_bike_nw)"
   ]
  },
  {
   "cell_type": "code",
   "execution_count": 79,
   "metadata": {},
   "outputs": [],
   "source": [
    "exist_field = 'existingcl'\n",
    "exist = unique_values(table=oak_bike_nw,field=exist_field)"
   ]
  },
  {
   "cell_type": "code",
   "execution_count": 80,
   "metadata": {},
   "outputs": [],
   "source": [
    "prop_field = 'proposedcl'\n",
    "proposed = unique_values(table=oak_bike_nw,field=prop_field)"
   ]
  },
  {
   "cell_type": "code",
   "execution_count": 81,
   "metadata": {},
   "outputs": [
    {
     "data": {
      "text/plain": [
       "{'0': '', '0.0': '', '1': '', '1X': '', '2': '', '2.0': '', '2.3': '', '2.3A': '', '2.3B': '', '2B': '', '2B.0': '', '2B.2': '', '2B.3A': '', '3': '', '3.0': '', '3A': '', '3A.0': '', '3A.3': '', '3B': '', '4': '', '4.2': '', '4.2B': '', '4.3A': ''}"
      ]
     },
     "execution_count": 81,
     "metadata": {},
     "output_type": "execute_result"
    }
   ],
   "source": [
    "dict.fromkeys(exist,'')"
   ]
  },
  {
   "cell_type": "code",
   "execution_count": 82,
   "metadata": {},
   "outputs": [
    {
     "data": {
      "text/plain": [
       "{'0': '', '1': '', '2': '', '2.0': '', '2.3A': '', '2.3B': '', '2B': '', '2B.0': '', '2B.2': '', '2B.3A': '', '3': '', '3A': '', '3B': '', '4': ''}"
      ]
     },
     "execution_count": 82,
     "metadata": {},
     "output_type": "execute_result"
    }
   ],
   "source": [
    "dict.fromkeys(proposed,'')"
   ]
  },
  {
   "cell_type": "code",
   "execution_count": 83,
   "metadata": {},
   "outputs": [],
   "source": [
    "exist_dict = {'0': None, \n",
    "              '0.0': None, \n",
    "              '1': 1, \n",
    "              '1X': 1, \n",
    "              '2': 2, \n",
    "              '2.0': 2, \n",
    "              '2.3': 2, \n",
    "              '2.3A': 2, \n",
    "              '2.3B': 2, \n",
    "              '2B': 2, \n",
    "              '2B.0': 2, \n",
    "              '2B.2': 2, \n",
    "              '2B.3A': 2, \n",
    "              '3': 3, \n",
    "              '3.0': 3, \n",
    "              '3A': 3, \n",
    "              '3A.0': 3, \n",
    "              '3A.3': 3, \n",
    "              '3B': 3, \n",
    "              '4': 4, \n",
    "              '4.2': 4, \n",
    "              '4.2B': 4, \n",
    "              '4.3A': 4}"
   ]
  },
  {
   "cell_type": "code",
   "execution_count": 84,
   "metadata": {},
   "outputs": [],
   "source": [
    "prop_dict = {'0': None, \n",
    "             '1': 1, \n",
    "             '2': 2, \n",
    "             '2.0': 2, \n",
    "             '2.3A': 2, \n",
    "             '2.3B': 2, \n",
    "             '2B': 2, \n",
    "             '2B.0': 2, \n",
    "             '2B.2': 2, \n",
    "             '2B.3A': 2, \n",
    "             '3': 3, \n",
    "             '3A': 3, \n",
    "             '3B': 3, \n",
    "             '4': 4}"
   ]
  },
  {
   "cell_type": "code",
   "execution_count": 85,
   "metadata": {},
   "outputs": [],
   "source": [
    "remap_class_multi_columns(in_table=oak_bike_nw,\n",
    "                          exist_field=exist_field,\n",
    "                          plan_field=prop_field,\n",
    "                          exist_map_dict=exist_dict,\n",
    "                          plan_map_dict=prop_dict)"
   ]
  },
  {
   "cell_type": "code",
   "execution_count": 21,
   "metadata": {},
   "outputs": [],
   "source": [
    "# update_fields = ['existingcl','proposedcl','status']\n",
    "# with arcpy.da.UpdateCursor(in_table=oak_bike_nw,\n",
    "#                            field_names=update_fields) as status_cursor:\n",
    "#     for row in status_cursor:\n",
    "#         if row[0] != '0' and row[0] != '0.0':\n",
    "#             row[2] = 'Existing'\n",
    "#             status_cursor.updateRow(row)\n",
    "#         elif (row[1] != 0) and (row[0] == '0' or row[0] == '0.0'):\n",
    "#             row[2] = 'Proposed'\n",
    "#             status_cursor.updateRow(row)\n",
    "#         else:\n",
    "#             row[2] = None\n",
    "#             status_cursor.updateRow(row)\n",
    "# del status_cursor"
   ]
  },
  {
   "cell_type": "code",
   "execution_count": 86,
   "metadata": {},
   "outputs": [],
   "source": [
    "update_source(in_table=oak_bike_nw,field_name='source',source='City of Oakland')"
   ]
  },
  {
   "cell_type": "markdown",
   "metadata": {},
   "source": [
    "## Update Bay Area Trails Collaborative Attributes"
   ]
  },
  {
   "cell_type": "code",
   "execution_count": 90,
   "metadata": {},
   "outputs": [],
   "source": [
    "batc_bike_nw = 'batc_bike_network_epsg26910'\n",
    "add_required_fields(in_table=batc_bike_nw)"
   ]
  },
  {
   "cell_type": "code",
   "execution_count": 91,
   "metadata": {},
   "outputs": [],
   "source": [
    "exist_field = 'TrailClass'\n",
    "classes = unique_values(table=batc_bike_nw,field=exist_field)"
   ]
  },
  {
   "cell_type": "code",
   "execution_count": 92,
   "metadata": {},
   "outputs": [
    {
     "data": {
      "text/plain": [
       "{'Class 1 bikeway': '', 'Class 2 bikeway': '', 'Class 3 bikeway': '', 'Class 4 bikeway': '', 'Multi-use trail': '', 'Pedestrian-only trail': '', 'TBD': '', 'Uncertain': ''}"
      ]
     },
     "execution_count": 92,
     "metadata": {},
     "output_type": "execute_result"
    }
   ],
   "source": [
    "dict.fromkeys(classes,'')"
   ]
  },
  {
   "cell_type": "code",
   "execution_count": 93,
   "metadata": {},
   "outputs": [],
   "source": [
    "class_dict = {'Class 1 bikeway': 1, \n",
    "              'Class 2 bikeway': 2, \n",
    "              'Class 3 bikeway': 3, \n",
    "              'Class 4 bikeway': 4, \n",
    "              'Multi-use trail': 1, \n",
    "              'Pedestrian-only trail': None, \n",
    "              'TBD': None, \n",
    "              'Uncertain': None}"
   ]
  },
  {
   "cell_type": "code",
   "execution_count": 95,
   "metadata": {},
   "outputs": [],
   "source": [
    "remap_field_values(fc=batc_bike_nw,\n",
    "                   input_field='TrailClass',\n",
    "                   output_field='ex_class',\n",
    "                   map_dictionary=class_dict)"
   ]
  },
  {
   "cell_type": "code",
   "execution_count": 96,
   "metadata": {},
   "outputs": [],
   "source": [
    "update_source(in_table=batc_bike_nw,field_name='source',source='Bay Area Trails Collaborative')"
   ]
  },
  {
   "cell_type": "code",
   "execution_count": null,
   "metadata": {},
   "outputs": [],
   "source": []
  }
 ],
 "metadata": {
  "kernelspec": {
   "display_name": "ArcGISPro",
   "language": "Python",
   "name": "python3"
  },
  "language_info": {
   "file_extension": ".py",
   "name": "python",
   "version": "3"
  }
 },
 "nbformat": 4,
 "nbformat_minor": 2
}
