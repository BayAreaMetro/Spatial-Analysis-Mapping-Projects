{
 "cells": [
  {
   "cell_type": "code",
   "execution_count": 1,
   "id": "dec968d1",
   "metadata": {},
   "outputs": [],
   "source": [
    "import sys\n",
    "import getpass\n",
    "import os\n",
    "import pandas as pd\n",
    "import fiona\n",
    "import geopandas as gpd\n",
    "from arcgis import gis\n",
    "username = getpass.getuser()\n",
    "\n",
    "user = getpass.getuser()\n",
    "sys.dont_write_bytecode = True\n",
    "\n",
    "# for DataViz team members\n",
    "sys.path.insert(0, '/Users/{}/Box/DataViz Projects/Utility Code'.format(user))\n",
    "\n",
    "from utils_io import *"
   ]
  },
  {
   "cell_type": "code",
   "execution_count": 2,
   "id": "36619a88",
   "metadata": {},
   "outputs": [
    {
     "name": "stdout",
     "output_type": "stream",
     "text": [
      "Enter password: ········\n"
     ]
    }
   ],
   "source": [
    "client = gis.GIS(url='https://arcgis.ad.mtc.ca.gov/portal/home/',username=username,verify_cert=False)"
   ]
  },
  {
   "cell_type": "code",
   "execution_count": 3,
   "id": "067b9eb2",
   "metadata": {},
   "outputs": [],
   "source": [
    "transit_dir = os.path.join('/Users',\n",
    "                        username,\n",
    "                        'Box',\n",
    "                        'DataViz Projects',\n",
    "                        'Spatial Analysis and Mapping',\n",
    "                        'Active Transportation Plan',\n",
    "                        'Data',\n",
    "                        'regional_transit')"
   ]
  },
  {
   "cell_type": "code",
   "execution_count": 65,
   "id": "b83495ec",
   "metadata": {},
   "outputs": [],
   "source": [
    "active_trans_dir = os.path.join('/Users',\n",
    "                        username,\n",
    "                        'Box',\n",
    "                        'DataViz Projects',\n",
    "                        'Spatial Analysis and Mapping',\n",
    "                        'Active Transportation Plan',\n",
    "                        'Data',\n",
    "                        'Active Transportation.gdb')"
   ]
  },
  {
   "cell_type": "markdown",
   "id": "af320154",
   "metadata": {},
   "source": [
    "## Read most recent transit data from"
   ]
  },
  {
   "cell_type": "code",
   "execution_count": 51,
   "id": "41612a35",
   "metadata": {},
   "outputs": [],
   "source": [
    "transit_rts_precovid = pull_geodata_from_argis(arcgis_data_id='2a519083d0a44a33940e469e427c8457',\n",
    "                                               client=client)"
   ]
  },
  {
   "cell_type": "code",
   "execution_count": 66,
   "id": "f3cc88bb",
   "metadata": {},
   "outputs": [],
   "source": [
    "transit_rts_current = gpd.read_file(active_trans_dir,\n",
    "                            driver='FileGDB',\n",
    "                            layer='regional_transit_routes_oct_2021')"
   ]
  },
  {
   "cell_type": "code",
   "execution_count": 67,
   "id": "0072d690",
   "metadata": {},
   "outputs": [],
   "source": [
    "#Rename current columns to match precovid columns\n",
    "rename_dict = {'route_short_name':'route_s_nm',\n",
    "               'route_long_name':'route_l_nm',\n",
    "               'route_type_text':'route_type'}\n",
    "transit_rts_current.rename(columns=rename_dict,inplace=True)"
   ]
  },
  {
   "cell_type": "code",
   "execution_count": 68,
   "id": "218e8315",
   "metadata": {},
   "outputs": [],
   "source": [
    "transit_rts_current.rename_geometry(col='geom',inplace=True)"
   ]
  },
  {
   "cell_type": "code",
   "execution_count": 69,
   "id": "168f308f",
   "metadata": {},
   "outputs": [],
   "source": [
    "#Add col to pre-covid routes to indicate vintage\n",
    "transit_rts_precovid['vintage'] = 'January 2020'"
   ]
  },
  {
   "cell_type": "code",
   "execution_count": 70,
   "id": "a932ad79",
   "metadata": {},
   "outputs": [],
   "source": [
    "#Add col to current routes to indicate vintage\n",
    "transit_rts_current['vintage'] = 'October 2021'"
   ]
  },
  {
   "cell_type": "code",
   "execution_count": 71,
   "id": "d13cb587",
   "metadata": {},
   "outputs": [],
   "source": [
    "#Drop Napa Valley Vine Transit pre-covid route E\n",
    "transit_rts_precovid.drop(transit_rts_precovid[transit_rts_precovid['route_id'] == 'VN:E'].index,\n",
    "                          inplace=True)"
   ]
  },
  {
   "cell_type": "code",
   "execution_count": 72,
   "id": "39edca24",
   "metadata": {},
   "outputs": [],
   "source": [
    "#Subset new Napa Valley Vine Transit Routes\n",
    "out_cols = ['route_id',\n",
    "            'agency_id',\n",
    "            'route_s_nm',\n",
    "            'route_l_nm',\n",
    "            'route_type',\n",
    "            'vintage',\n",
    "            'geom']\n",
    "trans_rts_current_vn = transit_rts_current[out_cols][transit_rts_current['route_id']\n",
    "                                                     .isin(['VN:E','VN:S','VN:N','VN:W'])]"
   ]
  },
  {
   "cell_type": "code",
   "execution_count": 73,
   "id": "a18ee0c4",
   "metadata": {},
   "outputs": [
    {
     "data": {
      "text/html": [
       "<div>\n",
       "<style scoped>\n",
       "    .dataframe tbody tr th:only-of-type {\n",
       "        vertical-align: middle;\n",
       "    }\n",
       "\n",
       "    .dataframe tbody tr th {\n",
       "        vertical-align: top;\n",
       "    }\n",
       "\n",
       "    .dataframe thead th {\n",
       "        text-align: right;\n",
       "    }\n",
       "</style>\n",
       "<table border=\"1\" class=\"dataframe\">\n",
       "  <thead>\n",
       "    <tr style=\"text-align: right;\">\n",
       "      <th></th>\n",
       "      <th>SHAPE__Length</th>\n",
       "      <th>agency_id</th>\n",
       "      <th>agency_nm</th>\n",
       "      <th>objectid</th>\n",
       "      <th>route_id</th>\n",
       "      <th>route_l_nm</th>\n",
       "      <th>route_s_nm</th>\n",
       "      <th>route_type</th>\n",
       "      <th>geom</th>\n",
       "      <th>vintage</th>\n",
       "    </tr>\n",
       "  </thead>\n",
       "  <tbody>\n",
       "    <tr>\n",
       "      <th>0</th>\n",
       "      <td>0.185912</td>\n",
       "      <td>SR</td>\n",
       "      <td>Santa Rosa CityBus</td>\n",
       "      <td>1</td>\n",
       "      <td>SR:4</td>\n",
       "      <td>Rincon Valley</td>\n",
       "      <td>4</td>\n",
       "      <td>Bus</td>\n",
       "      <td>MULTILINESTRING ((-122.71373 38.43869, -122.71...</td>\n",
       "      <td>January 2020</td>\n",
       "    </tr>\n",
       "    <tr>\n",
       "      <th>1</th>\n",
       "      <td>0.185912</td>\n",
       "      <td>SR</td>\n",
       "      <td>Santa Rosa CityBus</td>\n",
       "      <td>2</td>\n",
       "      <td>SR:4</td>\n",
       "      <td>Rincon Valley</td>\n",
       "      <td>4</td>\n",
       "      <td>Bus</td>\n",
       "      <td>MULTILINESTRING ((-122.71373 38.43869, -122.71...</td>\n",
       "      <td>January 2020</td>\n",
       "    </tr>\n",
       "    <tr>\n",
       "      <th>2</th>\n",
       "      <td>0.074137</td>\n",
       "      <td>SR</td>\n",
       "      <td>Santa Rosa CityBus</td>\n",
       "      <td>3</td>\n",
       "      <td>SR:5</td>\n",
       "      <td>Petaluma Hill Rd</td>\n",
       "      <td>5</td>\n",
       "      <td>Bus</td>\n",
       "      <td>MULTILINESTRING ((-122.71371 38.43869, -122.71...</td>\n",
       "      <td>January 2020</td>\n",
       "    </tr>\n",
       "    <tr>\n",
       "      <th>3</th>\n",
       "      <td>0.059102</td>\n",
       "      <td>SR</td>\n",
       "      <td>Santa Rosa CityBus</td>\n",
       "      <td>4</td>\n",
       "      <td>SR:1</td>\n",
       "      <td>Mendocino Ave</td>\n",
       "      <td>1</td>\n",
       "      <td>Bus</td>\n",
       "      <td>MULTILINESTRING ((-122.73259 38.45713, -122.73...</td>\n",
       "      <td>January 2020</td>\n",
       "    </tr>\n",
       "    <tr>\n",
       "      <th>4</th>\n",
       "      <td>0.225273</td>\n",
       "      <td>SC</td>\n",
       "      <td>VTA</td>\n",
       "      <td>5</td>\n",
       "      <td>SC:26</td>\n",
       "      <td>West Valley College - Eastridge</td>\n",
       "      <td>26</td>\n",
       "      <td>Bus</td>\n",
       "      <td>MULTILINESTRING ((-121.81099 37.32716, -121.81...</td>\n",
       "      <td>January 2020</td>\n",
       "    </tr>\n",
       "  </tbody>\n",
       "</table>\n",
       "</div>"
      ],
      "text/plain": [
       "   SHAPE__Length agency_id           agency_nm  objectid route_id  \\\n",
       "0       0.185912        SR  Santa Rosa CityBus         1     SR:4   \n",
       "1       0.185912        SR  Santa Rosa CityBus         2     SR:4   \n",
       "2       0.074137        SR  Santa Rosa CityBus         3     SR:5   \n",
       "3       0.059102        SR  Santa Rosa CityBus         4     SR:1   \n",
       "4       0.225273        SC                 VTA         5    SC:26   \n",
       "\n",
       "                        route_l_nm route_s_nm route_type  \\\n",
       "0                    Rincon Valley          4        Bus   \n",
       "1                    Rincon Valley          4        Bus   \n",
       "2                 Petaluma Hill Rd          5        Bus   \n",
       "3                    Mendocino Ave          1        Bus   \n",
       "4  West Valley College - Eastridge         26        Bus   \n",
       "\n",
       "                                                geom       vintage  \n",
       "0  MULTILINESTRING ((-122.71373 38.43869, -122.71...  January 2020  \n",
       "1  MULTILINESTRING ((-122.71373 38.43869, -122.71...  January 2020  \n",
       "2  MULTILINESTRING ((-122.71371 38.43869, -122.71...  January 2020  \n",
       "3  MULTILINESTRING ((-122.73259 38.45713, -122.73...  January 2020  \n",
       "4  MULTILINESTRING ((-121.81099 37.32716, -121.81...  January 2020  "
      ]
     },
     "execution_count": 73,
     "metadata": {},
     "output_type": "execute_result"
    }
   ],
   "source": [
    "transit_rts_precovid.head(5)"
   ]
  },
  {
   "cell_type": "code",
   "execution_count": 74,
   "id": "89c99b7d",
   "metadata": {},
   "outputs": [
    {
     "data": {
      "text/html": [
       "<div>\n",
       "<style scoped>\n",
       "    .dataframe tbody tr th:only-of-type {\n",
       "        vertical-align: middle;\n",
       "    }\n",
       "\n",
       "    .dataframe tbody tr th {\n",
       "        vertical-align: top;\n",
       "    }\n",
       "\n",
       "    .dataframe thead th {\n",
       "        text-align: right;\n",
       "    }\n",
       "</style>\n",
       "<table border=\"1\" class=\"dataframe\">\n",
       "  <thead>\n",
       "    <tr style=\"text-align: right;\">\n",
       "      <th></th>\n",
       "      <th>route_id</th>\n",
       "      <th>agency_id</th>\n",
       "      <th>route_s_nm</th>\n",
       "      <th>route_l_nm</th>\n",
       "      <th>route_type</th>\n",
       "      <th>route_type</th>\n",
       "      <th>vintage</th>\n",
       "      <th>geom</th>\n",
       "    </tr>\n",
       "  </thead>\n",
       "  <tbody>\n",
       "    <tr>\n",
       "      <th>2970</th>\n",
       "      <td>VN:N</td>\n",
       "      <td>VN</td>\n",
       "      <td>N</td>\n",
       "      <td>Trancas | North Napa</td>\n",
       "      <td>3</td>\n",
       "      <td>Bus</td>\n",
       "      <td>October 2021</td>\n",
       "      <td>MULTILINESTRING ((-122.28026 38.29754, -122.28...</td>\n",
       "    </tr>\n",
       "    <tr>\n",
       "      <th>2971</th>\n",
       "      <td>VN:N</td>\n",
       "      <td>VN</td>\n",
       "      <td>N</td>\n",
       "      <td>Trancas | North Napa</td>\n",
       "      <td>3</td>\n",
       "      <td>Bus</td>\n",
       "      <td>October 2021</td>\n",
       "      <td>MULTILINESTRING ((-122.31050 38.32224, -122.31...</td>\n",
       "    </tr>\n",
       "    <tr>\n",
       "      <th>2972</th>\n",
       "      <td>VN:S</td>\n",
       "      <td>VN</td>\n",
       "      <td>S</td>\n",
       "      <td>Imola | South Napa</td>\n",
       "      <td>3</td>\n",
       "      <td>Bus</td>\n",
       "      <td>October 2021</td>\n",
       "      <td>MULTILINESTRING ((-122.27984 38.29752, -122.27...</td>\n",
       "    </tr>\n",
       "    <tr>\n",
       "      <th>2973</th>\n",
       "      <td>VN:S</td>\n",
       "      <td>VN</td>\n",
       "      <td>S</td>\n",
       "      <td>Imola | South Napa</td>\n",
       "      <td>3</td>\n",
       "      <td>Bus</td>\n",
       "      <td>October 2021</td>\n",
       "      <td>MULTILINESTRING ((-122.30419 38.28765, -122.30...</td>\n",
       "    </tr>\n",
       "    <tr>\n",
       "      <th>2975</th>\n",
       "      <td>VN:W</td>\n",
       "      <td>VN</td>\n",
       "      <td>W</td>\n",
       "      <td>West</td>\n",
       "      <td>3</td>\n",
       "      <td>Bus</td>\n",
       "      <td>October 2021</td>\n",
       "      <td>MULTILINESTRING ((-122.28000 38.29751, -122.27...</td>\n",
       "    </tr>\n",
       "  </tbody>\n",
       "</table>\n",
       "</div>"
      ],
      "text/plain": [
       "     route_id agency_id route_s_nm            route_l_nm route_type  \\\n",
       "2970     VN:N        VN          N  Trancas | North Napa          3   \n",
       "2971     VN:N        VN          N  Trancas | North Napa          3   \n",
       "2972     VN:S        VN          S    Imola | South Napa          3   \n",
       "2973     VN:S        VN          S    Imola | South Napa          3   \n",
       "2975     VN:W        VN          W                  West          3   \n",
       "\n",
       "     route_type       vintage  \\\n",
       "2970        Bus  October 2021   \n",
       "2971        Bus  October 2021   \n",
       "2972        Bus  October 2021   \n",
       "2973        Bus  October 2021   \n",
       "2975        Bus  October 2021   \n",
       "\n",
       "                                                   geom  \n",
       "2970  MULTILINESTRING ((-122.28026 38.29754, -122.28...  \n",
       "2971  MULTILINESTRING ((-122.31050 38.32224, -122.31...  \n",
       "2972  MULTILINESTRING ((-122.27984 38.29752, -122.27...  \n",
       "2973  MULTILINESTRING ((-122.30419 38.28765, -122.30...  \n",
       "2975  MULTILINESTRING ((-122.28000 38.29751, -122.27...  "
      ]
     },
     "execution_count": 74,
     "metadata": {},
     "output_type": "execute_result"
    }
   ],
   "source": [
    "trans_rts_current_vn.head(5)"
   ]
  },
  {
   "cell_type": "code",
   "execution_count": 75,
   "id": "65bab667",
   "metadata": {},
   "outputs": [
    {
     "data": {
      "text/html": [
       "<div>\n",
       "<style scoped>\n",
       "    .dataframe tbody tr th:only-of-type {\n",
       "        vertical-align: middle;\n",
       "    }\n",
       "\n",
       "    .dataframe tbody tr th {\n",
       "        vertical-align: top;\n",
       "    }\n",
       "\n",
       "    .dataframe thead th {\n",
       "        text-align: right;\n",
       "    }\n",
       "</style>\n",
       "<table border=\"1\" class=\"dataframe\">\n",
       "  <thead>\n",
       "    <tr style=\"text-align: right;\">\n",
       "      <th></th>\n",
       "      <th>route_id</th>\n",
       "      <th>agency_id</th>\n",
       "      <th>route_s_nm</th>\n",
       "      <th>route_l_nm</th>\n",
       "      <th>route_type</th>\n",
       "      <th>vintage</th>\n",
       "      <th>geom</th>\n",
       "    </tr>\n",
       "  </thead>\n",
       "  <tbody>\n",
       "    <tr>\n",
       "      <th>0</th>\n",
       "      <td>SR:4</td>\n",
       "      <td>SR</td>\n",
       "      <td>4</td>\n",
       "      <td>Rincon Valley</td>\n",
       "      <td>Bus</td>\n",
       "      <td>January 2020</td>\n",
       "      <td>MULTILINESTRING ((-122.71373 38.43869, -122.71...</td>\n",
       "    </tr>\n",
       "    <tr>\n",
       "      <th>1</th>\n",
       "      <td>SR:4</td>\n",
       "      <td>SR</td>\n",
       "      <td>4</td>\n",
       "      <td>Rincon Valley</td>\n",
       "      <td>Bus</td>\n",
       "      <td>January 2020</td>\n",
       "      <td>MULTILINESTRING ((-122.71373 38.43869, -122.71...</td>\n",
       "    </tr>\n",
       "    <tr>\n",
       "      <th>2</th>\n",
       "      <td>SR:5</td>\n",
       "      <td>SR</td>\n",
       "      <td>5</td>\n",
       "      <td>Petaluma Hill Rd</td>\n",
       "      <td>Bus</td>\n",
       "      <td>January 2020</td>\n",
       "      <td>MULTILINESTRING ((-122.71371 38.43869, -122.71...</td>\n",
       "    </tr>\n",
       "    <tr>\n",
       "      <th>3</th>\n",
       "      <td>SR:1</td>\n",
       "      <td>SR</td>\n",
       "      <td>1</td>\n",
       "      <td>Mendocino Ave</td>\n",
       "      <td>Bus</td>\n",
       "      <td>January 2020</td>\n",
       "      <td>MULTILINESTRING ((-122.73259 38.45713, -122.73...</td>\n",
       "    </tr>\n",
       "    <tr>\n",
       "      <th>4</th>\n",
       "      <td>SC:26</td>\n",
       "      <td>SC</td>\n",
       "      <td>26</td>\n",
       "      <td>West Valley College - Eastridge</td>\n",
       "      <td>Bus</td>\n",
       "      <td>January 2020</td>\n",
       "      <td>MULTILINESTRING ((-121.81099 37.32716, -121.81...</td>\n",
       "    </tr>\n",
       "    <tr>\n",
       "      <th>...</th>\n",
       "      <td>...</td>\n",
       "      <td>...</td>\n",
       "      <td>...</td>\n",
       "      <td>...</td>\n",
       "      <td>...</td>\n",
       "      <td>...</td>\n",
       "      <td>...</td>\n",
       "    </tr>\n",
       "    <tr>\n",
       "      <th>5926</th>\n",
       "      <td>WH:70X</td>\n",
       "      <td>WH</td>\n",
       "      <td>70X</td>\n",
       "      <td>Pleasant Hill</td>\n",
       "      <td>Bus</td>\n",
       "      <td>January 2020</td>\n",
       "      <td>MULTILINESTRING ((-121.89941 37.70265, -121.89...</td>\n",
       "    </tr>\n",
       "    <tr>\n",
       "      <th>5927</th>\n",
       "      <td>WH:70X</td>\n",
       "      <td>WH</td>\n",
       "      <td>70X</td>\n",
       "      <td>Pleasant Hill</td>\n",
       "      <td>Bus</td>\n",
       "      <td>January 2020</td>\n",
       "      <td>MULTILINESTRING ((-122.05602 37.92812, -122.05...</td>\n",
       "    </tr>\n",
       "    <tr>\n",
       "      <th>5928</th>\n",
       "      <td>WH:70X</td>\n",
       "      <td>WH</td>\n",
       "      <td>70X</td>\n",
       "      <td>Pleasant Hill</td>\n",
       "      <td>Bus</td>\n",
       "      <td>January 2020</td>\n",
       "      <td>MULTILINESTRING ((-121.89997 37.70308, -121.89...</td>\n",
       "    </tr>\n",
       "    <tr>\n",
       "      <th>5929</th>\n",
       "      <td>WH:70X</td>\n",
       "      <td>WH</td>\n",
       "      <td>70X</td>\n",
       "      <td>Pleasant Hill</td>\n",
       "      <td>Bus</td>\n",
       "      <td>January 2020</td>\n",
       "      <td>MULTILINESTRING ((-121.89941 37.70265, -121.89...</td>\n",
       "    </tr>\n",
       "    <tr>\n",
       "      <th>5930</th>\n",
       "      <td>WH:8</td>\n",
       "      <td>WH</td>\n",
       "      <td>8</td>\n",
       "      <td>Hopyard</td>\n",
       "      <td>Bus</td>\n",
       "      <td>January 2020</td>\n",
       "      <td>MULTILINESTRING ((-121.89332 37.69994, -121.89...</td>\n",
       "    </tr>\n",
       "  </tbody>\n",
       "</table>\n",
       "<p>5927 rows × 7 columns</p>\n",
       "</div>"
      ],
      "text/plain": [
       "     route_id agency_id route_s_nm                       route_l_nm  \\\n",
       "0        SR:4        SR          4                    Rincon Valley   \n",
       "1        SR:4        SR          4                    Rincon Valley   \n",
       "2        SR:5        SR          5                 Petaluma Hill Rd   \n",
       "3        SR:1        SR          1                    Mendocino Ave   \n",
       "4       SC:26        SC         26  West Valley College - Eastridge   \n",
       "...       ...       ...        ...                              ...   \n",
       "5926   WH:70X        WH        70X                    Pleasant Hill   \n",
       "5927   WH:70X        WH        70X                    Pleasant Hill   \n",
       "5928   WH:70X        WH        70X                    Pleasant Hill   \n",
       "5929   WH:70X        WH        70X                    Pleasant Hill   \n",
       "5930     WH:8        WH          8                          Hopyard   \n",
       "\n",
       "     route_type       vintage  \\\n",
       "0           Bus  January 2020   \n",
       "1           Bus  January 2020   \n",
       "2           Bus  January 2020   \n",
       "3           Bus  January 2020   \n",
       "4           Bus  January 2020   \n",
       "...         ...           ...   \n",
       "5926        Bus  January 2020   \n",
       "5927        Bus  January 2020   \n",
       "5928        Bus  January 2020   \n",
       "5929        Bus  January 2020   \n",
       "5930        Bus  January 2020   \n",
       "\n",
       "                                                   geom  \n",
       "0     MULTILINESTRING ((-122.71373 38.43869, -122.71...  \n",
       "1     MULTILINESTRING ((-122.71373 38.43869, -122.71...  \n",
       "2     MULTILINESTRING ((-122.71371 38.43869, -122.71...  \n",
       "3     MULTILINESTRING ((-122.73259 38.45713, -122.73...  \n",
       "4     MULTILINESTRING ((-121.81099 37.32716, -121.81...  \n",
       "...                                                 ...  \n",
       "5926  MULTILINESTRING ((-121.89941 37.70265, -121.89...  \n",
       "5927  MULTILINESTRING ((-122.05602 37.92812, -122.05...  \n",
       "5928  MULTILINESTRING ((-121.89997 37.70308, -121.89...  \n",
       "5929  MULTILINESTRING ((-121.89941 37.70265, -121.89...  \n",
       "5930  MULTILINESTRING ((-121.89332 37.69994, -121.89...  \n",
       "\n",
       "[5927 rows x 7 columns]"
      ]
     },
     "execution_count": 75,
     "metadata": {},
     "output_type": "execute_result"
    }
   ],
   "source": [
    "transit_rts_precovid[out_cols]"
   ]
  },
  {
   "cell_type": "code",
   "execution_count": 76,
   "id": "00a8adae",
   "metadata": {},
   "outputs": [
    {
     "ename": "InvalidIndexError",
     "evalue": "Reindexing only valid with uniquely valued Index objects",
     "output_type": "error",
     "traceback": [
      "\u001b[0;31m---------------------------------------------------------------------------\u001b[0m",
      "\u001b[0;31mInvalidIndexError\u001b[0m                         Traceback (most recent call last)",
      "\u001b[0;32m/var/folders/9q/xt2lctm54xq6fd45m1lmgp4m0000gp/T/ipykernel_91955/2279632043.py\u001b[0m in \u001b[0;36m<module>\u001b[0;34m\u001b[0m\n\u001b[0;32m----> 1\u001b[0;31m transit_rts_precov_nv = pd.concat([transit_rts_precovid[out_cols],trans_rts_current_vn],axis=0,\n\u001b[0m\u001b[1;32m      2\u001b[0m                                   \u001b[0mignore_index\u001b[0m\u001b[0;34m=\u001b[0m\u001b[0;32mTrue\u001b[0m\u001b[0;34m,\u001b[0m\u001b[0;34m\u001b[0m\u001b[0;34m\u001b[0m\u001b[0m\n\u001b[1;32m      3\u001b[0m                                   sort=False)\n",
      "\u001b[0;32m~/anaconda3/envs/geo_env/lib/python3.9/site-packages/pandas/util/_decorators.py\u001b[0m in \u001b[0;36mwrapper\u001b[0;34m(*args, **kwargs)\u001b[0m\n\u001b[1;32m    309\u001b[0m                     \u001b[0mstacklevel\u001b[0m\u001b[0;34m=\u001b[0m\u001b[0mstacklevel\u001b[0m\u001b[0;34m,\u001b[0m\u001b[0;34m\u001b[0m\u001b[0;34m\u001b[0m\u001b[0m\n\u001b[1;32m    310\u001b[0m                 )\n\u001b[0;32m--> 311\u001b[0;31m             \u001b[0;32mreturn\u001b[0m \u001b[0mfunc\u001b[0m\u001b[0;34m(\u001b[0m\u001b[0;34m*\u001b[0m\u001b[0margs\u001b[0m\u001b[0;34m,\u001b[0m \u001b[0;34m**\u001b[0m\u001b[0mkwargs\u001b[0m\u001b[0;34m)\u001b[0m\u001b[0;34m\u001b[0m\u001b[0;34m\u001b[0m\u001b[0m\n\u001b[0m\u001b[1;32m    312\u001b[0m \u001b[0;34m\u001b[0m\u001b[0m\n\u001b[1;32m    313\u001b[0m         \u001b[0;32mreturn\u001b[0m \u001b[0mwrapper\u001b[0m\u001b[0;34m\u001b[0m\u001b[0;34m\u001b[0m\u001b[0m\n",
      "\u001b[0;32m~/anaconda3/envs/geo_env/lib/python3.9/site-packages/pandas/core/reshape/concat.py\u001b[0m in \u001b[0;36mconcat\u001b[0;34m(objs, axis, join, ignore_index, keys, levels, names, verify_integrity, sort, copy)\u001b[0m\n\u001b[1;32m    305\u001b[0m     )\n\u001b[1;32m    306\u001b[0m \u001b[0;34m\u001b[0m\u001b[0m\n\u001b[0;32m--> 307\u001b[0;31m     \u001b[0;32mreturn\u001b[0m \u001b[0mop\u001b[0m\u001b[0;34m.\u001b[0m\u001b[0mget_result\u001b[0m\u001b[0;34m(\u001b[0m\u001b[0;34m)\u001b[0m\u001b[0;34m\u001b[0m\u001b[0;34m\u001b[0m\u001b[0m\n\u001b[0m\u001b[1;32m    308\u001b[0m \u001b[0;34m\u001b[0m\u001b[0m\n\u001b[1;32m    309\u001b[0m \u001b[0;34m\u001b[0m\u001b[0m\n",
      "\u001b[0;32m~/anaconda3/envs/geo_env/lib/python3.9/site-packages/pandas/core/reshape/concat.py\u001b[0m in \u001b[0;36mget_result\u001b[0;34m(self)\u001b[0m\n\u001b[1;32m    526\u001b[0m                     \u001b[0mobj_labels\u001b[0m \u001b[0;34m=\u001b[0m \u001b[0mobj\u001b[0m\u001b[0;34m.\u001b[0m\u001b[0maxes\u001b[0m\u001b[0;34m[\u001b[0m\u001b[0;36m1\u001b[0m \u001b[0;34m-\u001b[0m \u001b[0max\u001b[0m\u001b[0;34m]\u001b[0m\u001b[0;34m\u001b[0m\u001b[0;34m\u001b[0m\u001b[0m\n\u001b[1;32m    527\u001b[0m                     \u001b[0;32mif\u001b[0m \u001b[0;32mnot\u001b[0m \u001b[0mnew_labels\u001b[0m\u001b[0;34m.\u001b[0m\u001b[0mequals\u001b[0m\u001b[0;34m(\u001b[0m\u001b[0mobj_labels\u001b[0m\u001b[0;34m)\u001b[0m\u001b[0;34m:\u001b[0m\u001b[0;34m\u001b[0m\u001b[0;34m\u001b[0m\u001b[0m\n\u001b[0;32m--> 528\u001b[0;31m                         \u001b[0mindexers\u001b[0m\u001b[0;34m[\u001b[0m\u001b[0max\u001b[0m\u001b[0;34m]\u001b[0m \u001b[0;34m=\u001b[0m \u001b[0mobj_labels\u001b[0m\u001b[0;34m.\u001b[0m\u001b[0mget_indexer\u001b[0m\u001b[0;34m(\u001b[0m\u001b[0mnew_labels\u001b[0m\u001b[0;34m)\u001b[0m\u001b[0;34m\u001b[0m\u001b[0;34m\u001b[0m\u001b[0m\n\u001b[0m\u001b[1;32m    529\u001b[0m \u001b[0;34m\u001b[0m\u001b[0m\n\u001b[1;32m    530\u001b[0m                 \u001b[0mmgrs_indexers\u001b[0m\u001b[0;34m.\u001b[0m\u001b[0mappend\u001b[0m\u001b[0;34m(\u001b[0m\u001b[0;34m(\u001b[0m\u001b[0mobj\u001b[0m\u001b[0;34m.\u001b[0m\u001b[0m_mgr\u001b[0m\u001b[0;34m,\u001b[0m \u001b[0mindexers\u001b[0m\u001b[0;34m)\u001b[0m\u001b[0;34m)\u001b[0m\u001b[0;34m\u001b[0m\u001b[0;34m\u001b[0m\u001b[0m\n",
      "\u001b[0;32m~/anaconda3/envs/geo_env/lib/python3.9/site-packages/pandas/core/indexes/base.py\u001b[0m in \u001b[0;36mget_indexer\u001b[0;34m(self, target, method, limit, tolerance)\u001b[0m\n\u001b[1;32m   3440\u001b[0m \u001b[0;34m\u001b[0m\u001b[0m\n\u001b[1;32m   3441\u001b[0m         \u001b[0;32mif\u001b[0m \u001b[0;32mnot\u001b[0m \u001b[0mself\u001b[0m\u001b[0;34m.\u001b[0m\u001b[0m_index_as_unique\u001b[0m\u001b[0;34m:\u001b[0m\u001b[0;34m\u001b[0m\u001b[0;34m\u001b[0m\u001b[0m\n\u001b[0;32m-> 3442\u001b[0;31m             \u001b[0;32mraise\u001b[0m \u001b[0mInvalidIndexError\u001b[0m\u001b[0;34m(\u001b[0m\u001b[0mself\u001b[0m\u001b[0;34m.\u001b[0m\u001b[0m_requires_unique_msg\u001b[0m\u001b[0;34m)\u001b[0m\u001b[0;34m\u001b[0m\u001b[0;34m\u001b[0m\u001b[0m\n\u001b[0m\u001b[1;32m   3443\u001b[0m \u001b[0;34m\u001b[0m\u001b[0m\n\u001b[1;32m   3444\u001b[0m         \u001b[0;32mif\u001b[0m \u001b[0;32mnot\u001b[0m \u001b[0mself\u001b[0m\u001b[0;34m.\u001b[0m\u001b[0m_should_compare\u001b[0m\u001b[0;34m(\u001b[0m\u001b[0mtarget\u001b[0m\u001b[0;34m)\u001b[0m \u001b[0;32mand\u001b[0m \u001b[0;32mnot\u001b[0m \u001b[0mis_interval_dtype\u001b[0m\u001b[0;34m(\u001b[0m\u001b[0mself\u001b[0m\u001b[0;34m.\u001b[0m\u001b[0mdtype\u001b[0m\u001b[0;34m)\u001b[0m\u001b[0;34m:\u001b[0m\u001b[0;34m\u001b[0m\u001b[0;34m\u001b[0m\u001b[0m\n",
      "\u001b[0;31mInvalidIndexError\u001b[0m: Reindexing only valid with uniquely valued Index objects"
     ]
    }
   ],
   "source": [
    "transit_rts_precov_nv = pd.concat([transit_rts_precovid[out_cols],trans_rts_current_vn],axis=0,\n",
    "                                  ignore_index=True,\n",
    "                                  sort=False)"
   ]
  },
  {
   "cell_type": "markdown",
   "id": "38a72569",
   "metadata": {},
   "source": [
    "## Read transit routes classification xlsx"
   ]
  },
  {
   "cell_type": "code",
   "execution_count": null,
   "id": "ca3f4a6a",
   "metadata": {},
   "outputs": [],
   "source": [
    "os.listdir(transit_dir)"
   ]
  },
  {
   "cell_type": "code",
   "execution_count": null,
   "id": "b304d6cc",
   "metadata": {},
   "outputs": [],
   "source": [
    "transit_class = pd.read_excel(os.path.join(transit_dir,'BA_Agency_Category_0821.xlsx'),\n",
    "                              sheet_name=2)"
   ]
  },
  {
   "cell_type": "code",
   "execution_count": null,
   "id": "7af0802c",
   "metadata": {},
   "outputs": [],
   "source": [
    "transit_class.info()"
   ]
  },
  {
   "cell_type": "code",
   "execution_count": null,
   "id": "21e09a4f",
   "metadata": {},
   "outputs": [],
   "source": [
    "transit_rts_current[transit_rts_current['agency_id'] == 'CE']"
   ]
  },
  {
   "cell_type": "code",
   "execution_count": null,
   "id": "de08b16f",
   "metadata": {},
   "outputs": [],
   "source": [
    "#Fix BART route ids to match shape ids\n",
    "ba_dict = {'BA:BG-N': 'BA:Beige',\n",
    " 'BA:BG-S': 'BA:Beige',\n",
    " 'BA:BL-N': 'BA:Blue-Wkd/Sat',\n",
    " 'BA:BL-S': 'BA:Blue-Wkd/Sat',\n",
    " 'BA:GN-N': 'BA:Green',\n",
    " 'BA:GN-S': 'BA:Green',\n",
    " 'BA:OR-N': 'BA:Orange',\n",
    " 'BA:OR-S': 'BA:Orange',\n",
    " 'BA:PR-N': 'BA:Purple',\n",
    " 'BA:PR-S': 'BA:Purple',\n",
    " 'BA:RD-N': 'BA:Red',\n",
    " 'BA:RD-S': 'BA:Red',\n",
    " 'BA:YL-N': 'BA:Yellow',\n",
    " 'BA:YL-S': 'BA:Yellow'}\n",
    "\n",
    "transit_class['route_id'].replace(ba_dict,inplace=True)"
   ]
  },
  {
   "cell_type": "code",
   "execution_count": null,
   "id": "711bf6e1",
   "metadata": {},
   "outputs": [],
   "source": [
    "transit_rts_class = pd.merge(transit_rts_precovid[['route_id','geom']],\n",
    "                             transit_class,\n",
    "                             how='outer',\n",
    "                             on='route_id',\n",
    "                             indicator=True)"
   ]
  },
  {
   "cell_type": "markdown",
   "id": "5b27653a",
   "metadata": {},
   "source": [
    "## Write non-match files to csv"
   ]
  },
  {
   "cell_type": "code",
   "execution_count": null,
   "id": "2aa66f71",
   "metadata": {},
   "outputs": [],
   "source": [
    "transit_rts_class[transit_rts_class['_merge'] == 'right_only']['agency_id'].unique()"
   ]
  },
  {
   "cell_type": "code",
   "execution_count": null,
   "id": "f6c0aef4",
   "metadata": {},
   "outputs": [],
   "source": [
    "transit_rts_class[transit_rts_class['_merge'] == 'both']"
   ]
  },
  {
   "cell_type": "code",
   "execution_count": null,
   "id": "43865bc3",
   "metadata": {},
   "outputs": [],
   "source": [
    "class_out_cols = ['agency_id',\n",
    "                  'agency',\n",
    "                  'route_short_name',\n",
    "                  'route_long_name',\n",
    "                  'category',\n",
    "                  'sub_category',\n",
    "                  'avg_peak_freq (min)',\n",
    "                  'avg_offpeak_freq (min)',\n",
    "                  'notes/comments']\n",
    "class_export_df = transit_rts_class[class_out_cols][transit_rts_class['_merge'] == 'right_only'].copy()"
   ]
  },
  {
   "cell_type": "code",
   "execution_count": null,
   "id": "101390c4",
   "metadata": {},
   "outputs": [],
   "source": [
    "agency_ids = ['CE', 'CT', 'CC', 'SM', 'SF', 'VN', 'SC']\n",
    "shape_out_cols = ['agency_id',\n",
    "                  'agency_nm',\n",
    "                  'route_id',\n",
    "                  'route_l_nm',\n",
    "                  'route_s_nm',\n",
    "                  'route_type']\n",
    "shape_export_df = transit_rts[shape_out_cols][transit_rts['agency_id'].isin(agency_ids)].copy()"
   ]
  },
  {
   "cell_type": "code",
   "execution_count": null,
   "id": "d6d815bb",
   "metadata": {},
   "outputs": [],
   "source": [
    "with pd.ExcelWriter(os.path.join(transit_dir,'nonmatching_route_ids.xlsx')) as writer:\n",
    "    class_export_df.to_excel(writer, sheet_name='Unmatched_Route_Ids',index=False)\n",
    "    shape_export_df.to_excel(writer, sheet_name='Potential_Route_Id_Matches',index=False)"
   ]
  },
  {
   "cell_type": "code",
   "execution_count": null,
   "id": "310536fa",
   "metadata": {},
   "outputs": [],
   "source": []
  }
 ],
 "metadata": {
  "kernelspec": {
   "display_name": "Python 3 (ipykernel)",
   "language": "python",
   "name": "python3"
  },
  "language_info": {
   "codemirror_mode": {
    "name": "ipython",
    "version": 3
   },
   "file_extension": ".py",
   "mimetype": "text/x-python",
   "name": "python",
   "nbconvert_exporter": "python",
   "pygments_lexer": "ipython3",
   "version": "3.9.6"
  }
 },
 "nbformat": 4,
 "nbformat_minor": 5
}
