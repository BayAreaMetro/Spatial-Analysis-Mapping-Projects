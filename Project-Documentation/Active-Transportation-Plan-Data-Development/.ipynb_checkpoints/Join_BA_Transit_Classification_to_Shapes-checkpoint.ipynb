{
 "cells": [
  {
   "cell_type": "code",
   "execution_count": 46,
   "id": "orange-genetics",
   "metadata": {},
   "outputs": [],
   "source": [
    "import sys\n",
    "import getpass\n",
    "import os\n",
    "import pandas as pd\n",
    "import fiona\n",
    "import geopandas as gpd\n",
    "from arcgis import gis\n",
    "username = getpass.getuser()\n",
    "\n",
    "user = getpass.getuser()\n",
    "sys.dont_write_bytecode = True\n",
    "\n",
    "# for DataViz team members\n",
    "sys.path.insert(0, '/Users/{}/Box/DataViz Projects/Utility Code'.format(user))\n",
    "\n",
    "from utils_io import *"
   ]
  },
  {
   "cell_type": "code",
   "execution_count": 85,
   "id": "unsigned-maria",
   "metadata": {},
   "outputs": [
    {
     "data": {
      "text/plain": [
       "'aolsen@bayareametro.gov'"
      ]
     },
     "execution_count": 85,
     "metadata": {},
     "output_type": "execute_result"
    }
   ],
   "source": []
  },
  {
   "cell_type": "code",
   "execution_count": 86,
   "id": "sophisticated-cleanup",
   "metadata": {},
   "outputs": [
    {
     "name": "stdout",
     "output_type": "stream",
     "text": [
      "Enter password: ········\n"
     ]
    }
   ],
   "source": [
    "client = gis.GIS(url='https://arcgis.ad.mtc.ca.gov/portal/home/', username='{}@bayareametro.gov'.format(\n",
    "    username) if not 'bayareametro' in username else username, verify_cert=False)"
   ]
  },
  {
   "cell_type": "code",
   "execution_count": 87,
   "id": "sonic-holiday",
   "metadata": {},
   "outputs": [],
   "source": [
    "transit_dir = os.path.join('/Users',\n",
    "                        username,\n",
    "                        'Box',\n",
    "                        'DataViz Projects',\n",
    "                        'Spatial Analysis and Mapping',\n",
    "                        'Active Transportation Plan',\n",
    "                        'Data',\n",
    "                        'regional_transit')"
   ]
  },
  {
   "cell_type": "code",
   "execution_count": 88,
   "id": "molecular-admission",
   "metadata": {},
   "outputs": [],
   "source": [
    "active_trans_dir = os.path.join('/Users',\n",
    "                        username,\n",
    "                        'Box',\n",
    "                        'DataViz Projects',\n",
    "                        'Spatial Analysis and Mapping',\n",
    "                        'Active Transportation Plan',\n",
    "                        'Data',\n",
    "                        'Active Transportation.gdb')"
   ]
  },
  {
   "cell_type": "markdown",
   "id": "supported-tourism",
   "metadata": {},
   "source": [
    "## Read most recent transit data from"
   ]
  },
  {
   "cell_type": "code",
   "execution_count": 89,
   "id": "dedicated-calendar",
   "metadata": {},
   "outputs": [],
   "source": [
    "transit_rts_precovid = pull_geodata_from_argis(arcgis_data_id='2a519083d0a44a33940e469e427c8457',\n",
    "                                               client=client)"
   ]
  },
  {
   "cell_type": "code",
   "execution_count": 90,
   "id": "hidden-assignment",
   "metadata": {},
   "outputs": [],
   "source": [
    "transit_rts_current = gpd.read_file(active_trans_dir,\n",
    "                            driver='FileGDB',\n",
    "                            layer='regional_transit_routes_oct_2021')\n"
   ]
  },
  {
   "cell_type": "code",
   "execution_count": 91,
   "id": "twenty-cause",
   "metadata": {},
   "outputs": [],
   "source": [
    "#Rename current columns to match precovid columns\n",
    "rename_dict = {'route_short_name':'route_s_nm',\n",
    "               'route_long_name':'route_l_nm',\n",
    "               'route_type_text':'route_type'}\n",
    "#Drop preexisting route_type which is numerical. We don't want to have duplicate column names\n",
    "transit_rts_current = transit_rts_current.drop(['route_type'],axis=1)\n",
    "transit_rts_current.rename(columns=rename_dict,inplace=True)"
   ]
  },
  {
   "cell_type": "code",
   "execution_count": 92,
   "id": "personal-journal",
   "metadata": {},
   "outputs": [],
   "source": [
    "transit_rts_current.rename_geometry(col='geom',inplace=True)"
   ]
  },
  {
   "cell_type": "code",
   "execution_count": 93,
   "id": "coral-identification",
   "metadata": {},
   "outputs": [],
   "source": [
    "#Add col to pre-covid routes to indicate vintage\n",
    "transit_rts_precovid['vintage'] = 'January 2020'"
   ]
  },
  {
   "cell_type": "code",
   "execution_count": 94,
   "id": "disturbed-gregory",
   "metadata": {},
   "outputs": [],
   "source": [
    "#Add col to current routes to indicate vintage\n",
    "transit_rts_current['vintage'] = 'October 2021'"
   ]
  },
  {
   "cell_type": "code",
   "execution_count": 95,
   "id": "phantom-armor",
   "metadata": {},
   "outputs": [],
   "source": [
    "#Drop Napa Valley Vine Transit pre-covid route E\n",
    "transit_rts_precovid.drop(transit_rts_precovid[transit_rts_precovid['route_id'] == 'VN:E'].index,\n",
    "                          inplace=True)"
   ]
  },
  {
   "cell_type": "code",
   "execution_count": 96,
   "id": "turned-gambling",
   "metadata": {},
   "outputs": [],
   "source": [
    "#Subset new Napa Valley Vine Transit Routes\n",
    "out_cols = ['route_id',\n",
    "            'agency_id',\n",
    "            'route_s_nm',\n",
    "            'route_l_nm',\n",
    "            'route_type',\n",
    "            'vintage',\n",
    "            'geom']\n",
    "trans_rts_current_vn = transit_rts_current[out_cols][transit_rts_current['route_id']\n",
    "                                                     .isin(['VN:E','VN:S','VN:N','VN:W'])]"
   ]
  },
  {
   "cell_type": "code",
   "execution_count": 98,
   "id": "bearing-dress",
   "metadata": {},
   "outputs": [],
   "source": [
    "transit_rts_precov_nv = pd.concat([transit_rts_precovid[out_cols],trans_rts_current_vn[out_cols]],axis=0,\n",
    "                                  ignore_index=True,\n",
    "                                  sort=False)"
   ]
  },
  {
   "cell_type": "markdown",
   "id": "concrete-scotland",
   "metadata": {},
   "source": [
    "## Read transit routes classification xlsx"
   ]
  },
  {
   "cell_type": "code",
   "execution_count": null,
   "id": "adjusted-hacker",
   "metadata": {},
   "outputs": [],
   "source": [
    "os.listdir(transit_dir)"
   ]
  },
  {
   "cell_type": "code",
   "execution_count": null,
   "id": "multiple-delaware",
   "metadata": {},
   "outputs": [],
   "source": [
    "transit_class = pd.read_excel(os.path.join(transit_dir,'BA_Agency_Category_0821.xlsx'),\n",
    "                              sheet_name=2)"
   ]
  },
  {
   "cell_type": "code",
   "execution_count": null,
   "id": "spectacular-calgary",
   "metadata": {},
   "outputs": [],
   "source": [
    "transit_class.info()"
   ]
  },
  {
   "cell_type": "code",
   "execution_count": null,
   "id": "handed-local",
   "metadata": {},
   "outputs": [],
   "source": [
    "transit_rts_current[transit_rts_current['agency_id'] == 'CE']"
   ]
  },
  {
   "cell_type": "code",
   "execution_count": null,
   "id": "silent-worker",
   "metadata": {},
   "outputs": [],
   "source": [
    "#Fix BART route ids to match shape ids\n",
    "ba_dict = {'BA:BG-N': 'BA:Beige',\n",
    " 'BA:BG-S': 'BA:Beige',\n",
    " 'BA:BL-N': 'BA:Blue-Wkd/Sat',\n",
    " 'BA:BL-S': 'BA:Blue-Wkd/Sat',\n",
    " 'BA:GN-N': 'BA:Green',\n",
    " 'BA:GN-S': 'BA:Green',\n",
    " 'BA:OR-N': 'BA:Orange',\n",
    " 'BA:OR-S': 'BA:Orange',\n",
    " 'BA:PR-N': 'BA:Purple',\n",
    " 'BA:PR-S': 'BA:Purple',\n",
    " 'BA:RD-N': 'BA:Red',\n",
    " 'BA:RD-S': 'BA:Red',\n",
    " 'BA:YL-N': 'BA:Yellow',\n",
    " 'BA:YL-S': 'BA:Yellow'}\n",
    "\n",
    "transit_class['route_id'].replace(ba_dict,inplace=True)"
   ]
  },
  {
   "cell_type": "code",
   "execution_count": null,
   "id": "civic-madonna",
   "metadata": {},
   "outputs": [],
   "source": [
    "transit_rts_class = pd.merge(transit_rts_precovid[['route_id','geom']],\n",
    "                             transit_class,\n",
    "                             how='outer',\n",
    "                             on='route_id',\n",
    "                             indicator=True)"
   ]
  },
  {
   "cell_type": "markdown",
   "id": "fifteen-warehouse",
   "metadata": {},
   "source": [
    "## Write non-match files to csv"
   ]
  },
  {
   "cell_type": "code",
   "execution_count": null,
   "id": "changing-theater",
   "metadata": {},
   "outputs": [],
   "source": [
    "transit_rts_class[transit_rts_class['_merge'] == 'right_only']['agency_id'].unique()"
   ]
  },
  {
   "cell_type": "code",
   "execution_count": null,
   "id": "tribal-lender",
   "metadata": {},
   "outputs": [],
   "source": [
    "transit_rts_class[transit_rts_class['_merge'] == 'both']"
   ]
  },
  {
   "cell_type": "code",
   "execution_count": null,
   "id": "acquired-forest",
   "metadata": {},
   "outputs": [],
   "source": [
    "class_out_cols = ['agency_id',\n",
    "                  'agency',\n",
    "                  'route_short_name',\n",
    "                  'route_long_name',\n",
    "                  'category',\n",
    "                  'sub_category',\n",
    "                  'avg_peak_freq (min)',\n",
    "                  'avg_offpeak_freq (min)',\n",
    "                  'notes/comments']\n",
    "class_export_df = transit_rts_class[class_out_cols][transit_rts_class['_merge'] == 'right_only'].copy()"
   ]
  },
  {
   "cell_type": "code",
   "execution_count": null,
   "id": "sealed-smooth",
   "metadata": {},
   "outputs": [],
   "source": [
    "agency_ids = ['CE', 'CT', 'CC', 'SM', 'SF', 'VN', 'SC']\n",
    "shape_out_cols = ['agency_id',\n",
    "                  'agency_nm',\n",
    "                  'route_id',\n",
    "                  'route_l_nm',\n",
    "                  'route_s_nm',\n",
    "                  'route_type']\n",
    "shape_export_df = transit_rts[shape_out_cols][transit_rts['agency_id'].isin(agency_ids)].copy()"
   ]
  },
  {
   "cell_type": "code",
   "execution_count": null,
   "id": "varying-eligibility",
   "metadata": {},
   "outputs": [],
   "source": [
    "with pd.ExcelWriter(os.path.join(transit_dir,'nonmatching_route_ids.xlsx')) as writer:\n",
    "    class_export_df.to_excel(writer, sheet_name='Unmatched_Route_Ids',index=False)\n",
    "    shape_export_df.to_excel(writer, sheet_name='Potential_Route_Id_Matches',index=False)"
   ]
  },
  {
   "cell_type": "code",
   "execution_count": null,
   "id": "changing-exercise",
   "metadata": {},
   "outputs": [],
   "source": []
  }
 ],
 "metadata": {
  "kernelspec": {
   "display_name": "Python 3",
   "language": "python",
   "name": "python3"
  },
  "language_info": {
   "codemirror_mode": {
    "name": "ipython",
    "version": 3
   },
   "file_extension": ".py",
   "mimetype": "text/x-python",
   "name": "python",
   "nbconvert_exporter": "python",
   "pygments_lexer": "ipython3",
   "version": "3.8.6"
  },
  "toc": {
   "base_numbering": 1,
   "nav_menu": {},
   "number_sections": true,
   "sideBar": true,
   "skip_h1_title": false,
   "title_cell": "Table of Contents",
   "title_sidebar": "Contents",
   "toc_cell": false,
   "toc_position": {},
   "toc_section_display": true,
   "toc_window_display": false
  }
 },
 "nbformat": 4,
 "nbformat_minor": 5
}
