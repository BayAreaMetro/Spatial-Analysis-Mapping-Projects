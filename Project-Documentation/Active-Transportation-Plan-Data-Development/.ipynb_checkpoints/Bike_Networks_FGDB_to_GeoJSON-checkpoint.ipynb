{
 "cells": [
  {
   "cell_type": "code",
   "execution_count": 1,
   "id": "19c1179a",
   "metadata": {},
   "outputs": [],
   "source": [
    "import os\n",
    "import fiona\n",
    "import geopandas as gpd"
   ]
  },
  {
   "cell_type": "markdown",
   "id": "e2a554ef",
   "metadata": {},
   "source": [
    "## Read FGDB Contents"
   ]
  },
  {
   "cell_type": "code",
   "execution_count": 11,
   "id": "71223952",
   "metadata": {},
   "outputs": [],
   "source": [
    "data_dir = os.path.join('/Users',\n",
    "                        'jcroff',\n",
    "                        'Box',\n",
    "                        'DataViz Projects',\n",
    "                        'Spatial Analysis and Mapping',\n",
    "                        'Active Transportation Plan',\n",
    "                        'Data')"
   ]
  },
  {
   "cell_type": "code",
   "execution_count": 12,
   "id": "dc75a381",
   "metadata": {},
   "outputs": [
    {
     "data": {
      "text/plain": [
       "['Active Transportation.gdb']"
      ]
     },
     "execution_count": 12,
     "metadata": {},
     "output_type": "execute_result"
    }
   ],
   "source": [
    "os.listdir(data_dir)"
   ]
  },
  {
   "cell_type": "code",
   "execution_count": 13,
   "id": "bb83ca61",
   "metadata": {},
   "outputs": [
    {
     "data": {
      "text/plain": [
       "['regional_bikeway_network_2019_epsg4326',\n",
       " 'nvta_bike_network_epsg26910',\n",
       " 'sta_bike_network_epsg26910',\n",
       " 'sfcta_bike_network_epsg26910',\n",
       " 'actc_bike_network_epsg26910',\n",
       " 'vta_bike_network_epsg26910',\n",
       " 'ccta_bike_network_epsg26910',\n",
       " 'tam_bike_network_epsg29610',\n",
       " 'ccag_bike_network_epsg26910',\n",
       " 'scta_bike_network_epsg26910',\n",
       " 'regional_bike_facilities_2021_epsg26910',\n",
       " 'caltrans_d4_bike_network_epsg4326',\n",
       " 'oakland_bike_network_epsg4326',\n",
       " 'batc_bike_network_epsg4326',\n",
       " 'vta_bike_network_epsg4326',\n",
       " 'tam_bike_network_epsg4326',\n",
       " 'sta_bike_network_epsg4326',\n",
       " 'sfcta_bike_network_epsg4326',\n",
       " 'scta_bike_network_epsg4326',\n",
       " 'nvta_bike_network_epsg4326',\n",
       " 'ccta_bike_network_epsg4326',\n",
       " 'ccag_bike_network_epsg4326',\n",
       " 'actc_bike_network_epsg4326',\n",
       " 'regional_bike_facilities_2021_epsg4326']"
      ]
     },
     "execution_count": 13,
     "metadata": {},
     "output_type": "execute_result"
    }
   ],
   "source": [
    "fiona.listlayers(os.path.join(data_dir,\n",
    "                             'Active Transportation.gdb'))"
   ]
  },
  {
   "cell_type": "code",
   "execution_count": null,
   "id": "6be61e19",
   "metadata": {},
   "outputs": [],
   "source": []
  }
 ],
 "metadata": {
  "kernelspec": {
   "display_name": "Python 3",
   "language": "python",
   "name": "python3"
  },
  "language_info": {
   "codemirror_mode": {
    "name": "ipython",
    "version": 3
   },
   "file_extension": ".py",
   "mimetype": "text/x-python",
   "name": "python",
   "nbconvert_exporter": "python",
   "pygments_lexer": "ipython3",
   "version": "3.9.4"
  }
 },
 "nbformat": 4,
 "nbformat_minor": 5
}
