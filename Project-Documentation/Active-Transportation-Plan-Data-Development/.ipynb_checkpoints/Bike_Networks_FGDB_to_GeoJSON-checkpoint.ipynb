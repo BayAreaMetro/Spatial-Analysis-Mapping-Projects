{
 "cells": [
  {
   "cell_type": "code",
   "execution_count": 33,
   "id": "5bd9b43c",
   "metadata": {},
   "outputs": [],
   "source": [
    "import os\n",
    "import fiona\n",
    "import uuid\n",
    "import numpy as np\n",
    "import geopandas as gpd"
   ]
  },
  {
   "cell_type": "code",
   "execution_count": 34,
   "id": "81b45eef",
   "metadata": {},
   "outputs": [],
   "source": [
    "#Create function to return uuid\n",
    "def return_uuid():\n",
    "    return str(uuid.uuid4())"
   ]
  },
  {
   "cell_type": "code",
   "execution_count": 35,
   "id": "734b61b4",
   "metadata": {},
   "outputs": [],
   "source": [
    "def create_df(file_gdb,layer_name):\n",
    "    df = gpd.read_file(filename=file_gdb,\n",
    "                      layer=layer_name,\n",
    "                      driver='FileGDB')\n",
    "    return df"
   ]
  },
  {
   "cell_type": "code",
   "execution_count": 36,
   "id": "243a71fd",
   "metadata": {},
   "outputs": [],
   "source": [
    "def add_uuid_export_json(layer_list,file_gdb,out_dir):\n",
    "    for layer in layer_list:\n",
    "        df = create_df(file_gdb,layer_name=layer)\n",
    "        df_copy = df[~df['geometry'].is_empty].copy()\n",
    "        out_name = layer + '.geojson'\n",
    "        df_copy['mtc_facility_id'] = np.array([return_uuid() for x in range(len(df_copy))])\n",
    "        df_copy.to_file(os.path.join(out_dir,out_name),\n",
    "                   driver='GeoJSON')"
   ]
  },
  {
   "cell_type": "markdown",
   "id": "74c4d676",
   "metadata": {},
   "source": [
    "## Read FGDB Contents"
   ]
  },
  {
   "cell_type": "code",
   "execution_count": 37,
   "id": "df3829f6",
   "metadata": {},
   "outputs": [],
   "source": [
    "data_dir = os.path.join('/Users',\n",
    "                        'jcroff',\n",
    "                        'Box',\n",
    "                        'DataViz Projects',\n",
    "                        'Spatial Analysis and Mapping',\n",
    "                        'Active Transportation Plan',\n",
    "                        'Data',\n",
    "                        'geojson')"
   ]
  },
  {
   "cell_type": "code",
   "execution_count": 38,
   "id": "0069f3f5",
   "metadata": {},
   "outputs": [],
   "source": [
    "file_gdb = os.path.join('/Users',\n",
    "                        'jcroff',\n",
    "                        'Box',\n",
    "                        'DataViz Projects',\n",
    "                        'Spatial Analysis and Mapping',\n",
    "                        'Active Transportation Plan',\n",
    "                        'Data',\n",
    "                        'Active Transportation.gdb')"
   ]
  },
  {
   "cell_type": "code",
   "execution_count": null,
   "id": "e699b0b2",
   "metadata": {},
   "outputs": [],
   "source": [
    "fiona.listlayers(file_gdb)"
   ]
  },
  {
   "cell_type": "markdown",
   "id": "7d7b67a5",
   "metadata": {},
   "source": [
    "## Create UUID column and write to geojson"
   ]
  },
  {
   "cell_type": "code",
   "execution_count": null,
   "id": "7196d989",
   "metadata": {},
   "outputs": [],
   "source": [
    "layer_list = [\n",
    "    'vta_bike_network_v2_epsg4326',\n",
    "    'batc_bike_network_v2_epsg4326'\n",
    "#  'caltrans_d4_bike_network_epsg4326',\n",
    "#  'oakland_bike_network_epsg4326',\n",
    "#  'batc_bike_network_epsg4326',\n",
    "#  'vta_bike_network_epsg4326',\n",
    "#  'tam_bike_network_epsg4326',\n",
    "#  'sta_bike_network_epsg4326',\n",
    "#  'sfcta_bike_network_epsg4326',\n",
    "#  'scta_bike_network_epsg4326',\n",
    "#  'nvta_bike_network_epsg4326',\n",
    "#  'ccta_bike_network_epsg4326',\n",
    "#  'ccag_bike_network_epsg4326',\n",
    "#  'actc_bike_network_epsg4326'\n",
    "]"
   ]
  },
  {
   "cell_type": "code",
   "execution_count": null,
   "id": "0e726487",
   "metadata": {},
   "outputs": [],
   "source": [
    "add_uuid_export_json(layer_list=layer_list,\n",
    "                     file_gdb=file_gdb,\n",
    "                     out_dir=data_dir)"
   ]
  },
  {
   "cell_type": "markdown",
   "id": "ded380dd",
   "metadata": {},
   "source": [
    "## Remove Z Values from dataset"
   ]
  },
  {
   "cell_type": "code",
   "execution_count": 31,
   "id": "7291df3a",
   "metadata": {},
   "outputs": [],
   "source": [
    "vta = gpd.read_file(filename=file_gdb,\n",
    "                    layer='vta_bike_network_v2_epsg4326',\n",
    "                    driver='FileGDB')"
   ]
  },
  {
   "cell_type": "code",
   "execution_count": 32,
   "id": "e1560cbe",
   "metadata": {},
   "outputs": [
    {
     "data": {
      "text/plain": [
       "0        MULTILINESTRING ((-121.65828 37.12823, -121.65...\n",
       "1        MULTILINESTRING ((-121.69718 37.16028, -121.69...\n",
       "2        MULTILINESTRING ((-121.69580 37.15942, -121.69...\n",
       "3        MULTILINESTRING ((-121.70980 37.16964, -121.70...\n",
       "4        MULTILINESTRING ((-121.70949 37.16932, -121.70...\n",
       "                               ...                        \n",
       "21396    MULTILINESTRING ((-122.02202 37.28797, -122.02...\n",
       "21397    MULTILINESTRING ((-122.02468 37.28316, -122.02...\n",
       "21398    MULTILINESTRING ((-122.02711 37.28497, -122.02...\n",
       "21399    MULTILINESTRING ((-122.05827 37.25243, -122.05...\n",
       "21400    MULTILINESTRING ((-122.05827 37.25243, -122.05...\n",
       "Name: geometry, Length: 21401, dtype: geometry"
      ]
     },
     "execution_count": 32,
     "metadata": {},
     "output_type": "execute_result"
    }
   ],
   "source": [
    "vta['geometry']"
   ]
  },
  {
   "cell_type": "code",
   "execution_count": null,
   "id": "51b88b31",
   "metadata": {},
   "outputs": [],
   "source": []
  }
 ],
 "metadata": {
  "kernelspec": {
   "display_name": "Python 3 (ipykernel)",
   "language": "python",
   "name": "python3"
  },
  "language_info": {
   "codemirror_mode": {
    "name": "ipython",
    "version": 3
   },
   "file_extension": ".py",
   "mimetype": "text/x-python",
   "name": "python",
   "nbconvert_exporter": "python",
   "pygments_lexer": "ipython3",
   "version": "3.9.6"
  }
 },
 "nbformat": 4,
 "nbformat_minor": 5
}
