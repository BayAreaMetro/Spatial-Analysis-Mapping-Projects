{
 "cells": [
  {
   "cell_type": "code",
   "execution_count": 49,
   "id": "5bd9b43c",
   "metadata": {},
   "outputs": [],
   "source": [
    "import os\n",
    "import fiona\n",
    "import uuid\n",
    "import numpy as np\n",
    "import geopandas as gpd"
   ]
  },
  {
   "cell_type": "code",
   "execution_count": 50,
   "id": "81b45eef",
   "metadata": {},
   "outputs": [],
   "source": [
    "#Create function to return uuid\n",
    "def return_uuid():\n",
    "    return str(uuid.uuid4())"
   ]
  },
  {
   "cell_type": "code",
   "execution_count": 51,
   "id": "734b61b4",
   "metadata": {},
   "outputs": [],
   "source": [
    "def create_df(file_gdb,layer_name):\n",
    "    df = gpd.read_file(filename=file_gdb,\n",
    "                      layer=layer_name,\n",
    "                      driver='FileGDB')\n",
    "    return df"
   ]
  },
  {
   "cell_type": "code",
   "execution_count": 123,
   "id": "243a71fd",
   "metadata": {},
   "outputs": [],
   "source": [
    "def add_uuid_export_json(layer_list,file_gdb,out_dir):\n",
    "    for layer in layer_list:\n",
    "        df = create_df(file_gdb,layer_name=layer)\n",
    "        df_copy = df[~df['geometry'].is_empty].copy()\n",
    "        out_name = layer + '.geojson'\n",
    "        df_copy['mtc_facility_id'] = np.array([return_uuid() for x in range(len(df_copy))])\n",
    "        df_copy.to_file(os.path.join(out_dir,out_name),\n",
    "                   driver='GeoJSON')"
   ]
  },
  {
   "cell_type": "markdown",
   "id": "74c4d676",
   "metadata": {},
   "source": [
    "## Read FGDB Contents"
   ]
  },
  {
   "cell_type": "code",
   "execution_count": 124,
   "id": "df3829f6",
   "metadata": {},
   "outputs": [],
   "source": [
    "data_dir = os.path.join('/Users',\n",
    "                        'jcroff',\n",
    "                        'Box',\n",
    "                        'DataViz Projects',\n",
    "                        'Spatial Analysis and Mapping',\n",
    "                        'Active Transportation Plan',\n",
    "                        'Data',\n",
    "                        'geojson')"
   ]
  },
  {
   "cell_type": "code",
   "execution_count": 125,
   "id": "0069f3f5",
   "metadata": {},
   "outputs": [],
   "source": [
    "file_gdb = os.path.join('/Users',\n",
    "                        'jcroff',\n",
    "                        'Box',\n",
    "                        'DataViz Projects',\n",
    "                        'Spatial Analysis and Mapping',\n",
    "                        'Active Transportation Plan',\n",
    "                        'Data',\n",
    "                        'Active Transportation.gdb')"
   ]
  },
  {
   "cell_type": "code",
   "execution_count": 126,
   "id": "e699b0b2",
   "metadata": {},
   "outputs": [
    {
     "data": {
      "text/plain": [
       "['regional_bikeway_network_2019_epsg4326',\n",
       " 'nvta_bike_network_epsg26910',\n",
       " 'sta_bike_network_epsg26910',\n",
       " 'sfcta_bike_network_epsg26910',\n",
       " 'actc_bike_network_epsg26910',\n",
       " 'vta_bike_network_epsg26910',\n",
       " 'ccta_bike_network_epsg26910',\n",
       " 'tam_bike_network_epsg29610',\n",
       " 'ccag_bike_network_epsg26910',\n",
       " 'scta_bike_network_epsg26910',\n",
       " 'regional_bike_facilities_2021_epsg26910',\n",
       " 'caltrans_d4_bike_network_epsg4326',\n",
       " 'oakland_bike_network_epsg4326',\n",
       " 'batc_bike_network_epsg4326',\n",
       " 'vta_bike_network_epsg4326',\n",
       " 'tam_bike_network_epsg4326',\n",
       " 'sta_bike_network_epsg4326',\n",
       " 'sfcta_bike_network_epsg4326',\n",
       " 'scta_bike_network_epsg4326',\n",
       " 'nvta_bike_network_epsg4326',\n",
       " 'ccta_bike_network_epsg4326',\n",
       " 'ccag_bike_network_epsg4326',\n",
       " 'actc_bike_network_epsg4326',\n",
       " 'regional_bike_facilities_2021_epsg4326',\n",
       " 'scta_bike_network_updated_status']"
      ]
     },
     "execution_count": 126,
     "metadata": {},
     "output_type": "execute_result"
    }
   ],
   "source": [
    "fiona.listlayers(file_gdb)"
   ]
  },
  {
   "cell_type": "markdown",
   "id": "7d7b67a5",
   "metadata": {},
   "source": [
    "## Create UUID column and write to geojson"
   ]
  },
  {
   "cell_type": "code",
   "execution_count": 127,
   "id": "7196d989",
   "metadata": {},
   "outputs": [],
   "source": [
    "layer_list = [\n",
    " 'caltrans_d4_bike_network_epsg4326',\n",
    " 'oakland_bike_network_epsg4326',\n",
    " 'batc_bike_network_epsg4326',\n",
    " 'vta_bike_network_epsg4326',\n",
    " 'tam_bike_network_epsg4326',\n",
    " 'sta_bike_network_epsg4326',\n",
    " 'sfcta_bike_network_epsg4326',\n",
    " 'scta_bike_network_epsg4326',\n",
    " 'nvta_bike_network_epsg4326',\n",
    " 'ccta_bike_network_epsg4326',\n",
    " 'ccag_bike_network_epsg4326',\n",
    " 'actc_bike_network_epsg4326'\n",
    "]"
   ]
  },
  {
   "cell_type": "code",
   "execution_count": 128,
   "id": "0e726487",
   "metadata": {},
   "outputs": [],
   "source": [
    "add_uuid_export_json(layer_list=layer_list,\n",
    "                     file_gdb=file_gdb,\n",
    "                     out_dir=data_dir)"
   ]
  },
  {
   "cell_type": "markdown",
   "id": "ded380dd",
   "metadata": {},
   "source": [
    "## Chunk large geodataframes into smaller dataframes"
   ]
  },
  {
   "cell_type": "code",
   "execution_count": 109,
   "id": "d31c99de",
   "metadata": {},
   "outputs": [],
   "source": [
    "actc = gpd.read_file(os.path.join(data_dir,'actc_bike_network_epsg4326.geojson'),\n",
    "                     driver='GeoJSON')"
   ]
  },
  {
   "cell_type": "code",
   "execution_count": 139,
   "id": "051eba6b",
   "metadata": {},
   "outputs": [],
   "source": [
    "size = 15000\n",
    "list_of_dfs = [actc.loc[i:i+size-1,:] for i in range(0, len(actc),size)]"
   ]
  },
  {
   "cell_type": "code",
   "execution_count": 141,
   "id": "11e245e5",
   "metadata": {},
   "outputs": [],
   "source": [
    "chunk_num = 1\n",
    "for chunk in list_of_dfs:\n",
    "    name = 'actc_bike_network_epsg4326_{}.geojson'.format(chunk_num)\n",
    "    chunk.to_file(os.path.join(data_dir,name),\n",
    "                  driver='GeoJSON')\n",
    "    chunk_num = chunk_num + 1"
   ]
  },
  {
   "cell_type": "code",
   "execution_count": null,
   "id": "7291df3a",
   "metadata": {},
   "outputs": [],
   "source": []
  }
 ],
 "metadata": {
  "kernelspec": {
   "display_name": "Python 3 (ipykernel)",
   "language": "python",
   "name": "python3"
  },
  "language_info": {
   "codemirror_mode": {
    "name": "ipython",
    "version": 3
   },
   "file_extension": ".py",
   "mimetype": "text/x-python",
   "name": "python",
   "nbconvert_exporter": "python",
   "pygments_lexer": "ipython3",
   "version": "3.9.6"
  }
 },
 "nbformat": 4,
 "nbformat_minor": 5
}
