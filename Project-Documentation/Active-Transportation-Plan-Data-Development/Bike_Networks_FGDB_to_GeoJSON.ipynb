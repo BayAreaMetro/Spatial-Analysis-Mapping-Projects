{
 "cells": [
  {
   "cell_type": "code",
   "execution_count": 10,
   "id": "5bd9b43c",
   "metadata": {},
   "outputs": [],
   "source": [
    "import os\n",
    "import fiona\n",
    "import uuid\n",
    "import numpy as np\n",
    "import geopandas as gpd"
   ]
  },
  {
   "cell_type": "code",
   "execution_count": 11,
   "id": "81b45eef",
   "metadata": {},
   "outputs": [],
   "source": [
    "#Create function to return uuid\n",
    "def return_uuid():\n",
    "    return str(uuid.uuid4())"
   ]
  },
  {
   "cell_type": "code",
   "execution_count": 12,
   "id": "734b61b4",
   "metadata": {},
   "outputs": [],
   "source": [
    "def create_df(file_gdb,layer_name):\n",
    "    df = gpd.read_file(filename=file_gdb,\n",
    "                      layer=layer_name,\n",
    "                      driver='FileGDB')\n",
    "    return df"
   ]
  },
  {
   "cell_type": "code",
   "execution_count": 13,
   "id": "243a71fd",
   "metadata": {},
   "outputs": [],
   "source": [
    "def add_uuid_export_json(layer_list,file_gdb,out_dir):\n",
    "    for layer in layer_list:\n",
    "        df = create_df(file_gdb,layer_name=layer)\n",
    "        df_copy = df[~df['geometry'].is_empty].copy()\n",
    "        out_name = layer + '.geojson'\n",
    "        df_copy['mtc_facility_id'] = np.array([return_uuid() for x in range(len(df_copy))])\n",
    "        df_copy.to_file(os.path.join(out_dir,out_name),\n",
    "                   driver='GeoJSON')"
   ]
  },
  {
   "cell_type": "markdown",
   "id": "74c4d676",
   "metadata": {},
   "source": [
    "## Read FGDB Contents"
   ]
  },
  {
   "cell_type": "code",
   "execution_count": 14,
   "id": "df3829f6",
   "metadata": {},
   "outputs": [],
   "source": [
    "data_dir = os.path.join('/Users',\n",
    "                        'jcroff',\n",
    "                        'Box',\n",
    "                        'DataViz Projects',\n",
    "                        'Spatial Analysis and Mapping',\n",
    "                        'Active Transportation Plan',\n",
    "                        'Data',\n",
    "                        'geojson')"
   ]
  },
  {
   "cell_type": "code",
   "execution_count": 15,
   "id": "0069f3f5",
   "metadata": {},
   "outputs": [],
   "source": [
    "file_gdb = os.path.join('/Users',\n",
    "                        'jcroff',\n",
    "                        'Box',\n",
    "                        'DataViz Projects',\n",
    "                        'Spatial Analysis and Mapping',\n",
    "                        'Active Transportation Plan',\n",
    "                        'Data',\n",
    "                        'Active Transportation.gdb')"
   ]
  },
  {
   "cell_type": "code",
   "execution_count": 16,
   "id": "e699b0b2",
   "metadata": {},
   "outputs": [
    {
     "data": {
      "text/plain": [
       "['regional_bikeway_network_2019_epsg4326',\n",
       " 'nvta_bike_network_epsg26910',\n",
       " 'sta_bike_network_epsg26910',\n",
       " 'sfcta_bike_network_epsg26910',\n",
       " 'actc_bike_network_epsg26910',\n",
       " 'vta_bike_network_epsg26910',\n",
       " 'ccta_bike_network_epsg26910',\n",
       " 'tam_bike_network_epsg29610',\n",
       " 'ccag_bike_network_epsg26910',\n",
       " 'scta_bike_network_epsg26910',\n",
       " 'regional_bike_facilities_2021_epsg26910',\n",
       " 'caltrans_d4_bike_network_epsg4326',\n",
       " 'oakland_bike_network_epsg4326',\n",
       " 'batc_bike_network_epsg4326',\n",
       " 'vta_bike_network_epsg4326',\n",
       " 'tam_bike_network_epsg4326',\n",
       " 'sta_bike_network_epsg4326',\n",
       " 'sfcta_bike_network_epsg4326',\n",
       " 'scta_bike_network_epsg4326',\n",
       " 'nvta_bike_network_epsg4326',\n",
       " 'ccta_bike_network_epsg4326',\n",
       " 'actc_bike_network_epsg4326',\n",
       " 'regional_bike_facilities_2021_epsg4326',\n",
       " 'scta_bike_network_updated_status',\n",
       " 'vta_bike_network_v2_epsg4326',\n",
       " 'batc_bike_network_v2_epsg4326',\n",
       " 'sj_bike_nw_exist_left_join_prop',\n",
       " 'san_jose_bike_nw_epsg4326',\n",
       " 'ccag_bike_network_epsg4326']"
      ]
     },
     "execution_count": 16,
     "metadata": {},
     "output_type": "execute_result"
    }
   ],
   "source": [
    "fiona.listlayers(file_gdb)"
   ]
  },
  {
   "cell_type": "markdown",
   "id": "7d7b67a5",
   "metadata": {},
   "source": [
    "## Create UUID column and write to geojson"
   ]
  },
  {
   "cell_type": "code",
   "execution_count": 17,
   "id": "7196d989",
   "metadata": {},
   "outputs": [],
   "source": [
    "layer_list = [\n",
    "#     'san_jose_bike_nw_epsg4326',\n",
    "#     'vta_bike_network_v2_epsg4326',\n",
    "#     'batc_bike_network_v2_epsg4326',\n",
    "#     'caltrans_d4_bike_network_epsg4326',\n",
    "#     'oakland_bike_network_epsg4326',\n",
    "#     'batc_bike_network_epsg4326',\n",
    "#     'vta_bike_network_epsg4326',\n",
    "#     'tam_bike_network_epsg4326',\n",
    "#     'sta_bike_network_epsg4326',\n",
    "#     'sfcta_bike_network_epsg4326',\n",
    "#     'scta_bike_network_epsg4326',\n",
    "#     'nvta_bike_network_epsg4326',\n",
    "#     'ccta_bike_network_epsg4326',\n",
    "    'ccag_bike_network_epsg4326',\n",
    "#     'actc_bike_network_epsg4326'\n",
    "]"
   ]
  },
  {
   "cell_type": "code",
   "execution_count": 18,
   "id": "0e726487",
   "metadata": {},
   "outputs": [],
   "source": [
    "add_uuid_export_json(layer_list=layer_list,\n",
    "                     file_gdb=file_gdb,\n",
    "                     out_dir=data_dir)"
   ]
  }
 ],
 "metadata": {
  "kernelspec": {
   "display_name": "Python 3 (ipykernel)",
   "language": "python",
   "name": "python3"
  },
  "language_info": {
   "codemirror_mode": {
    "name": "ipython",
    "version": 3
   },
   "file_extension": ".py",
   "mimetype": "text/x-python",
   "name": "python",
   "nbconvert_exporter": "python",
   "pygments_lexer": "ipython3",
   "version": "3.9.7"
  }
 },
 "nbformat": 4,
 "nbformat_minor": 5
}
