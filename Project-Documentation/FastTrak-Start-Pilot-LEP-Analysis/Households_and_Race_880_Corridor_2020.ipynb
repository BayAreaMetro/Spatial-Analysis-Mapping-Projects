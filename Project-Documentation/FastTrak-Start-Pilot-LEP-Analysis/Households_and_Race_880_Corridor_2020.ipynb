{
 "cells": [
  {
   "cell_type": "code",
   "execution_count": 121,
   "id": "8ce5b325",
   "metadata": {},
   "outputs": [],
   "source": [
    "import sys\n",
    "import getpass\n",
    "import requests\n",
    "import fiona\n",
    "import json\n",
    "import os\n",
    "\n",
    "user = getpass.getuser()\n",
    "sys.dont_write_bytecode = True\n",
    "\n",
    "# for DataViz team members\n",
    "sys.path.insert(0, '/Users/{}/Box/Utility Code'.format(user))\n",
    "\n",
    "from utils_io import *\n",
    "\n",
    "#Geoimports\n",
    "import geopandas as gp\n",
    "\n",
    "from matplotlib import pyplot as plt"
   ]
  },
  {
   "cell_type": "code",
   "execution_count": 2,
   "id": "503ad7df",
   "metadata": {},
   "outputs": [
    {
     "name": "stdout",
     "output_type": "stream",
     "text": [
      "········\n"
     ]
    }
   ],
   "source": [
    "census_api_key = getpass.getpass()"
   ]
  },
  {
   "cell_type": "markdown",
   "id": "06ca9c9e",
   "metadata": {},
   "source": [
    "## Pull Decennial Census table variables"
   ]
  },
  {
   "cell_type": "code",
   "execution_count": 66,
   "id": "9b2a2557",
   "metadata": {},
   "outputs": [],
   "source": [
    "rq = requests.get('https://api.census.gov/data/2020/dec/pl/variables.json')\n",
    "data = rq.json()"
   ]
  },
  {
   "cell_type": "code",
   "execution_count": 67,
   "id": "3568f5f9",
   "metadata": {},
   "outputs": [],
   "source": [
    "tbl_vars = pd.DataFrame.from_dict(data['variables'],orient='index')"
   ]
  },
  {
   "cell_type": "code",
   "execution_count": 68,
   "id": "a95d10d2",
   "metadata": {},
   "outputs": [],
   "source": [
    "tbl_vars.reset_index(inplace=True)"
   ]
  },
  {
   "cell_type": "code",
   "execution_count": 69,
   "id": "93713330",
   "metadata": {},
   "outputs": [],
   "source": [
    "tbl_vars.rename(columns={'index':'name'},inplace=True)"
   ]
  },
  {
   "cell_type": "code",
   "execution_count": 70,
   "id": "96a672d5",
   "metadata": {},
   "outputs": [],
   "source": [
    "p2_vars = ['P2_001N',\n",
    " 'P2_002N',\n",
    " 'P2_003N',\n",
    " 'P2_004N',\n",
    " 'P2_005N',\n",
    " 'P2_006N',\n",
    " 'P2_007N',\n",
    " 'P2_008N',\n",
    " 'P2_009N',\n",
    " 'P2_010N',\n",
    " 'P2_011N']\n",
    "p2_race_vars = tbl_vars[tbl_vars['name'].isin(p2_vars)]"
   ]
  },
  {
   "cell_type": "code",
   "execution_count": 71,
   "id": "a79d9094",
   "metadata": {},
   "outputs": [],
   "source": [
    "p2_race_vars.to_csv('data/decennial_census_tbl_vars_p2.csv')"
   ]
  },
  {
   "cell_type": "markdown",
   "id": "8f701814",
   "metadata": {},
   "source": [
    "## Pull Decennial Census from Census API"
   ]
  },
  {
   "cell_type": "markdown",
   "id": "c93e39bb",
   "metadata": {},
   "source": [
    "summarize not Hispanic/Latino by races you want, an other category, and multi-racial; then all Hispanic/Latino people in one group. That's the standard I see in most places."
   ]
  },
  {
   "cell_type": "code",
   "execution_count": 72,
   "id": "8c9f54a3",
   "metadata": {},
   "outputs": [],
   "source": [
    "acs_vars_lst = p2_race_vars['name'].to_list()"
   ]
  },
  {
   "cell_type": "code",
   "execution_count": 73,
   "id": "1a11f0ef",
   "metadata": {},
   "outputs": [
    {
     "data": {
      "text/plain": [
       "['P2_001N',\n",
       " 'P2_002N',\n",
       " 'P2_003N',\n",
       " 'P2_004N',\n",
       " 'P2_005N',\n",
       " 'P2_006N',\n",
       " 'P2_007N',\n",
       " 'P2_008N',\n",
       " 'P2_009N',\n",
       " 'P2_010N',\n",
       " 'P2_011N']"
      ]
     },
     "execution_count": 73,
     "metadata": {},
     "output_type": "execute_result"
    }
   ],
   "source": [
    "sorted(acs_vars_lst)"
   ]
  },
  {
   "cell_type": "code",
   "execution_count": 74,
   "id": "2544d73f",
   "metadata": {},
   "outputs": [],
   "source": [
    "var = ','.join(acs_vars_lst)\n",
    "counties = '001,013,041,055,075,081,085,095,097'\n",
    "state = '06'\n",
    "base_url = 'https://api.census.gov/data/2020/dec/pl?'\n",
    "\n",
    "query_params = {\n",
    "    'get': var,\n",
    "    'for': 'tract:*',\n",
    "    'in': [\n",
    "        f'county:{counties}',\n",
    "        f'state:{state}',\n",
    "    ],\n",
    "    'key': census_api_key\n",
    "}\n",
    "rq = requests.get(base_url, params=query_params)\n",
    "data = rq.json()\n",
    "acs_df = pd.DataFrame(data[1:],columns=data[0])"
   ]
  },
  {
   "cell_type": "code",
   "execution_count": 75,
   "id": "ae9ab102",
   "metadata": {},
   "outputs": [
    {
     "name": "stdout",
     "output_type": "stream",
     "text": [
      "<class 'pandas.core.frame.DataFrame'>\n",
      "RangeIndex: 1772 entries, 0 to 1771\n",
      "Data columns (total 14 columns):\n",
      " #   Column   Non-Null Count  Dtype \n",
      "---  ------   --------------  ----- \n",
      " 0   P2_002N  1772 non-null   object\n",
      " 1   P2_003N  1772 non-null   object\n",
      " 2   P2_004N  1772 non-null   object\n",
      " 3   P2_005N  1772 non-null   object\n",
      " 4   P2_010N  1772 non-null   object\n",
      " 5   P2_011N  1772 non-null   object\n",
      " 6   P2_001N  1772 non-null   object\n",
      " 7   P2_006N  1772 non-null   object\n",
      " 8   P2_007N  1772 non-null   object\n",
      " 9   P2_008N  1772 non-null   object\n",
      " 10  P2_009N  1772 non-null   object\n",
      " 11  state    1772 non-null   object\n",
      " 12  county   1772 non-null   object\n",
      " 13  tract    1772 non-null   object\n",
      "dtypes: object(14)\n",
      "memory usage: 193.9+ KB\n"
     ]
    }
   ],
   "source": [
    "acs_df.info()"
   ]
  },
  {
   "cell_type": "code",
   "execution_count": 76,
   "id": "7d1898f1",
   "metadata": {},
   "outputs": [],
   "source": [
    "# Convert columns to numeric\n",
    "acs_df[acs_vars_lst] = acs_df[acs_vars_lst].apply(pd.to_numeric)"
   ]
  },
  {
   "cell_type": "code",
   "execution_count": 77,
   "id": "cee150a5",
   "metadata": {},
   "outputs": [],
   "source": [
    "rename_dict = {'P2_001N': 'total_pop',\n",
    " 'P2_002N': 'hispanic_latino_pop',\n",
    " 'P2_003N': 'non_hispanic_latino_pop',\n",
    " 'P2_004N': 'non_hl_pop_one_race',\n",
    " 'P2_005N': 'non_hl_white',\n",
    " 'P2_006N': 'non_hl_black',\n",
    " 'P2_007N': 'non_hl_indian_alaska_native',\n",
    " 'P2_008N': 'non_hl_asian',\n",
    " 'P2_009N': 'non_hl_hawaiian_pacific_islander',\n",
    " 'P2_010N': 'non_hl_other_race',\n",
    " 'P2_011N': 'non_hl_multi_racial'}\n",
    "acs_df.rename(columns=rename_dict,inplace=True)"
   ]
  },
  {
   "cell_type": "code",
   "execution_count": 78,
   "id": "20dd3fa1",
   "metadata": {},
   "outputs": [],
   "source": [
    "col_order = ['state',\n",
    "             'county',\n",
    "             'tract',\n",
    "             'total_pop',\n",
    "             'hispanic_latino_pop',\n",
    "             #'non_hispanic_latino_pop',\n",
    "             #'non_hl_pop_one_race',\n",
    "             'non_hl_white',\n",
    "             'non_hl_black',\n",
    "             'non_hl_indian_alaska_native',\n",
    "             'non_hl_asian',\n",
    "             'non_hl_hawaiian_pacific_islander',\n",
    "             'non_hl_other_race',\n",
    "             'non_hl_multi_racial']"
   ]
  },
  {
   "cell_type": "code",
   "execution_count": 79,
   "id": "bc66d7e2",
   "metadata": {},
   "outputs": [],
   "source": [
    "acs_df = acs_df[col_order]"
   ]
  },
  {
   "cell_type": "code",
   "execution_count": 80,
   "id": "0a25fb07",
   "metadata": {},
   "outputs": [
    {
     "data": {
      "text/plain": [
       "0         67\n",
       "1       5887\n",
       "2       2149\n",
       "3       5535\n",
       "4       5447\n",
       "        ... \n",
       "1767    5931\n",
       "1768    3645\n",
       "1769    3749\n",
       "1770    3474\n",
       "1771    5664\n",
       "Length: 1772, dtype: int64"
      ]
     },
     "execution_count": 80,
     "metadata": {},
     "output_type": "execute_result"
    }
   ],
   "source": [
    "#Check that adding columns adds up to total pop\n",
    "(acs_df.hispanic_latino_pop + \n",
    " acs_df.non_hl_white + \n",
    " acs_df.non_hl_black + \n",
    " acs_df.non_hl_indian_alaska_native + \n",
    " acs_df.non_hl_asian + \n",
    " acs_df.non_hl_hawaiian_pacific_islander + \n",
    " acs_df.non_hl_other_race + \n",
    " acs_df.non_hl_multi_racial)"
   ]
  },
  {
   "cell_type": "code",
   "execution_count": 81,
   "id": "57795422",
   "metadata": {},
   "outputs": [],
   "source": [
    "#add geoid column\n",
    "acs_df['GEOID'] = acs_df['state'] + acs_df['county'] + acs_df['tract']"
   ]
  },
  {
   "cell_type": "code",
   "execution_count": 82,
   "id": "7d18e19d",
   "metadata": {},
   "outputs": [
    {
     "data": {
      "text/html": [
       "<div>\n",
       "<style scoped>\n",
       "    .dataframe tbody tr th:only-of-type {\n",
       "        vertical-align: middle;\n",
       "    }\n",
       "\n",
       "    .dataframe tbody tr th {\n",
       "        vertical-align: top;\n",
       "    }\n",
       "\n",
       "    .dataframe thead th {\n",
       "        text-align: right;\n",
       "    }\n",
       "</style>\n",
       "<table border=\"1\" class=\"dataframe\">\n",
       "  <thead>\n",
       "    <tr style=\"text-align: right;\">\n",
       "      <th></th>\n",
       "      <th>state</th>\n",
       "      <th>county</th>\n",
       "      <th>tract</th>\n",
       "      <th>total_pop</th>\n",
       "      <th>hispanic_latino_pop</th>\n",
       "      <th>non_hl_white</th>\n",
       "      <th>non_hl_black</th>\n",
       "      <th>non_hl_indian_alaska_native</th>\n",
       "      <th>non_hl_asian</th>\n",
       "      <th>non_hl_hawaiian_pacific_islander</th>\n",
       "      <th>non_hl_other_race</th>\n",
       "      <th>non_hl_multi_racial</th>\n",
       "      <th>GEOID</th>\n",
       "    </tr>\n",
       "  </thead>\n",
       "  <tbody>\n",
       "    <tr>\n",
       "      <th>0</th>\n",
       "      <td>06</td>\n",
       "      <td>055</td>\n",
       "      <td>200900</td>\n",
       "      <td>67</td>\n",
       "      <td>19</td>\n",
       "      <td>27</td>\n",
       "      <td>2</td>\n",
       "      <td>2</td>\n",
       "      <td>1</td>\n",
       "      <td>1</td>\n",
       "      <td>5</td>\n",
       "      <td>10</td>\n",
       "      <td>06055200900</td>\n",
       "    </tr>\n",
       "    <tr>\n",
       "      <th>1</th>\n",
       "      <td>06</td>\n",
       "      <td>055</td>\n",
       "      <td>200802</td>\n",
       "      <td>5887</td>\n",
       "      <td>2243</td>\n",
       "      <td>3128</td>\n",
       "      <td>56</td>\n",
       "      <td>20</td>\n",
       "      <td>170</td>\n",
       "      <td>6</td>\n",
       "      <td>40</td>\n",
       "      <td>224</td>\n",
       "      <td>06055200802</td>\n",
       "    </tr>\n",
       "    <tr>\n",
       "      <th>2</th>\n",
       "      <td>06</td>\n",
       "      <td>055</td>\n",
       "      <td>200803</td>\n",
       "      <td>2149</td>\n",
       "      <td>469</td>\n",
       "      <td>1513</td>\n",
       "      <td>16</td>\n",
       "      <td>5</td>\n",
       "      <td>47</td>\n",
       "      <td>1</td>\n",
       "      <td>18</td>\n",
       "      <td>80</td>\n",
       "      <td>06055200803</td>\n",
       "    </tr>\n",
       "    <tr>\n",
       "      <th>3</th>\n",
       "      <td>06</td>\n",
       "      <td>055</td>\n",
       "      <td>200804</td>\n",
       "      <td>5535</td>\n",
       "      <td>3943</td>\n",
       "      <td>1372</td>\n",
       "      <td>16</td>\n",
       "      <td>7</td>\n",
       "      <td>55</td>\n",
       "      <td>3</td>\n",
       "      <td>27</td>\n",
       "      <td>112</td>\n",
       "      <td>06055200804</td>\n",
       "    </tr>\n",
       "    <tr>\n",
       "      <th>4</th>\n",
       "      <td>06</td>\n",
       "      <td>055</td>\n",
       "      <td>201003</td>\n",
       "      <td>5447</td>\n",
       "      <td>1032</td>\n",
       "      <td>1004</td>\n",
       "      <td>444</td>\n",
       "      <td>7</td>\n",
       "      <td>2578</td>\n",
       "      <td>20</td>\n",
       "      <td>24</td>\n",
       "      <td>338</td>\n",
       "      <td>06055201003</td>\n",
       "    </tr>\n",
       "  </tbody>\n",
       "</table>\n",
       "</div>"
      ],
      "text/plain": [
       "  state county   tract  total_pop  hispanic_latino_pop  non_hl_white  \\\n",
       "0    06    055  200900         67                   19            27   \n",
       "1    06    055  200802       5887                 2243          3128   \n",
       "2    06    055  200803       2149                  469          1513   \n",
       "3    06    055  200804       5535                 3943          1372   \n",
       "4    06    055  201003       5447                 1032          1004   \n",
       "\n",
       "   non_hl_black  non_hl_indian_alaska_native  non_hl_asian  \\\n",
       "0             2                            2             1   \n",
       "1            56                           20           170   \n",
       "2            16                            5            47   \n",
       "3            16                            7            55   \n",
       "4           444                            7          2578   \n",
       "\n",
       "   non_hl_hawaiian_pacific_islander  non_hl_other_race  non_hl_multi_racial  \\\n",
       "0                                 1                  5                   10   \n",
       "1                                 6                 40                  224   \n",
       "2                                 1                 18                   80   \n",
       "3                                 3                 27                  112   \n",
       "4                                20                 24                  338   \n",
       "\n",
       "         GEOID  \n",
       "0  06055200900  \n",
       "1  06055200802  \n",
       "2  06055200803  \n",
       "3  06055200804  \n",
       "4  06055201003  "
      ]
     },
     "execution_count": 82,
     "metadata": {},
     "output_type": "execute_result"
    }
   ],
   "source": [
    "acs_df.head(5)"
   ]
  },
  {
   "cell_type": "markdown",
   "id": "7924ea01",
   "metadata": {},
   "source": [
    "## Pull American community Service Tracts Geodata"
   ]
  },
  {
   "cell_type": "markdown",
   "id": "4bfc97de",
   "metadata": {},
   "source": [
    "### Query Census TIGER Tracts to get Bay Area Census Tract geography\n",
    "\n",
    "#### [Census TIGERweb REST API Documentation](https://tigerweb.geo.census.gov/tigerwebmain/TIGERweb_restmapservice.html)"
   ]
  },
  {
   "cell_type": "code",
   "execution_count": 83,
   "id": "2f4e7770",
   "metadata": {},
   "outputs": [],
   "source": [
    "def pull_census_tracts_geodata(year=2020):\n",
    "    \"\"\"\n",
    "    Pulls Census Tracts from TIGERweb REST API and returns Geopandas GeoDataframe. \n",
    "    Default year is 2020 which is the latest-available vintage for TIGER tracts. \n",
    "    \n",
    "    Args:\n",
    "    year (int): the TIGER vintage. \n",
    "        list of valid years: [2012,2015,2016,2017,2018,2019,2020]\n",
    "    \n",
    "    Author: Joshua Croff\n",
    "    Source:\n",
    "    [Census TIGERweb REST API Documentation](https://tigerweb.geo.census.gov/tigerwebmain/TIGERweb_restmapservice.html)\n",
    "    \"\"\"\n",
    "    import pandas as pd\n",
    "    valid_years = [2012,2015,2016,2017,2018,2019,2020]\n",
    "    if year not in valid_years:\n",
    "        print('Error- vintage not available. Please see docstring for valid years')\n",
    "    elif year == 2020:\n",
    "        map_service = f'Generalized_TAB{year}'\n",
    "    else:\n",
    "        map_service = f'Generalized_ACS{year}'\n",
    "    \n",
    "    state = '06'\n",
    "    counties = \"('001','013','041','055','075','081','085','095','097')\"\n",
    "    where_str = f\"where=STATE='{state}'+AND+COUNTY+IN{counties}\"\n",
    "    query_args = [where_str, 'outFields=GEOID&f=geojson']\n",
    "    url = '/'.join(['https://tigerweb.geo.census.gov',\n",
    "                    'arcgis',\n",
    "                    'rest',\n",
    "                    'services',\n",
    "                    map_service,\n",
    "                    'Tracts_Blocks',\n",
    "                    'MapServer',\n",
    "                    '3',\n",
    "                    'query?{}'.format('&'.join(query_args))])\n",
    "    r = get_http_response(url)\n",
    "    geog_json = r.json()\n",
    "    geog_gdf = gp.GeoDataFrame.from_features(geog_json['features'],\n",
    "                                        crs='EPSG:4326')\n",
    "    return geog_gdf"
   ]
  },
  {
   "cell_type": "code",
   "execution_count": 84,
   "id": "a0c338d7",
   "metadata": {},
   "outputs": [],
   "source": [
    "bay_area_tracts = pull_census_tracts_geodata()"
   ]
  },
  {
   "cell_type": "code",
   "execution_count": 85,
   "id": "ec6364e4",
   "metadata": {},
   "outputs": [
    {
     "name": "stdout",
     "output_type": "stream",
     "text": [
      "<class 'geopandas.geodataframe.GeoDataFrame'>\n",
      "RangeIndex: 1765 entries, 0 to 1764\n",
      "Data columns (total 2 columns):\n",
      " #   Column    Non-Null Count  Dtype   \n",
      "---  ------    --------------  -----   \n",
      " 0   geometry  1765 non-null   geometry\n",
      " 1   GEOID     1765 non-null   object  \n",
      "dtypes: geometry(1), object(1)\n",
      "memory usage: 27.7+ KB\n"
     ]
    }
   ],
   "source": [
    "bay_area_tracts.info()"
   ]
  },
  {
   "cell_type": "code",
   "execution_count": 86,
   "id": "fa9fde40",
   "metadata": {},
   "outputs": [
    {
     "data": {
      "text/html": [
       "<div>\n",
       "<style scoped>\n",
       "    .dataframe tbody tr th:only-of-type {\n",
       "        vertical-align: middle;\n",
       "    }\n",
       "\n",
       "    .dataframe tbody tr th {\n",
       "        vertical-align: top;\n",
       "    }\n",
       "\n",
       "    .dataframe thead th {\n",
       "        text-align: right;\n",
       "    }\n",
       "</style>\n",
       "<table border=\"1\" class=\"dataframe\">\n",
       "  <thead>\n",
       "    <tr style=\"text-align: right;\">\n",
       "      <th></th>\n",
       "      <th>geometry</th>\n",
       "      <th>GEOID</th>\n",
       "    </tr>\n",
       "  </thead>\n",
       "  <tbody>\n",
       "    <tr>\n",
       "      <th>0</th>\n",
       "      <td>POLYGON ((-122.24691 37.88535, -122.24683 37.8...</td>\n",
       "      <td>06001400100</td>\n",
       "    </tr>\n",
       "    <tr>\n",
       "      <th>1</th>\n",
       "      <td>POLYGON ((-122.25742 37.84310, -122.25792 37.8...</td>\n",
       "      <td>06001400200</td>\n",
       "    </tr>\n",
       "    <tr>\n",
       "      <th>2</th>\n",
       "      <td>POLYGON ((-122.26416 37.84000, -122.26563 37.8...</td>\n",
       "      <td>06001400300</td>\n",
       "    </tr>\n",
       "    <tr>\n",
       "      <th>3</th>\n",
       "      <td>POLYGON ((-122.26181 37.84179, -122.26186 37.8...</td>\n",
       "      <td>06001400400</td>\n",
       "    </tr>\n",
       "    <tr>\n",
       "      <th>4</th>\n",
       "      <td>POLYGON ((-122.26941 37.84811, -122.26923 37.8...</td>\n",
       "      <td>06001400500</td>\n",
       "    </tr>\n",
       "  </tbody>\n",
       "</table>\n",
       "</div>"
      ],
      "text/plain": [
       "                                            geometry        GEOID\n",
       "0  POLYGON ((-122.24691 37.88535, -122.24683 37.8...  06001400100\n",
       "1  POLYGON ((-122.25742 37.84310, -122.25792 37.8...  06001400200\n",
       "2  POLYGON ((-122.26416 37.84000, -122.26563 37.8...  06001400300\n",
       "3  POLYGON ((-122.26181 37.84179, -122.26186 37.8...  06001400400\n",
       "4  POLYGON ((-122.26941 37.84811, -122.26923 37.8...  06001400500"
      ]
     },
     "execution_count": 86,
     "metadata": {},
     "output_type": "execute_result"
    }
   ],
   "source": [
    "bay_area_tracts.head(5)"
   ]
  },
  {
   "cell_type": "markdown",
   "id": "7fbeb28e",
   "metadata": {},
   "source": [
    "## Join data to bay area tracts"
   ]
  },
  {
   "cell_type": "code",
   "execution_count": 87,
   "id": "1c68ef04",
   "metadata": {},
   "outputs": [],
   "source": [
    "race_tracts = pd.merge(bay_area_tracts,\n",
    "                       acs_df,\n",
    "                      on='GEOID',\n",
    "                      how='inner')"
   ]
  },
  {
   "cell_type": "code",
   "execution_count": 88,
   "id": "7258bed4",
   "metadata": {},
   "outputs": [
    {
     "name": "stdout",
     "output_type": "stream",
     "text": [
      "<class 'geopandas.geodataframe.GeoDataFrame'>\n",
      "Int64Index: 1765 entries, 0 to 1764\n",
      "Data columns (total 14 columns):\n",
      " #   Column                            Non-Null Count  Dtype   \n",
      "---  ------                            --------------  -----   \n",
      " 0   geometry                          1765 non-null   geometry\n",
      " 1   GEOID                             1765 non-null   object  \n",
      " 2   state                             1765 non-null   object  \n",
      " 3   county                            1765 non-null   object  \n",
      " 4   tract                             1765 non-null   object  \n",
      " 5   total_pop                         1765 non-null   int64   \n",
      " 6   hispanic_latino_pop               1765 non-null   int64   \n",
      " 7   non_hl_white                      1765 non-null   int64   \n",
      " 8   non_hl_black                      1765 non-null   int64   \n",
      " 9   non_hl_indian_alaska_native       1765 non-null   int64   \n",
      " 10  non_hl_asian                      1765 non-null   int64   \n",
      " 11  non_hl_hawaiian_pacific_islander  1765 non-null   int64   \n",
      " 12  non_hl_other_race                 1765 non-null   int64   \n",
      " 13  non_hl_multi_racial               1765 non-null   int64   \n",
      "dtypes: geometry(1), int64(9), object(4)\n",
      "memory usage: 206.8+ KB\n"
     ]
    }
   ],
   "source": [
    "race_tracts.info()"
   ]
  },
  {
   "cell_type": "code",
   "execution_count": 89,
   "id": "0af24124",
   "metadata": {},
   "outputs": [
    {
     "data": {
      "text/plain": [
       "['geometry',\n",
       " 'GEOID',\n",
       " 'state',\n",
       " 'county',\n",
       " 'tract',\n",
       " 'total_pop',\n",
       " 'hispanic_latino_pop',\n",
       " 'non_hl_white',\n",
       " 'non_hl_black',\n",
       " 'non_hl_indian_alaska_native',\n",
       " 'non_hl_asian',\n",
       " 'non_hl_hawaiian_pacific_islander',\n",
       " 'non_hl_other_race',\n",
       " 'non_hl_multi_racial']"
      ]
     },
     "execution_count": 89,
     "metadata": {},
     "output_type": "execute_result"
    }
   ],
   "source": [
    "race_tracts.columns.to_list()"
   ]
  },
  {
   "cell_type": "code",
   "execution_count": 90,
   "id": "c1147fa1",
   "metadata": {},
   "outputs": [],
   "source": [
    "reorder_cols = [\n",
    "    'GEOID',\n",
    "    'state',\n",
    "    'county',\n",
    "    'tract',\n",
    "    'total_pop',\n",
    "    'hispanic_latino_pop',\n",
    "    'non_hl_white',\n",
    "    'non_hl_black',\n",
    "    'non_hl_indian_alaska_native',\n",
    "    'non_hl_asian',\n",
    "    'non_hl_hawaiian_pacific_islander',\n",
    "    'non_hl_other_race',\n",
    "    'non_hl_multi_racial',\n",
    "    'geometry'\n",
    "]"
   ]
  },
  {
   "cell_type": "code",
   "execution_count": 91,
   "id": "da960755",
   "metadata": {},
   "outputs": [],
   "source": [
    "race_tracts = race_tracts[reorder_cols]"
   ]
  },
  {
   "cell_type": "markdown",
   "id": "62007025",
   "metadata": {},
   "source": [
    "## Read 880 corridor data"
   ]
  },
  {
   "cell_type": "code",
   "execution_count": 92,
   "id": "0eef5c7e",
   "metadata": {},
   "outputs": [],
   "source": [
    "fgdb = '/Users/jcroff/Box/DataViz Projects/Adhoc-Spatial-Analysis/FastTrak Start Pilot Mapping/arcgis_projects/FastTrak START Pilot Mapping/FastTrak START Pilot Mapping.gdb'"
   ]
  },
  {
   "cell_type": "code",
   "execution_count": 93,
   "id": "446070e6",
   "metadata": {},
   "outputs": [
    {
     "data": {
      "text/plain": [
       "['tomtom_2019_road_highway_interstate',\n",
       " 'tomtom_2019_interstate_880',\n",
       " 'interstate_880_corridor_study_area',\n",
       " 'Expresslanes_880',\n",
       " 'coc_study_area',\n",
       " 'low_income_language_at_home_acs2014_2018',\n",
       " 'low_income_language_at_home_acs2014_2018_study_area',\n",
       " 'Low_Income_Tracts']"
      ]
     },
     "execution_count": 93,
     "metadata": {},
     "output_type": "execute_result"
    }
   ],
   "source": [
    "fiona.listlayers(fgdb)"
   ]
  },
  {
   "cell_type": "code",
   "execution_count": 94,
   "id": "2cf75ed5",
   "metadata": {},
   "outputs": [],
   "source": [
    "corridor_study_area = gp.read_file(fgdb,driver='FileGDB',\n",
    "                                   layer='interstate_880_corridor_study_area')"
   ]
  },
  {
   "cell_type": "code",
   "execution_count": 95,
   "id": "d65c09fb",
   "metadata": {},
   "outputs": [
    {
     "data": {
      "image/png": "[encoded data removed]",
      "text/plain": [
       "<Figure size 720x720 with 1 Axes>"
      ]
     },
     "metadata": {
      "needs_background": "light"
     },
     "output_type": "display_data"
    }
   ],
   "source": [
    "corridor_study_area.plot(figsize=(10,10));"
   ]
  },
  {
   "cell_type": "code",
   "execution_count": 96,
   "id": "a61ee071",
   "metadata": {},
   "outputs": [
    {
     "data": {
      "text/html": [
       "<div>\n",
       "<style scoped>\n",
       "    .dataframe tbody tr th:only-of-type {\n",
       "        vertical-align: middle;\n",
       "    }\n",
       "\n",
       "    .dataframe tbody tr th {\n",
       "        vertical-align: top;\n",
       "    }\n",
       "\n",
       "    .dataframe thead th {\n",
       "        text-align: right;\n",
       "    }\n",
       "</style>\n",
       "<table border=\"1\" class=\"dataframe\">\n",
       "  <thead>\n",
       "    <tr style=\"text-align: right;\">\n",
       "      <th></th>\n",
       "      <th>Shape_Length</th>\n",
       "      <th>Shape_Area</th>\n",
       "      <th>geometry</th>\n",
       "    </tr>\n",
       "  </thead>\n",
       "  <tbody>\n",
       "    <tr>\n",
       "      <th>0</th>\n",
       "      <td>179469.390878</td>\n",
       "      <td>9.200699e+08</td>\n",
       "      <td>MULTIPOLYGON (((593967.487 4124752.215, 593964...</td>\n",
       "    </tr>\n",
       "  </tbody>\n",
       "</table>\n",
       "</div>"
      ],
      "text/plain": [
       "    Shape_Length    Shape_Area  \\\n",
       "0  179469.390878  9.200699e+08   \n",
       "\n",
       "                                            geometry  \n",
       "0  MULTIPOLYGON (((593967.487 4124752.215, 593964...  "
      ]
     },
     "execution_count": 96,
     "metadata": {},
     "output_type": "execute_result"
    }
   ],
   "source": [
    "corridor_study_area"
   ]
  },
  {
   "cell_type": "code",
   "execution_count": 97,
   "id": "41e7472c",
   "metadata": {},
   "outputs": [],
   "source": [
    "#Project to wgs84\n",
    "corridor_study_area.to_crs('EPSG:4326',inplace=True)"
   ]
  },
  {
   "cell_type": "code",
   "execution_count": 98,
   "id": "38744ccc",
   "metadata": {},
   "outputs": [
    {
     "data": {
      "text/plain": [
       "<Geographic 2D CRS: EPSG:4326>\n",
       "Name: WGS 84\n",
       "Axis Info [ellipsoidal]:\n",
       "- Lat[north]: Geodetic latitude (degree)\n",
       "- Lon[east]: Geodetic longitude (degree)\n",
       "Area of Use:\n",
       "- name: World.\n",
       "- bounds: (-180.0, -90.0, 180.0, 90.0)\n",
       "Datum: World Geodetic System 1984 ensemble\n",
       "- Ellipsoid: WGS 84\n",
       "- Prime Meridian: Greenwich"
      ]
     },
     "execution_count": 98,
     "metadata": {},
     "output_type": "execute_result"
    }
   ],
   "source": [
    "corridor_study_area.crs"
   ]
  },
  {
   "cell_type": "markdown",
   "id": "6c69eea5",
   "metadata": {},
   "source": [
    "# Clip census tracts to study area"
   ]
  },
  {
   "cell_type": "code",
   "execution_count": 99,
   "id": "870a2ecf",
   "metadata": {},
   "outputs": [],
   "source": [
    "race_tracts_clip = gp.clip(race_tracts,\n",
    "                           corridor_study_area)"
   ]
  },
  {
   "cell_type": "code",
   "execution_count": 100,
   "id": "8653f3c2",
   "metadata": {},
   "outputs": [
    {
     "data": {
      "image/png": "[encoded data removed]",
      "text/plain": [
       "<Figure size 720x720 with 1 Axes>"
      ]
     },
     "metadata": {
      "needs_background": "light"
     },
     "output_type": "display_data"
    }
   ],
   "source": [
    "race_tracts_clip.plot(figsize=(10,10));"
   ]
  },
  {
   "cell_type": "code",
   "execution_count": 101,
   "id": "7db5dc8e",
   "metadata": {},
   "outputs": [
    {
     "data": {
      "text/plain": [
       "['GEOID',\n",
       " 'state',\n",
       " 'county',\n",
       " 'tract',\n",
       " 'total_pop',\n",
       " 'hispanic_latino_pop',\n",
       " 'non_hl_white',\n",
       " 'non_hl_black',\n",
       " 'non_hl_indian_alaska_native',\n",
       " 'non_hl_asian',\n",
       " 'non_hl_hawaiian_pacific_islander',\n",
       " 'non_hl_other_race',\n",
       " 'non_hl_multi_racial',\n",
       " 'geometry']"
      ]
     },
     "execution_count": 101,
     "metadata": {},
     "output_type": "execute_result"
    }
   ],
   "source": [
    "race_tracts_clip.columns.to_list()"
   ]
  },
  {
   "cell_type": "markdown",
   "id": "4c07e6fb",
   "metadata": {},
   "source": [
    "## Summarize data"
   ]
  },
  {
   "cell_type": "code",
   "execution_count": 159,
   "id": "9dc35ede",
   "metadata": {},
   "outputs": [],
   "source": [
    "summary_cols = ['total_pop',\n",
    " 'hispanic_latino_pop',\n",
    " 'non_hl_white',\n",
    " 'non_hl_black',\n",
    " 'non_hl_indian_alaska_native',\n",
    " 'non_hl_asian',\n",
    " 'non_hl_hawaiian_pacific_islander',\n",
    " 'non_hl_other_race',\n",
    " 'non_hl_multi_racial']\n",
    "study_area_summary = race_tracts_clip[summary_cols].aggregate('sum').to_frame().T"
   ]
  },
  {
   "cell_type": "code",
   "execution_count": 160,
   "id": "83e86ae3",
   "metadata": {},
   "outputs": [],
   "source": [
    "def create_multiple_share_columns(dataframe, dictionary, total_population_column):\n",
    "    for key, value in dictionary.items():\n",
    "        dataframe[value] = np.where(dataframe[total_population_column] == 0,0,\n",
    "                                    (dataframe[key] /\n",
    "                                     dataframe[total_population_column]))"
   ]
  },
  {
   "cell_type": "code",
   "execution_count": 161,
   "id": "461361cf",
   "metadata": {},
   "outputs": [
    {
     "data": {
      "text/plain": [
       "{'total_pop': '',\n",
       " 'hispanic_latino_pop': '',\n",
       " 'non_hl_white': '',\n",
       " 'non_hl_black': '',\n",
       " 'non_hl_indian_alaska_native': '',\n",
       " 'non_hl_asian': '',\n",
       " 'non_hl_hawaiian_pacific_islander': '',\n",
       " 'non_hl_other_race': '',\n",
       " 'non_hl_multi_racial': ''}"
      ]
     },
     "execution_count": 161,
     "metadata": {},
     "output_type": "execute_result"
    }
   ],
   "source": [
    "dict.fromkeys(summary_cols,'')"
   ]
  },
  {
   "cell_type": "code",
   "execution_count": 162,
   "id": "72899c14",
   "metadata": {},
   "outputs": [],
   "source": [
    "summary_cols_pct_dict = {\n",
    " 'hispanic_latino_pop': 'pct_hispanic_latino_pop',\n",
    " 'non_hl_white': 'pct_non_hl_white',\n",
    " 'non_hl_black': 'pct_non_hl_black',\n",
    " 'non_hl_indian_alaska_native': 'pct_non_hl_indian_alaska_native',\n",
    " 'non_hl_asian': 'pct_non_hl_asian',\n",
    " 'non_hl_hawaiian_pacific_islander': 'pct_non_hl_hawaiian_pacific_islander',\n",
    " 'non_hl_other_race': 'pct_non_hl_other_race',\n",
    " 'non_hl_multi_racial': 'pct_non_hl_multi_racial'}"
   ]
  },
  {
   "cell_type": "code",
   "execution_count": 163,
   "id": "b3ef0437",
   "metadata": {},
   "outputs": [],
   "source": [
    "create_multiple_share_columns(study_area_summary,\n",
    "                              dictionary=summary_cols_pct_dict,\n",
    "                              total_population_column='total_pop')"
   ]
  },
  {
   "cell_type": "code",
   "execution_count": 164,
   "id": "20855a8f",
   "metadata": {},
   "outputs": [],
   "source": [
    "study_area_summary_transpose = study_area_summary.T"
   ]
  },
  {
   "cell_type": "code",
   "execution_count": 165,
   "id": "d5ce59a0",
   "metadata": {},
   "outputs": [],
   "source": [
    "study_area_summary_transpose.rename(columns={0:'Summary_Statistics'},inplace=True)"
   ]
  },
  {
   "cell_type": "code",
   "execution_count": 166,
   "id": "035288b4",
   "metadata": {},
   "outputs": [],
   "source": [
    "study_area_summary_transpose.to_csv('data/study_area_race_summary_Census2020.csv')"
   ]
  },
  {
   "cell_type": "markdown",
   "id": "3741bb95",
   "metadata": {},
   "source": [
    "## Graph data"
   ]
  },
  {
   "cell_type": "code",
   "execution_count": 172,
   "id": "6b0466c5",
   "metadata": {},
   "outputs": [
    {
     "data": {
      "text/html": [
       "<div>\n",
       "<style scoped>\n",
       "    .dataframe tbody tr th:only-of-type {\n",
       "        vertical-align: middle;\n",
       "    }\n",
       "\n",
       "    .dataframe tbody tr th {\n",
       "        vertical-align: top;\n",
       "    }\n",
       "\n",
       "    .dataframe thead th {\n",
       "        text-align: right;\n",
       "    }\n",
       "</style>\n",
       "<table border=\"1\" class=\"dataframe\">\n",
       "  <thead>\n",
       "    <tr style=\"text-align: right;\">\n",
       "      <th></th>\n",
       "      <th>Summary_Statistics</th>\n",
       "    </tr>\n",
       "  </thead>\n",
       "  <tbody>\n",
       "    <tr>\n",
       "      <th>total_pop</th>\n",
       "      <td>2.167073e+06</td>\n",
       "    </tr>\n",
       "    <tr>\n",
       "      <th>hispanic_latino_pop</th>\n",
       "      <td>5.569890e+05</td>\n",
       "    </tr>\n",
       "    <tr>\n",
       "      <th>non_hl_white</th>\n",
       "      <td>5.310620e+05</td>\n",
       "    </tr>\n",
       "    <tr>\n",
       "      <th>non_hl_black</th>\n",
       "      <td>1.730880e+05</td>\n",
       "    </tr>\n",
       "    <tr>\n",
       "      <th>non_hl_indian_alaska_native</th>\n",
       "      <td>4.839000e+03</td>\n",
       "    </tr>\n",
       "    <tr>\n",
       "      <th>non_hl_asian</th>\n",
       "      <td>7.724850e+05</td>\n",
       "    </tr>\n",
       "    <tr>\n",
       "      <th>non_hl_hawaiian_pacific_islander</th>\n",
       "      <td>1.520200e+04</td>\n",
       "    </tr>\n",
       "    <tr>\n",
       "      <th>non_hl_other_race</th>\n",
       "      <td>1.269100e+04</td>\n",
       "    </tr>\n",
       "    <tr>\n",
       "      <th>non_hl_multi_racial</th>\n",
       "      <td>1.007170e+05</td>\n",
       "    </tr>\n",
       "    <tr>\n",
       "      <th>pct_hispanic_latino_pop</th>\n",
       "      <td>2.570236e-01</td>\n",
       "    </tr>\n",
       "    <tr>\n",
       "      <th>pct_non_hl_white</th>\n",
       "      <td>2.450596e-01</td>\n",
       "    </tr>\n",
       "    <tr>\n",
       "      <th>pct_non_hl_black</th>\n",
       "      <td>7.987179e-02</td>\n",
       "    </tr>\n",
       "    <tr>\n",
       "      <th>pct_non_hl_indian_alaska_native</th>\n",
       "      <td>2.232966e-03</td>\n",
       "    </tr>\n",
       "    <tr>\n",
       "      <th>pct_non_hl_asian</th>\n",
       "      <td>3.564647e-01</td>\n",
       "    </tr>\n",
       "    <tr>\n",
       "      <th>pct_non_hl_hawaiian_pacific_islander</th>\n",
       "      <td>7.014992e-03</td>\n",
       "    </tr>\n",
       "    <tr>\n",
       "      <th>pct_non_hl_other_race</th>\n",
       "      <td>5.856286e-03</td>\n",
       "    </tr>\n",
       "    <tr>\n",
       "      <th>pct_non_hl_multi_racial</th>\n",
       "      <td>4.647605e-02</td>\n",
       "    </tr>\n",
       "  </tbody>\n",
       "</table>\n",
       "</div>"
      ],
      "text/plain": [
       "                                      Summary_Statistics\n",
       "total_pop                                   2.167073e+06\n",
       "hispanic_latino_pop                         5.569890e+05\n",
       "non_hl_white                                5.310620e+05\n",
       "non_hl_black                                1.730880e+05\n",
       "non_hl_indian_alaska_native                 4.839000e+03\n",
       "non_hl_asian                                7.724850e+05\n",
       "non_hl_hawaiian_pacific_islander            1.520200e+04\n",
       "non_hl_other_race                           1.269100e+04\n",
       "non_hl_multi_racial                         1.007170e+05\n",
       "pct_hispanic_latino_pop                     2.570236e-01\n",
       "pct_non_hl_white                            2.450596e-01\n",
       "pct_non_hl_black                            7.987179e-02\n",
       "pct_non_hl_indian_alaska_native             2.232966e-03\n",
       "pct_non_hl_asian                            3.564647e-01\n",
       "pct_non_hl_hawaiian_pacific_islander        7.014992e-03\n",
       "pct_non_hl_other_race                       5.856286e-03\n",
       "pct_non_hl_multi_racial                     4.647605e-02"
      ]
     },
     "execution_count": 172,
     "metadata": {},
     "output_type": "execute_result"
    }
   ],
   "source": [
    "study_area_summary_transpose"
   ]
  },
  {
   "cell_type": "code",
   "execution_count": 181,
   "id": "c191ce22",
   "metadata": {},
   "outputs": [],
   "source": [
    "graph_sum_cols = ['pct_hispanic_latino_pop',\n",
    " 'pct_non_hl_white',\n",
    " 'pct_non_hl_black',\n",
    " 'pct_non_hl_indian_alaska_native',\n",
    " 'pct_non_hl_asian',\n",
    " 'pct_non_hl_hawaiian_pacific_islander',\n",
    " 'pct_non_hl_other_race',\n",
    " 'pct_non_hl_multi_racial']\n",
    "study_area_pct = study_area_summary_transpose.loc[graph_sum_cols]"
   ]
  },
  {
   "cell_type": "code",
   "execution_count": 182,
   "id": "b4bad704",
   "metadata": {},
   "outputs": [],
   "source": [
    "index_rename = {'pct_hispanic_latino_pop':'Hispanic or Latino',\n",
    "               'pct_non_hl_white':'White',\n",
    "               'pct_non_hl_black':'Black',\n",
    "               'pct_non_hl_indian_alaska_native':'Native American + Alaskan',\n",
    "               'pct_non_hl_asian':'Asian',\n",
    "               'pct_non_hl_hawaiian_pacific_islander':'Hawaiian Pacific Islander',\n",
    "               'pct_non_hl_other_race':'Other',\n",
    "               'pct_non_hl_multi_racial':'Multiracial'}\n",
    "study_area_pct.rename(index=index_rename,inplace=True)"
   ]
  },
  {
   "cell_type": "code",
   "execution_count": 183,
   "id": "b8972a21",
   "metadata": {},
   "outputs": [
    {
     "data": {
      "text/plain": [
       "Index(['Hispanic or Latino', 'White', 'Black', 'Native American + Alaskan',\n",
       "       'Asian', 'Hawaiian Pacific Islander', 'Other', 'Multiracial'],\n",
       "      dtype='object')"
      ]
     },
     "execution_count": 183,
     "metadata": {},
     "output_type": "execute_result"
    }
   ],
   "source": [
    "study_area_pct.index"
   ]
  },
  {
   "cell_type": "code",
   "execution_count": 186,
   "id": "524426c1",
   "metadata": {},
   "outputs": [
    {
     "data": {
      "image/png": "[encoded data removed]",
      "text/plain": [
       "<Figure size 1080x720 with 1 Axes>"
      ]
     },
     "metadata": {
      "needs_background": "light"
     },
     "output_type": "display_data"
    }
   ],
   "source": [
    "plot_cols = ['Hispanic or Latino', 'White Alone', 'Black Alone',\n",
    "       'Indian or Alaska Native Alone', 'Asian Alone',\n",
    "       'Hawaiian or Pacific Islander', 'Other Race Alone', 'Multi Racial']\n",
    "study_area_pct.plot(kind='bar',figsize=(15,10),rot=30,legend=False)\n",
    "\n",
    "plt.title(\"880 Corridor Study Area Population by Race\",\n",
    "          fontdict={'fontsize':20},\n",
    "          pad=15)\n",
    "plt.xlabel(\"Race\")\n",
    "plt.ylabel(\"Percent Population\")\n",
    "plt.ticklabel_format(style='plain',axis='y')\n",
    "plt.tight_layout()\n",
    "plt.savefig('data/study_area_population_by_race.png',facecolor='white',dpi=350);"
   ]
  }
 ],
 "metadata": {
  "kernelspec": {
   "display_name": "Python 3 (ipykernel)",
   "language": "python",
   "name": "python3"
  },
  "language_info": {
   "codemirror_mode": {
    "name": "ipython",
    "version": 3
   },
   "file_extension": ".py",
   "mimetype": "text/x-python",
   "name": "python",
   "nbconvert_exporter": "python",
   "pygments_lexer": "ipython3",
   "version": "3.9.7"
  }
 },
 "nbformat": 4,
 "nbformat_minor": 5
}
