{
 "cells": [
  {
   "cell_type": "code",
   "execution_count": 1,
   "metadata": {},
   "outputs": [],
   "source": [
    "import sys\n",
    "import os\n",
    "import getpass\n",
    "import pandas as pd\n",
    "import geopandas as gpd\n",
    "import gtfs_functions as gtfs\n",
    "\n",
    "user = getpass.getuser()\n",
    "\n",
    "DVUTILS_LOCAL_CLONE_PATH = f\"/Users/{user}/Documents/GitHub/dvutils\"\n",
    "sys.path.insert(0, DVUTILS_LOCAL_CLONE_PATH)\n",
    "from utils_io import *"
   ]
  },
  {
   "cell_type": "code",
   "execution_count": 3,
   "metadata": {},
   "outputs": [],
   "source": [
    "# Download GTFS data from 511.org\n",
    "api_key = getpass.getpass(prompt=\"Enter 511.org API key: \")\n",
    "gtfs_path = f\"http://api.511.org/transit/datafeeds?api_key={api_key}&operator_id=RG\"\n",
    "rg_feed = gtfs.Feed(gtfs_path, time_windows=[0, 6, 10, 12, 16, 19, 24], busiest_date=False)"
   ]
  },
  {
   "cell_type": "code",
   "execution_count": 4,
   "metadata": {},
   "outputs": [
    {
     "name": "stderr",
     "output_type": "stream",
     "text": [
      "INFO:root:get trips in stop_times\n",
      "INFO:root:accessing trips\n",
      "INFO:root:Reading \"routes.txt\".\n",
      "INFO:root:Reading \"trips.txt\".\n",
      "INFO:root:_trips is defined in stop_times\n",
      "INFO:root:Reading \"stops.txt\".\n",
      "INFO:root:Reading \"stop_times.txt\".\n",
      "INFO:root:computing patterns\n",
      "INFO:root:Reading \"stop_times.txt\".\n",
      "INFO:root:accessing trips\n",
      "INFO:root:Reading \"agency.txt\".\n"
     ]
    }
   ],
   "source": [
    "# Create dataframes from GTFS data\n",
    "rg_stop_freq = rg_feed.stops_freq\n",
    "rg_stops_stations = rg_feed.stops\n",
    "rg_stop_times = rg_feed.stop_times\n",
    "rg_trips = rg_feed.trips\n",
    "rg_routes = rg_feed.routes\n",
    "rg_agency = rg_feed.agency"
   ]
  },
  {
   "cell_type": "code",
   "execution_count": 7,
   "metadata": {},
   "outputs": [
    {
     "name": "stderr",
     "output_type": "stream",
     "text": [
      "INFO:root:Reading \"shapes.txt\".\n"
     ]
    },
    {
     "ename": "GEOSException",
     "evalue": "IllegalArgumentException: point array must contain 0 or >1 elements\n",
     "output_type": "error",
     "traceback": [
      "\u001b[0;31m---------------------------------------------------------------------------\u001b[0m",
      "\u001b[0;31mGEOSException\u001b[0m                             Traceback (most recent call last)",
      "\u001b[1;32m/Users/jcroff/Documents/GitHub/Spatial-Analysis-Mapping-Projects/Project-Documentation/Adhoc-Spatial-Analysis/bay_area_transit_agency_routes.ipynb Cell 4\u001b[0m line \u001b[0;36m1\n\u001b[0;32m----> <a href='vscode-notebook-cell:/Users/jcroff/Documents/GitHub/Spatial-Analysis-Mapping-Projects/Project-Documentation/Adhoc-Spatial-Analysis/bay_area_transit_agency_routes.ipynb#W3sZmlsZQ%3D%3D?line=0'>1</a>\u001b[0m route_shapes \u001b[39m=\u001b[39m rg_feed\u001b[39m.\u001b[39;49mshapes\n",
      "File \u001b[0;32m~/anaconda3/envs/geo_env/lib/python3.10/site-packages/gtfs_functions/gtfs_functions.py:171\u001b[0m, in \u001b[0;36mFeed.shapes\u001b[0;34m(self)\u001b[0m\n\u001b[1;32m    168\u001b[0m \u001b[39m@property\u001b[39m\n\u001b[1;32m    169\u001b[0m \u001b[39mdef\u001b[39;00m \u001b[39mshapes\u001b[39m(\u001b[39mself\u001b[39m):\n\u001b[1;32m    170\u001b[0m     \u001b[39mif\u001b[39;00m \u001b[39mself\u001b[39m\u001b[39m.\u001b[39m_shapes \u001b[39mis\u001b[39;00m \u001b[39mNone\u001b[39;00m:\n\u001b[0;32m--> 171\u001b[0m         \u001b[39mself\u001b[39m\u001b[39m.\u001b[39m_shapes \u001b[39m=\u001b[39m \u001b[39mself\u001b[39;49m\u001b[39m.\u001b[39;49mget_shapes()\n\u001b[1;32m    173\u001b[0m     \u001b[39mreturn\u001b[39;00m \u001b[39mself\u001b[39m\u001b[39m.\u001b[39m_shapes\n",
      "File \u001b[0;32m~/anaconda3/envs/geo_env/lib/python3.10/site-packages/gtfs_functions/gtfs_functions.py:410\u001b[0m, in \u001b[0;36mFeed.get_shapes\u001b[0;34m(self)\u001b[0m\n\u001b[1;32m    408\u001b[0m \u001b[39mif\u001b[39;00m \u001b[39mself\u001b[39m\u001b[39m.\u001b[39mgeo:\n\u001b[1;32m    409\u001b[0m     aux \u001b[39m=\u001b[39m extract_file(\u001b[39m'\u001b[39m\u001b[39mshapes\u001b[39m\u001b[39m'\u001b[39m, \u001b[39mself\u001b[39m)\n\u001b[0;32m--> 410\u001b[0m     shapes \u001b[39m=\u001b[39m aux[[\u001b[39m\"\u001b[39;49m\u001b[39mshape_id\u001b[39;49m\u001b[39m\"\u001b[39;49m, \u001b[39m\"\u001b[39;49m\u001b[39mshape_pt_lat\u001b[39;49m\u001b[39m\"\u001b[39;49m, \u001b[39m\"\u001b[39;49m\u001b[39mshape_pt_lon\u001b[39;49m\u001b[39m\"\u001b[39;49m]]\\\n\u001b[1;32m    411\u001b[0m         \u001b[39m.\u001b[39;49mgroupby(\u001b[39m\"\u001b[39;49m\u001b[39mshape_id\u001b[39;49m\u001b[39m\"\u001b[39;49m)\\\n\u001b[1;32m    412\u001b[0m             \u001b[39m.\u001b[39;49magg(\u001b[39mlist\u001b[39;49m)\\\n\u001b[1;32m    413\u001b[0m                 \u001b[39m.\u001b[39;49mapply(\u001b[39mlambda\u001b[39;49;00m x: LineString(\u001b[39mzip\u001b[39;49m(x[\u001b[39m1\u001b[39;49m], x[\u001b[39m0\u001b[39;49m])), axis\u001b[39m=\u001b[39;49m\u001b[39m1\u001b[39;49m)\n\u001b[1;32m    415\u001b[0m     shapes \u001b[39m=\u001b[39m gpd\u001b[39m.\u001b[39mGeoDataFrame(\n\u001b[1;32m    416\u001b[0m         data\u001b[39m=\u001b[39mshapes\u001b[39m.\u001b[39mindex,\n\u001b[1;32m    417\u001b[0m         geometry \u001b[39m=\u001b[39m shapes\u001b[39m.\u001b[39mvalues,\n\u001b[1;32m    418\u001b[0m         crs\u001b[39m=\u001b[39m\u001b[39m4326\u001b[39m\n\u001b[1;32m    419\u001b[0m     )\n\u001b[1;32m    420\u001b[0m     shapes[\u001b[39m'\u001b[39m\u001b[39mshape_id\u001b[39m\u001b[39m'\u001b[39m] \u001b[39m=\u001b[39m shapes\u001b[39m.\u001b[39mshape_id\u001b[39m.\u001b[39mastype(\u001b[39mstr\u001b[39m)\n",
      "File \u001b[0;32m~/anaconda3/envs/geo_env/lib/python3.10/site-packages/pandas/core/frame.py:9568\u001b[0m, in \u001b[0;36mDataFrame.apply\u001b[0;34m(self, func, axis, raw, result_type, args, **kwargs)\u001b[0m\n\u001b[1;32m   9557\u001b[0m \u001b[39mfrom\u001b[39;00m \u001b[39mpandas\u001b[39;00m\u001b[39m.\u001b[39;00m\u001b[39mcore\u001b[39;00m\u001b[39m.\u001b[39;00m\u001b[39mapply\u001b[39;00m \u001b[39mimport\u001b[39;00m frame_apply\n\u001b[1;32m   9559\u001b[0m op \u001b[39m=\u001b[39m frame_apply(\n\u001b[1;32m   9560\u001b[0m     \u001b[39mself\u001b[39m,\n\u001b[1;32m   9561\u001b[0m     func\u001b[39m=\u001b[39mfunc,\n\u001b[0;32m   (...)\u001b[0m\n\u001b[1;32m   9566\u001b[0m     kwargs\u001b[39m=\u001b[39mkwargs,\n\u001b[1;32m   9567\u001b[0m )\n\u001b[0;32m-> 9568\u001b[0m \u001b[39mreturn\u001b[39;00m op\u001b[39m.\u001b[39;49mapply()\u001b[39m.\u001b[39m__finalize__(\u001b[39mself\u001b[39m, method\u001b[39m=\u001b[39m\u001b[39m\"\u001b[39m\u001b[39mapply\u001b[39m\u001b[39m\"\u001b[39m)\n",
      "File \u001b[0;32m~/anaconda3/envs/geo_env/lib/python3.10/site-packages/pandas/core/apply.py:764\u001b[0m, in \u001b[0;36mFrameApply.apply\u001b[0;34m(self)\u001b[0m\n\u001b[1;32m    761\u001b[0m \u001b[39melif\u001b[39;00m \u001b[39mself\u001b[39m\u001b[39m.\u001b[39mraw:\n\u001b[1;32m    762\u001b[0m     \u001b[39mreturn\u001b[39;00m \u001b[39mself\u001b[39m\u001b[39m.\u001b[39mapply_raw()\n\u001b[0;32m--> 764\u001b[0m \u001b[39mreturn\u001b[39;00m \u001b[39mself\u001b[39;49m\u001b[39m.\u001b[39;49mapply_standard()\n",
      "File \u001b[0;32m~/anaconda3/envs/geo_env/lib/python3.10/site-packages/pandas/core/apply.py:891\u001b[0m, in \u001b[0;36mFrameApply.apply_standard\u001b[0;34m(self)\u001b[0m\n\u001b[1;32m    890\u001b[0m \u001b[39mdef\u001b[39;00m \u001b[39mapply_standard\u001b[39m(\u001b[39mself\u001b[39m):\n\u001b[0;32m--> 891\u001b[0m     results, res_index \u001b[39m=\u001b[39m \u001b[39mself\u001b[39;49m\u001b[39m.\u001b[39;49mapply_series_generator()\n\u001b[1;32m    893\u001b[0m     \u001b[39m# wrap results\u001b[39;00m\n\u001b[1;32m    894\u001b[0m     \u001b[39mreturn\u001b[39;00m \u001b[39mself\u001b[39m\u001b[39m.\u001b[39mwrap_results(results, res_index)\n",
      "File \u001b[0;32m~/anaconda3/envs/geo_env/lib/python3.10/site-packages/pandas/core/apply.py:907\u001b[0m, in \u001b[0;36mFrameApply.apply_series_generator\u001b[0;34m(self)\u001b[0m\n\u001b[1;32m    904\u001b[0m \u001b[39mwith\u001b[39;00m option_context(\u001b[39m\"\u001b[39m\u001b[39mmode.chained_assignment\u001b[39m\u001b[39m\"\u001b[39m, \u001b[39mNone\u001b[39;00m):\n\u001b[1;32m    905\u001b[0m     \u001b[39mfor\u001b[39;00m i, v \u001b[39min\u001b[39;00m \u001b[39menumerate\u001b[39m(series_gen):\n\u001b[1;32m    906\u001b[0m         \u001b[39m# ignore SettingWithCopy here in case the user mutates\u001b[39;00m\n\u001b[0;32m--> 907\u001b[0m         results[i] \u001b[39m=\u001b[39m \u001b[39mself\u001b[39;49m\u001b[39m.\u001b[39;49mf(v)\n\u001b[1;32m    908\u001b[0m         \u001b[39mif\u001b[39;00m \u001b[39misinstance\u001b[39m(results[i], ABCSeries):\n\u001b[1;32m    909\u001b[0m             \u001b[39m# If we have a view on v, we need to make a copy because\u001b[39;00m\n\u001b[1;32m    910\u001b[0m             \u001b[39m#  series_generator will swap out the underlying data\u001b[39;00m\n\u001b[1;32m    911\u001b[0m             results[i] \u001b[39m=\u001b[39m results[i]\u001b[39m.\u001b[39mcopy(deep\u001b[39m=\u001b[39m\u001b[39mFalse\u001b[39;00m)\n",
      "File \u001b[0;32m~/anaconda3/envs/geo_env/lib/python3.10/site-packages/gtfs_functions/gtfs_functions.py:413\u001b[0m, in \u001b[0;36mFeed.get_shapes.<locals>.<lambda>\u001b[0;34m(x)\u001b[0m\n\u001b[1;32m    408\u001b[0m \u001b[39mif\u001b[39;00m \u001b[39mself\u001b[39m\u001b[39m.\u001b[39mgeo:\n\u001b[1;32m    409\u001b[0m     aux \u001b[39m=\u001b[39m extract_file(\u001b[39m'\u001b[39m\u001b[39mshapes\u001b[39m\u001b[39m'\u001b[39m, \u001b[39mself\u001b[39m)\n\u001b[1;32m    410\u001b[0m     shapes \u001b[39m=\u001b[39m aux[[\u001b[39m\"\u001b[39m\u001b[39mshape_id\u001b[39m\u001b[39m\"\u001b[39m, \u001b[39m\"\u001b[39m\u001b[39mshape_pt_lat\u001b[39m\u001b[39m\"\u001b[39m, \u001b[39m\"\u001b[39m\u001b[39mshape_pt_lon\u001b[39m\u001b[39m\"\u001b[39m]]\\\n\u001b[1;32m    411\u001b[0m         \u001b[39m.\u001b[39mgroupby(\u001b[39m\"\u001b[39m\u001b[39mshape_id\u001b[39m\u001b[39m\"\u001b[39m)\\\n\u001b[1;32m    412\u001b[0m             \u001b[39m.\u001b[39magg(\u001b[39mlist\u001b[39m)\\\n\u001b[0;32m--> 413\u001b[0m                 \u001b[39m.\u001b[39mapply(\u001b[39mlambda\u001b[39;00m x: LineString(\u001b[39mzip\u001b[39;49m(x[\u001b[39m1\u001b[39;49m], x[\u001b[39m0\u001b[39;49m])), axis\u001b[39m=\u001b[39m\u001b[39m1\u001b[39m)\n\u001b[1;32m    415\u001b[0m     shapes \u001b[39m=\u001b[39m gpd\u001b[39m.\u001b[39mGeoDataFrame(\n\u001b[1;32m    416\u001b[0m         data\u001b[39m=\u001b[39mshapes\u001b[39m.\u001b[39mindex,\n\u001b[1;32m    417\u001b[0m         geometry \u001b[39m=\u001b[39m shapes\u001b[39m.\u001b[39mvalues,\n\u001b[1;32m    418\u001b[0m         crs\u001b[39m=\u001b[39m\u001b[39m4326\u001b[39m\n\u001b[1;32m    419\u001b[0m     )\n\u001b[1;32m    420\u001b[0m     shapes[\u001b[39m'\u001b[39m\u001b[39mshape_id\u001b[39m\u001b[39m'\u001b[39m] \u001b[39m=\u001b[39m shapes\u001b[39m.\u001b[39mshape_id\u001b[39m.\u001b[39mastype(\u001b[39mstr\u001b[39m)\n",
      "File \u001b[0;32m~/anaconda3/envs/geo_env/lib/python3.10/site-packages/shapely/geometry/linestring.py:73\u001b[0m, in \u001b[0;36mLineString.__new__\u001b[0;34m(self, coordinates)\u001b[0m\n\u001b[1;32m     68\u001b[0m \u001b[39mif\u001b[39;00m \u001b[39mlen\u001b[39m(coordinates) \u001b[39m==\u001b[39m \u001b[39m0\u001b[39m:\n\u001b[1;32m     69\u001b[0m     \u001b[39m# empty geometry\u001b[39;00m\n\u001b[1;32m     70\u001b[0m     \u001b[39m# TODO better constructor + should shapely.linestrings handle this?\u001b[39;00m\n\u001b[1;32m     71\u001b[0m     \u001b[39mreturn\u001b[39;00m shapely\u001b[39m.\u001b[39mfrom_wkt(\u001b[39m\"\u001b[39m\u001b[39mLINESTRING EMPTY\u001b[39m\u001b[39m\"\u001b[39m)\n\u001b[0;32m---> 73\u001b[0m geom \u001b[39m=\u001b[39m shapely\u001b[39m.\u001b[39;49mlinestrings(coordinates)\n\u001b[1;32m     74\u001b[0m \u001b[39mif\u001b[39;00m \u001b[39mnot\u001b[39;00m \u001b[39misinstance\u001b[39m(geom, LineString):\n\u001b[1;32m     75\u001b[0m     \u001b[39mraise\u001b[39;00m \u001b[39mValueError\u001b[39;00m(\u001b[39m\"\u001b[39m\u001b[39mInvalid values passed to LineString constructor\u001b[39m\u001b[39m\"\u001b[39m)\n",
      "File \u001b[0;32m~/anaconda3/envs/geo_env/lib/python3.10/site-packages/shapely/decorators.py:77\u001b[0m, in \u001b[0;36mmultithreading_enabled.<locals>.wrapped\u001b[0;34m(*args, **kwargs)\u001b[0m\n\u001b[1;32m     75\u001b[0m     \u001b[39mfor\u001b[39;00m arr \u001b[39min\u001b[39;00m array_args:\n\u001b[1;32m     76\u001b[0m         arr\u001b[39m.\u001b[39mflags\u001b[39m.\u001b[39mwriteable \u001b[39m=\u001b[39m \u001b[39mFalse\u001b[39;00m\n\u001b[0;32m---> 77\u001b[0m     \u001b[39mreturn\u001b[39;00m func(\u001b[39m*\u001b[39;49margs, \u001b[39m*\u001b[39;49m\u001b[39m*\u001b[39;49mkwargs)\n\u001b[1;32m     78\u001b[0m \u001b[39mfinally\u001b[39;00m:\n\u001b[1;32m     79\u001b[0m     \u001b[39mfor\u001b[39;00m arr, old_flag \u001b[39min\u001b[39;00m \u001b[39mzip\u001b[39m(array_args, old_flags):\n",
      "File \u001b[0;32m~/anaconda3/envs/geo_env/lib/python3.10/site-packages/shapely/creation.py:120\u001b[0m, in \u001b[0;36mlinestrings\u001b[0;34m(coords, y, z, indices, out, **kwargs)\u001b[0m\n\u001b[1;32m    118\u001b[0m coords \u001b[39m=\u001b[39m _xyz_to_coords(coords, y, z)\n\u001b[1;32m    119\u001b[0m \u001b[39mif\u001b[39;00m indices \u001b[39mis\u001b[39;00m \u001b[39mNone\u001b[39;00m:\n\u001b[0;32m--> 120\u001b[0m     \u001b[39mreturn\u001b[39;00m lib\u001b[39m.\u001b[39;49mlinestrings(coords, out\u001b[39m=\u001b[39;49mout, \u001b[39m*\u001b[39;49m\u001b[39m*\u001b[39;49mkwargs)\n\u001b[1;32m    121\u001b[0m \u001b[39melse\u001b[39;00m:\n\u001b[1;32m    122\u001b[0m     \u001b[39mreturn\u001b[39;00m simple_geometries_1d(coords, indices, GeometryType\u001b[39m.\u001b[39mLINESTRING, out\u001b[39m=\u001b[39mout)\n",
      "\u001b[0;31mGEOSException\u001b[0m: IllegalArgumentException: point array must contain 0 or >1 elements\n"
     ]
    }
   ],
   "source": [
    "route_shapes = rg_feed.shapes"
   ]
  },
  {
   "cell_type": "code",
   "execution_count": null,
   "metadata": {},
   "outputs": [],
   "source": []
  }
 ],
 "metadata": {
  "kernelspec": {
   "display_name": "geo_env",
   "language": "python",
   "name": "python3"
  },
  "language_info": {
   "codemirror_mode": {
    "name": "ipython",
    "version": 3
   },
   "file_extension": ".py",
   "mimetype": "text/x-python",
   "name": "python",
   "nbconvert_exporter": "python",
   "pygments_lexer": "ipython3",
   "version": "3.10.6"
  },
  "orig_nbformat": 4
 },
 "nbformat": 4,
 "nbformat_minor": 2
}
