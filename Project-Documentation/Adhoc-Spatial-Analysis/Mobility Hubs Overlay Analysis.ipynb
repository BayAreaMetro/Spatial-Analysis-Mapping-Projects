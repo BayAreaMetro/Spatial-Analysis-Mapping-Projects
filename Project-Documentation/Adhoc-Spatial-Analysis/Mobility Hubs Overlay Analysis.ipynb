{
 "cells": [
  {
   "cell_type": "code",
   "execution_count": 3,
   "id": "84be05e1",
   "metadata": {},
   "outputs": [],
   "source": [
    "import sys\n",
    "import getpass\n",
    "import geopandas as gpd\n",
    "from arcgis import GIS\n",
    "from arcgis import features\n",
    "\n",
    "user = getpass.getuser()\n",
    "sys.dont_write_bytecode = True\n",
    "\n",
    "# sys.path.insert(0, '/Users/{}/Box/Utility Code'.format(user))\n",
    "\n",
    "# for macOS Monterey\n",
    "sys.path.insert(0, '/Users/{}/Library/CloudStorage/Box-Box/Utility Code'.format(user))\n",
    "\n",
    "from utils_io import *"
   ]
  },
  {
   "cell_type": "code",
   "execution_count": 3,
   "id": "a5edaf00",
   "metadata": {},
   "outputs": [
    {
     "name": "stdout",
     "output_type": "stream",
     "text": [
      "Enter password: ········\n"
     ]
    }
   ],
   "source": [
    "gis = GIS(\n",
    "    url='https://mtc.maps.arcgis.com/home/', \n",
    "    username='content_MTC'\n",
    ")"
   ]
  },
  {
   "cell_type": "code",
   "execution_count": 4,
   "id": "7d71e60a",
   "metadata": {},
   "outputs": [],
   "source": [
    "work_dir = os.path.join(\n",
    "    '/Users',\n",
    "    user,\n",
    "    'Library',\n",
    "    'CloudStorage',\n",
    "    'Box-Box',\n",
    "    'DataViz Projects',\n",
    "    'Adhoc-Spatial-Analysis',\n",
    "    'Mobility Hubs Overlay Analysis'\n",
    ")"
   ]
  },
  {
   "cell_type": "markdown",
   "id": "3bfd321f",
   "metadata": {},
   "source": [
    "## Mobility Hubs Overlay Analysis\n",
    "\n",
    "**Analysis requirements:** \n",
    "1. mobility hub locations that are both in an EPC and transit oriented community area and are on the existing MTC bike network\n",
    "2. mobility hub locations that are in a transit rich community area and on the existing MTC bike network\n",
    "\n",
    "**Box Directory**\n",
    "[Mobility Hubs Overlay Analysis Box](https://mtcdrive.box.com/s/xbl4frhez31wkucrba9ml9x1zen5wr0c)\n",
    "\n",
    "**Data Sources**\n",
    "1. [Mobility Hubs](https://mtc.maps.arcgis.com/home/item.html?id=6f3f6556d3c14d3d94ecef85270f52d4)\n",
    "2. [Equity Priority Communities](https://mtc.maps.arcgis.com/home/item.html?id=28a03a46fe9c4df0a29746d6f8c633c8)\n",
    "3. [Transit-Oriented Communities](https://mtc.maps.arcgis.com/home/item.html?id=3df9742c87a849a8a09342bc58da2dd6)\n",
    "5. [Existing MTC Bike Network](https://mtc.maps.arcgis.com/home/item.html?id=df9ff2da527140e1ab36dd6c7d5ea0e6)\n",
    "6. [Plan Bay Area 2050 PDAS](https://services3.arcgis.com/i2dkYWmb4wHvYPda/arcgis/rest/services/priority_development_areas_pba2050/FeatureServer/0/query?outFields=*&where=1%3D1&f=geojson)\n",
    "6. [San Francisco Bay Jurisdictions](https://services3.arcgis.com/i2dkYWmb4wHvYPda/arcgis/rest/services/region_jurisdiction/FeatureServer/0/query?outFields=*&where=1%3D1&f=geojson)"
   ]
  },
  {
   "cell_type": "markdown",
   "id": "5d521907",
   "metadata": {},
   "source": [
    "## Pull data sources"
   ]
  },
  {
   "cell_type": "code",
   "execution_count": 5,
   "id": "067b5a7d",
   "metadata": {},
   "outputs": [],
   "source": [
    "mh_gdf = (gpd.read_file(\n",
    "    'https://services3.arcgis.com/i2dkYWmb4wHvYPda/arcgis/rest/services/mtc_mobility_hubs_2020/FeatureServer/0/query?outFields=*&where=1%3D1&f=geojson')\n",
    "          .to_crs('EPSG:26910')\n",
    "         )"
   ]
  },
  {
   "cell_type": "code",
   "execution_count": 6,
   "id": "58d4180a",
   "metadata": {},
   "outputs": [],
   "source": [
    "epc_gdf = (gpd.read_file(\n",
    "    'https://services3.arcgis.com/i2dkYWmb4wHvYPda/arcgis/rest/services/communities_of_concern_2020_acs2018/FeatureServer/0/query?where=1%3D1&outFields=geoid,epc_2050,epc_class&outSR=4326&f=json')\n",
    "           .to_crs('EPSG:26910')\n",
    "          )"
   ]
  },
  {
   "cell_type": "code",
   "execution_count": 7,
   "id": "24f12135",
   "metadata": {},
   "outputs": [],
   "source": [
    "bn_gdf = (gpd.read_file(\n",
    "    os.path.join(work_dir, 'data','mtc_bike_network.geojson'))\n",
    "          .to_crs('EPSG:26910')\n",
    "         )"
   ]
  },
  {
   "cell_type": "code",
   "execution_count": 8,
   "id": "299a7bdd",
   "metadata": {},
   "outputs": [],
   "source": [
    "# pull toc item from AGOL\n",
    "toc = gis.content.get(itemid='3df9742c87a849a8a09342bc58da2dd6')"
   ]
  },
  {
   "cell_type": "code",
   "execution_count": 9,
   "id": "8a21ab59",
   "metadata": {},
   "outputs": [],
   "source": [
    "# select layer from item\n",
    "toc_layer = toc.layers[0]"
   ]
  },
  {
   "cell_type": "code",
   "execution_count": 10,
   "id": "d8db2cb1",
   "metadata": {},
   "outputs": [],
   "source": [
    "# query layer\n",
    "toc_qry = toc_layer.query(out_sr={\"wkid\" : 4326})"
   ]
  },
  {
   "cell_type": "code",
   "execution_count": 11,
   "id": "8cd63d2a",
   "metadata": {},
   "outputs": [],
   "source": [
    "# export to geojson\n",
    "toc_geojson = toc_qry.to_geojson"
   ]
  },
  {
   "cell_type": "code",
   "execution_count": 12,
   "id": "387261db",
   "metadata": {},
   "outputs": [],
   "source": [
    "# create geodataframe from object and set crs as EPSG:26910 \n",
    "# the default geom from AGOL was incorrectly set as EPSG:4326\n",
    "toc_gdf = (gpd.read_file(\n",
    "    toc_geojson)\n",
    "           .to_crs('EPSG:26910')\n",
    "          )"
   ]
  },
  {
   "cell_type": "code",
   "execution_count": 13,
   "id": "fd7f5f48",
   "metadata": {},
   "outputs": [],
   "source": [
    "gg_gdf = (gpd.read_file(\n",
    "    'https://services3.arcgis.com/i2dkYWmb4wHvYPda/arcgis/rest/services/pba2050_growth_geographies_2020/FeatureServer/0/query?where=1%3D1&outFields=designatio&outSR=4326&f=json')\n",
    "          .to_crs('EPSG:26910')\n",
    "         )"
   ]
  },
  {
   "cell_type": "code",
   "execution_count": 14,
   "id": "2b46ad48",
   "metadata": {},
   "outputs": [],
   "source": [
    "# pull jurisdictions from AGOL\n",
    "jurs_gdf = (gpd.read_file(\n",
    "    'https://services3.arcgis.com/i2dkYWmb4wHvYPda/arcgis/rest/services/region_jurisdiction/FeatureServer/0/query?outFields=*&where=1%3D1&f=geojson')\n",
    "        .to_crs('EPSG:26910')\n",
    "       )"
   ]
  },
  {
   "cell_type": "code",
   "execution_count": 15,
   "id": "e4593405",
   "metadata": {},
   "outputs": [],
   "source": [
    "pda_gdf = (gpd.read_file(\n",
    "    'https://services3.arcgis.com/i2dkYWmb4wHvYPda/arcgis/rest/services/priority_development_areas_pba2050/FeatureServer/0/query?outFields=*&where=1%3D1&f=geojson')\n",
    "        .to_crs('EPSG:26910')\n",
    "       )"
   ]
  },
  {
   "cell_type": "markdown",
   "id": "bbd04b72",
   "metadata": {},
   "source": [
    "## Perform spatial joins"
   ]
  },
  {
   "cell_type": "code",
   "execution_count": 16,
   "id": "275cd5a2",
   "metadata": {},
   "outputs": [],
   "source": [
    "# filter epc\n",
    "epc_gdf = epc_gdf[epc_gdf['epc_2050'] == 1]"
   ]
  },
  {
   "cell_type": "code",
   "execution_count": 17,
   "id": "16d7256a",
   "metadata": {},
   "outputs": [],
   "source": [
    "# spatial join mobility hubs to equity priority communities\n",
    "mh_epc = gpd.sjoin(\n",
    "    mh_gdf, \n",
    "    epc_gdf, \n",
    "    how='left'\n",
    ")"
   ]
  },
  {
   "cell_type": "code",
   "execution_count": 18,
   "id": "af574fef",
   "metadata": {},
   "outputs": [],
   "source": [
    "# create epc flag column\n",
    "mh_epc['epc_pba2050'] = np.where(mh_epc['index_right'].isnull(),0,1)"
   ]
  },
  {
   "cell_type": "code",
   "execution_count": 19,
   "id": "9af17a3a",
   "metadata": {},
   "outputs": [],
   "source": [
    "# spatially join mobility hubs to bike network\n",
    "mh_bn = gpd.sjoin_nearest(\n",
    "    mh_gdf,\n",
    "    bn_gdf,\n",
    "    how='left',\n",
    "    max_distance=15.24\n",
    ")"
   ]
  },
  {
   "cell_type": "code",
   "execution_count": 20,
   "id": "baa74dee",
   "metadata": {},
   "outputs": [],
   "source": [
    "# create bike network flag column\n",
    "mh_bn['existing_bike_nw'] = np.where(mh_bn['index_right'].isnull(),0,1)"
   ]
  },
  {
   "cell_type": "code",
   "execution_count": 21,
   "id": "0646df28",
   "metadata": {},
   "outputs": [],
   "source": [
    "# spatially join mobility hubs to bike network within 1/4 mile\n",
    "mh_1_4_mi_bn = gpd.sjoin_nearest(\n",
    "    mh_gdf,\n",
    "    bn_gdf,\n",
    "    how='left',\n",
    "    max_distance=402.336\n",
    ")"
   ]
  },
  {
   "cell_type": "code",
   "execution_count": 22,
   "id": "18eb4ccf",
   "metadata": {},
   "outputs": [],
   "source": [
    "# create 1/4 mile bike network flag column\n",
    "mh_1_4_mi_bn['1_4_mi_existing_bike_nw'] = np.where(mh_1_4_mi_bn['index_right'].isnull(),0,1)"
   ]
  },
  {
   "cell_type": "code",
   "execution_count": 23,
   "id": "8226162f",
   "metadata": {},
   "outputs": [],
   "source": [
    "# spatially join mobility hubs to transit rich geographies\n",
    "mh_toc = gpd.sjoin(\n",
    "    mh_gdf,\n",
    "    toc_gdf,\n",
    "    how='left'\n",
    ")"
   ]
  },
  {
   "cell_type": "code",
   "execution_count": 24,
   "id": "135e88ff",
   "metadata": {},
   "outputs": [],
   "source": [
    "mh_toc['toc'] = np.where(mh_toc['index_right'].isnull(),0,1)"
   ]
  },
  {
   "cell_type": "code",
   "execution_count": 25,
   "id": "55ee6387",
   "metadata": {},
   "outputs": [],
   "source": [
    "# spatially join mobility hubs to PBA2050 priority development areas\n",
    "mh_pda = gpd.sjoin(\n",
    "    mh_gdf,\n",
    "    pda_gdf,\n",
    "    how='left'\n",
    ")"
   ]
  },
  {
   "cell_type": "code",
   "execution_count": 26,
   "id": "111375ec",
   "metadata": {},
   "outputs": [],
   "source": [
    "mh_pda['pba2050_pda'] = np.where(mh_pda['index_right'].isnull(),0,1)"
   ]
  },
  {
   "cell_type": "markdown",
   "id": "26bebc5f",
   "metadata": {},
   "source": [
    "## Flag overlay areas within original df"
   ]
  },
  {
   "cell_type": "code",
   "execution_count": 27,
   "id": "592d4113",
   "metadata": {},
   "outputs": [],
   "source": [
    "def create_flag_column(sj_gdf, flag_col_name, original_gdf, original_gdf_id_col):\n",
    "    if sj_gdf.shape[0] != original_gdf.shape[0]:\n",
    "        original_gdf[flag_col_name] = original_gdf[original_gdf_id_col].map(\n",
    "            sj_gdf.groupby(original_gdf_id_col)[flag_col_name].first())\n",
    "    else:\n",
    "        original_gdf[flag_col_name] = original_gdf[original_gdf_id_col].map(\n",
    "            sj_gdf.set_index(original_gdf_id_col)[flag_col_name])"
   ]
  },
  {
   "cell_type": "code",
   "execution_count": 28,
   "id": "67da0b93",
   "metadata": {},
   "outputs": [],
   "source": [
    "# create epc flag in original gdf\n",
    "create_flag_column(\n",
    "    sj_gdf=mh_epc,\n",
    "    flag_col_name='epc_pba2050',\n",
    "    original_gdf=mh_gdf,\n",
    "    original_gdf_id_col='id_x'\n",
    ")"
   ]
  },
  {
   "cell_type": "code",
   "execution_count": 29,
   "id": "a8db9dc8",
   "metadata": {},
   "outputs": [],
   "source": [
    "# create bike network flag in original gdf\n",
    "create_flag_column(\n",
    "    sj_gdf=mh_bn,\n",
    "    flag_col_name='existing_bike_nw',\n",
    "    original_gdf=mh_gdf,\n",
    "    original_gdf_id_col='id_x'\n",
    ")"
   ]
  },
  {
   "cell_type": "code",
   "execution_count": 30,
   "id": "ff6855b8",
   "metadata": {},
   "outputs": [],
   "source": [
    "# create 1/4 bike network flag in original gdf\n",
    "create_flag_column(\n",
    "    sj_gdf=mh_1_4_mi_bn,\n",
    "    flag_col_name='1_4_mi_existing_bike_nw',\n",
    "    original_gdf=mh_gdf,\n",
    "    original_gdf_id_col='id_x'\n",
    ")"
   ]
  },
  {
   "cell_type": "code",
   "execution_count": 31,
   "id": "a6602fa5",
   "metadata": {},
   "outputs": [],
   "source": [
    "# create transit rich flag in original gdf\n",
    "create_flag_column(\n",
    "    sj_gdf=mh_toc,\n",
    "    flag_col_name='toc',\n",
    "    original_gdf=mh_gdf,\n",
    "    original_gdf_id_col='id_x'\n",
    ")"
   ]
  },
  {
   "cell_type": "code",
   "execution_count": 32,
   "id": "69629417",
   "metadata": {},
   "outputs": [],
   "source": [
    "# create pda flag in original gdf\n",
    "create_flag_column(\n",
    "    sj_gdf=mh_pda,\n",
    "    flag_col_name='pba2050_pda',\n",
    "    original_gdf=mh_gdf,\n",
    "    original_gdf_id_col='id_x'\n",
    ")"
   ]
  },
  {
   "cell_type": "markdown",
   "id": "d274eaab",
   "metadata": {},
   "source": [
    "## Flag counties and jurisdictions"
   ]
  },
  {
   "cell_type": "code",
   "execution_count": 34,
   "id": "4223665a",
   "metadata": {},
   "outputs": [
    {
     "data": {
      "text/html": [
       "<div>\n",
       "<style scoped>\n",
       "    .dataframe tbody tr th:only-of-type {\n",
       "        vertical-align: middle;\n",
       "    }\n",
       "\n",
       "    .dataframe tbody tr th {\n",
       "        vertical-align: top;\n",
       "    }\n",
       "\n",
       "    .dataframe thead th {\n",
       "        text-align: right;\n",
       "    }\n",
       "</style>\n",
       "<table border=\"1\" class=\"dataframe\">\n",
       "  <thead>\n",
       "    <tr style=\"text-align: right;\">\n",
       "      <th></th>\n",
       "      <th>objectid</th>\n",
       "      <th>fipst</th>\n",
       "      <th>fipco</th>\n",
       "      <th>jurname</th>\n",
       "      <th>Shape__Area</th>\n",
       "      <th>Shape__Length</th>\n",
       "      <th>geometry</th>\n",
       "    </tr>\n",
       "  </thead>\n",
       "  <tbody>\n",
       "    <tr>\n",
       "      <th>0</th>\n",
       "      <td>110</td>\n",
       "      <td>06</td>\n",
       "      <td>097</td>\n",
       "      <td>Unincorporated Sonoma</td>\n",
       "      <td>0.450046</td>\n",
       "      <td>8.231250</td>\n",
       "      <td>MULTIPOLYGON (((532413.783 4279946.829, 532729...</td>\n",
       "    </tr>\n",
       "    <tr>\n",
       "      <th>1</th>\n",
       "      <td>111</td>\n",
       "      <td>06</td>\n",
       "      <td>041</td>\n",
       "      <td>Unincorporated Marin</td>\n",
       "      <td>0.196976</td>\n",
       "      <td>5.260678</td>\n",
       "      <td>MULTIPOLYGON (((557233.893 4214144.962, 556868...</td>\n",
       "    </tr>\n",
       "    <tr>\n",
       "      <th>2</th>\n",
       "      <td>112</td>\n",
       "      <td>06</td>\n",
       "      <td>055</td>\n",
       "      <td>Unincorporated Napa</td>\n",
       "      <td>0.201949</td>\n",
       "      <td>4.566464</td>\n",
       "      <td>MULTIPOLYGON (((578177.125 4263156.061, 578176...</td>\n",
       "    </tr>\n",
       "    <tr>\n",
       "      <th>3</th>\n",
       "      <td>113</td>\n",
       "      <td>06</td>\n",
       "      <td>095</td>\n",
       "      <td>Unincorporated Solano</td>\n",
       "      <td>0.200921</td>\n",
       "      <td>6.225325</td>\n",
       "      <td>MULTIPOLYGON (((616638.139 4226074.193, 616415...</td>\n",
       "    </tr>\n",
       "    <tr>\n",
       "      <th>4</th>\n",
       "      <td>114</td>\n",
       "      <td>06</td>\n",
       "      <td>013</td>\n",
       "      <td>Unincorporated Contra Costa</td>\n",
       "      <td>0.128281</td>\n",
       "      <td>8.168448</td>\n",
       "      <td>MULTIPOLYGON (((627009.074 4186435.599, 626934...</td>\n",
       "    </tr>\n",
       "    <tr>\n",
       "      <th>...</th>\n",
       "      <td>...</td>\n",
       "      <td>...</td>\n",
       "      <td>...</td>\n",
       "      <td>...</td>\n",
       "      <td>...</td>\n",
       "      <td>...</td>\n",
       "      <td>...</td>\n",
       "    </tr>\n",
       "    <tr>\n",
       "      <th>104</th>\n",
       "      <td>214</td>\n",
       "      <td>06</td>\n",
       "      <td>081</td>\n",
       "      <td>San Bruno</td>\n",
       "      <td>0.001451</td>\n",
       "      <td>0.239008</td>\n",
       "      <td>POLYGON ((552459.710 4165530.026, 552462.282 4...</td>\n",
       "    </tr>\n",
       "    <tr>\n",
       "      <th>105</th>\n",
       "      <td>215</td>\n",
       "      <td>06</td>\n",
       "      <td>081</td>\n",
       "      <td>San Carlos</td>\n",
       "      <td>0.001428</td>\n",
       "      <td>0.310386</td>\n",
       "      <td>POLYGON ((565295.849 4152865.344, 565304.800 4...</td>\n",
       "    </tr>\n",
       "    <tr>\n",
       "      <th>106</th>\n",
       "      <td>216</td>\n",
       "      <td>06</td>\n",
       "      <td>081</td>\n",
       "      <td>San Mateo</td>\n",
       "      <td>0.004186</td>\n",
       "      <td>0.465963</td>\n",
       "      <td>POLYGON ((563905.810 4154384.459, 563901.285 4...</td>\n",
       "    </tr>\n",
       "    <tr>\n",
       "      <th>107</th>\n",
       "      <td>217</td>\n",
       "      <td>06</td>\n",
       "      <td>081</td>\n",
       "      <td>South San Francisco</td>\n",
       "      <td>0.007979</td>\n",
       "      <td>0.701870</td>\n",
       "      <td>POLYGON ((553624.238 4169571.806, 553675.906 4...</td>\n",
       "    </tr>\n",
       "    <tr>\n",
       "      <th>108</th>\n",
       "      <td>218</td>\n",
       "      <td>06</td>\n",
       "      <td>081</td>\n",
       "      <td>Woodside</td>\n",
       "      <td>0.003023</td>\n",
       "      <td>0.481513</td>\n",
       "      <td>POLYGON ((564500.421 4145699.104, 564466.370 4...</td>\n",
       "    </tr>\n",
       "  </tbody>\n",
       "</table>\n",
       "<p>109 rows × 7 columns</p>\n",
       "</div>"
      ],
      "text/plain": [
       "     objectid fipst fipco                      jurname  Shape__Area  \\\n",
       "0         110    06   097        Unincorporated Sonoma     0.450046   \n",
       "1         111    06   041         Unincorporated Marin     0.196976   \n",
       "2         112    06   055          Unincorporated Napa     0.201949   \n",
       "3         113    06   095        Unincorporated Solano     0.200921   \n",
       "4         114    06   013  Unincorporated Contra Costa     0.128281   \n",
       "..        ...   ...   ...                          ...          ...   \n",
       "104       214    06   081                    San Bruno     0.001451   \n",
       "105       215    06   081                   San Carlos     0.001428   \n",
       "106       216    06   081                    San Mateo     0.004186   \n",
       "107       217    06   081          South San Francisco     0.007979   \n",
       "108       218    06   081                     Woodside     0.003023   \n",
       "\n",
       "     Shape__Length                                           geometry  \n",
       "0         8.231250  MULTIPOLYGON (((532413.783 4279946.829, 532729...  \n",
       "1         5.260678  MULTIPOLYGON (((557233.893 4214144.962, 556868...  \n",
       "2         4.566464  MULTIPOLYGON (((578177.125 4263156.061, 578176...  \n",
       "3         6.225325  MULTIPOLYGON (((616638.139 4226074.193, 616415...  \n",
       "4         8.168448  MULTIPOLYGON (((627009.074 4186435.599, 626934...  \n",
       "..             ...                                                ...  \n",
       "104       0.239008  POLYGON ((552459.710 4165530.026, 552462.282 4...  \n",
       "105       0.310386  POLYGON ((565295.849 4152865.344, 565304.800 4...  \n",
       "106       0.465963  POLYGON ((563905.810 4154384.459, 563901.285 4...  \n",
       "107       0.701870  POLYGON ((553624.238 4169571.806, 553675.906 4...  \n",
       "108       0.481513  POLYGON ((564500.421 4145699.104, 564466.370 4...  \n",
       "\n",
       "[109 rows x 7 columns]"
      ]
     },
     "execution_count": 34,
     "metadata": {},
     "output_type": "execute_result"
    }
   ],
   "source": [
    "jurs_gdf"
   ]
  },
  {
   "cell_type": "code",
   "execution_count": 41,
   "id": "b6e8efea",
   "metadata": {},
   "outputs": [],
   "source": [
    "mh_jur_gdf = gpd.sjoin(mh_gdf, jurs_gdf[['fipco','jurname','geometry']])"
   ]
  },
  {
   "cell_type": "code",
   "execution_count": 45,
   "id": "93c424ab",
   "metadata": {},
   "outputs": [],
   "source": [
    "# update county w/ human readable name\n",
    "county_dict = {\n",
    "    '075':'San Francisco',\n",
    "    '041':'Marin',\n",
    "    '055':'Napa',\n",
    "    '097':'Sonoma',\n",
    "    '095':'Solano',\n",
    "    '013':'Contra Costa',\n",
    "    '001':'Alameda',\n",
    "    '085':'Santa Clara',\n",
    "    '081':'San Mateo'\n",
    "}"
   ]
  },
  {
   "cell_type": "code",
   "execution_count": 46,
   "id": "74c49d6f",
   "metadata": {},
   "outputs": [],
   "source": [
    "mh_jur_gdf['county'] = mh_jur_gdf['fipco'].map(county_dict)"
   ]
  },
  {
   "cell_type": "markdown",
   "id": "538156bb",
   "metadata": {},
   "source": [
    "## Reverse geocode addresses"
   ]
  },
  {
   "cell_type": "code",
   "execution_count": null,
   "id": "fa772e36",
   "metadata": {},
   "outputs": [],
   "source": [
    "google_api_key = getpass.getpass()"
   ]
  },
  {
   "cell_type": "code",
   "execution_count": 66,
   "id": "1e4854e5",
   "metadata": {},
   "outputs": [],
   "source": [
    "from functools import partial\n",
    "from tqdm import tqdm\n",
    "from geopandas.tools import reverse_geocode\n",
    "from geopy.geocoders import GoogleV3\n",
    "from geopy.extra.rate_limiter import RateLimiter\n",
    "from shapely.geometry import Point"
   ]
  },
  {
   "cell_type": "code",
   "execution_count": 67,
   "id": "76b38d4e",
   "metadata": {},
   "outputs": [],
   "source": [
    "# Create a geo locator\n",
    "g = GoogleV3(api_key=google_api_key)\n",
    "# Use a rate limiter\n",
    "geocode = RateLimiter(\n",
    "    g.reverse, \n",
    "    min_delay_seconds=1/40, \n",
    "    error_wait_seconds=1\n",
    ")\n",
    "tqdm.pandas()"
   ]
  },
  {
   "cell_type": "code",
   "execution_count": 68,
   "id": "01b86d16",
   "metadata": {},
   "outputs": [],
   "source": [
    "mh_jur_gdf = mh_jur_gdf.to_crs('EPSG:4326')"
   ]
  },
  {
   "cell_type": "code",
   "execution_count": 109,
   "id": "b8b366d5",
   "metadata": {},
   "outputs": [],
   "source": [
    "mh_jur_gdf['geo_str'] = mh_jur_gdf['geometry'].apply(lambda x: str(x.y) + ',' + str(x.x))"
   ]
  },
  {
   "cell_type": "code",
   "execution_count": 111,
   "id": "e35f7dfc",
   "metadata": {},
   "outputs": [
    {
     "name": "stderr",
     "output_type": "stream",
     "text": [
      "100%|█████████████████████████████████████████████████████████████████████████| 1785/1785 [03:15<00:00,  9.11it/s]\n"
     ]
    }
   ],
   "source": [
    "mh_jur_gdf['address'] = mh_jur_gdf['geo_str'].progress_apply(\n",
    "    partial(geocode,timeout=1000)\n",
    ")"
   ]
  },
  {
   "cell_type": "code",
   "execution_count": 118,
   "id": "8afef7e4",
   "metadata": {},
   "outputs": [],
   "source": [
    "mh_jur_gdf['address_short'] = mh_jur_gdf['address'].apply(lambda x: x.address)"
   ]
  },
  {
   "cell_type": "markdown",
   "id": "c77676d2",
   "metadata": {},
   "source": [
    "## Export final data"
   ]
  },
  {
   "cell_type": "code",
   "execution_count": 120,
   "id": "8fe5ebbb",
   "metadata": {},
   "outputs": [],
   "source": [
    "rename_dict = {\n",
    "    'csha_flag':'carshare',\n",
    "    'bknt_flag':'former_bike_nw',\n",
    "    'bwsa_flag':'bay_wheels'\n",
    "}\n",
    "mh_jur_gdf = mh_jur_gdf.rename(columns=rename_dict)"
   ]
  },
  {
   "cell_type": "code",
   "execution_count": 121,
   "id": "5ea4a760",
   "metadata": {},
   "outputs": [
    {
     "name": "stdout",
     "output_type": "stream",
     "text": [
      "<class 'geopandas.geodataframe.GeoDataFrame'>\n",
      "Int64Index: 1785 entries, 0 to 1690\n",
      "Data columns (total 65 columns):\n",
      " #   Column                   Non-Null Count  Dtype   \n",
      "---  ------                   --------------  -----   \n",
      " 0   OBJECTID                 1785 non-null   int64   \n",
      " 1   id_x                     1785 non-null   int64   \n",
      " 2   hub_type                 1785 non-null   object  \n",
      " 3   rank_all                 1785 non-null   int64   \n",
      " 4   eq_flag                  1785 non-null   int64   \n",
      " 5   clmt_score               1785 non-null   float64 \n",
      " 6   system_typ               1785 non-null   object  \n",
      " 7   hct_stn_nm               1785 non-null   object  \n",
      " 8   raw_name                 1785 non-null   object  \n",
      " 9   hct_flag                 1785 non-null   int64   \n",
      " 10  hct_score                1785 non-null   int64   \n",
      " 11  bhf_flag                 1785 non-null   int64   \n",
      " 12  bhf_score                1785 non-null   int64   \n",
      " 13  pr_flag                  1785 non-null   int64   \n",
      " 14  pr_score                 1785 non-null   int64   \n",
      " 15  univ_flag                1785 non-null   int64   \n",
      " 16  univ_score               1785 non-null   int64   \n",
      " 17  stdm_flag                1785 non-null   int64   \n",
      " 18  stdm_score               1785 non-null   int64   \n",
      " 19  empl_flag                1785 non-null   int64   \n",
      " 20  empl_score               1785 non-null   int64   \n",
      " 21  tctr_flag                1785 non-null   int64   \n",
      " 22  tctr_score               1785 non-null   int64   \n",
      " 23  airp_flag                1785 non-null   int64   \n",
      " 24  airp_score               1785 non-null   int64   \n",
      " 25  carshare                 1785 non-null   int64   \n",
      " 26  csha_score               1785 non-null   float64 \n",
      " 27  tma_flag                 1785 non-null   int64   \n",
      " 28  tma_score                1785 non-null   int64   \n",
      " 29  former_bike_nw           1785 non-null   int64   \n",
      " 30  bknt_score               1785 non-null   int64   \n",
      " 31  pden_score               1785 non-null   float64 \n",
      " 32  bay_wheels               1785 non-null   int64   \n",
      " 33  bwsa_score               1785 non-null   int64   \n",
      " 34  epc_flag                 1785 non-null   int64   \n",
      " 35  epc_score                1785 non-null   int64   \n",
      " 36  hdra_flag                1785 non-null   int64   \n",
      " 37  hdra_score               1785 non-null   int64   \n",
      " 38  pda_flag                 1785 non-null   int64   \n",
      " 39  pda_score                1785 non-null   int64   \n",
      " 40  bwst_score               1785 non-null   float64 \n",
      " 41  trnf_score               1785 non-null   float64 \n",
      " 42  atrv_score               1785 non-null   float64 \n",
      " 43  equity                   1785 non-null   int64   \n",
      " 44  pop_sqmi                 1784 non-null   float64 \n",
      " 45  popdns_bin               1785 non-null   object  \n",
      " 46  typology                 1785 non-null   int64   \n",
      " 47  cluster_id               1785 non-null   int64   \n",
      " 48  rank_type                1785 non-null   int64   \n",
      " 49  top_hubs                 1785 non-null   object  \n",
      " 50  c_or_b_hct               1785 non-null   int64   \n",
      " 51  geometry                 1785 non-null   geometry\n",
      " 52  epc_pba2050              1785 non-null   int64   \n",
      " 53  existing_bike_nw         1785 non-null   int64   \n",
      " 54  1_4_mi_existing_bike_nw  1785 non-null   int64   \n",
      " 55  toc                      1785 non-null   int64   \n",
      " 56  pba2050_pda              1785 non-null   int64   \n",
      " 57  index_right              1785 non-null   int64   \n",
      " 58  fipco                    1785 non-null   object  \n",
      " 59  jurname                  1785 non-null   object  \n",
      " 60  county                   1785 non-null   object  \n",
      " 61  geom_wkt                 1785 non-null   object  \n",
      " 62  geo_str                  1785 non-null   object  \n",
      " 63  address                  1785 non-null   object  \n",
      " 64  address_short            1785 non-null   object  \n",
      "dtypes: float64(7), geometry(1), int64(44), object(13)\n",
      "memory usage: 920.4+ KB\n"
     ]
    }
   ],
   "source": [
    "mh_jur_gdf.info()"
   ]
  },
  {
   "cell_type": "code",
   "execution_count": 126,
   "id": "7963f3ce",
   "metadata": {},
   "outputs": [],
   "source": [
    "final_cols = [\n",
    "    'county',\n",
    "    'jurname',\n",
    "    'address_short',\n",
    "    'id_x',\n",
    "    'hub_type',\n",
    "    'system_typ',\n",
    "    'hct_stn_nm',\n",
    "    'raw_name',\n",
    "    'carshare',\n",
    "    'former_bike_nw',\n",
    "    'bay_wheels',\n",
    "    'epc_pba2050',\n",
    "    'existing_bike_nw',\n",
    "    '1_4_mi_existing_bike_nw',\n",
    "    'toc',\n",
    "    'pba2050_pda'\n",
    "]\n",
    "mh_jur_gdf[final_cols].to_csv(os.path.join(work_dir,'data','mobility_hubs_overlay_analysis.csv'),index=False)"
   ]
  },
  {
   "cell_type": "code",
   "execution_count": null,
   "id": "43ac874d",
   "metadata": {},
   "outputs": [],
   "source": [
    "# #export bike network w/ missing geoms\n",
    "# bn_gdf[bn_gdf['geometry'].isnull()].to_csv('data/existing_bike_nw_missing_geometry.csv',index=False)"
   ]
  },
  {
   "cell_type": "code",
   "execution_count": null,
   "id": "823ab0b8",
   "metadata": {},
   "outputs": [],
   "source": []
  }
 ],
 "metadata": {
  "kernelspec": {
   "display_name": "Python 3 (ipykernel)",
   "language": "python",
   "name": "python3"
  },
  "language_info": {
   "codemirror_mode": {
    "name": "ipython",
    "version": 3
   },
   "file_extension": ".py",
   "mimetype": "text/x-python",
   "name": "python",
   "nbconvert_exporter": "python",
   "pygments_lexer": "ipython3",
   "version": "3.8.13"
  }
 },
 "nbformat": 4,
 "nbformat_minor": 5
}
