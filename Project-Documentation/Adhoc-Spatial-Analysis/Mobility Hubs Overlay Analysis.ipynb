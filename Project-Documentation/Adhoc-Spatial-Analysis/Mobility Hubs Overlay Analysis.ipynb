{
 "cells": [
  {
   "cell_type": "code",
   "execution_count": 1,
   "id": "84be05e1",
   "metadata": {},
   "outputs": [
    {
     "name": "stderr",
     "output_type": "stream",
     "text": [
      "/Users/jcroff/anaconda3/envs/geo_env/lib/python3.9/site-packages/scipy/__init__.py:146: UserWarning: A NumPy version >=1.16.5 and <1.23.0 is required for this version of SciPy (detected version 1.23.2\n",
      "  warnings.warn(f\"A NumPy version >={np_minversion} and <{np_maxversion}\"\n"
     ]
    }
   ],
   "source": [
    "import sys\n",
    "import getpass\n",
    "import geopandas as gpd\n",
    "from arcgis import GIS\n",
    "from arcgis import features\n",
    "\n",
    "user = getpass.getuser()\n",
    "sys.dont_write_bytecode = True\n",
    "\n",
    "# sys.path.insert(0, '/Users/{}/Box/Utility Code'.format(user))\n",
    "\n",
    "# for macOS Monterey\n",
    "sys.path.insert(0, '/Users/{}/Library/CloudStorage/Box-Box/Utility Code'.format(user))\n",
    "\n",
    "from utils_io import *"
   ]
  },
  {
   "cell_type": "code",
   "execution_count": 2,
   "id": "a5edaf00",
   "metadata": {},
   "outputs": [
    {
     "name": "stdout",
     "output_type": "stream",
     "text": [
      "Enter password: ········\n"
     ]
    }
   ],
   "source": [
    "gis = GIS(\n",
    "    url='https://mtc.maps.arcgis.com/home/', \n",
    "    username='content_MTC'\n",
    ")"
   ]
  },
  {
   "cell_type": "code",
   "execution_count": 43,
   "id": "7d71e60a",
   "metadata": {},
   "outputs": [],
   "source": [
    "work_dir = os.path.join(\n",
    "    '/Users',\n",
    "    user,\n",
    "    'Library',\n",
    "    'CloudStorage',\n",
    "    'Box-Box',\n",
    "    'DataViz Projects',\n",
    "    'Adhoc-Spatial-Analysis',\n",
    "    'Mobility Hubs Overlay Analysis'\n",
    ")"
   ]
  },
  {
   "cell_type": "markdown",
   "id": "3bfd321f",
   "metadata": {},
   "source": [
    "## Mobility Hubs Overlay Analysis\n",
    "\n",
    "**Analysis requirements:** \n",
    "1. mobility hub locations that are both in an EPC and transit oriented community area and are on the existing MTC bike network\n",
    "2. mobility hub locations that are in a transit rich community area and on the existing MTC bike network\n",
    "\n",
    "**Box Directory**\n",
    "[Mobility Hubs Overlay Analysis Box](https://mtcdrive.box.com/s/xbl4frhez31wkucrba9ml9x1zen5wr0c)\n",
    "\n",
    "**Data Sources**\n",
    "1. [Mobility Hubs](https://mtc.maps.arcgis.com/home/item.html?id=6f3f6556d3c14d3d94ecef85270f52d4)\n",
    "2. [Equity Priority Communities](https://mtc.maps.arcgis.com/home/item.html?id=28a03a46fe9c4df0a29746d6f8c633c8)\n",
    "3. [Transit-Oriented Communities](https://mtc.maps.arcgis.com/home/item.html?id=3df9742c87a849a8a09342bc58da2dd6)\n",
    "5. [Existing MTC Bike Network](https://mtc.maps.arcgis.com/home/item.html?id=df9ff2da527140e1ab36dd6c7d5ea0e6)"
   ]
  },
  {
   "cell_type": "markdown",
   "id": "5d521907",
   "metadata": {},
   "source": [
    "## Pull data sources"
   ]
  },
  {
   "cell_type": "code",
   "execution_count": 44,
   "id": "067b5a7d",
   "metadata": {},
   "outputs": [],
   "source": [
    "mh_gdf = (gpd.read_file(\n",
    "    'https://services3.arcgis.com/i2dkYWmb4wHvYPda/arcgis/rest/services/mtc_mobility_hubs_2020/FeatureServer/0/query?outFields=*&where=1%3D1&f=geojson')\n",
    "          .to_crs('EPSG:26910')\n",
    "         )"
   ]
  },
  {
   "cell_type": "code",
   "execution_count": 45,
   "id": "58d4180a",
   "metadata": {},
   "outputs": [],
   "source": [
    "epc_gdf = (gpd.read_file(\n",
    "    'https://services3.arcgis.com/i2dkYWmb4wHvYPda/arcgis/rest/services/communities_of_concern_2020_acs2018/FeatureServer/0/query?where=1%3D1&outFields=geoid,epc_2050,epc_class&outSR=4326&f=json')\n",
    "           .to_crs('EPSG:26910')\n",
    "          )"
   ]
  },
  {
   "cell_type": "code",
   "execution_count": 46,
   "id": "24f12135",
   "metadata": {},
   "outputs": [],
   "source": [
    "bn_gdf = (gpd.read_file(\n",
    "    os.path.join(work_dir, 'data','mtc_bike_network.geojson'))\n",
    "          .to_crs('EPSG:26910')\n",
    "         )"
   ]
  },
  {
   "cell_type": "code",
   "execution_count": 47,
   "id": "299a7bdd",
   "metadata": {},
   "outputs": [],
   "source": [
    "# pull toc item from AGOL\n",
    "toc = gis.content.get(itemid='3df9742c87a849a8a09342bc58da2dd6')"
   ]
  },
  {
   "cell_type": "code",
   "execution_count": 48,
   "id": "8a21ab59",
   "metadata": {},
   "outputs": [],
   "source": [
    "# select layer from item\n",
    "toc_layer = toc.layers[0]"
   ]
  },
  {
   "cell_type": "code",
   "execution_count": 49,
   "id": "d8db2cb1",
   "metadata": {},
   "outputs": [],
   "source": [
    "# query layer\n",
    "toc_qry = toc_layer.query(out_sr={\"wkid\" : 4326})"
   ]
  },
  {
   "cell_type": "code",
   "execution_count": 50,
   "id": "8cd63d2a",
   "metadata": {},
   "outputs": [],
   "source": [
    "# export to geojson\n",
    "toc_geojson = toc_qry.to_geojson"
   ]
  },
  {
   "cell_type": "code",
   "execution_count": 51,
   "id": "387261db",
   "metadata": {},
   "outputs": [],
   "source": [
    "# create geodataframe from object and set crs as EPSG:26910 \n",
    "# the default geom from AGOL was incorrectly set as EPSG:4326\n",
    "toc_gdf = (gpd.read_file(\n",
    "    toc_geojson)\n",
    "           .to_crs('EPSG:26910')\n",
    "          )"
   ]
  },
  {
   "cell_type": "code",
   "execution_count": 52,
   "id": "fd7f5f48",
   "metadata": {},
   "outputs": [],
   "source": [
    "gg_gdf = (gpd.read_file(\n",
    "    'https://services3.arcgis.com/i2dkYWmb4wHvYPda/arcgis/rest/services/pba2050_growth_geographies_2020/FeatureServer/0/query?where=1%3D1&outFields=designatio&outSR=4326&f=json')\n",
    "          .to_crs('EPSG:26910')\n",
    "         )"
   ]
  },
  {
   "cell_type": "markdown",
   "id": "bbd04b72",
   "metadata": {},
   "source": [
    "## Perform spatial joins"
   ]
  },
  {
   "cell_type": "code",
   "execution_count": 53,
   "id": "275cd5a2",
   "metadata": {},
   "outputs": [],
   "source": [
    "# filter epc\n",
    "epc_gdf = epc_gdf[epc_gdf['epc_2050'] == 1]"
   ]
  },
  {
   "cell_type": "code",
   "execution_count": 54,
   "id": "16d7256a",
   "metadata": {},
   "outputs": [],
   "source": [
    "# spatial join mobility hubs to equity priority communities\n",
    "mh_epc = gpd.sjoin(\n",
    "    mh_gdf, \n",
    "    epc_gdf, \n",
    "    how='left'\n",
    ")"
   ]
  },
  {
   "cell_type": "code",
   "execution_count": 55,
   "id": "af574fef",
   "metadata": {},
   "outputs": [],
   "source": [
    "# create epc flag column\n",
    "mh_epc['epc_pba2050'] = np.where(mh_epc['index_right'].isnull(),0,1)"
   ]
  },
  {
   "cell_type": "code",
   "execution_count": 56,
   "id": "9af17a3a",
   "metadata": {},
   "outputs": [],
   "source": [
    "# spatially join mobility hubs to bike network\n",
    "mh_bn = gpd.sjoin_nearest(\n",
    "    mh_gdf,\n",
    "    bn_gdf,\n",
    "    how='left',\n",
    "    max_distance=15.24\n",
    ")"
   ]
  },
  {
   "cell_type": "code",
   "execution_count": 57,
   "id": "baa74dee",
   "metadata": {},
   "outputs": [],
   "source": [
    "# create bike network flag column\n",
    "mh_bn['existing_bike_nw'] = np.where(mh_bn['index_right'].isnull(),0,1)"
   ]
  },
  {
   "cell_type": "code",
   "execution_count": 58,
   "id": "0646df28",
   "metadata": {},
   "outputs": [],
   "source": [
    "# spatially join mobility hubs to bike network within 1/4 mile\n",
    "mh_1_4_mi_bn = gpd.sjoin_nearest(\n",
    "    mh_gdf,\n",
    "    bn_gdf,\n",
    "    how='left',\n",
    "    max_distance=402.336\n",
    ")"
   ]
  },
  {
   "cell_type": "code",
   "execution_count": 59,
   "id": "18eb4ccf",
   "metadata": {},
   "outputs": [],
   "source": [
    "# create 1/4 mile bike network flag column\n",
    "mh_1_4_mi_bn['1_4_mi_existing_bike_nw'] = np.where(mh_1_4_mi_bn['index_right'].isnull(),0,1)"
   ]
  },
  {
   "cell_type": "code",
   "execution_count": 60,
   "id": "8226162f",
   "metadata": {},
   "outputs": [],
   "source": [
    "# spatially join mobility hubs to transit rich geographies\n",
    "mh_toc = gpd.sjoin(\n",
    "    mh_gdf,\n",
    "    toc_gdf,\n",
    "    how='left'\n",
    ")"
   ]
  },
  {
   "cell_type": "code",
   "execution_count": 61,
   "id": "135e88ff",
   "metadata": {},
   "outputs": [],
   "source": [
    "mh_toc['toc'] = np.where(mh_toc['index_right'].isnull(),0,1)"
   ]
  },
  {
   "cell_type": "markdown",
   "id": "26bebc5f",
   "metadata": {},
   "source": [
    "## Flag overlay areas within original df"
   ]
  },
  {
   "cell_type": "code",
   "execution_count": 62,
   "id": "592d4113",
   "metadata": {},
   "outputs": [],
   "source": [
    "def create_flag_column(sj_gdf, flag_col_name, original_gdf, original_gdf_id_col):\n",
    "    if sj_gdf.shape[0] != original_gdf.shape[0]:\n",
    "        original_gdf[flag_col_name] = original_gdf[original_gdf_id_col].map(\n",
    "            sj_gdf.groupby(original_gdf_id_col)[flag_col_name].first())\n",
    "    else:\n",
    "        original_gdf[flag_col_name] = original_gdf[original_gdf_id_col].map(\n",
    "            sj_gdf.set_index(original_gdf_id_col)[flag_col_name])"
   ]
  },
  {
   "cell_type": "code",
   "execution_count": 63,
   "id": "67da0b93",
   "metadata": {},
   "outputs": [],
   "source": [
    "# create epc flag in original gdf\n",
    "create_flag_column(\n",
    "    sj_gdf=mh_epc,\n",
    "    flag_col_name='epc_pba2050',\n",
    "    original_gdf=mh_gdf,\n",
    "    original_gdf_id_col='id_x'\n",
    ")"
   ]
  },
  {
   "cell_type": "code",
   "execution_count": 64,
   "id": "a8db9dc8",
   "metadata": {},
   "outputs": [],
   "source": [
    "# create bike network flag in original gdf\n",
    "create_flag_column(\n",
    "    sj_gdf=mh_bn,\n",
    "    flag_col_name='existing_bike_nw',\n",
    "    original_gdf=mh_gdf,\n",
    "    original_gdf_id_col='id_x'\n",
    ")"
   ]
  },
  {
   "cell_type": "code",
   "execution_count": 65,
   "id": "ff6855b8",
   "metadata": {},
   "outputs": [],
   "source": [
    "# create 1/4 bike network flag in original gdf\n",
    "create_flag_column(\n",
    "    sj_gdf=mh_1_4_mi_bn,\n",
    "    flag_col_name='1_4_mi_existing_bike_nw',\n",
    "    original_gdf=mh_gdf,\n",
    "    original_gdf_id_col='id_x'\n",
    ")"
   ]
  },
  {
   "cell_type": "code",
   "execution_count": 66,
   "id": "a6602fa5",
   "metadata": {},
   "outputs": [],
   "source": [
    "# create transit rich flag in original gdf\n",
    "create_flag_column(\n",
    "    sj_gdf=mh_toc,\n",
    "    flag_col_name='toc',\n",
    "    original_gdf=mh_gdf,\n",
    "    original_gdf_id_col='id_x'\n",
    ")"
   ]
  },
  {
   "cell_type": "code",
   "execution_count": 67,
   "id": "8fe5ebbb",
   "metadata": {},
   "outputs": [],
   "source": [
    "rename_dict = {\n",
    "    'csha_flag':'careshare',\n",
    "    'bknt_flag':'former_bike_nw',\n",
    "    'bwsa_flag':'bay_wheels'\n",
    "}\n",
    "mh_gdf = mh_gdf.rename(columns=rename_dict)"
   ]
  },
  {
   "cell_type": "code",
   "execution_count": 68,
   "id": "7963f3ce",
   "metadata": {},
   "outputs": [],
   "source": [
    "final_cols = [\n",
    "    'id_x',\n",
    "    'hub_type',\n",
    "    'system_typ',\n",
    "    'hct_stn_nm',\n",
    "    'raw_name',\n",
    "    'careshare',\n",
    "    'former_bike_nw',\n",
    "    'bay_wheels',\n",
    "    'epc_pba2050',\n",
    "    'existing_bike_nw',\n",
    "    '1_4_mi_existing_bike_nw',\n",
    "    'toc',\n",
    "    'geometry'\n",
    "]\n",
    "mh_gdf[final_cols].to_csv(os.path.join(work_dir,'data','mobility_hubs_overlay_analysis.csv'))"
   ]
  },
  {
   "cell_type": "code",
   "execution_count": 69,
   "id": "43ac874d",
   "metadata": {},
   "outputs": [],
   "source": [
    "# #export bike network w/ missing geoms\n",
    "# bn_gdf[bn_gdf['geometry'].isnull()].to_csv('data/existing_bike_nw_missing_geometry.csv',index=False)"
   ]
  },
  {
   "cell_type": "code",
   "execution_count": null,
   "id": "823ab0b8",
   "metadata": {},
   "outputs": [],
   "source": []
  }
 ],
 "metadata": {
  "kernelspec": {
   "display_name": "Python 3 (ipykernel)",
   "language": "python",
   "name": "python3"
  },
  "language_info": {
   "codemirror_mode": {
    "name": "ipython",
    "version": 3
   },
   "file_extension": ".py",
   "mimetype": "text/x-python",
   "name": "python",
   "nbconvert_exporter": "python",
   "pygments_lexer": "ipython3",
   "version": "3.9.7"
  }
 },
 "nbformat": 4,
 "nbformat_minor": 5
}
