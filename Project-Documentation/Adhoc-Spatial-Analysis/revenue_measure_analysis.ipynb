{
 "cells": [
  {
   "cell_type": "code",
   "execution_count": 1,
   "metadata": {},
   "outputs": [
    {
     "name": "stdout",
     "output_type": "stream",
     "text": [
      "Info: Found credentials at: /Users/jcroff/Library/CloudStorage/Box-Box/dvutils-creds-jcroff.json\n"
     ]
    }
   ],
   "source": [
    "import os\n",
    "import sys\n",
    "import getpass\n",
    "import fiona\n",
    "import pandas as pd\n",
    "import geopandas as gpd\n",
    "\n",
    "user = getpass.getuser()\n",
    "\n",
    "DVUTILS_LOCAL_CLONE_PATH = f\"/Users/{user}/Documents/GitHub/dvutils\"\n",
    "sys.path.insert(0, DVUTILS_LOCAL_CLONE_PATH)\n",
    "from utils_io import *"
   ]
  },
  {
   "cell_type": "code",
   "execution_count": 2,
   "metadata": {},
   "outputs": [],
   "source": [
    "pba2050_path = f\"/Users/{user}/Library/CloudStorage/Box-Box/Modeling and Surveys/Urban Modeling/Bay Area UrbanSim/PBA50/Final Blueprint runs/Final Blueprint (s24)/BAUS v2.25 - FINAL VERSION\"\n",
    "pba2050_input_path = f\"/Users/{user}/Library/CloudStorage/Box-Box/Modeling and Surveys/Urban Modeling/Bay Area UrbanSim/PBA50/Current PBA50 Large General Input Data\"\n",
    "pba2050_geo_path = f\"/Users/{user}/Library/CloudStorage/Box-Box/Modeling and Surveys/Urban Modeling/Bay Area UrbanSim/BASIS/PBA50Plus/urbansim_geodata.gpkg\""
   ]
  },
  {
   "cell_type": "markdown",
   "metadata": {},
   "source": [
    "## Read data"
   ]
  },
  {
   "cell_type": "code",
   "execution_count": 3,
   "metadata": {},
   "outputs": [
    {
     "data": {
      "text/plain": [
       "['urbansim_parcels', 'urbansim_parcels_topo_fix']"
      ]
     },
     "execution_count": 3,
     "metadata": {},
     "output_type": "execute_result"
    }
   ],
   "source": [
    "fiona.listlayers(pba2050_geo_path)"
   ]
  },
  {
   "cell_type": "code",
   "execution_count": 4,
   "metadata": {},
   "outputs": [],
   "source": [
    "# read urbansim data\n",
    "df15 = pd.read_csv(os.path.join(pba2050_path, \"run182_parcel_data_2015.csv\"))\n",
    "df50 = pd.read_csv(os.path.join(pba2050_path, \"run182_parcel_data_2050_UBI.csv\"))\n",
    "df_parcel = pd.read_csv(os.path.join(pba2050_input_path, \"2020_08_17_parcel_to_taz1454sub.csv\"))\n",
    "gdf_parcel = gpd.read_file(pba2050_geo_path, layer=\"urbansim_parcels_topo_fix\", driver=\"GPKG\")"
   ]
  },
  {
   "cell_type": "code",
   "execution_count": 5,
   "metadata": {},
   "outputs": [],
   "source": [
    "# update county based on manual_county\n",
    "cnty_id_map = {\n",
    "    1: \"Alameda\",\n",
    "    97: \"Sonoma\",\n",
    "    13: \"Contra Costa\",\n",
    "    55: \"Napa\",\n",
    "    75: \"San Francisco\",\n",
    "    81: \"San Mateo\",\n",
    "    41: \"Marin\",\n",
    "    85: \"Santa Clara\",\n",
    "    95: \"Solano\",\n",
    "}\n",
    "df_parcel[\"urbansim_county\"] = df_parcel.manual_county.map(cnty_id_map)"
   ]
  },
  {
   "cell_type": "markdown",
   "metadata": {},
   "source": [
    "## Join data"
   ]
  },
  {
   "cell_type": "code",
   "execution_count": 6,
   "metadata": {},
   "outputs": [],
   "source": [
    "df_parcel.rename(columns={\"PARCEL_ID\": \"parcel_id\"}, inplace=True)"
   ]
  },
  {
   "cell_type": "code",
   "execution_count": 7,
   "metadata": {},
   "outputs": [],
   "source": [
    "# join plan bay area data \n",
    "out_cols = [\"parcel_id\", \"residential_units\", \"deed_restricted_units\"]\n",
    "df_pba2050 = pd.merge(df15[out_cols], df50[out_cols], on=\"parcel_id\", suffixes=(\"_2015\", \"_2050\"))\n",
    "df_pba2050 = pd.merge(df_pba2050, df_parcel[[\"parcel_id\", \"urbansim_county\"]], on=\"parcel_id\")"
   ]
  },
  {
   "cell_type": "code",
   "execution_count": 8,
   "metadata": {},
   "outputs": [],
   "source": [
    "# join geodata\n",
    "gdf_pba2050 = pd.merge(gdf_parcel[[\"parcel_id\", \"geometry\"]], df_pba2050, on=\"parcel_id\")"
   ]
  },
  {
   "cell_type": "code",
   "execution_count": 9,
   "metadata": {},
   "outputs": [],
   "source": [
    "reorder_cols = [\n",
    "    \"parcel_id\",\n",
    "    \"urbansim_county\",\n",
    "    \"residential_units_2015\",\n",
    "    \"deed_restricted_units_2015\",\n",
    "    \"residential_units_2050\",\n",
    "    \"deed_restricted_units_2050\",\n",
    "    \"geometry\",\n",
    "]\n",
    "gdf_pba2050 = gdf_pba2050[reorder_cols]"
   ]
  },
  {
   "cell_type": "code",
   "execution_count": 10,
   "metadata": {},
   "outputs": [],
   "source": [
    "# save to geojson file\n",
    "out_path = f\"/Users/{user}/Library/CloudStorage/Box-Box/DataViz Projects/Spatial Analysis and Mapping/Revenue Measure 2024/Data\"\n",
    "gdf_pba2050.to_file(os.path.join(out_path, \"pba2050_residential_units.geojson\"), driver=\"GeoJSON\")"
   ]
  },
  {
   "cell_type": "code",
   "execution_count": null,
   "metadata": {},
   "outputs": [],
   "source": []
  }
 ],
 "metadata": {
  "kernelspec": {
   "display_name": "esri_env",
   "language": "python",
   "name": "python3"
  },
  "language_info": {
   "codemirror_mode": {
    "name": "ipython",
    "version": 3
   },
   "file_extension": ".py",
   "mimetype": "text/x-python",
   "name": "python",
   "nbconvert_exporter": "python",
   "pygments_lexer": "ipython3",
   "version": "3.11.7"
  }
 },
 "nbformat": 4,
 "nbformat_minor": 2
}
