{
 "cells": [
  {
   "cell_type": "code",
   "execution_count": 1,
   "metadata": {},
   "outputs": [],
   "source": [
    "import os\n",
    "import sys\n",
    "import uuid\n",
    "import getpass\n",
    "import numpy as np\n",
    "import pandas as pd\n",
    "\n",
    "user = getpass.getuser()\n",
    "\n",
    "DVUTILS_LOCAL_CLONE_PATH = f\"/Users/{user}/Documents/GitHub/dvutils\"\n",
    "sys.path.insert(0, DVUTILS_LOCAL_CLONE_PATH)\n",
    "from utils_io import *\n",
    "\n",
    "import geopandas as gpd"
   ]
  },
  {
   "cell_type": "markdown",
   "metadata": {},
   "source": [
    "# Bay Area Industrial Lands\n",
    "- [Asana Task](https://app.asana.com/0/304776046055605/1205013597464575/f)\n",
    "- [Box Directory](https://mtcdrive.box.com/s/ju0eh8xncxjufev0n43doxynrhk0j1lp)"
   ]
  },
  {
   "cell_type": "markdown",
   "metadata": {},
   "source": [
    "## Pull Data"
   ]
  },
  {
   "cell_type": "code",
   "execution_count": 10,
   "metadata": {},
   "outputs": [
    {
     "name": "stdout",
     "output_type": "stream",
     "text": [
      "took 6.6294 seconds\n"
     ]
    }
   ],
   "source": [
    "sql = \"\"\"\n",
    "SELECT \n",
    "  a.parcel_id,\n",
    "  a.zn_recid,\n",
    "  a.county_id,\n",
    "  a.jurisdiction_id,\n",
    "  a.pa_apn_base AS apn,\n",
    "  a.lot_area,\n",
    "  c.elu_code,\n",
    "  c.elu_description,\n",
    "  b.zn_county,\n",
    "  b.zn_jurisdiction,\n",
    "  b.zn_code,\n",
    "  b.zn_description,\n",
    "  b.zn_regional_code,\n",
    "  b.zn_regional_description,\n",
    "  b.allows_residential,\n",
    "  b.zn_min_dua,\n",
    "  b.zn_max_dua,\n",
    "  b.zn_min_far,\n",
    "  b.zn_max_far,\n",
    "  a.last_edited,\n",
    "  a.editor_id,\n",
    "  a.edit_version,\n",
    "  b.zn_code_basis_url,\n",
    "  b.zn_code_map_url,\n",
    "  c.geometry\n",
    "FROM\n",
    "  basis_staging.parcel_base_tbl_v0 a\n",
    "  LEFT JOIN basis_staging.zn_tbl_full_v0 b USING(zn_recid)\n",
    "  LEFT JOIN basis.elu_base_tbl c USING(parcel_id)\n",
    "Where c.elu_description LIKE '%Industrial%' Or c.elu_description LIKE '%Manuf%' Or b.zn_description LIKE '%Indus%' or b.zn_description LIKE '%Manuf%'\n",
    "\"\"\"\n",
    "gdf = pull_geotable_redshift(select_q=sql, output_crs=\"EPSG:4326\")"
   ]
  },
  {
   "cell_type": "code",
   "execution_count": 12,
   "metadata": {},
   "outputs": [],
   "source": [
    "path = \"/Users/jcroff/Documents/ArcGIS/Projects/Industrial Lands/Data/bay_area_industrial_lands.geojson\"\n",
    "gdf.to_file(path, driver=\"GeoJSON\")"
   ]
  },
  {
   "cell_type": "code",
   "execution_count": null,
   "metadata": {},
   "outputs": [],
   "source": []
  }
 ],
 "metadata": {
  "kernelspec": {
   "display_name": "geo_env",
   "language": "python",
   "name": "python3"
  },
  "language_info": {
   "codemirror_mode": {
    "name": "ipython",
    "version": 3
   },
   "file_extension": ".py",
   "mimetype": "text/x-python",
   "name": "python",
   "nbconvert_exporter": "python",
   "pygments_lexer": "ipython3",
   "version": "3.10.6"
  },
  "orig_nbformat": 4
 },
 "nbformat": 4,
 "nbformat_minor": 2
}
