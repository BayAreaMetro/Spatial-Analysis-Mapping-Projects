{
 "cells": [
  {
   "cell_type": "code",
   "execution_count": 50,
   "metadata": {},
   "outputs": [],
   "source": [
    "import os\n",
    "import requests\n",
    "import pathlib\n",
    "import getpass\n",
    "import pandas as pd\n",
    "\n",
    "user = getpass.getuser()"
   ]
  },
  {
   "cell_type": "code",
   "execution_count": 51,
   "metadata": {},
   "outputs": [],
   "source": [
    "work_dir = pathlib.Path(f\"/Users/{user}/Library/CloudStorage/Box-Box/DataViz Projects/Bay_Area_Census_Website/census_decennial_download\")\n",
    "out_file = work_dir / \"census_2020_race_sex_age_jc.csv\""
   ]
  },
  {
   "cell_type": "code",
   "execution_count": 52,
   "metadata": {},
   "outputs": [],
   "source": [
    "def fetch_census_data(url):\n",
    "    # Make the API request\n",
    "    response = requests.get(url)\n",
    "    \n",
    "    # Check if the request was successful\n",
    "    if response.status_code == 200:\n",
    "        # Convert the JSON response to a list of lists\n",
    "        data = response.json()\n",
    "        \n",
    "        # The first element contains the column headers\n",
    "        columns = data[0]\n",
    "        \n",
    "        # The rest of the elements contain the actual data\n",
    "        rows = data[1:]\n",
    "        \n",
    "        # Create a pandas DataFrame from the data\n",
    "        df = pd.DataFrame(rows, columns=columns)\n",
    "        \n",
    "        return df\n",
    "    else:\n",
    "        print(f\"Failed to retrieve data. HTTP Status code: {response.status_code}\")\n",
    "        return None"
   ]
  },
  {
   "cell_type": "code",
   "execution_count": 53,
   "metadata": {},
   "outputs": [],
   "source": [
    "# Define the API endpoint\n",
    "race_url = (\n",
    "    \"https://api.census.gov/data/2020/dec/pl?get=group(P2)&\"\n",
    "    \"ucgid=0500000US06001,0500000US06013,0500000US06041,\"\n",
    "    \"0500000US06055,0500000US06075,0500000US06081,0500000US06085,\"\n",
    "    \"0500000US06095,0500000US06097\"\n",
    ")\n",
    "\n",
    "age_url = (\n",
    "    \"https://api.census.gov/data/2020/dec/dhc?get=group(P12)&\"\n",
    "    \"ucgid=0500000US06001,0500000US06013,0500000US06041,\"\n",
    "    \"0500000US06055,0500000US06075,0500000US06081,0500000US06085,\"\n",
    "    \"0500000US06095,0500000US06097\"\n",
    ")\n"
   ]
  },
  {
   "cell_type": "code",
   "execution_count": 54,
   "metadata": {},
   "outputs": [],
   "source": [
    "race_df = fetch_census_data(race_url)\n",
    "age_df = fetch_census_data(age_url)"
   ]
  },
  {
   "cell_type": "code",
   "execution_count": 55,
   "metadata": {},
   "outputs": [],
   "source": [
    "race_rename_dict = {\n",
    "    'P2_001N': 'Race Total Population',\n",
    "    'P2_002N': 'Hispanic or Latino',\n",
    "    'P2_003N': 'Not Hispanic or Latino',\n",
    "    'P2_004N': 'Population of One Race',\n",
    "    'P2_005N': 'White',\n",
    "    'P2_006N': 'Black or African American',\n",
    "    'P2_007N': 'American Indian and Alaska Native',\n",
    "    'P2_008N': 'Asian',\n",
    "    'P2_009N': 'Native Hawaiian and Other Pacific Islander',\n",
    "    'P2_010N': 'Some Other Race',\n",
    "    'P2_011N': 'Two or More Races'\n",
    "}\n",
    "race_df.rename(columns=race_rename_dict,inplace=True)"
   ]
  },
  {
   "cell_type": "code",
   "execution_count": 56,
   "metadata": {},
   "outputs": [],
   "source": [
    "age_rename_dict = {\n",
    "    \"P12_001N\": \"Age Total Population\",\n",
    "    \"P12_002N\": \"Total Male\",\n",
    "    \"P12_003N\": \"Male Under 5\",\n",
    "    \"P12_004N\": \"Male 5 to 9\",\n",
    "    \"P12_005N\": \"Male 10 to 14\",\n",
    "    \"P12_006N\": \"Male 15 to 17\",\n",
    "    \"P12_007N\": \"Male 18 to 19\",\n",
    "    \"P12_008N\": \"Male 20\",\n",
    "    \"P12_009N\": \"Male 21\",\n",
    "    \"P12_010N\": \"Male 22 to 24\",\n",
    "    \"P12_011N\": \"Male 25 to 29\",\n",
    "    \"P12_012N\": \"Male 30 to 34\",\n",
    "    \"P12_013N\": \"Male 35 to 39\",\n",
    "    \"P12_014N\": \"Male 40 to 44\",\n",
    "    \"P12_015N\": \"Male 45 to 49\",\n",
    "    \"P12_016N\": \"Male 50 to 54\",\n",
    "    \"P12_017N\": \"Male 55 to 59\",\n",
    "    \"P12_018N\": \"Male 60 to 61\",\n",
    "    \"P12_019N\": \"Male 62 to 64\",\n",
    "    \"P12_020N\": \"Male 65 to 66\",\n",
    "    \"P12_021N\": \"Male 67 to 69\",\n",
    "    \"P12_022N\": \"Male 70 to 74\",\n",
    "    \"P12_023N\": \"Male 75 to 79\",\n",
    "    \"P12_024N\": \"Male 80 to 84\",\n",
    "    \"P12_025N\": \"Male 85 and over\",\n",
    "    \"P12_026N\": \"Total Female\",\n",
    "    \"P12_027N\": \"Female Under 5\",\n",
    "    \"P12_028N\": \"Female 5 to 9\",\n",
    "    \"P12_029N\": \"Female 10 to 14\",\n",
    "    \"P12_030N\": \"Female 15 to 17\",\n",
    "    \"P12_031N\": \"Female 18 to 19\",\n",
    "    \"P12_032N\": \"Female 20\",\n",
    "    \"P12_033N\": \"Female 21\",\n",
    "    \"P12_034N\": \"Female 22 to 24\",\n",
    "    \"P12_035N\": \"Female 25 to 29\",\n",
    "    \"P12_036N\": \"Female 30 to 34\",\n",
    "    \"P12_037N\": \"Female 35 to 39\",\n",
    "    \"P12_038N\": \"Female 40 to 44\",\n",
    "    \"P12_039N\": \"Female 45 to 49\",\n",
    "    \"P12_040N\": \"Female 50 to 54\",\n",
    "    \"P12_041N\": \"Female 55 to 59\",\n",
    "    \"P12_042N\": \"Female 60 to 61\",\n",
    "    \"P12_043N\": \"Female 62 to 64\",\n",
    "    \"P12_044N\": \"Female 65 to 66\",\n",
    "    \"P12_045N\": \"Female 67 to 69\",\n",
    "    \"P12_046N\": \"Female 70 to 74\",\n",
    "    \"P12_047N\": \"Female 75 to 79\",\n",
    "    \"P12_048N\": \"Female 80 to 84\",\n",
    "    \"P12_049N\": \"Female 85 and over\",\n",
    "}\n",
    "age_df.rename(columns=age_rename_dict,inplace=True)"
   ]
  },
  {
   "cell_type": "code",
   "execution_count": 57,
   "metadata": {},
   "outputs": [],
   "source": [
    "race_out = list(race_rename_dict.values())\n",
    "# add the GEO_ID and NAME columns\n",
    "race_out.insert(0, \"GEO_ID\")  \n",
    "race_out.insert(1, \"NAME\")\n",
    "\n",
    "# race_df[race_out]"
   ]
  },
  {
   "cell_type": "code",
   "execution_count": 58,
   "metadata": {},
   "outputs": [],
   "source": [
    "# calculate shares of the race total population\n",
    "share_cols = race_out.copy()\n",
    "share_cols.remove(\"GEO_ID\")\n",
    "share_cols.remove(\"NAME\")\n",
    "share_cols.remove(\"Race Total Population\")\n",
    "\n",
    "for group in share_cols:\n",
    "    total_col = \"Race Total Population\"\n",
    "\n",
    "    race_df[f\"Share {group}\"] = round(race_df[f\"{group}\"].astype(int) / race_df[total_col].astype(int), 4)"
   ]
  },
  {
   "cell_type": "code",
   "execution_count": 59,
   "metadata": {},
   "outputs": [],
   "source": [
    "# remove column names that are not needed starting with \"P2\"\n",
    "final_race_out = race_df.columns.to_list()\n",
    "\n",
    "# Remove columns that start with \"P2\"\n",
    "final_race_out = [col for col in final_race_out if not col.startswith(\"P2\")]\n",
    "final_race_out.remove(\"ucgid\")"
   ]
  },
  {
   "cell_type": "code",
   "execution_count": 60,
   "metadata": {},
   "outputs": [],
   "source": [
    "age_out = list(age_rename_dict.values())\n",
    "# add the GEO_ID and NAME columns\n",
    "age_out.insert(0, \"GEO_ID\")\n",
    "# age_out.insert(1, \"NAME\")\n",
    "\n",
    "# age_df[age_out]"
   ]
  },
  {
   "cell_type": "code",
   "execution_count": 61,
   "metadata": {},
   "outputs": [],
   "source": [
    "# Define the age groups\n",
    "age_groups = [\n",
    "    \"Under 5\", \"5 to 9\", \"10 to 14\", \"15 to 17\", \"18 to 19\", \"20\", \"21\", \n",
    "    \"22 to 24\", \"25 to 29\", \"30 to 34\", \"35 to 39\", \"40 to 44\", \"45 to 49\", \n",
    "    \"50 to 54\", \"55 to 59\", \"60 to 61\", \"62 to 64\", \"65 to 66\", \"67 to 69\", \n",
    "    \"70 to 74\", \"75 to 79\", \"80 to 84\", \"85 and over\"\n",
    "]\n",
    "\n",
    "# Calculate totals for each age group\n",
    "total_cols = []\n",
    "for group in age_groups:\n",
    "    male_col = f\"Male {group}\"\n",
    "    female_col = f\"Female {group}\"\n",
    "    total_col = f\"Total {group}\"\n",
    "    total_cols.append(total_col)\n",
    "    \n",
    "    # Ensure the columns exist in the DataFrame\n",
    "    if male_col in age_df.columns and female_col in age_df.columns:\n",
    "        age_df[total_col] = age_df[male_col].astype(int) + age_df[female_col].astype(int)\n",
    "\n",
    "for col in total_cols:\n",
    "    age_out.append(col)"
   ]
  },
  {
   "cell_type": "code",
   "execution_count": 62,
   "metadata": {},
   "outputs": [],
   "source": [
    "# calculate shares of the age total population for each sex and age group\n",
    "share_cols = age_out.copy()\n",
    "share_cols.remove(\"GEO_ID\")\n",
    "share_cols.remove(\"Age Total Population\")\n",
    "\n",
    "for group in share_cols:\n",
    "    total_col = \"Age Total Population\"\n",
    "\n",
    "    age_df[f\"Share {group}\"] = round(age_df[f\"{group}\"].astype(int) / age_df[total_col].astype(int), 4)"
   ]
  },
  {
   "cell_type": "code",
   "execution_count": 63,
   "metadata": {},
   "outputs": [],
   "source": [
    "# remove column names that are not needed starting with \"P12\"\n",
    "final_age_out = age_df.columns.to_list()\n",
    "\n",
    "final_age_out = [col for col in final_age_out if not col.startswith(\"P12\")]\n",
    "final_age_out.remove(\"NAME\")\n",
    "final_age_out.remove(\"ucgid\")"
   ]
  },
  {
   "cell_type": "code",
   "execution_count": 64,
   "metadata": {},
   "outputs": [],
   "source": [
    "# join the two dataframes\n",
    "\n",
    "final_df = pd.merge(race_df[final_race_out], age_df[final_age_out], on=\"GEO_ID\")"
   ]
  },
  {
   "cell_type": "code",
   "execution_count": 65,
   "metadata": {},
   "outputs": [],
   "source": [
    "final_df.to_csv(out_file, index=False)"
   ]
  }
 ],
 "metadata": {
  "kernelspec": {
   "display_name": "esri_env",
   "language": "python",
   "name": "python3"
  },
  "language_info": {
   "codemirror_mode": {
    "name": "ipython",
    "version": 3
   },
   "file_extension": ".py",
   "mimetype": "text/x-python",
   "name": "python",
   "nbconvert_exporter": "python",
   "pygments_lexer": "ipython3",
   "version": "3.11.7"
  }
 },
 "nbformat": 4,
 "nbformat_minor": 2
}
