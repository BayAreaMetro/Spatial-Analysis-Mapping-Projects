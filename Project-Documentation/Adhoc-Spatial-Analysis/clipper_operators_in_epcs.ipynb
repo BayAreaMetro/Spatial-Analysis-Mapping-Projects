{
 "cells": [
  {
   "cell_type": "code",
   "execution_count": 1,
   "metadata": {},
   "outputs": [
    {
     "name": "stdout",
     "output_type": "stream",
     "text": [
      "Info: Found credentials at: /Users/jcroff/Library/CloudStorage/Box-Box/dvutils-creds-jcroff.json\n"
     ]
    }
   ],
   "source": [
    "import getpass\n",
    "import pathlib\n",
    "import pandas as pd\n",
    "import geopandas as gpd\n",
    "from mtcpy.geospatial import google_geocode_batch\n",
    "\n",
    "user = getpass.getuser()"
   ]
  },
  {
   "cell_type": "markdown",
   "metadata": {},
   "source": [
    "## Import data"
   ]
  },
  {
   "cell_type": "code",
   "execution_count": 2,
   "metadata": {},
   "outputs": [],
   "source": [
    "work_dir = pathlib.Path(f\"/Users/{user}/Library/CloudStorage/Box-Box/DSA Projects/Spatial Analysis and Mapping/Clipper Retail Operator in EPCs\")"
   ]
  },
  {
   "cell_type": "code",
   "execution_count": 3,
   "metadata": {},
   "outputs": [],
   "source": [
    "clipper_path = work_dir / \"Data\" / \"mtc_current_retail_list.xlsx\"\n",
    "clipper_df = pd.read_excel(clipper_path)"
   ]
  },
  {
   "cell_type": "code",
   "execution_count": 4,
   "metadata": {},
   "outputs": [],
   "source": [
    "epc_2014_2018 = gpd.read_file(\n",
    "    \"https://services3.arcgis.com/i2dkYWmb4wHvYPda/arcgis/rest/services/equity_priority_communities_2025_acs2018/FeatureServer/0/query?outFields=*&where=epc_2050%20%3D%201&f=geojson\"\n",
    ")\n",
    "\n",
    "epc_2018_2022 = gpd.read_file(\n",
    "    \"https://services3.arcgis.com/i2dkYWmb4wHvYPda/arcgis/rest/services/draft_equity_priority_communities_pba2050plus_acs2022a/FeatureServer/0/query?outFields=*&where=epc_2050p%20%3D%201&f=geojson\"\n",
    ")"
   ]
  },
  {
   "cell_type": "markdown",
   "metadata": {},
   "source": [
    "## Geocode the clipper retail locations"
   ]
  },
  {
   "cell_type": "code",
   "execution_count": 5,
   "metadata": {},
   "outputs": [],
   "source": [
    "# add full address column to clipper_df\n",
    "clipper_df[\"Full Address\"] = (\n",
    "    clipper_df[\"Address\"]\n",
    "    + \", \"\n",
    "    + clipper_df[\"City\"]\n",
    "    + \", \"\n",
    "    + \"CA \"\n",
    "    + clipper_df[\"Zipcode\"].astype(str)\n",
    ")"
   ]
  },
  {
   "cell_type": "code",
   "execution_count": 13,
   "metadata": {},
   "outputs": [],
   "source": [
    "# geocode the addresses\n",
    "# check first if feather file exists\n",
    "feather_path = work_dir / \"Data\" / \"clipper_geocode_results.feather\"\n",
    "if feather_path.exists():\n",
    "    # read in the feather file\n",
    "    gc_results_gdf = gpd.read_feather(feather_path)\n",
    "else:\n",
    "    gc_results_gdf = google_geocode_batch(\n",
    "        address_list=clipper_df[\"Full Address\"].tolist(),\n",
    "        include_details=False,\n",
    "        allowed_location_types=[\"ROOFTOP\", \"RANGE_INTERPOLATED\"],\n",
    "    )"
   ]
  },
  {
   "cell_type": "code",
   "execution_count": 14,
   "metadata": {},
   "outputs": [
    {
     "data": {
      "text/plain": [
       "geometry_location_type\n",
       "ROOFTOP               241\n",
       "GEOMETRIC_CENTER        4\n",
       "RANGE_INTERPOLATED      2\n",
       "Name: count, dtype: int64"
      ]
     },
     "execution_count": 14,
     "metadata": {},
     "output_type": "execute_result"
    }
   ],
   "source": [
    "clipper_gdf = pd.merge(gc_results_gdf, clipper_df, left_on=\"address_orig\", right_on=\"Full Address\", how=\"left\")\n",
    "clipper_gdf.geometry_location_type.value_counts()"
   ]
  },
  {
   "cell_type": "markdown",
   "metadata": {},
   "source": [
    "## Perform a spatial join"
   ]
  },
  {
   "cell_type": "code",
   "execution_count": 35,
   "metadata": {},
   "outputs": [],
   "source": [
    "sj_2014_2018 = gpd.sjoin(\n",
    "    left_df=clipper_gdf[[\"address_orig\", \"geometry\"]],\n",
    "    right_df=epc_2014_2018[[\"epc_2050\", \"geometry\"]],\n",
    "    how=\"left\",\n",
    "    predicate=\"intersects\",\n",
    ")\n",
    "\n",
    "# drop index_right\n",
    "sj_2014_2018 = sj_2014_2018.drop(columns=\"index_right\")\n",
    "\n",
    "sj_2018_2022 = gpd.sjoin(\n",
    "    left_df=clipper_gdf[[\"address_orig\", \"geometry\"]],\n",
    "    right_df=epc_2018_2022[[\"epc_2050p\", \"geometry\"]],\n",
    "    how=\"left\",\n",
    "    predicate=\"intersects\",\n",
    ")\n",
    "\n",
    "# drop index_right\n",
    "sj_2018_2022 = sj_2018_2022.drop(columns=\"index_right\")\n",
    "\n",
    "# merge the two dataframes\n",
    "sj_merge = pd.merge(\n",
    "    sj_2014_2018[[\"address_orig\", \"epc_2050\"]],\n",
    "    sj_2018_2022[[\"address_orig\", \"epc_2050p\"]],\n",
    "    left_on=\"address_orig\",\n",
    "    right_on=\"address_orig\",\n",
    "    how=\"left\",\n",
    ")\n",
    "\n",
    "# fill nan values with 0\n",
    "sj_merge[\"epc_2050\"] = sj_merge[\"epc_2050\"].fillna(0)\n",
    "sj_merge[\"epc_2050p\"] = sj_merge[\"epc_2050p\"].fillna(0)"
   ]
  },
  {
   "cell_type": "code",
   "execution_count": 36,
   "metadata": {},
   "outputs": [],
   "source": [
    "# join the clipper_gdf with the sj_merge\n",
    "final_gdf = pd.merge(\n",
    "    clipper_gdf,\n",
    "    sj_merge,\n",
    "    left_on=\"address_orig\",\n",
    "    right_on=\"address_orig\",\n",
    "    how=\"left\",\n",
    ")"
   ]
  },
  {
   "cell_type": "code",
   "execution_count": 37,
   "metadata": {},
   "outputs": [
    {
     "data": {
      "text/plain": [
       "epc_status\n",
       "Not Within EPC    222\n",
       "Within EPC        145\n",
       "Name: count, dtype: int64"
      ]
     },
     "execution_count": 37,
     "metadata": {},
     "output_type": "execute_result"
    }
   ],
   "source": [
    "# create a class column to include whether it's in the 2014-2018 or 2018-2022 epc\n",
    "final_gdf[\"epc_status\"] = final_gdf.apply(lambda x: \"Within EPC\" if x[\"epc_2050p\"] == 1 or x[\"epc_2050\"] == 1 else \"Not Within EPC\", axis=1)\n",
    "final_gdf[\"epc_status\"].value_counts()"
   ]
  },
  {
   "cell_type": "code",
   "execution_count": 38,
   "metadata": {},
   "outputs": [],
   "source": [
    "reorder_cols = [\n",
    "    \"Name\",\n",
    "    \"Full Address\",\n",
    "    \"Address\",\n",
    "    \"City\",\n",
    "    \"Zipcode\",\n",
    "    \"epc_2050\",\n",
    "    \"epc_2050p\",\n",
    "    \"epc_status\",\n",
    "    \"geometry_location_type\",\n",
    "    \"geometry\",\n",
    "]\n",
    "final_gdf = final_gdf[reorder_cols]"
   ]
  },
  {
   "cell_type": "code",
   "execution_count": 40,
   "metadata": {},
   "outputs": [],
   "source": [
    "final_gdf.to_csv(\n",
    "    work_dir / \"Results\" / \"mtc_current_retail_list_geocoded.csv\",\n",
    "    index=False,\n",
    ")"
   ]
  },
  {
   "cell_type": "code",
   "execution_count": null,
   "metadata": {},
   "outputs": [],
   "source": []
  }
 ],
 "metadata": {
  "kernelspec": {
   "display_name": "esri_env",
   "language": "python",
   "name": "python3"
  },
  "language_info": {
   "codemirror_mode": {
    "name": "ipython",
    "version": 3
   },
   "file_extension": ".py",
   "mimetype": "text/x-python",
   "name": "python",
   "nbconvert_exporter": "python",
   "pygments_lexer": "ipython3",
   "version": "3.11.7"
  }
 },
 "nbformat": 4,
 "nbformat_minor": 2
}
