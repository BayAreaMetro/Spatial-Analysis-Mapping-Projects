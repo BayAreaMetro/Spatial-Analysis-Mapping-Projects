{
 "cells": [
  {
   "cell_type": "code",
   "execution_count": 41,
   "metadata": {},
   "outputs": [],
   "source": [
    "import os\n",
    "import sys\n",
    "import getpass\n",
    "import numpy as np\n",
    "import pandas as pd\n",
    "\n",
    "user = getpass.getuser()\n",
    "\n",
    "DVUTILS_LOCAL_CLONE_PATH = f\"/Users/{user}/Documents/GitHub/dvutils\"\n",
    "sys.path.insert(0, DVUTILS_LOCAL_CLONE_PATH)\n",
    "from utils_io import *\n",
    "\n",
    "from arcgis import GIS"
   ]
  },
  {
   "cell_type": "code",
   "execution_count": 42,
   "metadata": {},
   "outputs": [],
   "source": [
    "analysis_crs = \"EPSG:26910\""
   ]
  },
  {
   "cell_type": "code",
   "execution_count": 43,
   "metadata": {},
   "outputs": [],
   "source": [
    "def geo_assign_fields(\n",
    "    id_df,\n",
    "    id_field,\n",
    "    overlay_df,\n",
    "    overlay_fields,\n",
    "    return_intersection_area=False,\n",
    "    overlay_within_pct=None,\n",
    "):\n",
    "    \"\"\"Given an id_df and an overlay_df, assigns the overlay fields.\n",
    "\n",
    "    Methodology:\n",
    "    Assigns based on the area with the largest intersection with each id_field (where there are\n",
    "    duplicate assignments).\n",
    "\n",
    "    Notes:\n",
    "    - This is primarily used for generating correspondences, such as new parcel id : old parcel id\n",
    "    - If any overlay_fields also occur in the id_df, append a _y suffix to the overlay field\n",
    "\n",
    "    Args:\n",
    "        id_df (geopandas GeoDataFrame): The ID GeoDataFrame\n",
    "        id_field (str): The name of the ID column in the ID GeoDataFrame\n",
    "        overlay_df (geopandas GeoDataFrame): The overlay GeoDataFrame\n",
    "        overlay_fields (list): A list of overlay fields to assign to the ID GeoDataFrame\n",
    "        return_intersection_area (bool, optional): Flag for whether to return the intersection area\n",
    "            of the overlay. Defaults to False.\n",
    "        overlay_within_pct (float, optional): Value between 0 and 1. If provided, will only assign ID\n",
    "            field if the overlay intersection area is at least this percentage of the ID field area. Defaults to None.\n",
    "    Returns:\n",
    "        geopandas GeoDataFrame: The ID GeoDataFrame with the overlay fields assigned by largest\n",
    "            intersection area\n",
    "    \"\"\"\n",
    "    a = time.time()\n",
    "    if id_df.crs != analysis_crs or overlay_df.crs != analysis_crs:\n",
    "        logger.debug(\"base geo crs: {}\".format(id_df.crs))\n",
    "        logger.debug(\"overlay geo crs: {}\".format(overlay_df.crs))\n",
    "        logger.debug(\"Both GeoDataFrames must be in EPSG:26910. Reprojecting:\")\n",
    "        id_df = project_to_analysis_crs(id_df)\n",
    "        overlay_df = project_to_analysis_crs(overlay_df)\n",
    "\n",
    "    join_df = gpd.overlay(id_df, overlay_df, how=\"intersection\")\n",
    "    join_df[\"intersection_sq_m\"] = join_df.geometry.area\n",
    "    join_df[\"idx\"] = join_df.index\n",
    "\n",
    "    max_idxs = (\n",
    "        join_df.groupby(id_field, as_index=False)\n",
    "        .agg({\"intersection_sq_m\": \"idxmax\"})\n",
    "        .rename(columns={\"intersection_sq_m\": \"idx\"})\n",
    "    )\n",
    "    join_df = join_df.merge(max_idxs)\n",
    "\n",
    "    final_fields = [id_field] + overlay_fields\n",
    "\n",
    "    # calculate intersection area and share of id_df in intersection\n",
    "    id_df[\"base_sq_m\"] = id_df.geometry.area\n",
    "    final_assignment = id_df[[id_field, \"base_sq_m\"]].merge(\n",
    "        join_df[final_fields + [\"intersection_sq_m\"]], how=\"left\"\n",
    "    )\n",
    "    final_assignment[\"area_share\"] = (\n",
    "        final_assignment[\"intersection_sq_m\"] / final_assignment[\"base_sq_m\"]\n",
    "    )\n",
    "\n",
    "    # set the assignment to None if no more than overlay_within_pct of the overlay_df is in the intersection\n",
    "    if overlay_within_pct is not None:\n",
    "        final_assignment.loc[\n",
    "            final_assignment[\"area_share\"] < overlay_within_pct, overlay_fields\n",
    "        ] = None\n",
    "\n",
    "    b = time.time()\n",
    "    print(f\"took {print_runtime(b-a)}\")\n",
    "    if return_intersection_area:\n",
    "        return final_assignment[final_fields + [\"base_sq_m\", \"intersection_sq_m\", \"area_share\"]]\n",
    "    else:\n",
    "        return final_assignment"
   ]
  },
  {
   "cell_type": "code",
   "execution_count": 44,
   "metadata": {},
   "outputs": [],
   "source": [
    "# authenticate to agol\n",
    "password = os.getenv(\"AGOL_CONTENT_PASSWORD\")\n",
    "gis = GIS(url=\"https://mtc.maps.arcgis.com/home\", username=\"content_MTC\", password=password)"
   ]
  },
  {
   "cell_type": "code",
   "execution_count": 45,
   "metadata": {},
   "outputs": [
    {
     "name": "stdout",
     "output_type": "stream",
     "text": [
      "took 22.6322 seconds\n",
      "Breaking feature service layer IDs into 50 chunks\n"
     ]
    }
   ],
   "source": [
    "base_url = \"https://services3.arcgis.com/i2dkYWmb4wHvYPda/arcgis/rest/services/TOC_Station_Area_Buffers/FeatureServer/49\"\n",
    "p10_parcels = pull_geotable_redshift(\n",
    "    \"SELECT * FROM urbansim_2022_p10.urbansim_parcels_topo_fix WHERE county = 'Alameda'\",\n",
    "    crs=analysis_crs,\n",
    "    output_crs=analysis_crs,\n",
    ")\n",
    "toc = pull_geotable_agol(base_url=base_url, client=gis)"
   ]
  },
  {
   "cell_type": "code",
   "execution_count": 46,
   "metadata": {},
   "outputs": [
    {
     "name": "stdout",
     "output_type": "stream",
     "text": [
      "took 8.5105 seconds\n"
     ]
    }
   ],
   "source": [
    "# try function without overlay within percent first to see how many parcels are assigned\n",
    "p10_toc = geo_assign_fields(\n",
    "    id_df=p10_parcels,\n",
    "    id_field=\"parcel_id\",\n",
    "    overlay_df=toc,\n",
    "    overlay_fields=[\"corridor_id\", \"station_name\"],\n",
    ")"
   ]
  },
  {
   "cell_type": "code",
   "execution_count": 47,
   "metadata": {},
   "outputs": [
    {
     "data": {
      "text/plain": [
       "(57098, 6)"
      ]
     },
     "execution_count": 47,
     "metadata": {},
     "output_type": "execute_result"
    }
   ],
   "source": [
    "p10_toc_assigned = p10_toc.query(\"corridor_id.notnull()\")\n",
    "p10_toc_assigned.shape"
   ]
  },
  {
   "cell_type": "code",
   "execution_count": 48,
   "metadata": {},
   "outputs": [],
   "source": [
    "# merge with p10_parcels\n",
    "p10_toc_gdf = pd.merge(p10_parcels, p10_toc_assigned, on=\"parcel_id\", how=\"right\")"
   ]
  },
  {
   "cell_type": "code",
   "execution_count": 1,
   "metadata": {},
   "outputs": [],
   "source": [
    "# m = toc.explore(color=\"red\")\n",
    "# p10_toc_gdf.explore(m=m)"
   ]
  },
  {
   "cell_type": "code",
   "execution_count": 50,
   "metadata": {},
   "outputs": [
    {
     "name": "stdout",
     "output_type": "stream",
     "text": [
      "took 8.4923 seconds\n"
     ]
    }
   ],
   "source": [
    "# now test the geo_assign_fields function with an overlay within percentage\n",
    "p10_toc_ow = geo_assign_fields(\n",
    "    id_df=p10_parcels,\n",
    "    id_field=\"parcel_id\",\n",
    "    overlay_df=toc,\n",
    "    overlay_fields=[\"corridor_id\", \"station_name\"],\n",
    "    overlay_within_pct=0.5,\n",
    ")"
   ]
  },
  {
   "cell_type": "code",
   "execution_count": 51,
   "metadata": {},
   "outputs": [
    {
     "data": {
      "text/plain": [
       "(55035, 6)"
      ]
     },
     "execution_count": 51,
     "metadata": {},
     "output_type": "execute_result"
    }
   ],
   "source": [
    "p10_toc_assigned_ow = p10_toc_ow.query(\"corridor_id.notnull()\")\n",
    "p10_toc_assigned_ow.shape"
   ]
  },
  {
   "cell_type": "code",
   "execution_count": 52,
   "metadata": {},
   "outputs": [],
   "source": [
    "p10_toc_ow_gdf = pd.merge(p10_parcels, p10_toc_assigned_ow, on=\"parcel_id\", how=\"right\")"
   ]
  },
  {
   "cell_type": "code",
   "execution_count": 2,
   "metadata": {},
   "outputs": [],
   "source": [
    "# m = toc.explore(color=\"red\")\n",
    "# p10_toc_ow_gdf.explore(m=m)"
   ]
  }
 ],
 "metadata": {
  "kernelspec": {
   "display_name": "esri_env",
   "language": "python",
   "name": "python3"
  },
  "language_info": {
   "codemirror_mode": {
    "name": "ipython",
    "version": 3
   },
   "file_extension": ".py",
   "mimetype": "text/x-python",
   "name": "python",
   "nbconvert_exporter": "python",
   "pygments_lexer": "ipython3",
   "version": "3.11.7"
  }
 },
 "nbformat": 4,
 "nbformat_minor": 2
}
