{
 "cells": [
  {
   "cell_type": "code",
   "execution_count": 1,
   "metadata": {},
   "outputs": [
    {
     "name": "stdout",
     "output_type": "stream",
     "text": [
      "Info: Found credentials at: /Users/jcroff/Library/CloudStorage/Box-Box/dvutils-creds-jcroff.json\n"
     ]
    }
   ],
   "source": [
    "import getpass\n",
    "import logging\n",
    "import pathlib\n",
    "import pandas as pd\n",
    "import geopandas as gpd\n",
    "from dvutils.miscio import log_or_print\n",
    "from dvutils.geospatial import google_geocode_batch\n",
    "\n",
    "user = getpass.getuser()"
   ]
  },
  {
   "cell_type": "code",
   "execution_count": 2,
   "metadata": {},
   "outputs": [],
   "source": [
    "def setup_logger(logger_name, output_dir):\n",
    "    \"\"\"Set up a logger with the specified name and output directory.\"\"\"\n",
    "    logger = logging.getLogger(logger_name)\n",
    "    logger.setLevel(logging.INFO)\n",
    "    \n",
    "    # Create a file handler for logging\n",
    "    log_file = f\"{output_dir}/{logger_name}.log\"\n",
    "    file_handler = logging.FileHandler(log_file)\n",
    "    \n",
    "    # Create a formatter and set it for the handler\n",
    "    formatter = logging.Formatter('%(asctime)s - %(name)s - %(levelname)s - %(message)s')\n",
    "    file_handler.setFormatter(formatter)\n",
    "    \n",
    "    # Add the handler to the logger\n",
    "    logger.addHandler(file_handler)\n",
    "    \n",
    "    return logger"
   ]
  },
  {
   "cell_type": "code",
   "execution_count": 3,
   "metadata": {},
   "outputs": [],
   "source": [
    "work_dir = pathlib.Path(f\"/Users/{user}/Library/CloudStorage/Box-Box/DataViz Projects/Data Services/FasTrak Data\")\n",
    "ft_data = work_dir / \"Fastrak Accounts Cleaned\" / \"bay_area_fastrak_accounts_cleaned.csv\""
   ]
  },
  {
   "cell_type": "code",
   "execution_count": 4,
   "metadata": {},
   "outputs": [],
   "source": [
    "LOGGER = setup_logger(logger_name=\"fastrak_geocoding\", output_dir=\"Logs\")"
   ]
  },
  {
   "cell_type": "code",
   "execution_count": 5,
   "metadata": {},
   "outputs": [],
   "source": [
    "def read_fastrak_data(file_path):\n",
    "    \"\"\"Read the Fastrak data from the specified file path.\"\"\"\n",
    "    log_or_print(f\"Reading Fastrak data from {file_path}\", LOGGER)\n",
    "    df = pd.read_csv(file_path)\n",
    "    log_or_print(f\"Read {len(df)} records from Fastrak data\", LOGGER)\n",
    "    return df"
   ]
  },
  {
   "cell_type": "code",
   "execution_count": 6,
   "metadata": {},
   "outputs": [],
   "source": [
    "def create_required_cols(df):\n",
    "    \"\"\"Create the required columns for geocoding.\"\"\"\n",
    "    log_or_print(\"Creating required columns for geocoding\", LOGGER)\n",
    "\n",
    "    required_columns = [\"ADDR\", \"CITY\", \"STATE\", \"ZIP_CODE\"]\n",
    "    \n",
    "    # Check if all required columns exist in the DataFrame\n",
    "    missing_columns = [col for col in required_columns if col not in df.columns]\n",
    "    if missing_columns:\n",
    "        error_message = f\"Missing required columns: {', '.join(missing_columns)}\"\n",
    "        log_or_print(error_message, LOGGER)\n",
    "        raise ValueError(error_message)\n",
    "\n",
    "    df = df.copy()\n",
    "    df[\"FULL_ADDRESS\"] = df[\"ADDR\"] + \", \" + df[\"CITY\"] + \", \" + df[\"STATE\"] + \" \" + df[\"ZIP_CODE\"].astype(str)\n",
    "\n",
    "    log_or_print(\"Created FULL_ADDRESS column\", LOGGER)\n",
    "    return df"
   ]
  },
  {
   "cell_type": "code",
   "execution_count": 13,
   "metadata": {},
   "outputs": [],
   "source": [
    "def batch_geocode_addresses(df):\n",
    "    \"\"\"_summary_\n",
    "\n",
    "    Args:\n",
    "        df (pd.DataFrame): DataFrame containing the addresses to geocode.\n",
    "\n",
    "    Returns:\n",
    "        _type_: _description_\n",
    "    \"\"\"\n",
    "\n",
    "    log_or_print(f\"Starting batch address geocoding on {len(df)} records\", LOGGER)\n",
    "\n",
    "    out_cols = [\n",
    "        \"address_orig\",\n",
    "        \"formatted_address\",\n",
    "        \"geometry_location_type\",\n",
    "        \"types\",\n",
    "        \"partial_match\",\n",
    "        \"geometry\",\n",
    "    ]\n",
    "\n",
    "    try:\n",
    "        results_df = google_geocode_batch(\n",
    "            address_list=df[\"FULL_ADDRESS\"].tolist(),\n",
    "            include_details=True,\n",
    "            allowed_location_types=[\"ROOFTOP\", \"RANGE_INTERPOLATED\"],\n",
    "        )\n",
    "        log_or_print(f\"Finished batch address geocoding. {len(results_df)} geocoded\", LOGGER)\n",
    "    except Exception as e:\n",
    "        log_or_print(f\"Error during batch geocoding: {e}\", LOGGER)\n",
    "        raise\n",
    "\n",
    "    # check for bad results by checking if bad_addresses.txt file exists\n",
    "    bad_address_file = \"bad_addresses.txt\"\n",
    "    if pathlib.Path(bad_address_file).exists():\n",
    "        log_or_print(f\"Bad addresses file found at {bad_address_file}\", LOGGER)\n",
    "\n",
    "        try:\n",
    "            with open(bad_address_file, \"r\") as f:\n",
    "                bad_addresses = f.read().splitlines()\n",
    "            log_or_print(f\"Found {len(bad_addresses)} bad addresses\", LOGGER)\n",
    "        except Exception as e:\n",
    "            log_or_print(f\"Error reading bad addresses file: {e}\", LOGGER)\n",
    "            raise\n",
    "\n",
    "    return results_df[out_cols]"
   ]
  },
  {
   "cell_type": "code",
   "execution_count": 8,
   "metadata": {},
   "outputs": [],
   "source": [
    "# read in the data\n",
    "df = read_fastrak_data(ft_data)"
   ]
  },
  {
   "cell_type": "code",
   "execution_count": 9,
   "metadata": {},
   "outputs": [],
   "source": [
    "# create the required columns\n",
    "df = create_required_cols(df)"
   ]
  },
  {
   "cell_type": "code",
   "execution_count": 16,
   "metadata": {},
   "outputs": [],
   "source": [
    "# batch geocode the addresses\n",
    "results_df = batch_geocode_addresses(df)"
   ]
  },
  {
   "cell_type": "code",
   "execution_count": null,
   "metadata": {},
   "outputs": [],
   "source": []
  }
 ],
 "metadata": {
  "kernelspec": {
   "display_name": "esri_env",
   "language": "python",
   "name": "python3"
  },
  "language_info": {
   "codemirror_mode": {
    "name": "ipython",
    "version": 3
   },
   "file_extension": ".py",
   "mimetype": "text/x-python",
   "name": "python",
   "nbconvert_exporter": "python",
   "pygments_lexer": "ipython3",
   "version": "3.11.7"
  }
 },
 "nbformat": 4,
 "nbformat_minor": 2
}
