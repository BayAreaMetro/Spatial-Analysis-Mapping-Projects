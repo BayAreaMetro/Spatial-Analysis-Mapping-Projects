{
 "cells": [
  {
   "cell_type": "code",
   "execution_count": 1,
   "metadata": {},
   "outputs": [],
   "source": [
    "import os\n",
    "import numpy as np\n",
    "import pandas as pd\n",
    "\n",
    "import fiona\n",
    "import geopandas as gpd\n",
    "from shapely.validation import explain_validity, make_valid"
   ]
  },
  {
   "cell_type": "code",
   "execution_count": 2,
   "metadata": {},
   "outputs": [],
   "source": [
    "user = 'jcroff'\n",
    "work_dir = f\"/Users/{user}/Library/CloudStorage/Box-Box/DataViz Projects/Adhoc-Spatial-Analysis/Check Geometry Validity\""
   ]
  },
  {
   "cell_type": "markdown",
   "metadata": {},
   "source": [
    "## Pull data with invalid geometries"
   ]
  },
  {
   "cell_type": "code",
   "execution_count": 3,
   "metadata": {},
   "outputs": [],
   "source": [
    "jurs_url = os.path.join(\n",
    "    \"https://\",\n",
    "    \"services3.arcgis.com\",\n",
    "    \"i2dkYWmb4wHvYPda\",\n",
    "    \"arcgis\",\n",
    "    \"rest\",\n",
    "    \"services\",\n",
    "    \"region_jurisdiction_clp\",\n",
    "    \"FeatureServer\",\n",
    "    \"0\",\n",
    "    \"query?outFields=*&where=1%3D1&f=geojson\",\n",
    ")\n",
    "\n",
    "jurs_gdf = gpd.read_file(jurs_url, driver=\"GeoJSON\").to_crs(\"EPSG:26910\")"
   ]
  },
  {
   "cell_type": "code",
   "execution_count": 4,
   "metadata": {},
   "outputs": [
    {
     "name": "stdout",
     "output_type": "stream",
     "text": [
      "Before: Invalid geoms 20\n",
      "Valid Geometry                                               89\n",
      "Nested shells[560126.479699979 4240704.2614818]               1\n",
      "Nested shells[569161.321667562 4217876.18877213]              1\n",
      "Nested shells[591294.506168401 4250607.64132171]              1\n",
      "Nested shells[596396.726551017 4243802.13433094]              1\n",
      "Nested shells[599933.961133772 4139079.75898333]              1\n",
      "Nested shells[582036.560659035 4139691.79373596]              1\n",
      "Nested shells[565188.391601871 4146479.14318992]              1\n",
      "Nested shells[565897.407518945 4148111.50553457]              1\n",
      "Nested shells[560086.720554918 4240654.36368286]              1\n",
      "Ring Self-intersection[542159.986077219 4193076.25494241]     1\n",
      "Nested shells[589161.493942158 4152895.62400875]              1\n",
      "Nested shells[540341.932192703 4205254.96913255]              1\n",
      "Nested shells[516376.340698606 4251214.39383315]              1\n",
      "Nested shells[547542.642964931 4236669.53058565]              1\n",
      "Nested shells[525858.842220663 4259033.66605669]              1\n",
      "Nested shells[609983.640629685 4139467.75346345]              1\n",
      "Nested shells[539473.617666389 4213528.38691152]              1\n",
      "Nested shells[577759.01261889 4207565.81315836]               1\n",
      "Nested shells[559351.965800915 4200909.64324456]              1\n",
      "Nested shells[530404.2732813 4234342.27698666]                1\n",
      "Name: geometry, dtype: int64\n"
     ]
    }
   ],
   "source": [
    "# check geom validity and explain validity issues\n",
    "\n",
    "print(\"Before: Invalid geoms\", jurs_gdf[~jurs_gdf.is_valid].shape[0])\n",
    "print(jurs_gdf.geometry.apply(explain_validity).value_counts())\n"
   ]
  },
  {
   "attachments": {},
   "cell_type": "markdown",
   "metadata": {},
   "source": [
    "## Read ESRI repaired features\n",
    "\n",
    "Geometries repaired with ESRI's [Repair Geometry Tool](https://pro.arcgis.com/en/pro-app/latest/tool-reference/data-management/repair-geometry.htm) with two different [validation methods](https://pro.arcgis.com/en/pro-app/latest/tool-reference/data-management/repair-geometry.htm#:~:text=Boolean-,validation_method,-(Optional)):\n",
    "1. ESRI-The Esri geometry validation method will be used. This is the default.\n",
    "2. Open Geospatial Consortium (OGC)-The OGC geometry validation method will be used."
   ]
  },
  {
   "cell_type": "code",
   "execution_count": 5,
   "metadata": {},
   "outputs": [],
   "source": [
    "fgdb = os.path.join(work_dir, \"check_repair_geometry.gdb\")\n",
    "\n",
    "jurs_repair_ogc = gpd.read_file(fgdb, driver=\"GeoDatabase\",layer='region_jurisdi_ogc_repair')\n",
    "jurs_repair_esri = gpd.read_file(fgdb, driver=\"GeoDatabase\",layer='region_jurisdi_esri_repair')"
   ]
  },
  {
   "cell_type": "code",
   "execution_count": 6,
   "metadata": {},
   "outputs": [
    {
     "name": "stdout",
     "output_type": "stream",
     "text": [
      "After ESRI OGC Repair: Invalid geoms 0\n",
      "Valid Geometry    109\n",
      "Name: geometry, dtype: int64\n"
     ]
    }
   ],
   "source": [
    "# check geom validity and explain validity issues\n",
    "\n",
    "print(\"After ESRI OGC Repair: Invalid geoms\", jurs_repair_ogc[~jurs_repair_ogc.is_valid].shape[0])\n",
    "print(jurs_repair_ogc.geometry.apply(explain_validity).value_counts())"
   ]
  },
  {
   "cell_type": "code",
   "execution_count": 7,
   "metadata": {},
   "outputs": [
    {
     "name": "stdout",
     "output_type": "stream",
     "text": [
      "After ESRI Repair: Invalid geoms 1\n",
      "Valid Geometry                                             108\n",
      "Ring Self-intersection[-122.520558243 37.8842109460001]      1\n",
      "Name: geometry, dtype: int64\n"
     ]
    }
   ],
   "source": [
    "# check geom validity and explain validity issues\n",
    "\n",
    "print(\"After ESRI Repair: Invalid geoms\", jurs_repair_esri[~jurs_repair_esri.is_valid].shape[0])\n",
    "print(jurs_repair_esri.geometry.apply(explain_validity).value_counts())"
   ]
  },
  {
   "attachments": {},
   "cell_type": "markdown",
   "metadata": {},
   "source": [
    "## Repair geometry open-source"
   ]
  },
  {
   "cell_type": "code",
   "execution_count": 8,
   "metadata": {},
   "outputs": [],
   "source": [
    "def repair_geometry(gdf):\n",
    "    \"\"\"\n",
    "    This function tests the validity of GeoDataFrame geometries and repairs invalid geometries.\n",
    "    The function leverages the shapely methods is_valid() to check validity and the explain_validity()\n",
    "    and make_valid() functions. For more information about how these methods and functions work,\n",
    "    please refer to the shapely documentation: https://shapely.readthedocs.io/en/stable/manual.html#diagnostics\n",
    "\n",
    "    Author: Joshua Croff\n",
    "\n",
    "    Args:\n",
    "        gdf (GeoDataFrame): A Geopandas GeoDataFrame object.\n",
    "\n",
    "    Returns:\n",
    "        GeoDataFrame: A Geopandas GeoDataFrame object.\n",
    "    \"\"\"\n",
    "    import geopandas as gpd\n",
    "    from shapely.validation import explain_validity, make_valid\n",
    "\n",
    "    if gdf.geometry.is_valid.all():\n",
    "        print(\"Geodataframe contains valid geometry. No repair necessary.\")\n",
    "        return gdf\n",
    "    else:\n",
    "        repaired_gdf = gdf.copy()\n",
    "        print(\n",
    "            \"Geodataframe contains invalid geometry, starting geometry repair process...\\n\"\n",
    "        )\n",
    "        print(repaired_gdf.geometry.apply(explain_validity).value_counts())\n",
    "        invalid_before_ct = repaired_gdf[~repaired_gdf.geometry.is_valid].shape[0]\n",
    "\n",
    "        # Make valid\n",
    "        repaired_gdf[\"geometry\"] = repaired_gdf.geometry.apply(make_valid)\n",
    "        invalid_after_ct = repaired_gdf[~repaired_gdf.geometry.is_valid].shape[0]\n",
    "\n",
    "        if repaired_gdf.geometry.is_valid.all():\n",
    "            print(\n",
    "                f\"\\nGeometry repair complete.\\nInvalid geometries before repair: {invalid_before_ct}\\nInvalid Geometries after repair: {invalid_after_ct}\"\n",
    "            )\n",
    "            return repaired_gdf\n",
    "        else:\n",
    "            print(\n",
    "                \"\\nGeodataframe still contains invalid geometries. Consider manual fix or revisiting geoprocess for issues that may create invalid geometries.\"\n",
    "            )"
   ]
  },
  {
   "cell_type": "code",
   "execution_count": 9,
   "metadata": {},
   "outputs": [
    {
     "name": "stdout",
     "output_type": "stream",
     "text": [
      "Geodataframe contains invalid geometry, starting geometry repair process...\n",
      "\n",
      "Valid Geometry                                               89\n",
      "Nested shells[560126.479699979 4240704.2614818]               1\n",
      "Nested shells[569161.321667562 4217876.18877213]              1\n",
      "Nested shells[591294.506168401 4250607.64132171]              1\n",
      "Nested shells[596396.726551017 4243802.13433094]              1\n",
      "Nested shells[599933.961133772 4139079.75898333]              1\n",
      "Nested shells[582036.560659035 4139691.79373596]              1\n",
      "Nested shells[565188.391601871 4146479.14318992]              1\n",
      "Nested shells[565897.407518945 4148111.50553457]              1\n",
      "Nested shells[560086.720554918 4240654.36368286]              1\n",
      "Ring Self-intersection[542159.986077219 4193076.25494241]     1\n",
      "Nested shells[589161.493942158 4152895.62400875]              1\n",
      "Nested shells[540341.932192703 4205254.96913255]              1\n",
      "Nested shells[516376.340698606 4251214.39383315]              1\n",
      "Nested shells[547542.642964931 4236669.53058565]              1\n",
      "Nested shells[525858.842220663 4259033.66605669]              1\n",
      "Nested shells[609983.640629685 4139467.75346345]              1\n",
      "Nested shells[539473.617666389 4213528.38691152]              1\n",
      "Nested shells[577759.01261889 4207565.81315836]               1\n",
      "Nested shells[559351.965800915 4200909.64324456]              1\n",
      "Nested shells[530404.2732813 4234342.27698666]                1\n",
      "Name: geometry, dtype: int64\n",
      "\n",
      "Geometry repair complete.\n",
      "Invalid geometries before repair: 20\n",
      "Invalid Geometries after repair: 0\n"
     ]
    }
   ],
   "source": [
    "jurs_repair_gdf = repair_geometry(gdf=jurs_gdf)"
   ]
  },
  {
   "cell_type": "code",
   "execution_count": 10,
   "metadata": {},
   "outputs": [
    {
     "name": "stderr",
     "output_type": "stream",
     "text": [
      "/var/folders/9q/xt2lctm54xq6fd45m1lmgp4m0000gp/T/ipykernel_34087/1254404634.py:1: FutureWarning: Currently, index_parts defaults to True, but in the future, it will default to False to be consistent with Pandas. Use `index_parts=True` to keep the current behavior and True/False to silence the warning.\n",
      "  jurs_repair_gdf.explode()\n"
     ]
    },
    {
     "data": {
      "text/html": [
       "<div>\n",
       "<style scoped>\n",
       "    .dataframe tbody tr th:only-of-type {\n",
       "        vertical-align: middle;\n",
       "    }\n",
       "\n",
       "    .dataframe tbody tr th {\n",
       "        vertical-align: top;\n",
       "    }\n",
       "\n",
       "    .dataframe thead th {\n",
       "        text-align: right;\n",
       "    }\n",
       "</style>\n",
       "<table border=\"1\" class=\"dataframe\">\n",
       "  <thead>\n",
       "    <tr style=\"text-align: right;\">\n",
       "      <th></th>\n",
       "      <th></th>\n",
       "      <th>objectid</th>\n",
       "      <th>fipst</th>\n",
       "      <th>fipco</th>\n",
       "      <th>coname</th>\n",
       "      <th>jurname</th>\n",
       "      <th>Shape__Area</th>\n",
       "      <th>Shape__Length</th>\n",
       "      <th>geometry</th>\n",
       "    </tr>\n",
       "  </thead>\n",
       "  <tbody>\n",
       "    <tr>\n",
       "      <th rowspan=\"4\" valign=\"top\">0</th>\n",
       "      <th>0</th>\n",
       "      <td>1</td>\n",
       "      <td>06</td>\n",
       "      <td>001</td>\n",
       "      <td>Alameda</td>\n",
       "      <td>Alameda</td>\n",
       "      <td>0.002786</td>\n",
       "      <td>0.499257</td>\n",
       "      <td>POLYGON ((563164.283 4179845.720, 562832.651 4...</td>\n",
       "    </tr>\n",
       "    <tr>\n",
       "      <th>1</th>\n",
       "      <td>1</td>\n",
       "      <td>06</td>\n",
       "      <td>001</td>\n",
       "      <td>Alameda</td>\n",
       "      <td>Alameda</td>\n",
       "      <td>0.002786</td>\n",
       "      <td>0.499257</td>\n",
       "      <td>POLYGON ((566319.030 4181545.291, 566312.846 4...</td>\n",
       "    </tr>\n",
       "    <tr>\n",
       "      <th>2</th>\n",
       "      <td>1</td>\n",
       "      <td>06</td>\n",
       "      <td>001</td>\n",
       "      <td>Alameda</td>\n",
       "      <td>Alameda</td>\n",
       "      <td>0.002786</td>\n",
       "      <td>0.499257</td>\n",
       "      <td>POLYGON ((567235.990 4178319.316, 567227.429 4...</td>\n",
       "    </tr>\n",
       "    <tr>\n",
       "      <th>3</th>\n",
       "      <td>1</td>\n",
       "      <td>06</td>\n",
       "      <td>001</td>\n",
       "      <td>Alameda</td>\n",
       "      <td>Alameda</td>\n",
       "      <td>0.002786</td>\n",
       "      <td>0.499257</td>\n",
       "      <td>POLYGON ((567314.997 4175007.578, 567085.406 4...</td>\n",
       "    </tr>\n",
       "    <tr>\n",
       "      <th>1</th>\n",
       "      <th>0</th>\n",
       "      <td>2</td>\n",
       "      <td>06</td>\n",
       "      <td>001</td>\n",
       "      <td>Alameda</td>\n",
       "      <td>Albany</td>\n",
       "      <td>0.000475</td>\n",
       "      <td>0.147444</td>\n",
       "      <td>POLYGON ((562582.738 4194718.897, 562588.752 4...</td>\n",
       "    </tr>\n",
       "    <tr>\n",
       "      <th>...</th>\n",
       "      <th>...</th>\n",
       "      <td>...</td>\n",
       "      <td>...</td>\n",
       "      <td>...</td>\n",
       "      <td>...</td>\n",
       "      <td>...</td>\n",
       "      <td>...</td>\n",
       "      <td>...</td>\n",
       "      <td>...</td>\n",
       "    </tr>\n",
       "    <tr>\n",
       "      <th rowspan=\"4\" valign=\"top\">107</th>\n",
       "      <th>2</th>\n",
       "      <td>108</td>\n",
       "      <td>06</td>\n",
       "      <td>097</td>\n",
       "      <td>Sonoma</td>\n",
       "      <td>Petaluma</td>\n",
       "      <td>0.003871</td>\n",
       "      <td>0.544108</td>\n",
       "      <td>POLYGON ((529015.826 4236819.120, 529088.102 4...</td>\n",
       "    </tr>\n",
       "    <tr>\n",
       "      <th>3</th>\n",
       "      <td>108</td>\n",
       "      <td>06</td>\n",
       "      <td>097</td>\n",
       "      <td>Sonoma</td>\n",
       "      <td>Petaluma</td>\n",
       "      <td>0.003871</td>\n",
       "      <td>0.544108</td>\n",
       "      <td>POLYGON ((534419.959 4235852.529, 534457.940 4...</td>\n",
       "    </tr>\n",
       "    <tr>\n",
       "      <th>4</th>\n",
       "      <td>108</td>\n",
       "      <td>06</td>\n",
       "      <td>097</td>\n",
       "      <td>Sonoma</td>\n",
       "      <td>Petaluma</td>\n",
       "      <td>0.003871</td>\n",
       "      <td>0.544108</td>\n",
       "      <td>POLYGON ((533779.053 4238694.625, 533745.188 4...</td>\n",
       "    </tr>\n",
       "    <tr>\n",
       "      <th>5</th>\n",
       "      <td>108</td>\n",
       "      <td>06</td>\n",
       "      <td>097</td>\n",
       "      <td>Sonoma</td>\n",
       "      <td>Petaluma</td>\n",
       "      <td>0.003871</td>\n",
       "      <td>0.544108</td>\n",
       "      <td>POLYGON ((536854.820 4238935.301, 536830.810 4...</td>\n",
       "    </tr>\n",
       "    <tr>\n",
       "      <th>108</th>\n",
       "      <th>0</th>\n",
       "      <td>109</td>\n",
       "      <td>06</td>\n",
       "      <td>097</td>\n",
       "      <td>Sonoma</td>\n",
       "      <td>Rohnert Park</td>\n",
       "      <td>0.001946</td>\n",
       "      <td>0.333036</td>\n",
       "      <td>POLYGON ((527039.026 4241346.859, 526940.379 4...</td>\n",
       "    </tr>\n",
       "  </tbody>\n",
       "</table>\n",
       "<p>539 rows × 8 columns</p>\n",
       "</div>"
      ],
      "text/plain": [
       "       objectid fipst fipco   coname       jurname  Shape__Area  \\\n",
       "0   0         1    06   001  Alameda       Alameda     0.002786   \n",
       "    1         1    06   001  Alameda       Alameda     0.002786   \n",
       "    2         1    06   001  Alameda       Alameda     0.002786   \n",
       "    3         1    06   001  Alameda       Alameda     0.002786   \n",
       "1   0         2    06   001  Alameda        Albany     0.000475   \n",
       "...         ...   ...   ...      ...           ...          ...   \n",
       "107 2       108    06   097   Sonoma      Petaluma     0.003871   \n",
       "    3       108    06   097   Sonoma      Petaluma     0.003871   \n",
       "    4       108    06   097   Sonoma      Petaluma     0.003871   \n",
       "    5       108    06   097   Sonoma      Petaluma     0.003871   \n",
       "108 0       109    06   097   Sonoma  Rohnert Park     0.001946   \n",
       "\n",
       "       Shape__Length                                           geometry  \n",
       "0   0       0.499257  POLYGON ((563164.283 4179845.720, 562832.651 4...  \n",
       "    1       0.499257  POLYGON ((566319.030 4181545.291, 566312.846 4...  \n",
       "    2       0.499257  POLYGON ((567235.990 4178319.316, 567227.429 4...  \n",
       "    3       0.499257  POLYGON ((567314.997 4175007.578, 567085.406 4...  \n",
       "1   0       0.147444  POLYGON ((562582.738 4194718.897, 562588.752 4...  \n",
       "...              ...                                                ...  \n",
       "107 2       0.544108  POLYGON ((529015.826 4236819.120, 529088.102 4...  \n",
       "    3       0.544108  POLYGON ((534419.959 4235852.529, 534457.940 4...  \n",
       "    4       0.544108  POLYGON ((533779.053 4238694.625, 533745.188 4...  \n",
       "    5       0.544108  POLYGON ((536854.820 4238935.301, 536830.810 4...  \n",
       "108 0       0.333036  POLYGON ((527039.026 4241346.859, 526940.379 4...  \n",
       "\n",
       "[539 rows x 8 columns]"
      ]
     },
     "execution_count": 10,
     "metadata": {},
     "output_type": "execute_result"
    }
   ],
   "source": [
    "jurs_repair_gdf.explode()"
   ]
  },
  {
   "cell_type": "code",
   "execution_count": null,
   "metadata": {},
   "outputs": [],
   "source": []
  }
 ],
 "metadata": {
  "kernelspec": {
   "display_name": "geo_env",
   "language": "python",
   "name": "python3"
  },
  "language_info": {
   "codemirror_mode": {
    "name": "ipython",
    "version": 3
   },
   "file_extension": ".py",
   "mimetype": "text/x-python",
   "name": "python",
   "nbconvert_exporter": "python",
   "pygments_lexer": "ipython3",
   "version": "3.10.6"
  },
  "orig_nbformat": 4
 },
 "nbformat": 4,
 "nbformat_minor": 2
}
