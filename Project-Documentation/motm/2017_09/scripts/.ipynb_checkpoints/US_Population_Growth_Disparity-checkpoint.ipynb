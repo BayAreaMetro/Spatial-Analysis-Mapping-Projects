{
 "cells": [
  {
   "cell_type": "code",
   "execution_count": 1,
   "metadata": {
    "collapsed": true
   },
   "outputs": [],
   "source": [
    "#Call Census API to get csv of net population change from 2000 - 2016 (Table B01003)"
   ]
  },
  {
   "cell_type": "code",
   "execution_count": 130,
   "metadata": {
    "collapsed": true
   },
   "outputs": [],
   "source": [
    "import pandas as pd\n",
    "import requests\n",
    "\n",
    "#FULL API CALL - PARAM THIS ! \n",
    "#api.census.gov/data/2000/sf1?get=STATE,COUNTY,P001001&for=state:*&key=13f1e5cda2e31e0a8c7657aac968aa5327b055d3\n",
    "\n",
    "api_key = '13f1e5cda2e31e0a8c7657aac968aa5327b055d3' \n",
    "#Total Population Year 2000\n",
    "c_2000_pop = 'P001001'\n",
    "#Api url summary file 1\n",
    "census_2000_url = 'http://api.census.gov/data/2000/sf1?get={0}&for=county:*&key=13f1e5cda2e31e0a8c7657aac968aa5327b055d3'.format(c_2000_pop)\n",
    "\n",
    "#Total Population Year Year 2016\n",
    "acs_2016_pop = 'B01003'\n",
    "\n",
    "#Api url Census Pop Estimates 2016\n",
    "c_estimates_2016_url = 'http://api.census.gov/data/2016/pep/population?get=POP&for=county:*&key=13f1e5cda2e31e0a8c7657aac968aa5327b055d3'\n"
   ]
  },
  {
   "cell_type": "code",
   "execution_count": 131,
   "metadata": {
    "collapsed": true
   },
   "outputs": [],
   "source": [
    "#2000 Census Request to JSON \n",
    "Request_2000_Census = requests.get(census_2000_url)\n",
    "R_2000_Census_JSON = Request_2000_Census.json()\n",
    "\n",
    "#2016 Estimates Request to JSON\n",
    "Request_2016_Est = requests.get(c_estimates_2016_url)\n",
    "R_2016_Est_JSON = Request_2016_Est.json()"
   ]
  },
  {
   "cell_type": "code",
   "execution_count": 132,
   "metadata": {
    "collapsed": true
   },
   "outputs": [],
   "source": [
    "#Convert to dataframe\n",
    "df_Census = pd.DataFrame(data=(R_2000_Census_JSON[1:-1]),columns=(R_2000_Census_JSON[0]))\n",
    "df_Est = pd.DataFrame(data=(R_2016_Est_JSON[1:-1]),columns=(R_2016_Est_JSON[0]))"
   ]
  },
  {
   "cell_type": "code",
   "execution_count": 141,
   "metadata": {},
   "outputs": [
    {
     "data": {
      "text/plain": [
       "Index([u'P001001', u'state', u'county'], dtype='object')"
      ]
     },
     "execution_count": 141,
     "metadata": {},
     "output_type": "execute_result"
    }
   ],
   "source": [
    "#Read Column Names \n",
    "df_Census.columns"
   ]
  },
  {
   "cell_type": "code",
   "execution_count": 140,
   "metadata": {},
   "outputs": [
    {
     "data": {
      "text/plain": [
       "Index([u'POP', u'state', u'county'], dtype='object')"
      ]
     },
     "execution_count": 140,
     "metadata": {},
     "output_type": "execute_result"
    }
   ],
   "source": [
    "#Read Column Names\n",
    "df_Est.columns"
   ]
  },
  {
   "cell_type": "code",
   "execution_count": 146,
   "metadata": {
    "collapsed": true
   },
   "outputs": [],
   "source": [
    "#Rename Columns\n",
    "df_Census.columns= ['Pop_2000','State','County']\n",
    "df_Est.columns= ['Pop_2016','State','County']"
   ]
  },
  {
   "cell_type": "code",
   "execution_count": 150,
   "metadata": {
    "collapsed": true
   },
   "outputs": [],
   "source": [
    "#Join 2000 Census Population DF with 2016 Census Population Estimate DF\n",
    "df_Net_Change_2000_2016 = pd.merge(df_Census, df_Est, on=['State','County'], how='left')"
   ]
  },
  {
   "cell_type": "code",
   "execution_count": 152,
   "metadata": {},
   "outputs": [
    {
     "data": {
      "text/html": [
       "<div>\n",
       "<style>\n",
       "    .dataframe thead tr:only-child th {\n",
       "        text-align: right;\n",
       "    }\n",
       "\n",
       "    .dataframe thead th {\n",
       "        text-align: left;\n",
       "    }\n",
       "\n",
       "    .dataframe tbody tr th {\n",
       "        vertical-align: top;\n",
       "    }\n",
       "</style>\n",
       "<table border=\"1\" class=\"dataframe\">\n",
       "  <thead>\n",
       "    <tr style=\"text-align: right;\">\n",
       "      <th></th>\n",
       "      <th>Pop_2000</th>\n",
       "      <th>State</th>\n",
       "      <th>County</th>\n",
       "      <th>Pop_2016</th>\n",
       "    </tr>\n",
       "  </thead>\n",
       "  <tbody>\n",
       "    <tr>\n",
       "      <th>0</th>\n",
       "      <td>43671</td>\n",
       "      <td>01</td>\n",
       "      <td>001</td>\n",
       "      <td>55416</td>\n",
       "    </tr>\n",
       "    <tr>\n",
       "      <th>1</th>\n",
       "      <td>140415</td>\n",
       "      <td>01</td>\n",
       "      <td>003</td>\n",
       "      <td>208563</td>\n",
       "    </tr>\n",
       "    <tr>\n",
       "      <th>2</th>\n",
       "      <td>29038</td>\n",
       "      <td>01</td>\n",
       "      <td>005</td>\n",
       "      <td>25965</td>\n",
       "    </tr>\n",
       "    <tr>\n",
       "      <th>3</th>\n",
       "      <td>20826</td>\n",
       "      <td>01</td>\n",
       "      <td>007</td>\n",
       "      <td>22643</td>\n",
       "    </tr>\n",
       "    <tr>\n",
       "      <th>4</th>\n",
       "      <td>51024</td>\n",
       "      <td>01</td>\n",
       "      <td>009</td>\n",
       "      <td>57704</td>\n",
       "    </tr>\n",
       "  </tbody>\n",
       "</table>\n",
       "</div>"
      ],
      "text/plain": [
       "  Pop_2000 State County Pop_2016\n",
       "0    43671    01    001    55416\n",
       "1   140415    01    003   208563\n",
       "2    29038    01    005    25965\n",
       "3    20826    01    007    22643\n",
       "4    51024    01    009    57704"
      ]
     },
     "execution_count": 152,
     "metadata": {},
     "output_type": "execute_result"
    }
   ],
   "source": [
    "#Review top 5 records \n",
    "df_Net_Change_2000_2016.head()"
   ]
  },
  {
   "cell_type": "code",
   "execution_count": null,
   "metadata": {
    "collapsed": true
   },
   "outputs": [],
   "source": []
  },
  {
   "cell_type": "code",
   "execution_count": null,
   "metadata": {
    "collapsed": true
   },
   "outputs": [],
   "source": []
  },
  {
   "cell_type": "code",
   "execution_count": null,
   "metadata": {
    "collapsed": true
   },
   "outputs": [],
   "source": []
  },
  {
   "cell_type": "code",
   "execution_count": null,
   "metadata": {
    "collapsed": true
   },
   "outputs": [],
   "source": []
  },
  {
   "cell_type": "code",
   "execution_count": null,
   "metadata": {
    "collapsed": true
   },
   "outputs": [],
   "source": []
  },
  {
   "cell_type": "code",
   "execution_count": null,
   "metadata": {
    "collapsed": true
   },
   "outputs": [],
   "source": []
  },
  {
   "cell_type": "code",
   "execution_count": null,
   "metadata": {
    "collapsed": true
   },
   "outputs": [],
   "source": []
  },
  {
   "cell_type": "code",
   "execution_count": null,
   "metadata": {
    "collapsed": true
   },
   "outputs": [],
   "source": []
  }
 ],
 "metadata": {
  "kernelspec": {
   "display_name": "Python 2",
   "language": "python",
   "name": "python2"
  },
  "language_info": {
   "codemirror_mode": {
    "name": "ipython",
    "version": 2
   },
   "file_extension": ".py",
   "mimetype": "text/x-python",
   "name": "python",
   "nbconvert_exporter": "python",
   "pygments_lexer": "ipython2",
   "version": "2.7.13"
  }
 },
 "nbformat": 4,
 "nbformat_minor": 2
}
