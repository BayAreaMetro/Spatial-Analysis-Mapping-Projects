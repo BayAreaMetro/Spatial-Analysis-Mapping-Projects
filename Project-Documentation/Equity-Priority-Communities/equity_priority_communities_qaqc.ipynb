{
 "cells": [
  {
   "cell_type": "code",
   "execution_count": 1,
   "metadata": {},
   "outputs": [],
   "source": [
    "import os\n",
    "import sys\n",
    "import pandas as pd, geopandas as gp, numpy as np\n",
    "import getpass\n",
    "from arcgis import GIS\n",
    "\n",
    "user = getpass.getuser()\n",
    "\n",
    "DVUTILS_LOCAL_CLONE_PATH = f\"/Users/{user}/Documents/GitHub/dvutils\"\n",
    "sys.path.insert(0, DVUTILS_LOCAL_CLONE_PATH)\n",
    "from utils_io import *"
   ]
  },
  {
   "cell_type": "code",
   "execution_count": 2,
   "metadata": {},
   "outputs": [],
   "source": [
    "# get census api key\n",
    "api_key = os.environ.get(\"CENSUS_API_KEY\")\n",
    "agol_password = os.environ.get(\"AGOL_CONTENT_PASSWORD\")"
   ]
  },
  {
   "cell_type": "code",
   "execution_count": 3,
   "metadata": {},
   "outputs": [],
   "source": [
    "# authenticate to agol\n",
    "gis = GIS(url=\"https://mtc.maps.arcgis.com/home\", username=\"content_MTC\", password=agol_password)"
   ]
  },
  {
   "cell_type": "code",
   "execution_count": 43,
   "metadata": {},
   "outputs": [],
   "source": [
    "# pull 2050 equity priority communities data\n",
    "# epc_url = \"https://services3.arcgis.com/i2dkYWmb4wHvYPda/arcgis/rest/services/communities_of_concern_2020_acs2018/FeatureServer/0\"\n",
    "epc_2050 = pd.read_csv(\"Data/epc_acs2018.csv\", dtype={\"geoid\": str})"
   ]
  },
  {
   "cell_type": "code",
   "execution_count": 44,
   "metadata": {},
   "outputs": [],
   "source": [
    "# pull draft acs 2021 equity priority communities data \n",
    "# draft_epc_url = \"https://services3.arcgis.com/i2dkYWmb4wHvYPda/arcgis/rest/services/DRAFT_Equity_Priority_Communities_Plan_Bay_Area_2050_/FeatureServer/0\"\n",
    "epc_2050p_2021 = pd.read_csv(\"Data/epc_acs2021.csv\", dtype={\"tract_geoid\": str}) "
   ]
  },
  {
   "cell_type": "code",
   "execution_count": 45,
   "metadata": {},
   "outputs": [],
   "source": [
    "# pull draft acs 2022 equity priority communities data\n",
    "# draft_epc_url = \"https://services3.arcgis.com/i2dkYWmb4wHvYPda/arcgis/rest/services/DRAFT_Equity_Priority_Communities_Plan_Bay_Area_2050_Plus_ACS_2022_/FeatureServer/0\"\n",
    "epc_2050p_2022 = pd.read_csv(\"Data/epc_acs2022.csv\", dtype={\"tract_geoid\": str})"
   ]
  },
  {
   "cell_type": "markdown",
   "metadata": {},
   "source": [
    "## Concat 2022 and 2021 data"
   ]
  },
  {
   "cell_type": "code",
   "execution_count": 46,
   "metadata": {},
   "outputs": [],
   "source": [
    "county_fips_dict = {\n",
    "    1: \"Alameda\",\n",
    "    13: \"Contra Costa\",\n",
    "    41: \"Marin\",\n",
    "    55: \"Napa\",\n",
    "    75: \"San Francisco\",\n",
    "    81: \"San Mateo\",\n",
    "    85: \"Santa Clara\",\n",
    "    95: \"Solano\",\n",
    "    97: \"Sonoma\",\n",
    "}\n",
    "epc_2050[\"county\"] = epc_2050[\"county_fip\"].map(county_fips_dict)\n",
    "epc_2050p_2021[\"county\"] = epc_2050p_2021[\"county_fip\"].map(county_fips_dict)\n",
    "# epc_2050p_2021.rename(columns={\"epc_2050p\":\"epc_2021\"}, inplace=True)\n",
    "epc_2050p_2022[\"county\"] = epc_2050p_2022[\"county_fip\"].map(county_fips_dict)\n",
    "# epc_2050p_2022.rename(columns={\"epc_2050p\":\"epc_2022\"}, inplace=True)"
   ]
  },
  {
   "cell_type": "code",
   "execution_count": 47,
   "metadata": {},
   "outputs": [],
   "source": [
    "# create a function to flag share columns with values that are 0 or 1\n",
    "# these columns may highlight areas where the data are not reliable\n",
    "\n",
    "def flag_share_cols(df, share_cols):\n",
    "    \"\"\"\n",
    "    Flags share columns with values that are 0 or 1. These columns may highlight areas where the data are not reliable.\n",
    "\n",
    "    Parameters\n",
    "    -------------------\n",
    "    df (geodataframe):\n",
    "    Geodataframe object.\n",
    "\n",
    "    share_cols (list):\n",
    "    List of columns to flag.\n",
    "\n",
    "    Returns\n",
    "    -------------------\n",
    "    Geodataframe object\n",
    "    \"\"\"\n",
    "    for col in share_cols:\n",
    "        df[f\"{col}_flag\"] = np.where(\n",
    "            (df[col] == 0) | (df[col] == 1), 1, 0\n",
    "        )\n",
    "    return df"
   ]
  },
  {
   "cell_type": "code",
   "execution_count": 48,
   "metadata": {},
   "outputs": [],
   "source": [
    "# flag share columns\n",
    "cols = [\n",
    "    \"pct_poc\",\n",
    "    \"pct_over75\",\n",
    "    \"pct_spfam\",\n",
    "    \"pct_lep\",\n",
    "    \"pct_below2\",\n",
    "    \"pct_disab\",\n",
    "    \"pct_zvhhs\",\n",
    "    \"pct_hus_re\",\n",
    "]\n",
    "epc_2050 = flag_share_cols(epc_2050, cols)\n",
    "epc_2050p_2021 = flag_share_cols(epc_2050p_2021, cols)\n",
    "epc_2050p_2022 = flag_share_cols(epc_2050p_2022, cols)"
   ]
  },
  {
   "cell_type": "code",
   "execution_count": 49,
   "metadata": {},
   "outputs": [],
   "source": [
    "epc_2050.rename(columns={\"geoid\":\"tract_geoid\"}, inplace=True)\n",
    "epc_2050[\"tract_geoid\"] = \"0\" + epc_2050[\"tract_geoid\"]\n",
    "epc_2050.drop(columns=[\"tract\"], inplace=True)"
   ]
  },
  {
   "cell_type": "code",
   "execution_count": 50,
   "metadata": {},
   "outputs": [],
   "source": [
    "# add vintage cols\n",
    "epc_2050[\"vintage\"] = 2018\n",
    "epc_2050p_2021[\"vintage\"] = 2021\n",
    "epc_2050p_2022[\"vintage\"] = 2022\n",
    "\n",
    "# concat epc data\n",
    "epc_concat = pd.concat([epc_2050, epc_2050p_2021, epc_2050p_2022])"
   ]
  },
  {
   "cell_type": "code",
   "execution_count": 51,
   "metadata": {},
   "outputs": [],
   "source": [
    "epc_concat.to_csv(\"Data/epc_comparisons_2018_2021_2022.csv\", index=False)"
   ]
  },
  {
   "cell_type": "code",
   "execution_count": 52,
   "metadata": {},
   "outputs": [
    {
     "data": {
      "text/plain": [
       "0.21426180780037782"
      ]
     },
     "execution_count": 52,
     "metadata": {},
     "output_type": "execute_result"
    }
   ],
   "source": [
    "epc_2050.pct_below2.mean()"
   ]
  },
  {
   "cell_type": "code",
   "execution_count": 53,
   "metadata": {},
   "outputs": [
    {
     "data": {
      "text/plain": [
       "0.18514875331275824"
      ]
     },
     "execution_count": 53,
     "metadata": {},
     "output_type": "execute_result"
    }
   ],
   "source": [
    "epc_2050p_2021.pct_below2.mean()"
   ]
  },
  {
   "cell_type": "code",
   "execution_count": 56,
   "metadata": {},
   "outputs": [
    {
     "data": {
      "text/plain": [
       "0.18"
      ]
     },
     "execution_count": 56,
     "metadata": {},
     "output_type": "execute_result"
    }
   ],
   "source": [
    "epc_2050p_2022.pct_below2.mean().round(2)"
   ]
  },
  {
   "cell_type": "code",
   "execution_count": 58,
   "metadata": {},
   "outputs": [
    {
     "data": {
      "text/plain": [
       "0.065"
      ]
     },
     "execution_count": 58,
     "metadata": {},
     "output_type": "execute_result"
    }
   ],
   "source": [
    ".5 * (epc_2050p_2022.pct_below2.std().round(2))"
   ]
  },
  {
   "cell_type": "markdown",
   "metadata": {},
   "source": [
    "## Merge 2022 and 2021 data"
   ]
  },
  {
   "cell_type": "code",
   "execution_count": null,
   "metadata": {},
   "outputs": [],
   "source": [
    "epc_merge = pd.merge(epc_2050p_2021, epc_2050p_2022, on=\"tract_geoid\", suffixes=(\"_2021\", \"_2022\"))"
   ]
  },
  {
   "cell_type": "code",
   "execution_count": null,
   "metadata": {},
   "outputs": [],
   "source": [
    "epc_merge[\"epc_change\"] = epc_merge[\"epc_2050p_2022\"] - epc_merge[\"epc_2050p_2021\"]"
   ]
  },
  {
   "cell_type": "code",
   "execution_count": null,
   "metadata": {},
   "outputs": [],
   "source": [
    "epc_merge[\"epc_change\"].value_counts()"
   ]
  },
  {
   "cell_type": "code",
   "execution_count": null,
   "metadata": {},
   "outputs": [],
   "source": [
    "epc_merge[\"epc_change_class\"] = np.where(epc_merge[\"epc_change\"] == 0, \"no_change\", np.where(epc_merge[\"epc_change\"] > 0, \"gain\", \"loss\"))"
   ]
  },
  {
   "cell_type": "code",
   "execution_count": null,
   "metadata": {},
   "outputs": [],
   "source": [
    "# count the number of 0 values for each factor in 2021 and 2022\n",
    "# by county\n",
    "review_cols = [\n",
    "    \"pct_poc_2021\",\n",
    "    \"pct_over75_2021\",\n",
    "    \"pct_spfam_2021\",\n",
    "    \"pct_lep_2021\",\n",
    "    \"pct_below2_2021\",\n",
    "    \"pct_disab_2021\",\n",
    "    \"pct_zvhhs_2021\",\n",
    "    \"pct_hus_re_2021\",\n",
    "    \"pct_poc_2022\",\n",
    "    \"pct_over75_2022\",\n",
    "    \"pct_spfam_2022\",\n",
    "    \"pct_lep_2022\",\n",
    "    \"pct_below2_2022\",\n",
    "    \"pct_disab_2022\",\n",
    "    \"pct_hus_re_2022\",\n",
    "    \"pct_zvhhs_2022\",\n",
    "]\n",
    "epc_merge.query(\"epc_2050p_2021 == 1 or epc_2050p_2022 == 1\")[review_cols][\n",
    "    epc_merge[review_cols].isin([0, 1]).any(axis=1)\n",
    "]"
   ]
  },
  {
   "cell_type": "code",
   "execution_count": null,
   "metadata": {},
   "outputs": [],
   "source": [
    "analysis_cols = [\n",
    "    \"tract_geoid\",\n",
    "    \"county_fip_2021\",\n",
    "    \"tot_pop_poc_2021\",\n",
    "    \"tot_pop_se_2021\",\n",
    "    \"tot_pop_po_2021\",\n",
    "    \"tot_pop_ci_2021\",\n",
    "    \"tot_hh_2021\",\n",
    "    \"pop_zvhhs_2021\",\n",
    "    \"tot_fam_2021\",\n",
    "    \"tot_pop_ov_2021\",\n",
    "    \"pop_hus_re_2021\",\n",
    "    \"pop_poc_2021\",\n",
    "    \"pop_over75_2021\",\n",
    "    \"pop_spfam_2021\",\n",
    "    \"pop_lep_2021\",\n",
    "    \"pop_below2_2021\",\n",
    "    \"pop_disabi_2021\",\n",
    "    \"tot_pop_poc_2022\",\n",
    "    \"tot_pop_se_2022\",\n",
    "    \"tot_pop_po_2022\",\n",
    "    \"tot_pop_ci_2022\",\n",
    "    \"tot_pop_ov_2022\",\n",
    "    \"tot_hh_2022\",\n",
    "    \"tot_fam_2022\",\n",
    "    \"pop_poc_2022\",\n",
    "    \"pop_over75_2022\",\n",
    "    \"pop_spfam_2022\",\n",
    "    \"pop_lep_2022\",\n",
    "    \"pop_below2_2022\",\n",
    "    \"pop_disabi_2022\",\n",
    "    \"pop_hus_re_2022\",\n",
    "    \"pop_zvhhs_2022\",\n",
    "    \"pct_poc_2022\",\n",
    "]"
   ]
  },
  {
   "cell_type": "code",
   "execution_count": null,
   "metadata": {},
   "outputs": [],
   "source": [
    "rev_cols = [\n",
    "    \"tract_geoid\",\n",
    "    \"tot_pop_po_2021\",\n",
    "    \"tot_pop_po_2022\",\n",
    "    \"pop_below2_2021\",\n",
    "    \"pop_below2_2022\",\n",
    "    \"pct_below2_2021\",\n",
    "    \"pct_below2_2022\",\n",
    "    \"epc_change_class\",\n",
    "]\n",
    "# epc_merge.query(\"county_fip_2021 == 41 and (below2_1_2_2021 == 1 or below2_1_2_2022 == 1)\").groupby([\"epc_change_class\"])[rev_cols].mean()"
   ]
  },
  {
   "cell_type": "code",
   "execution_count": null,
   "metadata": {},
   "outputs": [],
   "source": [
    "epc_merge.query(\"county_fip_2021 == 41 and (below2_1_2_2021 == 1 or below2_1_2_2022 == 1)\")[rev_cols]"
   ]
  },
  {
   "cell_type": "code",
   "execution_count": null,
   "metadata": {},
   "outputs": [],
   "source": [
    "out_list = epc_merge.columns.to_list()"
   ]
  },
  {
   "cell_type": "code",
   "execution_count": null,
   "metadata": {},
   "outputs": [],
   "source": [
    "# remove geometry columns from list\n",
    "for item in [\"geometry_2021\", \"geometry_2022\"]:\n",
    "    out_list.remove(item)"
   ]
  },
  {
   "cell_type": "code",
   "execution_count": null,
   "metadata": {},
   "outputs": [],
   "source": [
    "epc_merge[out_list].to_csv(\"Data/epc_2050p_2021_2022_wide.csv\")"
   ]
  }
 ],
 "metadata": {
  "kernelspec": {
   "display_name": "geo_env",
   "language": "python",
   "name": "python3"
  },
  "language_info": {
   "codemirror_mode": {
    "name": "ipython",
    "version": 3
   },
   "file_extension": ".py",
   "mimetype": "text/x-python",
   "name": "python",
   "nbconvert_exporter": "python",
   "pygments_lexer": "ipython3",
   "version": "3.10.6"
  }
 },
 "nbformat": 4,
 "nbformat_minor": 2
}
