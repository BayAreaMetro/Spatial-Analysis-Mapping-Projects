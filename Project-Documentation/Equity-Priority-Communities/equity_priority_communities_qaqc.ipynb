{
 "cells": [
  {
   "cell_type": "code",
   "execution_count": 1,
   "metadata": {},
   "outputs": [],
   "source": [
    "import os\n",
    "import sys\n",
    "import pandas as pd, geopandas as gp, numpy as np\n",
    "import getpass\n",
    "from arcgis import GIS\n",
    "\n",
    "user = getpass.getuser()\n",
    "\n",
    "DVUTILS_LOCAL_CLONE_PATH = f\"/Users/{user}/Documents/GitHub/dvutils\"\n",
    "sys.path.insert(0, DVUTILS_LOCAL_CLONE_PATH)\n",
    "from utils_io import *"
   ]
  },
  {
   "cell_type": "code",
   "execution_count": 2,
   "metadata": {},
   "outputs": [],
   "source": [
    "# get census api key\n",
    "api_key = os.environ.get(\"CENSUS_API_KEY\")\n",
    "agol_password = os.environ.get(\"AGOL_CONTENT_PASSWORD\")"
   ]
  },
  {
   "cell_type": "code",
   "execution_count": 3,
   "metadata": {},
   "outputs": [],
   "source": [
    "# authenticate to agol\n",
    "gis = GIS(url=\"https://mtc.maps.arcgis.com/home\", username=\"content_MTC\", password=agol_password)"
   ]
  },
  {
   "cell_type": "code",
   "execution_count": 4,
   "metadata": {},
   "outputs": [],
   "source": [
    "# pull 2050 equity priority communities data\n",
    "# epc_url = \"https://services3.arcgis.com/i2dkYWmb4wHvYPda/arcgis/rest/services/communities_of_concern_2020_acs2018/FeatureServer/0\"\n",
    "epc_2050 = pd.read_csv(\"Data/epc_acs2018.csv\", dtype={\"geoid\": str})"
   ]
  },
  {
   "cell_type": "code",
   "execution_count": 5,
   "metadata": {},
   "outputs": [],
   "source": [
    "# pull draft acs 2021 equity priority communities data \n",
    "# draft_epc_url = \"https://services3.arcgis.com/i2dkYWmb4wHvYPda/arcgis/rest/services/DRAFT_Equity_Priority_Communities_Plan_Bay_Area_2050_/FeatureServer/0\"\n",
    "epc_2050p_2021 = pd.read_csv(\"Data/epc_acs2021.csv\", dtype={\"tract_geoid\": str}) "
   ]
  },
  {
   "cell_type": "code",
   "execution_count": 6,
   "metadata": {},
   "outputs": [],
   "source": [
    "# pull draft acs 2022 equity priority communities data\n",
    "# draft_epc_url = \"https://services3.arcgis.com/i2dkYWmb4wHvYPda/arcgis/rest/services/DRAFT_Equity_Priority_Communities_Plan_Bay_Area_2050_Plus_ACS_2022_/FeatureServer/0\"\n",
    "epc_2050p_2022 = pd.read_csv(\"Data/epc_acs2022.csv\", dtype={\"tract_geoid\": str})"
   ]
  },
  {
   "cell_type": "markdown",
   "metadata": {},
   "source": [
    "## Concat 2022 and 2021 data"
   ]
  },
  {
   "cell_type": "code",
   "execution_count": 7,
   "metadata": {},
   "outputs": [],
   "source": [
    "county_fips_dict = {\n",
    "    1: \"Alameda\",\n",
    "    13: \"Contra Costa\",\n",
    "    41: \"Marin\",\n",
    "    55: \"Napa\",\n",
    "    75: \"San Francisco\",\n",
    "    81: \"San Mateo\",\n",
    "    85: \"Santa Clara\",\n",
    "    95: \"Solano\",\n",
    "    97: \"Sonoma\",\n",
    "}\n",
    "epc_2050[\"county\"] = epc_2050[\"county_fip\"].map(county_fips_dict)\n",
    "epc_2050p_2021[\"county\"] = epc_2050p_2021[\"county_fip\"].map(county_fips_dict)\n",
    "# epc_2050p_2021.rename(columns={\"epc_2050p\":\"epc_2021\"}, inplace=True)\n",
    "epc_2050p_2022[\"county\"] = epc_2050p_2022[\"county_fip\"].map(county_fips_dict)\n",
    "# epc_2050p_2022.rename(columns={\"epc_2050p\":\"epc_2022\"}, inplace=True)"
   ]
  },
  {
   "cell_type": "code",
   "execution_count": 8,
   "metadata": {},
   "outputs": [],
   "source": [
    "# create a function to flag share columns with values that are 0 or 1\n",
    "# these columns may highlight areas where the data are not reliable\n",
    "\n",
    "def flag_share_cols(df, share_cols):\n",
    "    \"\"\"\n",
    "    Flags share columns with values that are 0 or 1. These columns may highlight areas where the data are not reliable.\n",
    "\n",
    "    Parameters\n",
    "    -------------------\n",
    "    df (geodataframe):\n",
    "    Geodataframe object.\n",
    "\n",
    "    share_cols (list):\n",
    "    List of columns to flag.\n",
    "\n",
    "    Returns\n",
    "    -------------------\n",
    "    Geodataframe object\n",
    "    \"\"\"\n",
    "    for col in share_cols:\n",
    "        df[f\"{col}_flag\"] = np.where(\n",
    "            (df[col] == 0) | (df[col] == 1), 1, 0\n",
    "        )\n",
    "    return df"
   ]
  },
  {
   "cell_type": "code",
   "execution_count": 9,
   "metadata": {},
   "outputs": [],
   "source": [
    "# flag share columns\n",
    "cols = [\n",
    "    \"pct_poc\",\n",
    "    \"pct_over75\",\n",
    "    \"pct_spfam\",\n",
    "    \"pct_lep\",\n",
    "    \"pct_below2\",\n",
    "    \"pct_disab\",\n",
    "    \"pct_zvhhs\",\n",
    "    \"pct_hus_re\",\n",
    "]\n",
    "epc_2050 = flag_share_cols(epc_2050, cols)\n",
    "epc_2050p_2021 = flag_share_cols(epc_2050p_2021, cols)\n",
    "epc_2050p_2022 = flag_share_cols(epc_2050p_2022, cols)"
   ]
  },
  {
   "cell_type": "code",
   "execution_count": 10,
   "metadata": {},
   "outputs": [],
   "source": [
    "epc_2050.rename(columns={\"geoid\":\"tract_geoid\"}, inplace=True)\n",
    "epc_2050[\"tract_geoid\"] = \"0\" + epc_2050[\"tract_geoid\"]\n",
    "epc_2050.drop(columns=[\"tract\"], inplace=True)"
   ]
  },
  {
   "cell_type": "code",
   "execution_count": 11,
   "metadata": {},
   "outputs": [],
   "source": [
    "# add vintage cols\n",
    "epc_2050[\"vintage\"] = 2018\n",
    "epc_2050p_2021[\"vintage\"] = 2021\n",
    "epc_2050p_2022[\"vintage\"] = 2022\n",
    "\n",
    "# concat epc data\n",
    "epc_concat = pd.concat([epc_2050, epc_2050p_2021, epc_2050p_2022])"
   ]
  },
  {
   "cell_type": "code",
   "execution_count": 12,
   "metadata": {},
   "outputs": [],
   "source": [
    "epc_concat.to_csv(\"Data/epc_comparisons_2018_2021_2022.csv\", index=False)"
   ]
  },
  {
   "cell_type": "code",
   "execution_count": 13,
   "metadata": {},
   "outputs": [
    {
     "data": {
      "text/plain": [
       "0.21426180780037782"
      ]
     },
     "execution_count": 13,
     "metadata": {},
     "output_type": "execute_result"
    }
   ],
   "source": [
    "epc_2050.pct_below2.mean()"
   ]
  },
  {
   "cell_type": "code",
   "execution_count": 14,
   "metadata": {},
   "outputs": [
    {
     "data": {
      "text/plain": [
       "0.18514875331275824"
      ]
     },
     "execution_count": 14,
     "metadata": {},
     "output_type": "execute_result"
    }
   ],
   "source": [
    "epc_2050p_2021.pct_below2.mean()"
   ]
  },
  {
   "cell_type": "code",
   "execution_count": 15,
   "metadata": {},
   "outputs": [
    {
     "data": {
      "text/plain": [
       "0.18"
      ]
     },
     "execution_count": 15,
     "metadata": {},
     "output_type": "execute_result"
    }
   ],
   "source": [
    "epc_2050p_2022.pct_below2.mean().round(2)"
   ]
  },
  {
   "cell_type": "code",
   "execution_count": 16,
   "metadata": {},
   "outputs": [
    {
     "data": {
      "text/plain": [
       "0.065"
      ]
     },
     "execution_count": 16,
     "metadata": {},
     "output_type": "execute_result"
    }
   ],
   "source": [
    ".5 * (epc_2050p_2022.pct_below2.std().round(2))"
   ]
  },
  {
   "cell_type": "markdown",
   "metadata": {},
   "source": [
    "## Summarize EPC Determination"
   ]
  },
  {
   "cell_type": "code",
   "execution_count": 69,
   "metadata": {},
   "outputs": [],
   "source": [
    "def list_check(list1, list2):\n",
    "    \"\"\"Checks if items from list 1 are in list 2. If items from list 1 in list two, return true.\n",
    "\n",
    "    Args:\n",
    "        list1 (list): List of items to check.\n",
    "        list2 (list): List of items to check against.\n",
    "\n",
    "    Returns:\n",
    "        boolean: True if items from list 1 are in list 2. False if not.\n",
    "    \"\"\"\n",
    "    return all(item in list2 for item in list1)"
   ]
  },
  {
   "cell_type": "code",
   "execution_count": 109,
   "metadata": {},
   "outputs": [],
   "source": [
    "def set_temp_determination(x, epc_flag_col):\n",
    "    if x[epc_flag_col] == 1:\n",
    "        return x[x == 1].index.drop(epc_flag_col).tolist()\n",
    "    elif x[x == 1].index.tolist() != []:\n",
    "        return x[x == 1].index.tolist()\n",
    "    else:\n",
    "        return None"
   ]
  },
  {
   "cell_type": "code",
   "execution_count": 117,
   "metadata": {},
   "outputs": [],
   "source": [
    "def set_final_determination(x):\n",
    "    low_income_poc = [\"Low-Income\", \"People of Color\"]\n",
    "\n",
    "    if x != None and list_check(low_income_poc, x):\n",
    "        return low_income_poc\n",
    "    else:\n",
    "        return x"
   ]
  },
  {
   "cell_type": "code",
   "execution_count": 145,
   "metadata": {},
   "outputs": [],
   "source": [
    "## Create a epc determination classification function that returns a class for summary stats\n",
    "\n",
    "def set_determination_class(x):\n",
    "    low_income_poc = [\"Low-Income\", \"People of Color\"]\n",
    "    if x != None:\n",
    "        if list_check(low_income_poc, x):\n",
    "            return \"Low-Income and PoC\"\n",
    "        elif \"Low-Income\" in x and len(x) >=4:\n",
    "            return \"Low-Income and 3 or more other factors\"\n",
    "        else:\n",
    "            return \"Not an EPC\"\n",
    "    else:\n",
    "        return \"Not an EPC\""
   ]
  },
  {
   "cell_type": "code",
   "execution_count": 147,
   "metadata": {},
   "outputs": [],
   "source": [
    "## create a function that indicates the column variable(s) that determined whether a tract was an epc\n",
    "\n",
    "def epc_determination(df, epc_flag_col):\n",
    "    \"\"\"Returns a epc dataframe with a column indicating the variable(s) that determined whether a tract was an epc.\n",
    "\n",
    "    Args:\n",
    "        df (dataframe): Equity Priority Communities dataframe.\n",
    "        epc_flag_col (string): Name of column with epc flag.\n",
    "        out_col (string): Name of output column.\n",
    "    \"\"\"\n",
    "    new_df = df.copy()\n",
    "\n",
    "    ## rename flag columns to be more descriptive\n",
    "    new_df.rename(\n",
    "        {\n",
    "            \"poc_1_2\": \"People of Color\",\n",
    "            \"below2_1_2\": \"Low-Income\",\n",
    "            \"over75_1_2\": \"Seniors 75 Years and Over\",\n",
    "            \"spfam_1_2\": \"Single Parent Family\",\n",
    "            \"lep_1_2\": \"Limited English Proficiency\",\n",
    "            \"disab_1_2\": \"Disability\",\n",
    "            \"hus_re_1_2\": \"Rent Burdened\",\n",
    "            \"zvhh_1_2\": \"Zero-Vehicle Households\",\n",
    "        },\n",
    "        axis=1,\n",
    "        inplace=True,\n",
    "    )\n",
    "\n",
    "    ## create a new temporary column that indicates all the variables that determined whether a tract was an epc\n",
    "    cols = [\n",
    "        \"People of Color\",\n",
    "        \"Low-Income\",\n",
    "        \"Seniors 75 Years and Over\",\n",
    "        \"Single Parent Family\",\n",
    "        \"Limited English Proficiency\",\n",
    "        \"Disability\",\n",
    "        \"Rent Burdened\",\n",
    "        \"Zero-Vehicle Households\",\n",
    "    ]\n",
    "\n",
    "    ## add epc flag column to cols list\n",
    "    cols.append(epc_flag_col)\n",
    "\n",
    "    # new_df[\"temp_determination\"] = new_df[cols].apply(\n",
    "    #     lambda row: row[row == 1].index.drop(epc_flag_col).tolist() if row[epc_flag_col] == 1 else row[row == 1].index.tolist(),\n",
    "    #     axis=1,\n",
    "    # )\n",
    "\n",
    "    new_df[\"temp_determination\"] = new_df[cols].apply(lambda x: set_temp_determination(x, epc_flag_col), axis=1)\n",
    "\n",
    "    ## create a new column that indicates the variable(s) that determined whether a tract was an epc\n",
    "    # create list that will be used to check if temp_determination contains values\n",
    "    low_income_poc = [\"Low-Income\", \"People of Color\"]\n",
    "    new_df[\"epc_determination_list\"] = new_df[\"temp_determination\"].apply(set_final_determination)\n",
    "\n",
    "    ## create human-readable column that indicates the variable(s) that determined whether a tract was an epc\n",
    "    new_df[\"EPC Determination\"] = new_df[\"epc_determination_list\"].apply(\n",
    "        lambda x: \", \".join(x) if x != None else None\n",
    "    )\n",
    "\n",
    "\n",
    "    ## create a column that indicates the classification of the epc determination\n",
    "    new_df[\"EPC Determination Class\"] = new_df[\"epc_determination_list\"].apply(set_determination_class)\n",
    "    \n",
    "    ## drop temp_determination column\n",
    "    new_df.drop(columns=[\"temp_determination\"], inplace=True)\n",
    "\n",
    "    return new_df"
   ]
  },
  {
   "cell_type": "code",
   "execution_count": 179,
   "metadata": {},
   "outputs": [],
   "source": [
    "# set epc determination for 2018 data\n",
    "epc_2018_det = epc_determination(epc_2050, epc_flag_col=\"epc_2050\")\n",
    "\n",
    "# set epc determination for 2021 data\n",
    "epc_2021_det = epc_determination(epc_2050p_2021, epc_flag_col=\"epc_2050p\")\n",
    "\n",
    "# set epc determination for 2022 data\n",
    "epc_2022_det = epc_determination(epc_2050p_2022, epc_flag_col=\"epc_2050p\")"
   ]
  },
  {
   "cell_type": "code",
   "execution_count": 162,
   "metadata": {},
   "outputs": [],
   "source": [
    "# cols = [\n",
    "#     \"People of Color\",\n",
    "#     \"Low-Income\",\n",
    "#     \"Seniors 75 Years and Over\",\n",
    "#     \"Single Parent Family\",\n",
    "#     \"Limited English Proficiency\",\n",
    "#     \"Disability\",\n",
    "#     \"Rent Burdened\",\n",
    "#     \"Zero-Vehicle Households\",\n",
    "#     \"EPC Determination\",\n",
    "#     \"EPC Determination Class\",\n",
    "# ]\n",
    "# epc_2021_det.query(\"epc_2050p == 0\")[cols]"
   ]
  },
  {
   "cell_type": "code",
   "execution_count": 175,
   "metadata": {},
   "outputs": [],
   "source": [
    "## aggregate epc determination \n",
    "epc_2021_agg = epc_2021_det.groupby([\"EPC Determination Class\"]).size().reset_index(name=\"Summary Count\").sort_values(by=[\"EPC Determination Class\"])\n",
    "\n",
    "## aggregate epc determination\n",
    "epc_2022_agg = epc_2022_det.groupby([\"EPC Determination Class\"]).size().reset_index(name=\"Summary Count\").sort_values(by=[\"EPC Determination Class\"])\n",
    "\n",
    "epc_agg_merge = pd.merge(\n",
    "    epc_2021_agg,\n",
    "    epc_2022_agg,\n",
    "    on=\"EPC Determination Class\",\n",
    "    suffixes=(\" 2021\", \" 2022\"),\n",
    ")"
   ]
  },
  {
   "cell_type": "code",
   "execution_count": 176,
   "metadata": {},
   "outputs": [],
   "source": [
    "## aggregate epc determination by county\n",
    "epc_2021_agg_cnty = (\n",
    "    epc_2021_det.groupby([\"county\", \"EPC Determination Class\"])\n",
    "    .size()\n",
    "    .reset_index(name=\"Summary Count\")\n",
    "    .sort_values(by=[\"county\", \"EPC Determination Class\"])\n",
    ")\n",
    "\n",
    "## aggregate epc determination by county\n",
    "epc_2022_agg_cnty = (\n",
    "    epc_2022_det.groupby([\"county\", \"EPC Determination Class\"])\n",
    "    .size()\n",
    "    .reset_index(name=\"Summary Count\")\n",
    "    .sort_values(by=[\"county\", \"EPC Determination Class\"])\n",
    ")\n",
    "\n",
    "epc_agg_merge_cnty = pd.merge(\n",
    "    epc_2021_agg_cnty,\n",
    "    epc_2022_agg_cnty,\n",
    "    on=[\"county\",\"EPC Determination Class\"],\n",
    "    suffixes=(\" 2021\", \" 2022\"),\n",
    ")"
   ]
  },
  {
   "cell_type": "code",
   "execution_count": 177,
   "metadata": {},
   "outputs": [
    {
     "data": {
      "text/html": [
       "<div>\n",
       "<style scoped>\n",
       "    .dataframe tbody tr th:only-of-type {\n",
       "        vertical-align: middle;\n",
       "    }\n",
       "\n",
       "    .dataframe tbody tr th {\n",
       "        vertical-align: top;\n",
       "    }\n",
       "\n",
       "    .dataframe thead th {\n",
       "        text-align: right;\n",
       "    }\n",
       "</style>\n",
       "<table border=\"1\" class=\"dataframe\">\n",
       "  <thead>\n",
       "    <tr style=\"text-align: right;\">\n",
       "      <th></th>\n",
       "      <th>EPC Determination Class</th>\n",
       "      <th>Summary Count 2021</th>\n",
       "      <th>Summary Count 2022</th>\n",
       "    </tr>\n",
       "  </thead>\n",
       "  <tbody>\n",
       "    <tr>\n",
       "      <th>0</th>\n",
       "      <td>Low-Income and 3 or more other factors</td>\n",
       "      <td>71</td>\n",
       "      <td>72</td>\n",
       "    </tr>\n",
       "    <tr>\n",
       "      <th>1</th>\n",
       "      <td>Low-Income and PoC</td>\n",
       "      <td>242</td>\n",
       "      <td>281</td>\n",
       "    </tr>\n",
       "    <tr>\n",
       "      <th>2</th>\n",
       "      <td>Not an EPC</td>\n",
       "      <td>1459</td>\n",
       "      <td>1419</td>\n",
       "    </tr>\n",
       "  </tbody>\n",
       "</table>\n",
       "</div>"
      ],
      "text/plain": [
       "                  EPC Determination Class  Summary Count 2021  \\\n",
       "0  Low-Income and 3 or more other factors                  71   \n",
       "1                      Low-Income and PoC                 242   \n",
       "2                              Not an EPC                1459   \n",
       "\n",
       "   Summary Count 2022  \n",
       "0                  72  \n",
       "1                 281  \n",
       "2                1419  "
      ]
     },
     "execution_count": 177,
     "metadata": {},
     "output_type": "execute_result"
    }
   ],
   "source": [
    "epc_agg_merge"
   ]
  },
  {
   "cell_type": "code",
   "execution_count": 178,
   "metadata": {},
   "outputs": [
    {
     "data": {
      "text/html": [
       "<div>\n",
       "<style scoped>\n",
       "    .dataframe tbody tr th:only-of-type {\n",
       "        vertical-align: middle;\n",
       "    }\n",
       "\n",
       "    .dataframe tbody tr th {\n",
       "        vertical-align: top;\n",
       "    }\n",
       "\n",
       "    .dataframe thead th {\n",
       "        text-align: right;\n",
       "    }\n",
       "</style>\n",
       "<table border=\"1\" class=\"dataframe\">\n",
       "  <thead>\n",
       "    <tr style=\"text-align: right;\">\n",
       "      <th></th>\n",
       "      <th>county</th>\n",
       "      <th>EPC Determination Class</th>\n",
       "      <th>Summary Count 2021</th>\n",
       "      <th>Summary Count 2022</th>\n",
       "    </tr>\n",
       "  </thead>\n",
       "  <tbody>\n",
       "    <tr>\n",
       "      <th>0</th>\n",
       "      <td>Alameda</td>\n",
       "      <td>Low-Income and 3 or more other factors</td>\n",
       "      <td>18</td>\n",
       "      <td>13</td>\n",
       "    </tr>\n",
       "    <tr>\n",
       "      <th>1</th>\n",
       "      <td>Alameda</td>\n",
       "      <td>Low-Income and PoC</td>\n",
       "      <td>75</td>\n",
       "      <td>88</td>\n",
       "    </tr>\n",
       "    <tr>\n",
       "      <th>2</th>\n",
       "      <td>Alameda</td>\n",
       "      <td>Not an EPC</td>\n",
       "      <td>286</td>\n",
       "      <td>278</td>\n",
       "    </tr>\n",
       "    <tr>\n",
       "      <th>3</th>\n",
       "      <td>Contra Costa</td>\n",
       "      <td>Low-Income and 3 or more other factors</td>\n",
       "      <td>6</td>\n",
       "      <td>4</td>\n",
       "    </tr>\n",
       "    <tr>\n",
       "      <th>4</th>\n",
       "      <td>Contra Costa</td>\n",
       "      <td>Low-Income and PoC</td>\n",
       "      <td>44</td>\n",
       "      <td>46</td>\n",
       "    </tr>\n",
       "    <tr>\n",
       "      <th>5</th>\n",
       "      <td>Contra Costa</td>\n",
       "      <td>Not an EPC</td>\n",
       "      <td>192</td>\n",
       "      <td>192</td>\n",
       "    </tr>\n",
       "    <tr>\n",
       "      <th>6</th>\n",
       "      <td>Marin</td>\n",
       "      <td>Low-Income and 3 or more other factors</td>\n",
       "      <td>1</td>\n",
       "      <td>4</td>\n",
       "    </tr>\n",
       "    <tr>\n",
       "      <th>7</th>\n",
       "      <td>Marin</td>\n",
       "      <td>Low-Income and PoC</td>\n",
       "      <td>4</td>\n",
       "      <td>3</td>\n",
       "    </tr>\n",
       "    <tr>\n",
       "      <th>8</th>\n",
       "      <td>Marin</td>\n",
       "      <td>Not an EPC</td>\n",
       "      <td>58</td>\n",
       "      <td>56</td>\n",
       "    </tr>\n",
       "    <tr>\n",
       "      <th>9</th>\n",
       "      <td>Napa</td>\n",
       "      <td>Low-Income and 3 or more other factors</td>\n",
       "      <td>4</td>\n",
       "      <td>4</td>\n",
       "    </tr>\n",
       "    <tr>\n",
       "      <th>10</th>\n",
       "      <td>Napa</td>\n",
       "      <td>Not an EPC</td>\n",
       "      <td>36</td>\n",
       "      <td>35</td>\n",
       "    </tr>\n",
       "    <tr>\n",
       "      <th>11</th>\n",
       "      <td>San Francisco</td>\n",
       "      <td>Low-Income and 3 or more other factors</td>\n",
       "      <td>25</td>\n",
       "      <td>28</td>\n",
       "    </tr>\n",
       "    <tr>\n",
       "      <th>12</th>\n",
       "      <td>San Francisco</td>\n",
       "      <td>Low-Income and PoC</td>\n",
       "      <td>31</td>\n",
       "      <td>32</td>\n",
       "    </tr>\n",
       "    <tr>\n",
       "      <th>13</th>\n",
       "      <td>San Francisco</td>\n",
       "      <td>Not an EPC</td>\n",
       "      <td>188</td>\n",
       "      <td>184</td>\n",
       "    </tr>\n",
       "    <tr>\n",
       "      <th>14</th>\n",
       "      <td>San Mateo</td>\n",
       "      <td>Low-Income and 3 or more other factors</td>\n",
       "      <td>1</td>\n",
       "      <td>1</td>\n",
       "    </tr>\n",
       "    <tr>\n",
       "      <th>15</th>\n",
       "      <td>San Mateo</td>\n",
       "      <td>Low-Income and PoC</td>\n",
       "      <td>15</td>\n",
       "      <td>18</td>\n",
       "    </tr>\n",
       "    <tr>\n",
       "      <th>16</th>\n",
       "      <td>San Mateo</td>\n",
       "      <td>Not an EPC</td>\n",
       "      <td>158</td>\n",
       "      <td>155</td>\n",
       "    </tr>\n",
       "    <tr>\n",
       "      <th>17</th>\n",
       "      <td>Santa Clara</td>\n",
       "      <td>Low-Income and 3 or more other factors</td>\n",
       "      <td>3</td>\n",
       "      <td>5</td>\n",
       "    </tr>\n",
       "    <tr>\n",
       "      <th>18</th>\n",
       "      <td>Santa Clara</td>\n",
       "      <td>Low-Income and PoC</td>\n",
       "      <td>51</td>\n",
       "      <td>64</td>\n",
       "    </tr>\n",
       "    <tr>\n",
       "      <th>19</th>\n",
       "      <td>Santa Clara</td>\n",
       "      <td>Not an EPC</td>\n",
       "      <td>354</td>\n",
       "      <td>339</td>\n",
       "    </tr>\n",
       "    <tr>\n",
       "      <th>20</th>\n",
       "      <td>Solano</td>\n",
       "      <td>Low-Income and 3 or more other factors</td>\n",
       "      <td>3</td>\n",
       "      <td>2</td>\n",
       "    </tr>\n",
       "    <tr>\n",
       "      <th>21</th>\n",
       "      <td>Solano</td>\n",
       "      <td>Low-Income and PoC</td>\n",
       "      <td>19</td>\n",
       "      <td>25</td>\n",
       "    </tr>\n",
       "    <tr>\n",
       "      <th>22</th>\n",
       "      <td>Solano</td>\n",
       "      <td>Not an EPC</td>\n",
       "      <td>78</td>\n",
       "      <td>73</td>\n",
       "    </tr>\n",
       "    <tr>\n",
       "      <th>23</th>\n",
       "      <td>Sonoma</td>\n",
       "      <td>Low-Income and 3 or more other factors</td>\n",
       "      <td>10</td>\n",
       "      <td>11</td>\n",
       "    </tr>\n",
       "    <tr>\n",
       "      <th>24</th>\n",
       "      <td>Sonoma</td>\n",
       "      <td>Low-Income and PoC</td>\n",
       "      <td>3</td>\n",
       "      <td>4</td>\n",
       "    </tr>\n",
       "    <tr>\n",
       "      <th>25</th>\n",
       "      <td>Sonoma</td>\n",
       "      <td>Not an EPC</td>\n",
       "      <td>109</td>\n",
       "      <td>107</td>\n",
       "    </tr>\n",
       "  </tbody>\n",
       "</table>\n",
       "</div>"
      ],
      "text/plain": [
       "           county                 EPC Determination Class  Summary Count 2021  \\\n",
       "0         Alameda  Low-Income and 3 or more other factors                  18   \n",
       "1         Alameda                      Low-Income and PoC                  75   \n",
       "2         Alameda                              Not an EPC                 286   \n",
       "3    Contra Costa  Low-Income and 3 or more other factors                   6   \n",
       "4    Contra Costa                      Low-Income and PoC                  44   \n",
       "5    Contra Costa                              Not an EPC                 192   \n",
       "6           Marin  Low-Income and 3 or more other factors                   1   \n",
       "7           Marin                      Low-Income and PoC                   4   \n",
       "8           Marin                              Not an EPC                  58   \n",
       "9            Napa  Low-Income and 3 or more other factors                   4   \n",
       "10           Napa                              Not an EPC                  36   \n",
       "11  San Francisco  Low-Income and 3 or more other factors                  25   \n",
       "12  San Francisco                      Low-Income and PoC                  31   \n",
       "13  San Francisco                              Not an EPC                 188   \n",
       "14      San Mateo  Low-Income and 3 or more other factors                   1   \n",
       "15      San Mateo                      Low-Income and PoC                  15   \n",
       "16      San Mateo                              Not an EPC                 158   \n",
       "17    Santa Clara  Low-Income and 3 or more other factors                   3   \n",
       "18    Santa Clara                      Low-Income and PoC                  51   \n",
       "19    Santa Clara                              Not an EPC                 354   \n",
       "20         Solano  Low-Income and 3 or more other factors                   3   \n",
       "21         Solano                      Low-Income and PoC                  19   \n",
       "22         Solano                              Not an EPC                  78   \n",
       "23         Sonoma  Low-Income and 3 or more other factors                  10   \n",
       "24         Sonoma                      Low-Income and PoC                   3   \n",
       "25         Sonoma                              Not an EPC                 109   \n",
       "\n",
       "    Summary Count 2022  \n",
       "0                   13  \n",
       "1                   88  \n",
       "2                  278  \n",
       "3                    4  \n",
       "4                   46  \n",
       "5                  192  \n",
       "6                    4  \n",
       "7                    3  \n",
       "8                   56  \n",
       "9                    4  \n",
       "10                  35  \n",
       "11                  28  \n",
       "12                  32  \n",
       "13                 184  \n",
       "14                   1  \n",
       "15                  18  \n",
       "16                 155  \n",
       "17                   5  \n",
       "18                  64  \n",
       "19                 339  \n",
       "20                   2  \n",
       "21                  25  \n",
       "22                  73  \n",
       "23                  11  \n",
       "24                   4  \n",
       "25                 107  "
      ]
     },
     "execution_count": 178,
     "metadata": {},
     "output_type": "execute_result"
    }
   ],
   "source": [
    "epc_agg_merge_cnty"
   ]
  },
  {
   "cell_type": "markdown",
   "metadata": {},
   "source": [
    "## Evaluate the how EPCs changed between vintages & indicate what changed"
   ]
  },
  {
   "cell_type": "code",
   "execution_count": 214,
   "metadata": {},
   "outputs": [],
   "source": [
    "def define_epc_change(previous_epc_flag, current_epc_flag):\n",
    "    if current_epc_flag == 1 and previous_epc_flag == 1:\n",
    "        return \"EPCs in both\"\n",
    "    elif current_epc_flag == 1 and previous_epc_flag == 0:\n",
    "        return \"New EPC\"\n",
    "    elif current_epc_flag == 0 and previous_epc_flag == 1:\n",
    "        return \"Former EPC\"\n",
    "    else:\n",
    "        return \"EPCs in neither\""
   ]
  },
  {
   "cell_type": "code",
   "execution_count": 252,
   "metadata": {},
   "outputs": [],
   "source": [
    "# merge 2018 and 2021 epc data\n",
    "epc_2018_2021 = pd.merge(\n",
    "    epc_2018_det[[\"tract_geoid\", \"epc_2050\", \"epc_determination_list\"]],\n",
    "    epc_2021_det[[\"tract_geoid\", \"epc_2050p\", \"epc_determination_list\"]],\n",
    "    on=\"tract_geoid\",\n",
    "    how=\"outer\",\n",
    "    suffixes=(\"_2018\", \"_2021\"),\n",
    ")"
   ]
  },
  {
   "cell_type": "code",
   "execution_count": 253,
   "metadata": {},
   "outputs": [],
   "source": [
    "# merge 2022 data\n",
    "epc_2018_2021_2022 = pd.merge(\n",
    "    epc_2018_2021,\n",
    "    epc_2022_det[[\"tract_geoid\", \"epc_2050p\", \"epc_determination_list\"]],\n",
    "    on=\"tract_geoid\",\n",
    "    how=\"outer\",\n",
    "    suffixes=(\"_2021\", \"_2022\"),\n",
    ")\n",
    "\n",
    "epc_2018_2021_2022.rename(columns={\"epc_determination_list\":\"epc_determination_list_2022\"}, inplace=True)"
   ]
  },
  {
   "cell_type": "code",
   "execution_count": 254,
   "metadata": {},
   "outputs": [],
   "source": [
    "# calculate change in epc from 2018 to 2022\n",
    "# calculate change in epc from 2021 to 2022\n",
    "\n",
    "epc_2018_2021_2022[\"epc_change_2018_2022\"] = epc_2018_2021_2022.apply(\n",
    "    lambda x: define_epc_change(x[\"epc_2050\"], x[\"epc_2050p_2022\"]), axis=1\n",
    ")\n",
    "epc_2018_2021_2022[\"epc_change_2021_2022\"] = epc_2018_2021_2022.apply(\n",
    "    lambda x: define_epc_change(x[\"epc_2050p_2021\"], x[\"epc_2050p_2022\"]), axis=1\n",
    ")"
   ]
  },
  {
   "cell_type": "code",
   "execution_count": 255,
   "metadata": {},
   "outputs": [],
   "source": [
    "## compare two lists and return the items that are different between the two lists\n",
    "def list_compare(list1, list2):\n",
    "    \"\"\"Compares two lists and returns the items that are different between the two lists.\n",
    "\n",
    "    Args:\n",
    "        list1 (list): List of items to check.\n",
    "        list2 (list): List of items to check against.\n",
    "\n",
    "    Returns:\n",
    "        list: List of items that are different between the two lists.\n",
    "    \"\"\"\n",
    "    return \", \".join([item for item in list1 if item not in list2])"
   ]
  },
  {
   "cell_type": "code",
   "execution_count": 256,
   "metadata": {},
   "outputs": [],
   "source": [
    "def epc_determination_change(previous_epc_determination, current_epc_determination, epc_change):\n",
    "\n",
    "    if previous_epc_determination != None and current_epc_determination != None:\n",
    "        if epc_change == \"Former EPC\":\n",
    "            return \"Following factors no longer exceed thresholds: \" + list_compare(previous_epc_determination, current_epc_determination)\n",
    "        elif epc_change == \"New EPC\":\n",
    "            return (\"Following factors now exceed thresholds: \" \n",
    "                    + list_compare(current_epc_determination, previous_epc_determination) + \". \" \n",
    "                    + \"Factors that exceed thresholds include \" + \", \".join(current_epc_determination))\n",
    "        elif epc_change == \"EPCs in both\":\n",
    "            return \"Both sets of factors exceed thresholds\"\n",
    "        else:\n",
    "            return \"Neither set of factors exceed thresholds\""
   ]
  },
  {
   "cell_type": "code",
   "execution_count": 257,
   "metadata": {},
   "outputs": [],
   "source": [
    "# calculate change in epc determination from 2018 to 2022\n",
    "epc_2018_2021_2022[\"epc_determination_change_2018_2022\"] = epc_2018_2021_2022.apply(\n",
    "    lambda x: epc_determination_change(\n",
    "        x[\"epc_determination_list_2018\"],\n",
    "        x[\"epc_determination_list_2022\"],\n",
    "        x[\"epc_change_2018_2022\"],\n",
    "    ),\n",
    "    axis=1,\n",
    ")\n",
    "\n",
    "# calculate change in epc determination from 2021 to 2022\n",
    "epc_2018_2021_2022[\"epc_determination_change_2021_2022\"] = epc_2018_2021_2022.apply(\n",
    "    lambda x: epc_determination_change(\n",
    "        x[\"epc_determination_list_2021\"],\n",
    "        x[\"epc_determination_list_2022\"],\n",
    "        x[\"epc_change_2021_2022\"],\n",
    "    ),\n",
    "    axis=1,\n",
    ")"
   ]
  },
  {
   "cell_type": "code",
   "execution_count": 258,
   "metadata": {},
   "outputs": [],
   "source": [
    "analysis_tracs = [\n",
    "    \"06075980600\",\n",
    "    \"06075061000\",\n",
    "    \"06075033203\",\n",
    "    \"06075017700\",\n",
    "    \"06081602300\",\n",
    "    \"06081611700\",\n",
    "    \"06085513000\",\n",
    "    \"06085505202\",\n",
    "    \"06001422000\",\n",
    "    \"06013303207\", \n",
    "    \"06013372000\",\n",
    "    \"06095252702\",\n",
    "    \"06095253402\",\n",
    "    \"06055201005\",\n",
    "    \"06055202000\",\n",
    "    \"06041104102\",\n",
    "    \"06041129000\",\n",
    "]\n",
    "\n",
    "# add research area column set to non if no dict match\n",
    "research_area_dict = {\n",
    "    \"06075980600\": \"Hunters Point\",\n",
    "    \"06075061000\": \"Candlestick Point\",\n",
    "    \"06075033203\": \"Parkmerced\",\n",
    "    \"06075017700\": \"East Mission\",\n",
    "    \"06081602300\": \"South SF\",\n",
    "    \"06081611700\": \"Menlo Park\",\n",
    "    \"06085513000\": \"Stanford\",\n",
    "    \"06085505202\": \"Santa Clara\",\n",
    "    \"06001422000\": \"West Berkeley\",\n",
    "    \"06013303207\": \"Antioch/Brentwood\",\n",
    "    \"06013372000\": \"North Richmond\",\n",
    "    \"06095252702\": \"Suisun\",\n",
    "    \"06095253402\": \"Dixon\",\n",
    "    \"06055201005\": \"American Canyon\",\n",
    "    \"06055202000\": \"Calistoga\",\n",
    "    \"06041104102\": \"Novato\",\n",
    "    \"06041129000\": \"Marin City\",\n",
    "}\n",
    "\n",
    "epc_2018_2021_2022[\"research_area\"] = epc_2018_2021_2022[\"tract_geoid\"].map(research_area_dict)"
   ]
  },
  {
   "cell_type": "code",
   "execution_count": 259,
   "metadata": {},
   "outputs": [],
   "source": [
    "out_cols = [\n",
    "    \"tract_geoid\",\n",
    "    \"research_area\",\n",
    "    \"epc_2050\",\n",
    "    \"epc_2050p_2021\",\n",
    "    \"epc_2050p_2022\",\n",
    "    \"epc_change_2018_2022\",\n",
    "    \"epc_change_2021_2022\",\n",
    "    \"epc_determination_change_2018_2022\",\n",
    "    \"epc_determination_change_2021_2022\",\n",
    "]\n",
    "epc_2018_2021_2022.query(\"tract_geoid in @analysis_tracs\")[out_cols].to_csv(\n",
    "    \"Data/epc_tract_research_areas_2018_2021_2022.csv\", index=False\n",
    ")"
   ]
  },
  {
   "cell_type": "markdown",
   "metadata": {},
   "source": [
    "## Merge 2021 and 2022 data"
   ]
  },
  {
   "cell_type": "code",
   "execution_count": 248,
   "metadata": {},
   "outputs": [],
   "source": [
    "epc_merge = pd.merge(epc_2050p_2021, epc_2050p_2022, on=\"tract_geoid\", suffixes=(\"_2021\", \"_2022\"))"
   ]
  },
  {
   "cell_type": "code",
   "execution_count": 249,
   "metadata": {},
   "outputs": [],
   "source": [
    "epc_merge[\"epc_change\"] = epc_merge[\"epc_2050p_2022\"] - epc_merge[\"epc_2050p_2021\"]"
   ]
  },
  {
   "cell_type": "code",
   "execution_count": 250,
   "metadata": {},
   "outputs": [
    {
     "data": {
      "text/plain": [
       "epc_change\n",
       " 0    1668\n",
       " 1      72\n",
       "-1      32\n",
       "Name: count, dtype: int64"
      ]
     },
     "execution_count": 250,
     "metadata": {},
     "output_type": "execute_result"
    }
   ],
   "source": [
    "epc_merge[\"epc_change\"].value_counts()"
   ]
  },
  {
   "cell_type": "code",
   "execution_count": null,
   "metadata": {},
   "outputs": [],
   "source": [
    "epc_merge[\"epc_change_class\"] = np.where(epc_merge[\"epc_change\"] == 0, \"no_change\", np.where(epc_merge[\"epc_change\"] > 0, \"gain\", \"loss\"))"
   ]
  },
  {
   "cell_type": "code",
   "execution_count": null,
   "metadata": {},
   "outputs": [],
   "source": [
    "# count the number of 0 values for each factor in 2021 and 2022\n",
    "# by county\n",
    "review_cols = [\n",
    "    \"pct_poc_2021\",\n",
    "    \"pct_over75_2021\",\n",
    "    \"pct_spfam_2021\",\n",
    "    \"pct_lep_2021\",\n",
    "    \"pct_below2_2021\",\n",
    "    \"pct_disab_2021\",\n",
    "    \"pct_zvhhs_2021\",\n",
    "    \"pct_hus_re_2021\",\n",
    "    \"pct_poc_2022\",\n",
    "    \"pct_over75_2022\",\n",
    "    \"pct_spfam_2022\",\n",
    "    \"pct_lep_2022\",\n",
    "    \"pct_below2_2022\",\n",
    "    \"pct_disab_2022\",\n",
    "    \"pct_hus_re_2022\",\n",
    "    \"pct_zvhhs_2022\",\n",
    "]\n",
    "epc_merge.query(\"epc_2050p_2021 == 1 or epc_2050p_2022 == 1\")[review_cols][\n",
    "    epc_merge[review_cols].isin([0, 1]).any(axis=1)\n",
    "]"
   ]
  },
  {
   "cell_type": "code",
   "execution_count": null,
   "metadata": {},
   "outputs": [],
   "source": [
    "analysis_cols = [\n",
    "    \"tract_geoid\",\n",
    "    \"county_fip_2021\",\n",
    "    \"tot_pop_poc_2021\",\n",
    "    \"tot_pop_se_2021\",\n",
    "    \"tot_pop_po_2021\",\n",
    "    \"tot_pop_ci_2021\",\n",
    "    \"tot_hh_2021\",\n",
    "    \"pop_zvhhs_2021\",\n",
    "    \"tot_fam_2021\",\n",
    "    \"tot_pop_ov_2021\",\n",
    "    \"pop_hus_re_2021\",\n",
    "    \"pop_poc_2021\",\n",
    "    \"pop_over75_2021\",\n",
    "    \"pop_spfam_2021\",\n",
    "    \"pop_lep_2021\",\n",
    "    \"pop_below2_2021\",\n",
    "    \"pop_disabi_2021\",\n",
    "    \"tot_pop_poc_2022\",\n",
    "    \"tot_pop_se_2022\",\n",
    "    \"tot_pop_po_2022\",\n",
    "    \"tot_pop_ci_2022\",\n",
    "    \"tot_pop_ov_2022\",\n",
    "    \"tot_hh_2022\",\n",
    "    \"tot_fam_2022\",\n",
    "    \"pop_poc_2022\",\n",
    "    \"pop_over75_2022\",\n",
    "    \"pop_spfam_2022\",\n",
    "    \"pop_lep_2022\",\n",
    "    \"pop_below2_2022\",\n",
    "    \"pop_disabi_2022\",\n",
    "    \"pop_hus_re_2022\",\n",
    "    \"pop_zvhhs_2022\",\n",
    "    \"pct_poc_2022\",\n",
    "]"
   ]
  },
  {
   "cell_type": "code",
   "execution_count": null,
   "metadata": {},
   "outputs": [],
   "source": [
    "rev_cols = [\n",
    "    \"tract_geoid\",\n",
    "    \"tot_pop_po_2021\",\n",
    "    \"tot_pop_po_2022\",\n",
    "    \"pop_below2_2021\",\n",
    "    \"pop_below2_2022\",\n",
    "    \"pct_below2_2021\",\n",
    "    \"pct_below2_2022\",\n",
    "    \"epc_change_class\",\n",
    "]\n",
    "# epc_merge.query(\"county_fip_2021 == 41 and (below2_1_2_2021 == 1 or below2_1_2_2022 == 1)\").groupby([\"epc_change_class\"])[rev_cols].mean()"
   ]
  },
  {
   "cell_type": "code",
   "execution_count": null,
   "metadata": {},
   "outputs": [],
   "source": [
    "epc_merge.query(\"county_fip_2021 == 41 and (below2_1_2_2021 == 1 or below2_1_2_2022 == 1)\")[rev_cols]"
   ]
  },
  {
   "cell_type": "code",
   "execution_count": null,
   "metadata": {},
   "outputs": [],
   "source": [
    "out_list = epc_merge.columns.to_list()"
   ]
  },
  {
   "cell_type": "code",
   "execution_count": null,
   "metadata": {},
   "outputs": [],
   "source": [
    "# remove geometry columns from list\n",
    "for item in [\"geometry_2021\", \"geometry_2022\"]:\n",
    "    out_list.remove(item)"
   ]
  },
  {
   "cell_type": "code",
   "execution_count": null,
   "metadata": {},
   "outputs": [],
   "source": [
    "epc_merge[out_list].to_csv(\"Data/epc_2050p_2021_2022_wide.csv\")"
   ]
  }
 ],
 "metadata": {
  "kernelspec": {
   "display_name": "geo_env",
   "language": "python",
   "name": "python3"
  },
  "language_info": {
   "codemirror_mode": {
    "name": "ipython",
    "version": 3
   },
   "file_extension": ".py",
   "mimetype": "text/x-python",
   "name": "python",
   "nbconvert_exporter": "python",
   "pygments_lexer": "ipython3",
   "version": "3.11.7"
  }
 },
 "nbformat": 4,
 "nbformat_minor": 2
}
