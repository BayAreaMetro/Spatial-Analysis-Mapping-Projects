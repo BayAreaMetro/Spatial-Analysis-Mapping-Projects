{
 "cells": [
  {
   "cell_type": "code",
   "execution_count": 3,
   "metadata": {},
   "outputs": [
    {
     "data": {
      "text/plain": [
       "True"
      ]
     },
     "execution_count": 3,
     "metadata": {},
     "output_type": "execute_result"
    }
   ],
   "source": [
    "import os\n",
    "import pandas as pd\n",
    "import geopandas as gpd\n",
    "from arcgis import GIS\n",
    "from mtcpy.agol import pull_geotable_agol\n",
    "from dotenv import load_dotenv\n",
    "\n",
    "load_dotenv()"
   ]
  },
  {
   "cell_type": "code",
   "execution_count": 5,
   "metadata": {},
   "outputs": [],
   "source": [
    "gis = GIS(\n",
    "    url=\"https://mtc.maps.arcgis.com/home\",\n",
    "    username=os.getenv(\"ARCGIS_USER\"),\n",
    "    password=os.getenv(\"ARCGIS_PASSWORD\"),\n",
    ")"
   ]
  },
  {
   "cell_type": "code",
   "execution_count": 6,
   "metadata": {},
   "outputs": [
    {
     "name": "stdout",
     "output_type": "stream",
     "text": [
      "Breaking feature service layer IDs into 8 chunks\n"
     ]
    }
   ],
   "source": [
    "epc_2050_gdf = pull_geotable_agol(\n",
    "    base_url=\"https://services3.arcgis.com/i2dkYWmb4wHvYPda/arcgis/rest/services/communities_of_concern_2020_acs2018/FeatureServer/0\",\n",
    "    client=gis,\n",
    "    reproject_to_analysis_crs=False,\n",
    ")"
   ]
  },
  {
   "cell_type": "code",
   "execution_count": 7,
   "metadata": {},
   "outputs": [
    {
     "name": "stdout",
     "output_type": "stream",
     "text": [
      "Breaking feature service layer IDs into 8 chunks\n"
     ]
    }
   ],
   "source": [
    "epc_2050p_gdf = pull_geotable_agol(\n",
    "    base_url=\"https://services3.arcgis.com/i2dkYWmb4wHvYPda/arcgis/rest/services/draft_equity_priority_communities_pba2050plus_acs2022a/FeatureServer/0\",\n",
    "    client=gis,\n",
    "    reproject_to_analysis_crs=False,\n",
    ")"
   ]
  },
  {
   "cell_type": "code",
   "execution_count": 11,
   "metadata": {},
   "outputs": [],
   "source": [
    "epc_2050_gdf.rename(columns={\"geoid\": \"tract_geoid\"}, inplace=True)"
   ]
  },
  {
   "cell_type": "code",
   "execution_count": 20,
   "metadata": {},
   "outputs": [],
   "source": [
    "epc_merged_df = pd.merge(\n",
    "    epc_2050_gdf[[\"tract_geoid\", \"tot_pop\", \"epc_2050\"]],\n",
    "    epc_2050p_gdf[[\"tract_geoid\", \"tot_pop_poc\", \"epc_2050p\"]],\n",
    "    on=\"tract_geoid\",\n",
    "    how=\"outer\",\n",
    "    indicator=True,\n",
    ")"
   ]
  },
  {
   "cell_type": "code",
   "execution_count": 28,
   "metadata": {},
   "outputs": [
    {
     "data": {
      "text/plain": [
       "7685888"
      ]
     },
     "execution_count": 28,
     "metadata": {},
     "output_type": "execute_result"
    }
   ],
   "source": [
    "# get 2022 regional population\n",
    "epc_2050p_gdf['tot_pop_poc'].sum()"
   ]
  },
  {
   "cell_type": "code",
   "execution_count": 24,
   "metadata": {},
   "outputs": [
    {
     "data": {
      "text/html": [
       "<div>\n",
       "<style scoped>\n",
       "    .dataframe tbody tr th:only-of-type {\n",
       "        vertical-align: middle;\n",
       "    }\n",
       "\n",
       "    .dataframe tbody tr th {\n",
       "        vertical-align: top;\n",
       "    }\n",
       "\n",
       "    .dataframe thead th {\n",
       "        text-align: right;\n",
       "    }\n",
       "</style>\n",
       "<table border=\"1\" class=\"dataframe\">\n",
       "  <thead>\n",
       "    <tr style=\"text-align: right;\">\n",
       "      <th></th>\n",
       "      <th>tot_pop</th>\n",
       "      <th>tot_pop_poc</th>\n",
       "    </tr>\n",
       "    <tr>\n",
       "      <th>_merge</th>\n",
       "      <th></th>\n",
       "      <th></th>\n",
       "    </tr>\n",
       "  </thead>\n",
       "  <tbody>\n",
       "    <tr>\n",
       "      <th>left_only</th>\n",
       "      <td>308201.0</td>\n",
       "      <td>0.0</td>\n",
       "    </tr>\n",
       "    <tr>\n",
       "      <th>right_only</th>\n",
       "      <td>0.0</td>\n",
       "      <td>264229.0</td>\n",
       "    </tr>\n",
       "    <tr>\n",
       "      <th>both</th>\n",
       "      <td>1565218.0</td>\n",
       "      <td>1561909.0</td>\n",
       "    </tr>\n",
       "  </tbody>\n",
       "</table>\n",
       "</div>"
      ],
      "text/plain": [
       "              tot_pop  tot_pop_poc\n",
       "_merge                            \n",
       "left_only    308201.0          0.0\n",
       "right_only        0.0     264229.0\n",
       "both        1565218.0    1561909.0"
      ]
     },
     "execution_count": 24,
     "metadata": {},
     "output_type": "execute_result"
    }
   ],
   "source": [
    "epc_only = epc_merged_df.query(\"epc_2050 == 1 or epc_2050p == 1\")\n",
    "epc_only.groupby(\"_merge\", observed=False).aggregate(\n",
    "    {\"tot_pop\": \"sum\", \"tot_pop_poc\": \"sum\"}\n",
    ")"
   ]
  },
  {
   "cell_type": "code",
   "execution_count": 27,
   "metadata": {},
   "outputs": [
    {
     "data": {
      "text/plain": [
       "2134339.0"
      ]
     },
     "execution_count": 27,
     "metadata": {},
     "output_type": "execute_result"
    }
   ],
   "source": [
    "pop_2050 = epc_only.query(\"_merge == 'left_only'\")[\"tot_pop\"].sum()\n",
    "pop_2050p = epc_only.query(\"_merge.isin(['right_only', 'both'])\")[\"tot_pop_poc\"].sum()\n",
    "\n",
    "total_pop = pop_2050 + pop_2050p\n",
    "total_pop"
   ]
  },
  {
   "cell_type": "code",
   "execution_count": null,
   "metadata": {},
   "outputs": [],
   "source": []
  }
 ],
 "metadata": {
  "kernelspec": {
   "display_name": "esri_env",
   "language": "python",
   "name": "python3"
  },
  "language_info": {
   "codemirror_mode": {
    "name": "ipython",
    "version": 3
   },
   "file_extension": ".py",
   "mimetype": "text/x-python",
   "name": "python",
   "nbconvert_exporter": "python",
   "pygments_lexer": "ipython3",
   "version": "3.11.7"
  }
 },
 "nbformat": 4,
 "nbformat_minor": 2
}
